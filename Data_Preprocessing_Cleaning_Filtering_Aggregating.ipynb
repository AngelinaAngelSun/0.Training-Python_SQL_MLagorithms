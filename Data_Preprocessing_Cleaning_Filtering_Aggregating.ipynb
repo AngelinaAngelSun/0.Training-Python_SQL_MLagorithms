{
 "cells": [
  {
   "cell_type": "markdown",
   "id": "6216af82",
   "metadata": {},
   "source": [
    "# Предподготовка, очистка, фильтрация данных\n",
    "# Извлечение полезной информации    \n",
    "\n",
    "\n",
    "### В этом ноутбуке содержатся тренировочные материалы, решение задач с онлайн-курсов по обработке и анализу данных в Python"
   ]
  },
  {
   "cell_type": "markdown",
   "id": "3f85901b",
   "metadata": {},
   "source": [
    "**Структура ноутбука**:  \n",
    "1. Простая фильтрация и группировка данных по условию. Объединение таблиц  \n",
    "3. Выгрузка из вложенных файлов. Объединение выгрузок\n",
    "4. Фильтрация данных с помощью функции query и преобразование с apply и lambda-функциями  \n",
    "5. Начальная обработка и извлечение полезной информации из датасета  \n",
    "6. Визуализация для предобработки (гистограмма и график корреляции)    \n",
    "7. Создание новых признаков (ручное создание признаков, полиномиальные признаки, dummy-переменные, работа с датой/временем)   \n",
    "8. Поиск выбросов (поиск и удаление по порогу, поиск по отклонению (z-score), IQR, поиск по распределению, DBSCAN)    \n",
    "9. Работа с датами"
   ]
  },
  {
   "cell_type": "code",
   "execution_count": 2,
   "id": "0c36df47",
   "metadata": {
    "ExecuteTime": {
     "end_time": "2024-02-22T12:31:36.237061Z",
     "start_time": "2024-02-22T12:31:36.215050Z"
    }
   },
   "outputs": [],
   "source": [
    "# Загрузим необходимые библиотеки\n",
    "import pandas as pd\n",
    "import numpy as np\n",
    "import seaborn as sns\n",
    "import matplotlib.pyplot as plt\n",
    "%matplotlib inline\n",
    "\n",
    "import os, re, warnings, operator\n",
    "from pprint import pprint\n",
    "from datetime import datetime, timedelta\n",
    "from scipy.stats import norm\n",
    "from statsmodels.stats import weightstats   # weightstats.CompareMeans.ztest_ind()   weightstats.ttest_ind()\n",
    "from math import radians, sin, cos, asin, sqrt\n",
    "from itertools import combinations\n",
    "\n",
    "from sklearn.preprocessing import MinMaxScaler, StandardScaler, LabelEncoder, PolynomialFeatures, OneHotEncoder\n",
    "from sklearn.cluster import DBSCAN"
   ]
  },
  {
   "cell_type": "markdown",
   "id": "9a16e217",
   "metadata": {},
   "source": [
    "## 1. Простая фильтрация и группировка данных по условию. Объединение таблиц"
   ]
  },
  {
   "cell_type": "markdown",
   "id": "20c1a2a1",
   "metadata": {},
   "source": [
    "### ЗАДАНИЕ 1.  \n",
    "### Ответить на вопросы, применив различные способы фильтрации и группировки данных\n",
    "В задании используется датасет с информацией о футболистах"
   ]
  },
  {
   "cell_type": "code",
   "execution_count": 3,
   "id": "dd6c321c",
   "metadata": {
    "ExecuteTime": {
     "end_time": "2024-02-18T04:17:49.114164Z",
     "start_time": "2024-02-18T04:17:48.991809Z"
    },
    "scrolled": false
   },
   "outputs": [
    {
     "data": {
      "text/html": [
       "<div>\n",
       "<style scoped>\n",
       "    .dataframe tbody tr th:only-of-type {\n",
       "        vertical-align: middle;\n",
       "    }\n",
       "\n",
       "    .dataframe tbody tr th {\n",
       "        vertical-align: top;\n",
       "    }\n",
       "\n",
       "    .dataframe thead th {\n",
       "        text-align: right;\n",
       "    }\n",
       "</style>\n",
       "<table border=\"1\" class=\"dataframe\">\n",
       "  <thead>\n",
       "    <tr style=\"text-align: right;\">\n",
       "      <th></th>\n",
       "      <th>Unnamed: 0</th>\n",
       "      <th>Name</th>\n",
       "      <th>Age</th>\n",
       "      <th>Nationality</th>\n",
       "      <th>Club</th>\n",
       "      <th>Value</th>\n",
       "      <th>Wage</th>\n",
       "      <th>Position</th>\n",
       "      <th>Crossing</th>\n",
       "      <th>Finishing</th>\n",
       "      <th>...</th>\n",
       "      <th>Penalties</th>\n",
       "      <th>Composure</th>\n",
       "      <th>Marking</th>\n",
       "      <th>StandingTackle</th>\n",
       "      <th>SlidingTackle</th>\n",
       "      <th>GKDiving</th>\n",
       "      <th>GKHandling</th>\n",
       "      <th>GKKicking</th>\n",
       "      <th>GKPositioning</th>\n",
       "      <th>GKReflexes</th>\n",
       "    </tr>\n",
       "  </thead>\n",
       "  <tbody>\n",
       "    <tr>\n",
       "      <th>0</th>\n",
       "      <td>0</td>\n",
       "      <td>L. Messi</td>\n",
       "      <td>31</td>\n",
       "      <td>Argentina</td>\n",
       "      <td>FC Barcelona</td>\n",
       "      <td>110500000</td>\n",
       "      <td>565000</td>\n",
       "      <td>RF</td>\n",
       "      <td>84</td>\n",
       "      <td>95</td>\n",
       "      <td>...</td>\n",
       "      <td>75</td>\n",
       "      <td>96</td>\n",
       "      <td>33</td>\n",
       "      <td>28</td>\n",
       "      <td>26</td>\n",
       "      <td>6</td>\n",
       "      <td>11</td>\n",
       "      <td>15</td>\n",
       "      <td>14</td>\n",
       "      <td>8</td>\n",
       "    </tr>\n",
       "    <tr>\n",
       "      <th>1</th>\n",
       "      <td>1</td>\n",
       "      <td>Cristiano Ronaldo</td>\n",
       "      <td>33</td>\n",
       "      <td>Portugal</td>\n",
       "      <td>Juventus</td>\n",
       "      <td>77000000</td>\n",
       "      <td>405000</td>\n",
       "      <td>ST</td>\n",
       "      <td>84</td>\n",
       "      <td>94</td>\n",
       "      <td>...</td>\n",
       "      <td>85</td>\n",
       "      <td>95</td>\n",
       "      <td>28</td>\n",
       "      <td>31</td>\n",
       "      <td>23</td>\n",
       "      <td>7</td>\n",
       "      <td>11</td>\n",
       "      <td>15</td>\n",
       "      <td>14</td>\n",
       "      <td>11</td>\n",
       "    </tr>\n",
       "    <tr>\n",
       "      <th>2</th>\n",
       "      <td>2</td>\n",
       "      <td>Neymar Jr</td>\n",
       "      <td>26</td>\n",
       "      <td>Brazil</td>\n",
       "      <td>Paris Saint-Germain</td>\n",
       "      <td>118500000</td>\n",
       "      <td>290000</td>\n",
       "      <td>LW</td>\n",
       "      <td>79</td>\n",
       "      <td>87</td>\n",
       "      <td>...</td>\n",
       "      <td>81</td>\n",
       "      <td>94</td>\n",
       "      <td>27</td>\n",
       "      <td>24</td>\n",
       "      <td>33</td>\n",
       "      <td>9</td>\n",
       "      <td>9</td>\n",
       "      <td>15</td>\n",
       "      <td>15</td>\n",
       "      <td>11</td>\n",
       "    </tr>\n",
       "    <tr>\n",
       "      <th>3</th>\n",
       "      <td>3</td>\n",
       "      <td>De Gea</td>\n",
       "      <td>27</td>\n",
       "      <td>Spain</td>\n",
       "      <td>Manchester United</td>\n",
       "      <td>72000000</td>\n",
       "      <td>260000</td>\n",
       "      <td>GK</td>\n",
       "      <td>17</td>\n",
       "      <td>13</td>\n",
       "      <td>...</td>\n",
       "      <td>40</td>\n",
       "      <td>68</td>\n",
       "      <td>15</td>\n",
       "      <td>21</td>\n",
       "      <td>13</td>\n",
       "      <td>90</td>\n",
       "      <td>85</td>\n",
       "      <td>87</td>\n",
       "      <td>88</td>\n",
       "      <td>94</td>\n",
       "    </tr>\n",
       "    <tr>\n",
       "      <th>4</th>\n",
       "      <td>4</td>\n",
       "      <td>K. De Bruyne</td>\n",
       "      <td>27</td>\n",
       "      <td>Belgium</td>\n",
       "      <td>Manchester City</td>\n",
       "      <td>102000000</td>\n",
       "      <td>355000</td>\n",
       "      <td>RCM</td>\n",
       "      <td>93</td>\n",
       "      <td>82</td>\n",
       "      <td>...</td>\n",
       "      <td>79</td>\n",
       "      <td>88</td>\n",
       "      <td>68</td>\n",
       "      <td>58</td>\n",
       "      <td>51</td>\n",
       "      <td>15</td>\n",
       "      <td>13</td>\n",
       "      <td>5</td>\n",
       "      <td>10</td>\n",
       "      <td>13</td>\n",
       "    </tr>\n",
       "  </tbody>\n",
       "</table>\n",
       "<p>5 rows × 42 columns</p>\n",
       "</div>"
      ],
      "text/plain": [
       "   Unnamed: 0               Name  Age Nationality                 Club  \\\n",
       "0           0           L. Messi   31   Argentina         FC Barcelona   \n",
       "1           1  Cristiano Ronaldo   33    Portugal             Juventus   \n",
       "2           2          Neymar Jr   26      Brazil  Paris Saint-Germain   \n",
       "3           3             De Gea   27       Spain    Manchester United   \n",
       "4           4       K. De Bruyne   27     Belgium      Manchester City   \n",
       "\n",
       "       Value    Wage Position  Crossing  Finishing  ...  Penalties  Composure  \\\n",
       "0  110500000  565000       RF        84         95  ...         75         96   \n",
       "1   77000000  405000       ST        84         94  ...         85         95   \n",
       "2  118500000  290000       LW        79         87  ...         81         94   \n",
       "3   72000000  260000       GK        17         13  ...         40         68   \n",
       "4  102000000  355000      RCM        93         82  ...         79         88   \n",
       "\n",
       "   Marking  StandingTackle  SlidingTackle  GKDiving  GKHandling  GKKicking  \\\n",
       "0       33              28             26         6          11         15   \n",
       "1       28              31             23         7          11         15   \n",
       "2       27              24             33         9           9         15   \n",
       "3       15              21             13        90          85         87   \n",
       "4       68              58             51        15          13          5   \n",
       "\n",
       "   GKPositioning  GKReflexes  \n",
       "0             14           8  \n",
       "1             14          11  \n",
       "2             15          11  \n",
       "3             88          94  \n",
       "4             10          13  \n",
       "\n",
       "[5 rows x 42 columns]"
      ]
     },
     "metadata": {},
     "output_type": "display_data"
    }
   ],
   "source": [
    "# Загрузим данные и посмотрим на них детальнее\n",
    "football = pd.read_csv('data_sf.csv')\n",
    "display(football.head())"
   ]
  },
  {
   "cell_type": "code",
   "execution_count": 6,
   "id": "5def8010",
   "metadata": {
    "ExecuteTime": {
     "end_time": "2023-11-07T12:54:33.994816Z",
     "start_time": "2023-11-07T12:54:33.948852Z"
    },
    "scrolled": false
   },
   "outputs": [
    {
     "name": "stdout",
     "output_type": "stream",
     "text": [
      "<class 'pandas.core.frame.DataFrame'>\n",
      "RangeIndex: 12897 entries, 0 to 12896\n",
      "Data columns (total 42 columns):\n",
      " #   Column           Non-Null Count  Dtype \n",
      "---  ------           --------------  ----- \n",
      " 0   Unnamed: 0       12897 non-null  int64 \n",
      " 1   Name             12897 non-null  object\n",
      " 2   Age              12897 non-null  int64 \n",
      " 3   Nationality      12897 non-null  object\n",
      " 4   Club             12897 non-null  object\n",
      " 5   Value            12897 non-null  int64 \n",
      " 6   Wage             12897 non-null  int64 \n",
      " 7   Position         12897 non-null  object\n",
      " 8   Crossing         12897 non-null  int64 \n",
      " 9   Finishing        12897 non-null  int64 \n",
      " 10  HeadingAccuracy  12897 non-null  int64 \n",
      " 11  ShortPassing     12897 non-null  int64 \n",
      " 12  Volleys          12897 non-null  int64 \n",
      " 13  Dribbling        12897 non-null  int64 \n",
      " 14  Curve            12897 non-null  int64 \n",
      " 15  FKAccuracy       12897 non-null  int64 \n",
      " 16  LongPassing      12897 non-null  int64 \n",
      " 17  BallControl      12897 non-null  int64 \n",
      " 18  Acceleration     12897 non-null  int64 \n",
      " 19  SprintSpeed      12897 non-null  int64 \n",
      " 20  Agility          12897 non-null  int64 \n",
      " 21  Reactions        12897 non-null  int64 \n",
      " 22  Balance          12897 non-null  int64 \n",
      " 23  ShotPower        12897 non-null  int64 \n",
      " 24  Jumping          12897 non-null  int64 \n",
      " 25  Stamina          12897 non-null  int64 \n",
      " 26  Strength         12897 non-null  int64 \n",
      " 27  LongShots        12897 non-null  int64 \n",
      " 28  Aggression       12897 non-null  int64 \n",
      " 29  Interceptions    12897 non-null  int64 \n",
      " 30  Positioning      12897 non-null  int64 \n",
      " 31  Vision           12897 non-null  int64 \n",
      " 32  Penalties        12897 non-null  int64 \n",
      " 33  Composure        12897 non-null  int64 \n",
      " 34  Marking          12897 non-null  int64 \n",
      " 35  StandingTackle   12897 non-null  int64 \n",
      " 36  SlidingTackle    12897 non-null  int64 \n",
      " 37  GKDiving         12897 non-null  int64 \n",
      " 38  GKHandling       12897 non-null  int64 \n",
      " 39  GKKicking        12897 non-null  int64 \n",
      " 40  GKPositioning    12897 non-null  int64 \n",
      " 41  GKReflexes       12897 non-null  int64 \n",
      "dtypes: int64(38), object(4)\n",
      "memory usage: 4.1+ MB\n"
     ]
    },
    {
     "data": {
      "text/plain": [
       "None"
      ]
     },
     "metadata": {},
     "output_type": "display_data"
    }
   ],
   "source": [
    "# Посмотрим на структуру датасета\n",
    "display(football.info())"
   ]
  },
  {
   "cell_type": "code",
   "execution_count": 9,
   "id": "b2bfd095",
   "metadata": {
    "ExecuteTime": {
     "end_time": "2023-11-07T12:55:06.285135Z",
     "start_time": "2023-11-07T12:55:06.161686Z"
    }
   },
   "outputs": [
    {
     "data": {
      "text/html": [
       "<div>\n",
       "<style scoped>\n",
       "    .dataframe tbody tr th:only-of-type {\n",
       "        vertical-align: middle;\n",
       "    }\n",
       "\n",
       "    .dataframe tbody tr th {\n",
       "        vertical-align: top;\n",
       "    }\n",
       "\n",
       "    .dataframe thead th {\n",
       "        text-align: right;\n",
       "    }\n",
       "</style>\n",
       "<table border=\"1\" class=\"dataframe\">\n",
       "  <thead>\n",
       "    <tr style=\"text-align: right;\">\n",
       "      <th></th>\n",
       "      <th>Unnamed: 0</th>\n",
       "      <th>Age</th>\n",
       "      <th>Value</th>\n",
       "      <th>Wage</th>\n",
       "      <th>Crossing</th>\n",
       "      <th>Finishing</th>\n",
       "      <th>HeadingAccuracy</th>\n",
       "      <th>ShortPassing</th>\n",
       "      <th>Volleys</th>\n",
       "      <th>Dribbling</th>\n",
       "      <th>...</th>\n",
       "      <th>Penalties</th>\n",
       "      <th>Composure</th>\n",
       "      <th>Marking</th>\n",
       "      <th>StandingTackle</th>\n",
       "      <th>SlidingTackle</th>\n",
       "      <th>GKDiving</th>\n",
       "      <th>GKHandling</th>\n",
       "      <th>GKKicking</th>\n",
       "      <th>GKPositioning</th>\n",
       "      <th>GKReflexes</th>\n",
       "    </tr>\n",
       "  </thead>\n",
       "  <tbody>\n",
       "    <tr>\n",
       "      <th>count</th>\n",
       "      <td>12897.000000</td>\n",
       "      <td>12897.000000</td>\n",
       "      <td>1.289700e+04</td>\n",
       "      <td>12897.000000</td>\n",
       "      <td>12897.000000</td>\n",
       "      <td>12897.000000</td>\n",
       "      <td>12897.000000</td>\n",
       "      <td>12897.000000</td>\n",
       "      <td>12897.000000</td>\n",
       "      <td>12897.000000</td>\n",
       "      <td>...</td>\n",
       "      <td>12897.000000</td>\n",
       "      <td>12897.000000</td>\n",
       "      <td>12897.000000</td>\n",
       "      <td>12897.000000</td>\n",
       "      <td>12897.000000</td>\n",
       "      <td>12897.000000</td>\n",
       "      <td>12897.000000</td>\n",
       "      <td>12897.000000</td>\n",
       "      <td>12897.000000</td>\n",
       "      <td>12897.000000</td>\n",
       "    </tr>\n",
       "    <tr>\n",
       "      <th>mean</th>\n",
       "      <td>6605.040862</td>\n",
       "      <td>24.795379</td>\n",
       "      <td>2.112449e+06</td>\n",
       "      <td>7517.562224</td>\n",
       "      <td>47.076374</td>\n",
       "      <td>42.876328</td>\n",
       "      <td>50.202528</td>\n",
       "      <td>56.026983</td>\n",
       "      <td>40.295030</td>\n",
       "      <td>52.461735</td>\n",
       "      <td>...</td>\n",
       "      <td>46.459874</td>\n",
       "      <td>55.942932</td>\n",
       "      <td>45.655811</td>\n",
       "      <td>46.186710</td>\n",
       "      <td>44.386679</td>\n",
       "      <td>17.218345</td>\n",
       "      <td>16.962317</td>\n",
       "      <td>16.797938</td>\n",
       "      <td>16.950221</td>\n",
       "      <td>17.315965</td>\n",
       "    </tr>\n",
       "    <tr>\n",
       "      <th>std</th>\n",
       "      <td>3782.545526</td>\n",
       "      <td>4.872212</td>\n",
       "      <td>6.498424e+06</td>\n",
       "      <td>23061.985387</td>\n",
       "      <td>18.043470</td>\n",
       "      <td>19.096935</td>\n",
       "      <td>17.281593</td>\n",
       "      <td>14.740436</td>\n",
       "      <td>17.080687</td>\n",
       "      <td>18.871643</td>\n",
       "      <td>...</td>\n",
       "      <td>15.479313</td>\n",
       "      <td>11.280631</td>\n",
       "      <td>19.456346</td>\n",
       "      <td>21.172586</td>\n",
       "      <td>20.726546</td>\n",
       "      <td>18.085618</td>\n",
       "      <td>17.349624</td>\n",
       "      <td>16.971411</td>\n",
       "      <td>17.369297</td>\n",
       "      <td>18.335817</td>\n",
       "    </tr>\n",
       "    <tr>\n",
       "      <th>min</th>\n",
       "      <td>0.000000</td>\n",
       "      <td>16.000000</td>\n",
       "      <td>0.000000e+00</td>\n",
       "      <td>1000.000000</td>\n",
       "      <td>5.000000</td>\n",
       "      <td>2.000000</td>\n",
       "      <td>4.000000</td>\n",
       "      <td>7.000000</td>\n",
       "      <td>4.000000</td>\n",
       "      <td>4.000000</td>\n",
       "      <td>...</td>\n",
       "      <td>5.000000</td>\n",
       "      <td>12.000000</td>\n",
       "      <td>3.000000</td>\n",
       "      <td>2.000000</td>\n",
       "      <td>3.000000</td>\n",
       "      <td>1.000000</td>\n",
       "      <td>1.000000</td>\n",
       "      <td>1.000000</td>\n",
       "      <td>1.000000</td>\n",
       "      <td>1.000000</td>\n",
       "    </tr>\n",
       "    <tr>\n",
       "      <th>25%</th>\n",
       "      <td>3357.000000</td>\n",
       "      <td>21.000000</td>\n",
       "      <td>2.500000e+05</td>\n",
       "      <td>1000.000000</td>\n",
       "      <td>35.000000</td>\n",
       "      <td>28.000000</td>\n",
       "      <td>43.000000</td>\n",
       "      <td>50.000000</td>\n",
       "      <td>28.000000</td>\n",
       "      <td>45.000000</td>\n",
       "      <td>...</td>\n",
       "      <td>37.000000</td>\n",
       "      <td>49.000000</td>\n",
       "      <td>29.000000</td>\n",
       "      <td>25.000000</td>\n",
       "      <td>23.000000</td>\n",
       "      <td>8.000000</td>\n",
       "      <td>8.000000</td>\n",
       "      <td>8.000000</td>\n",
       "      <td>8.000000</td>\n",
       "      <td>8.000000</td>\n",
       "    </tr>\n",
       "    <tr>\n",
       "      <th>50%</th>\n",
       "      <td>6622.000000</td>\n",
       "      <td>24.000000</td>\n",
       "      <td>5.000000e+05</td>\n",
       "      <td>2000.000000</td>\n",
       "      <td>51.000000</td>\n",
       "      <td>45.000000</td>\n",
       "      <td>54.000000</td>\n",
       "      <td>60.000000</td>\n",
       "      <td>41.000000</td>\n",
       "      <td>58.000000</td>\n",
       "      <td>...</td>\n",
       "      <td>47.000000</td>\n",
       "      <td>56.000000</td>\n",
       "      <td>51.000000</td>\n",
       "      <td>54.000000</td>\n",
       "      <td>51.000000</td>\n",
       "      <td>11.000000</td>\n",
       "      <td>11.000000</td>\n",
       "      <td>11.000000</td>\n",
       "      <td>11.000000</td>\n",
       "      <td>11.000000</td>\n",
       "    </tr>\n",
       "    <tr>\n",
       "      <th>75%</th>\n",
       "      <td>9876.000000</td>\n",
       "      <td>28.000000</td>\n",
       "      <td>8.500000e+05</td>\n",
       "      <td>4000.000000</td>\n",
       "      <td>61.000000</td>\n",
       "      <td>59.000000</td>\n",
       "      <td>62.000000</td>\n",
       "      <td>65.000000</td>\n",
       "      <td>53.000000</td>\n",
       "      <td>65.000000</td>\n",
       "      <td>...</td>\n",
       "      <td>58.000000</td>\n",
       "      <td>63.000000</td>\n",
       "      <td>62.000000</td>\n",
       "      <td>64.000000</td>\n",
       "      <td>62.000000</td>\n",
       "      <td>14.000000</td>\n",
       "      <td>14.000000</td>\n",
       "      <td>14.000000</td>\n",
       "      <td>14.000000</td>\n",
       "      <td>14.000000</td>\n",
       "    </tr>\n",
       "    <tr>\n",
       "      <th>max</th>\n",
       "      <td>13125.000000</td>\n",
       "      <td>45.000000</td>\n",
       "      <td>1.185000e+08</td>\n",
       "      <td>565000.000000</td>\n",
       "      <td>93.000000</td>\n",
       "      <td>95.000000</td>\n",
       "      <td>94.000000</td>\n",
       "      <td>93.000000</td>\n",
       "      <td>90.000000</td>\n",
       "      <td>97.000000</td>\n",
       "      <td>...</td>\n",
       "      <td>91.000000</td>\n",
       "      <td>96.000000</td>\n",
       "      <td>93.000000</td>\n",
       "      <td>93.000000</td>\n",
       "      <td>91.000000</td>\n",
       "      <td>90.000000</td>\n",
       "      <td>92.000000</td>\n",
       "      <td>91.000000</td>\n",
       "      <td>90.000000</td>\n",
       "      <td>94.000000</td>\n",
       "    </tr>\n",
       "  </tbody>\n",
       "</table>\n",
       "<p>8 rows × 38 columns</p>\n",
       "</div>"
      ],
      "text/plain": [
       "         Unnamed: 0           Age         Value           Wage      Crossing  \\\n",
       "count  12897.000000  12897.000000  1.289700e+04   12897.000000  12897.000000   \n",
       "mean    6605.040862     24.795379  2.112449e+06    7517.562224     47.076374   \n",
       "std     3782.545526      4.872212  6.498424e+06   23061.985387     18.043470   \n",
       "min        0.000000     16.000000  0.000000e+00    1000.000000      5.000000   \n",
       "25%     3357.000000     21.000000  2.500000e+05    1000.000000     35.000000   \n",
       "50%     6622.000000     24.000000  5.000000e+05    2000.000000     51.000000   \n",
       "75%     9876.000000     28.000000  8.500000e+05    4000.000000     61.000000   \n",
       "max    13125.000000     45.000000  1.185000e+08  565000.000000     93.000000   \n",
       "\n",
       "          Finishing  HeadingAccuracy  ShortPassing       Volleys  \\\n",
       "count  12897.000000     12897.000000  12897.000000  12897.000000   \n",
       "mean      42.876328        50.202528     56.026983     40.295030   \n",
       "std       19.096935        17.281593     14.740436     17.080687   \n",
       "min        2.000000         4.000000      7.000000      4.000000   \n",
       "25%       28.000000        43.000000     50.000000     28.000000   \n",
       "50%       45.000000        54.000000     60.000000     41.000000   \n",
       "75%       59.000000        62.000000     65.000000     53.000000   \n",
       "max       95.000000        94.000000     93.000000     90.000000   \n",
       "\n",
       "          Dribbling  ...     Penalties     Composure       Marking  \\\n",
       "count  12897.000000  ...  12897.000000  12897.000000  12897.000000   \n",
       "mean      52.461735  ...     46.459874     55.942932     45.655811   \n",
       "std       18.871643  ...     15.479313     11.280631     19.456346   \n",
       "min        4.000000  ...      5.000000     12.000000      3.000000   \n",
       "25%       45.000000  ...     37.000000     49.000000     29.000000   \n",
       "50%       58.000000  ...     47.000000     56.000000     51.000000   \n",
       "75%       65.000000  ...     58.000000     63.000000     62.000000   \n",
       "max       97.000000  ...     91.000000     96.000000     93.000000   \n",
       "\n",
       "       StandingTackle  SlidingTackle      GKDiving    GKHandling  \\\n",
       "count    12897.000000   12897.000000  12897.000000  12897.000000   \n",
       "mean        46.186710      44.386679     17.218345     16.962317   \n",
       "std         21.172586      20.726546     18.085618     17.349624   \n",
       "min          2.000000       3.000000      1.000000      1.000000   \n",
       "25%         25.000000      23.000000      8.000000      8.000000   \n",
       "50%         54.000000      51.000000     11.000000     11.000000   \n",
       "75%         64.000000      62.000000     14.000000     14.000000   \n",
       "max         93.000000      91.000000     90.000000     92.000000   \n",
       "\n",
       "          GKKicking  GKPositioning    GKReflexes  \n",
       "count  12897.000000   12897.000000  12897.000000  \n",
       "mean      16.797938      16.950221     17.315965  \n",
       "std       16.971411      17.369297     18.335817  \n",
       "min        1.000000       1.000000      1.000000  \n",
       "25%        8.000000       8.000000      8.000000  \n",
       "50%       11.000000      11.000000     11.000000  \n",
       "75%       14.000000      14.000000     14.000000  \n",
       "max       91.000000      90.000000     94.000000  \n",
       "\n",
       "[8 rows x 38 columns]"
      ]
     },
     "metadata": {},
     "output_type": "display_data"
    },
    {
     "data": {
      "text/html": [
       "<div>\n",
       "<style scoped>\n",
       "    .dataframe tbody tr th:only-of-type {\n",
       "        vertical-align: middle;\n",
       "    }\n",
       "\n",
       "    .dataframe tbody tr th {\n",
       "        vertical-align: top;\n",
       "    }\n",
       "\n",
       "    .dataframe thead th {\n",
       "        text-align: right;\n",
       "    }\n",
       "</style>\n",
       "<table border=\"1\" class=\"dataframe\">\n",
       "  <thead>\n",
       "    <tr style=\"text-align: right;\">\n",
       "      <th></th>\n",
       "      <th>Name</th>\n",
       "      <th>Nationality</th>\n",
       "      <th>Club</th>\n",
       "      <th>Position</th>\n",
       "    </tr>\n",
       "  </thead>\n",
       "  <tbody>\n",
       "    <tr>\n",
       "      <th>count</th>\n",
       "      <td>12897</td>\n",
       "      <td>12897</td>\n",
       "      <td>12897</td>\n",
       "      <td>12897</td>\n",
       "    </tr>\n",
       "    <tr>\n",
       "      <th>unique</th>\n",
       "      <td>12326</td>\n",
       "      <td>156</td>\n",
       "      <td>650</td>\n",
       "      <td>27</td>\n",
       "    </tr>\n",
       "    <tr>\n",
       "      <th>top</th>\n",
       "      <td>J. Rodríguez</td>\n",
       "      <td>England</td>\n",
       "      <td>V-Varen Nagasaki</td>\n",
       "      <td>GK</td>\n",
       "    </tr>\n",
       "    <tr>\n",
       "      <th>freq</th>\n",
       "      <td>9</td>\n",
       "      <td>1368</td>\n",
       "      <td>30</td>\n",
       "      <td>1641</td>\n",
       "    </tr>\n",
       "  </tbody>\n",
       "</table>\n",
       "</div>"
      ],
      "text/plain": [
       "                Name Nationality              Club Position\n",
       "count          12897       12897             12897    12897\n",
       "unique         12326         156               650       27\n",
       "top     J. Rodríguez     England  V-Varen Nagasaki       GK\n",
       "freq               9        1368                30     1641"
      ]
     },
     "metadata": {},
     "output_type": "display_data"
    }
   ],
   "source": [
    "# Выведем статистическую информацию\n",
    "display(football.describe())\n",
    "display(football.describe(include = 'object'))"
   ]
  },
  {
   "cell_type": "markdown",
   "id": "39839e13",
   "metadata": {},
   "source": [
    "Итак, датафрейм football представляет собой таблицу с информацией о футболистах: имена и фамилии игроков, национальность, возраст, принадлежность к клубу, заработанная плата и различные спортивные показатели. Всего в наборе данных 42 колонки, в каждой из которых 12897 непустых значений. Пропуски в данных отсутствуют. В таблице 4 признака с типом данных object, остальные признаки имеют тип int. "
   ]
  },
  {
   "cell_type": "markdown",
   "id": "86bd1590",
   "metadata": {},
   "source": [
    "### Ответим на ряд вопросов, применив различные способы фильтрации и группировки данных"
   ]
  },
  {
   "cell_type": "code",
   "execution_count": 25,
   "id": "3e4c9aa3",
   "metadata": {
    "ExecuteTime": {
     "end_time": "2024-01-11T16:01:40.822653Z",
     "start_time": "2024-01-11T16:01:40.776807Z"
    },
    "scrolled": false
   },
   "outputs": [
    {
     "data": {
      "text/plain": [
       "67.57"
      ]
     },
     "metadata": {},
     "output_type": "display_data"
    },
    {
     "data": {
      "text/plain": [
       "'RF'"
      ]
     },
     "metadata": {},
     "output_type": "display_data"
    },
    {
     "data": {
      "text/plain": [
       "22789"
      ]
     },
     "metadata": {},
     "output_type": "display_data"
    },
    {
     "data": {
      "text/plain": [
       "25.59"
      ]
     },
     "metadata": {},
     "output_type": "display_data"
    },
    {
     "data": {
      "text/plain": [
       "24"
      ]
     },
     "metadata": {},
     "output_type": "display_data"
    },
    {
     "data": {
      "text/plain": [
       "22.64"
      ]
     },
     "metadata": {},
     "output_type": "display_data"
    }
   ],
   "source": [
    "# Какова средняя скорость футболистов, зарплата которых выше среднего? Ответ округлите до сотых\n",
    "# round(football.query('Wage > Wage.mean()').SprintSpeed.mean(), 2)\n",
    "display(round(football[football['Wage'] > football['Wage'].mean()]['SprintSpeed'].mean(), 2))\n",
    "\n",
    "# Какую позицию занимает футболист с самой высокой зарплатой?\n",
    "# football[football.Wage.isin([football.Wage.max()])].Position\n",
    "# football.query('Wage == Wage.max()').Position\n",
    "display(football[football['Wage'] == football['Wage'].max()]['Position'].iloc[0])\n",
    "\n",
    "# Сколько пенальти забили бразильские футболисты за период, данные о котором представлены в датасете?\n",
    "display(football[football['Nationality'] == 'Brazil']['Penalties'].sum())\n",
    "\n",
    "# Укажите средний возраст игроков, у которых точность удара головой > 50\n",
    "display(round(football[football['HeadingAccuracy'] > 50]['Age'].mean(), 2))\n",
    "\n",
    "# Укажите возраст самого молодого игрока, у которого хладнокровие и реакция превышают 90% от максимального значения, \n",
    "# представленного в датасете\n",
    "display(football[(football['Composure'] > football['Composure'].max() * 0.9) & (football['Reactions'] > football['Reactions'].max() * 0.9)]['Age'].min())\n",
    "\n",
    "# Определите, насколько средняя реакция самых взрослых игроков больше средней реакции самых молодых игроков\n",
    "# round(football.query('Age == Age.max()').Reactions.mean() - football.query('Age == Age.min()').Reactions.mean(),2)\n",
    "display(round((football[football['Age'] == football['Age'].max()]['Reactions'].mean()) - (football[football['Age'] == football['Age'].min()]['Reactions'].mean()), 2))"
   ]
  },
  {
   "cell_type": "code",
   "execution_count": 26,
   "id": "cdc7870c",
   "metadata": {
    "ExecuteTime": {
     "end_time": "2024-01-11T16:05:16.293946Z",
     "start_time": "2024-01-11T16:05:16.239397Z"
    },
    "scrolled": false
   },
   "outputs": [
    {
     "data": {
      "text/plain": [
       "'Spain'"
      ]
     },
     "metadata": {},
     "output_type": "display_data"
    },
    {
     "data": {
      "text/plain": [
       "2.77"
      ]
     },
     "metadata": {},
     "output_type": "display_data"
    },
    {
     "data": {
      "text/plain": [
       "2.08"
      ]
     },
     "metadata": {},
     "output_type": "display_data"
    },
    {
     "data": {
      "text/plain": [
       "['GK', 'ST', 'CB']"
      ]
     },
     "metadata": {},
     "output_type": "display_data"
    },
    {
     "data": {
      "text/plain": [
       "['LS', 'RS', 'RWB', 'LWB', 'CF', 'LF', 'LAM', 'RF', 'RAM']"
      ]
     },
     "metadata": {},
     "output_type": "display_data"
    },
    {
     "data": {
      "text/plain": [
       "Interval(2.908, 21.2, closed='right')"
      ]
     },
     "metadata": {},
     "output_type": "display_data"
    }
   ],
   "source": [
    "# Из какой страны происходит больше всего игроков, чья стоимость превышает среднее значение?\n",
    "display(football[football['Value'] > football['Value'].mean()]['Nationality'].value_counts().index[0])\n",
    "\n",
    "# Определите, во сколько раз средняя зарплата голкипера с максимальным значением показателя \"Рефлексы\" \n",
    "# выше средней зарплаты голкипера с максимальным значением показателя \"Владение мячом\"\n",
    "# round(football.query('(Position == \"GK\") & (GKReflexes == GKReflexes.max())').Wage.mean() / football.query('(Position == \"GK\") & (GKHandling == GKHandling.max())').Wage.mean(), 2)\n",
    "display(round(football[(football['Position'] == 'GK') & (football['GKReflexes'] == football['GKReflexes'].max())]['Wage'].mean() / football[(football['Position'] == 'GK') & (football['GKHandling'] == football['GKHandling'].max())]['Wage'].mean(), 2))\n",
    "\n",
    "# Определите, во сколько раз средняя сила удара самых агрессивных игроков выше средней силы удара игроков с минимальной агрессией\n",
    "# round(football.query('Aggression == Aggression.max()').ShotPower.mean() / football.query('Aggression == Aggression.min()').ShotPower.mean(), 2)\n",
    "display(round(football[football['Aggression'] == football['Aggression'].max()]['ShotPower'].mean() / football[football['Aggression'] == football['Aggression'].min()]['ShotPower'].mean(), 2))\n",
    "\n",
    "# Данные об игроках каких позиций занимают более 10% датасета?\n",
    "# football.groupby('Position').Name.count()[football.groupby('Position').Name.count() > len(football.Position) * 0.1].index.tolist()\n",
    "pos_2 = football['Position'].value_counts(normalize = True)\n",
    "display(pos_2[pos_2 > 0.1].index.tolist())\n",
    "\n",
    "# Данные об игроках каких позиций занимают менее 1% датасета?\n",
    "# football.groupby('Position').Name.count()[football.groupby('Position').Name.count() < football.Position.shape[0] * 0.01]\n",
    "display(football.Position.value_counts(normalize = True)[football.Position.value_counts(normalize = True) < 0.01].index.tolist())\n",
    "\n",
    "# В каких пределах находятся худшие 20% показателей точности ударов ногой?\n",
    "display(football['FKAccuracy'].value_counts(bins = 5).index.min())"
   ]
  },
  {
   "cell_type": "code",
   "execution_count": 31,
   "id": "434d72f0",
   "metadata": {
    "ExecuteTime": {
     "end_time": "2024-01-11T16:11:12.756221Z",
     "start_time": "2024-01-11T16:11:12.713296Z"
    },
    "scrolled": false
   },
   "outputs": [
    {
     "data": {
      "text/plain": [
       "0.97"
      ]
     },
     "metadata": {},
     "output_type": "display_data"
    },
    {
     "data": {
      "text/plain": [
       "13"
      ]
     },
     "metadata": {},
     "output_type": "display_data"
    },
    {
     "data": {
      "text/html": [
       "<div>\n",
       "<style scoped>\n",
       "    .dataframe tbody tr th:only-of-type {\n",
       "        vertical-align: middle;\n",
       "    }\n",
       "\n",
       "    .dataframe tbody tr th {\n",
       "        vertical-align: top;\n",
       "    }\n",
       "\n",
       "    .dataframe thead th {\n",
       "        text-align: right;\n",
       "    }\n",
       "</style>\n",
       "<table border=\"1\" class=\"dataframe\">\n",
       "  <thead>\n",
       "    <tr style=\"text-align: right;\">\n",
       "      <th></th>\n",
       "      <th>Name</th>\n",
       "    </tr>\n",
       "  </thead>\n",
       "  <tbody>\n",
       "    <tr>\n",
       "      <th>64</th>\n",
       "      <td>Alex Sandro</td>\n",
       "    </tr>\n",
       "    <tr>\n",
       "      <th>65</th>\n",
       "      <td>Douglas Costa</td>\n",
       "    </tr>\n",
       "  </tbody>\n",
       "</table>\n",
       "</div>"
      ],
      "text/plain": [
       "             Name\n",
       "64    Alex Sandro\n",
       "65  Douglas Costa"
      ]
     },
     "metadata": {},
     "output_type": "display_data"
    },
    {
     "data": {
      "text/plain": [
       "Hokkaido Consadole Sapporo    4\n",
       "Club Atlético Huracán         4\n",
       "Name: Club, dtype: int64"
      ]
     },
     "metadata": {},
     "output_type": "display_data"
    },
    {
     "data": {
      "text/plain": [
       "['Club Atlético Huracán', 'Hokkaido Consadole Sapporo']"
      ]
     },
     "metadata": {},
     "output_type": "display_data"
    },
    {
     "data": {
      "text/plain": [
       "Hokkaido Consadole Sapporo    4\n",
       "Club Atlético Huracán         4\n",
       "Name: Club, dtype: int64"
      ]
     },
     "metadata": {},
     "output_type": "display_data"
    }
   ],
   "source": [
    "# У какого процента испанских футболистов зарплата находится в пределах 25% минимума \n",
    "# от наблюдаемого уровня зарплат среди испанских игроков?\n",
    "wage_proportion = football[football['Nationality'] == 'Spain']['Wage'].value_counts(bins = 4, normalize = True)\n",
    "# round(wage_proportion[wage_proportion.index.min()], 2)\n",
    "display(round(wage_proportion[sorted(wage_proportion.index)[0]], 2))\n",
    "\n",
    "# Укажите количество национальностей, к которым относятся футболисты, выступающие за клуб \"Manchester United\"\n",
    "# len(football[football.Club.isin(['Manchester United'])].Nationality.unique())\n",
    "# len(football[football.Club == 'Manchester United'].Nationality.value_counts())\n",
    "display(football[football['Club'] == 'Manchester United']['Nationality'].nunique())\n",
    "\n",
    "# Определите двух футболистов из Бразилии, выступающих за клуб 'Juventus'\n",
    "display(football[(football['Nationality'] == 'Brazil') & (football['Club'] == 'Juventus')][['Name']])\n",
    "\n",
    "# Укажите, какие два клуба насчитывают наибольшее количество футболистов возрастом старше 35 лет\n",
    "display(football[football.Age > 35].Club.value_counts().sort_values(ascending = False)[:2])   # .sort_values()[-2:]) \n",
    "display(football[football.Age > 35].groupby('Club').Name.count().sort_values(ascending = False).index.tolist()[:2])\n",
    "\n",
    "# Решение с помощью isin()\n",
    "small_data = football[football['Age'] > 35]['Club'].value_counts()\n",
    "display(small_data[small_data.isin([small_data.max()])])     # small_data.index[:2]"
   ]
  },
  {
   "cell_type": "code",
   "execution_count": 4,
   "id": "c4b06a0d",
   "metadata": {
    "ExecuteTime": {
     "end_time": "2024-01-11T13:22:35.866583Z",
     "start_time": "2024-01-11T13:22:35.784804Z"
    },
    "scrolled": false
   },
   "outputs": [
    {
     "data": {
      "text/plain": [
       "(34.75, 41.0]    49\n",
       "Name: Age, dtype: int64"
      ]
     },
     "metadata": {},
     "output_type": "display_data"
    },
    {
     "data": {
      "text/plain": [
       "0.12"
      ]
     },
     "metadata": {},
     "output_type": "display_data"
    },
    {
     "data": {
      "text/plain": [
       "['CAM', 'CB', 'CM', 'GK', 'LB', 'LM', 'RB', 'RM', 'ST']"
      ]
     },
     "metadata": {},
     "output_type": "display_data"
    },
    {
     "name": "stdout",
     "output_type": "stream",
     "text": [
      "CAM CB CM GK LB LM RB RM ST\n"
     ]
    },
    {
     "data": {
      "text/plain": [
       "Position\n",
       "CAM     5500000\n",
       "CB      7476000\n",
       "CM      6194000\n",
       "GK      8784000\n",
       "LB      6096000\n",
       "LM      5440000\n",
       "RB      5034000\n",
       "RM      5098000\n",
       "ST     11873000\n",
       "Name: Wage, dtype: int64"
      ]
     },
     "metadata": {},
     "output_type": "display_data"
    },
    {
     "data": {
      "text/html": [
       "<div>\n",
       "<style scoped>\n",
       "    .dataframe tbody tr th:only-of-type {\n",
       "        vertical-align: middle;\n",
       "    }\n",
       "\n",
       "    .dataframe tbody tr th {\n",
       "        vertical-align: top;\n",
       "    }\n",
       "\n",
       "    .dataframe thead th {\n",
       "        text-align: right;\n",
       "    }\n",
       "</style>\n",
       "<table border=\"1\" class=\"dataframe\">\n",
       "  <thead>\n",
       "    <tr style=\"text-align: right;\">\n",
       "      <th></th>\n",
       "      <th>Position</th>\n",
       "      <th>Wage</th>\n",
       "      <th>Value</th>\n",
       "    </tr>\n",
       "  </thead>\n",
       "  <tbody>\n",
       "    <tr>\n",
       "      <th>0</th>\n",
       "      <td>CAM</td>\n",
       "      <td>8688.783570</td>\n",
       "      <td>2.963199e+06</td>\n",
       "    </tr>\n",
       "    <tr>\n",
       "      <th>1</th>\n",
       "      <td>CB</td>\n",
       "      <td>5328.581611</td>\n",
       "      <td>1.321251e+06</td>\n",
       "    </tr>\n",
       "    <tr>\n",
       "      <th>2</th>\n",
       "      <td>CDM</td>\n",
       "      <td>7121.562952</td>\n",
       "      <td>1.658900e+06</td>\n",
       "    </tr>\n",
       "  </tbody>\n",
       "</table>\n",
       "</div>"
      ],
      "text/plain": [
       "  Position         Wage         Value\n",
       "0      CAM  8688.783570  2.963199e+06\n",
       "1       CB  5328.581611  1.321251e+06\n",
       "2      CDM  7121.562952  1.658900e+06"
      ]
     },
     "metadata": {},
     "output_type": "display_data"
    },
    {
     "data": {
      "text/html": [
       "<div>\n",
       "<style scoped>\n",
       "    .dataframe tbody tr th:only-of-type {\n",
       "        vertical-align: middle;\n",
       "    }\n",
       "\n",
       "    .dataframe tbody tr th {\n",
       "        vertical-align: top;\n",
       "    }\n",
       "\n",
       "    .dataframe thead th {\n",
       "        text-align: right;\n",
       "    }\n",
       "</style>\n",
       "<table border=\"1\" class=\"dataframe\">\n",
       "  <thead>\n",
       "    <tr style=\"text-align: right;\">\n",
       "      <th></th>\n",
       "      <th>Position</th>\n",
       "      <th>Wage</th>\n",
       "      <th>Value</th>\n",
       "    </tr>\n",
       "  </thead>\n",
       "  <tbody>\n",
       "    <tr>\n",
       "      <th>11</th>\n",
       "      <td>LF</td>\n",
       "      <td>75125.0</td>\n",
       "      <td>27362500.0</td>\n",
       "    </tr>\n",
       "  </tbody>\n",
       "</table>\n",
       "</div>"
      ],
      "text/plain": [
       "   Position     Wage       Value\n",
       "11       LF  75125.0  27362500.0"
      ]
     },
     "metadata": {},
     "output_type": "display_data"
    },
    {
     "data": {
      "text/plain": [
       "75125.0"
      ]
     },
     "metadata": {},
     "output_type": "display_data"
    }
   ],
   "source": [
    "# Разбейте всех футболистов родом из Аргентины на 4 равные группы по возрасту. \n",
    "# Сколько футболистов из Аргентины в возрасте от 34,75 до 41 года?\n",
    "argentina_players_age = football[football['Nationality'] == 'Argentina']['Age'].value_counts(bins = 4)\n",
    "display(argentina_players_age[argentina_players_age.index.left >= 34.75])\n",
    "\n",
    "# Сколько процентов футболистов из Испании имеют возраст 21 год? \n",
    "# Введите с точностью до 2 знаков после запятой без указания знака % (например, 12.35)\n",
    "# round(football[(football.Age == 21) & (football.Nationality == 'Spain')].Name.nunique() / len(football[football.Nationality == 'Spain']),2)\n",
    "display(round(football[football['Nationality'] == 'Spain']['Age'].value_counts(normalize = True)[21], 2))\n",
    "\n",
    "# Определите позиции, по которым общая сумма зарплат игроков превышает 5 млн евро в год\n",
    "display(football.groupby(['Position'])['Wage'].sum()[football.groupby(['Position'])['Wage'].sum() > 5000000].index.tolist())\n",
    "print(*football.groupby(['Position'])['Wage'].sum()[football.groupby(['Position'])['Wage'].sum() > 5000000].index.tolist(), sep = ' ')\n",
    "display(football.groupby(['Position'])['Wage'].sum()[football.groupby(['Position'])['Wage'].sum() > 5000000])\n",
    "\n",
    "# Посчитайте среднюю зарплату и цену игроков разных позиций. Представители какой позиции имеют самую высокую среднюю ценность? \n",
    "# Какова средняя зарплата футболистов на данной позиции?\n",
    "# football.groupby('Position', as_index = False).agg(mean_wage = ('Wage', 'mean'), mean_value = ('Value', 'mean'))\n",
    "display(football.groupby('Position', as_index = False)[['Wage', 'Value']].mean().head(3))\n",
    "display(football.groupby('Position', as_index = False)[['Wage', 'Value']].mean().sort_values(by = 'Value', ascending = False).iloc[[0]])\n",
    "\n",
    "# football.groupby(['Position'])['Wage'].mean().loc['LF']\n",
    "# football.groupby(football['Position'] == 'LF')['Wage'].mean()[1]\n",
    "display(football[football.Position == 'LF'].Wage.mean())"
   ]
  },
  {
   "cell_type": "code",
   "execution_count": 159,
   "id": "9912e160",
   "metadata": {
    "ExecuteTime": {
     "end_time": "2023-11-07T14:00:36.362191Z",
     "start_time": "2023-11-07T14:00:36.291380Z"
    }
   },
   "outputs": [
    {
     "data": {
      "text/html": [
       "<div>\n",
       "<style scoped>\n",
       "    .dataframe tbody tr th:only-of-type {\n",
       "        vertical-align: middle;\n",
       "    }\n",
       "\n",
       "    .dataframe tbody tr th {\n",
       "        vertical-align: top;\n",
       "    }\n",
       "\n",
       "    .dataframe thead th {\n",
       "        text-align: right;\n",
       "    }\n",
       "</style>\n",
       "<table border=\"1\" class=\"dataframe\">\n",
       "  <thead>\n",
       "    <tr style=\"text-align: right;\">\n",
       "      <th></th>\n",
       "      <th>Club</th>\n",
       "      <th>mean_wage</th>\n",
       "      <th>median_wage</th>\n",
       "    </tr>\n",
       "  </thead>\n",
       "  <tbody>\n",
       "    <tr>\n",
       "      <th>0</th>\n",
       "      <td>SSV Jahn Regensburg</td>\n",
       "      <td>3750.000000</td>\n",
       "      <td>3500.0</td>\n",
       "    </tr>\n",
       "    <tr>\n",
       "      <th>1</th>\n",
       "      <td>1. FC Heidenheim 1846</td>\n",
       "      <td>3800.000000</td>\n",
       "      <td>3000.0</td>\n",
       "    </tr>\n",
       "    <tr>\n",
       "      <th>2</th>\n",
       "      <td>1. FC Kaiserslautern</td>\n",
       "      <td>1434.782609</td>\n",
       "      <td>1000.0</td>\n",
       "    </tr>\n",
       "  </tbody>\n",
       "</table>\n",
       "</div>"
      ],
      "text/plain": [
       "                    Club    mean_wage  median_wage\n",
       "0    SSV Jahn Regensburg  3750.000000       3500.0\n",
       "1  1. FC Heidenheim 1846  3800.000000       3000.0\n",
       "2   1. FC Kaiserslautern  1434.782609       1000.0"
      ]
     },
     "metadata": {},
     "output_type": "display_data"
    },
    {
     "data": {
      "text/plain": [
       "52"
      ]
     },
     "metadata": {},
     "output_type": "display_data"
    },
    {
     "data": {
      "text/html": [
       "<div>\n",
       "<style scoped>\n",
       "    .dataframe tbody tr th:only-of-type {\n",
       "        vertical-align: middle;\n",
       "    }\n",
       "\n",
       "    .dataframe tbody tr th {\n",
       "        vertical-align: top;\n",
       "    }\n",
       "\n",
       "    .dataframe thead th {\n",
       "        text-align: right;\n",
       "    }\n",
       "</style>\n",
       "<table border=\"1\" class=\"dataframe\">\n",
       "  <thead>\n",
       "    <tr style=\"text-align: right;\">\n",
       "      <th></th>\n",
       "      <th>Club</th>\n",
       "      <th>mean_wage</th>\n",
       "      <th>median_wage</th>\n",
       "    </tr>\n",
       "  </thead>\n",
       "  <tbody>\n",
       "    <tr>\n",
       "      <th>0</th>\n",
       "      <td>SSV Jahn Regensburg</td>\n",
       "      <td>3750.000000</td>\n",
       "      <td>3500.0</td>\n",
       "    </tr>\n",
       "    <tr>\n",
       "      <th>1</th>\n",
       "      <td>1. FC Heidenheim 1846</td>\n",
       "      <td>3800.000000</td>\n",
       "      <td>3000.0</td>\n",
       "    </tr>\n",
       "    <tr>\n",
       "      <th>2</th>\n",
       "      <td>1. FC Kaiserslautern</td>\n",
       "      <td>1434.782609</td>\n",
       "      <td>1000.0</td>\n",
       "    </tr>\n",
       "  </tbody>\n",
       "</table>\n",
       "</div>"
      ],
      "text/plain": [
       "                    Club    mean_wage  median_wage\n",
       "0    SSV Jahn Regensburg  3750.000000       3500.0\n",
       "1  1. FC Heidenheim 1846  3800.000000       3000.0\n",
       "2   1. FC Kaiserslautern  1434.782609       1000.0"
      ]
     },
     "metadata": {},
     "output_type": "display_data"
    },
    {
     "data": {
      "text/plain": [
       "52"
      ]
     },
     "metadata": {},
     "output_type": "display_data"
    },
    {
     "data": {
      "text/html": [
       "<div>\n",
       "<style scoped>\n",
       "    .dataframe tbody tr th:only-of-type {\n",
       "        vertical-align: middle;\n",
       "    }\n",
       "\n",
       "    .dataframe tbody tr th {\n",
       "        vertical-align: top;\n",
       "    }\n",
       "\n",
       "    .dataframe thead th {\n",
       "        text-align: right;\n",
       "    }\n",
       "</style>\n",
       "<table border=\"1\" class=\"dataframe\">\n",
       "  <thead>\n",
       "    <tr style=\"text-align: right;\">\n",
       "      <th></th>\n",
       "      <th>Club</th>\n",
       "      <th>mean_wage</th>\n",
       "      <th>median_wage</th>\n",
       "    </tr>\n",
       "  </thead>\n",
       "  <tbody>\n",
       "    <tr>\n",
       "      <th>4</th>\n",
       "      <td>1. FC Magdeburg</td>\n",
       "      <td>4000.0</td>\n",
       "      <td>4000.0</td>\n",
       "    </tr>\n",
       "    <tr>\n",
       "      <th>12</th>\n",
       "      <td>AEK Athens</td>\n",
       "      <td>1000.0</td>\n",
       "      <td>1000.0</td>\n",
       "    </tr>\n",
       "    <tr>\n",
       "      <th>15</th>\n",
       "      <td>AJ Auxerre</td>\n",
       "      <td>2000.0</td>\n",
       "      <td>2000.0</td>\n",
       "    </tr>\n",
       "  </tbody>\n",
       "</table>\n",
       "</div>"
      ],
      "text/plain": [
       "               Club  mean_wage  median_wage\n",
       "4   1. FC Magdeburg     4000.0       4000.0\n",
       "12       AEK Athens     1000.0       1000.0\n",
       "15       AJ Auxerre     2000.0       2000.0"
      ]
     },
     "metadata": {},
     "output_type": "display_data"
    },
    {
     "data": {
      "text/plain": [
       "13000.0"
      ]
     },
     "metadata": {},
     "output_type": "display_data"
    },
    {
     "data": {
      "text/html": [
       "<div>\n",
       "<style scoped>\n",
       "    .dataframe tbody tr th:only-of-type {\n",
       "        vertical-align: middle;\n",
       "    }\n",
       "\n",
       "    .dataframe tbody tr th {\n",
       "        vertical-align: top;\n",
       "    }\n",
       "\n",
       "    .dataframe thead th {\n",
       "        text-align: right;\n",
       "    }\n",
       "</style>\n",
       "<table border=\"1\" class=\"dataframe\">\n",
       "  <thead>\n",
       "    <tr style=\"text-align: right;\">\n",
       "      <th></th>\n",
       "      <th>Club</th>\n",
       "      <th>mean_wage</th>\n",
       "      <th>median_wage</th>\n",
       "    </tr>\n",
       "  </thead>\n",
       "  <tbody>\n",
       "    <tr>\n",
       "      <th>168</th>\n",
       "      <td>Cruzeiro</td>\n",
       "      <td>13000.0</td>\n",
       "      <td>13000.0</td>\n",
       "    </tr>\n",
       "  </tbody>\n",
       "</table>\n",
       "</div>"
      ],
      "text/plain": [
       "         Club  mean_wage  median_wage\n",
       "168  Cruzeiro    13000.0      13000.0"
      ]
     },
     "metadata": {},
     "output_type": "display_data"
    }
   ],
   "source": [
    "# Посчитайте среднюю и медианную зарплату футболистов из разных клубов. \n",
    "# В скольких клубах средняя и медианная зарплаты совпадают?\n",
    "football_2 = football.groupby('Club', as_index = False) \\\n",
    "        .agg(mean_wage = ('Wage','mean'), median_wage = ('Wage','median'))\n",
    "display(football_2.head(3))\n",
    "\n",
    "# len(football_2[football_2.mean_wage == football_2.median_wage])\n",
    "# football_2[football_2.mean_wage == football_2.median_wage].Club.nunique()\n",
    "display(football_2[football_2.mean_wage == football_2.median_wage].Club.count())\n",
    "\n",
    "# ДРУГОЙ ВАРИАНТ ГРУППИРОВКИ\n",
    "football_new = football.groupby('Club').Wage.agg(func = ['mean', 'median']).reset_index() \\\n",
    "                .rename(columns = {'mean' : 'mean_wage', 'median': 'median_wage'})\n",
    "display(football_new.head(3))\n",
    "display(len(football_new[football_new.mean_wage == football_new.median_wage]) )\n",
    "\n",
    "\n",
    "# Продолжаем работать с клубами, в которых средняя зарплата совпадает с медианной. \n",
    "# Каков максимальный размер средней зарплаты в этой группе клубов?\n",
    "equals = football_2[football_2.mean_wage == football_2.median_wage]\n",
    "display(equals.head(3))\n",
    "display(equals['mean_wage'].max())\n",
    "\n",
    "# Как называется клуб, где игроки получают такую зарплату?\n",
    "# equals.sort_values('mean_wage', ascending = False)[:1]\n",
    "# equals[equals['mean_wage'] == equals['mean_wage'].max()]\n",
    "display(equals[equals.mean_wage.isin([equals.mean_wage.max()])])"
   ]
  },
  {
   "cell_type": "code",
   "execution_count": 6,
   "id": "94c9aa7c",
   "metadata": {
    "ExecuteTime": {
     "end_time": "2024-01-11T15:04:45.814986Z",
     "start_time": "2024-01-11T15:04:45.773200Z"
    },
    "scrolled": false
   },
   "outputs": [
    {
     "data": {
      "text/plain": [
       "2035000"
      ]
     },
     "metadata": {},
     "output_type": "display_data"
    },
    {
     "data": {
      "text/html": [
       "<div>\n",
       "<style scoped>\n",
       "    .dataframe tbody tr th:only-of-type {\n",
       "        vertical-align: middle;\n",
       "    }\n",
       "\n",
       "    .dataframe tbody tr th {\n",
       "        vertical-align: top;\n",
       "    }\n",
       "\n",
       "    .dataframe thead th {\n",
       "        text-align: right;\n",
       "    }\n",
       "</style>\n",
       "<table border=\"1\" class=\"dataframe\">\n",
       "  <thead>\n",
       "    <tr style=\"text-align: right;\">\n",
       "      <th></th>\n",
       "      <th>Wage</th>\n",
       "    </tr>\n",
       "  </thead>\n",
       "  <tbody>\n",
       "    <tr>\n",
       "      <th>min</th>\n",
       "      <td>1000</td>\n",
       "    </tr>\n",
       "    <tr>\n",
       "      <th>max</th>\n",
       "      <td>54000</td>\n",
       "    </tr>\n",
       "  </tbody>\n",
       "</table>\n",
       "</div>"
      ],
      "text/plain": [
       "      Wage\n",
       "min   1000\n",
       "max  54000"
      ]
     },
     "metadata": {},
     "output_type": "display_data"
    },
    {
     "data": {
      "text/html": [
       "<div>\n",
       "<style scoped>\n",
       "    .dataframe tbody tr th:only-of-type {\n",
       "        vertical-align: middle;\n",
       "    }\n",
       "\n",
       "    .dataframe tbody tr th {\n",
       "        vertical-align: top;\n",
       "    }\n",
       "\n",
       "    .dataframe thead th {\n",
       "        text-align: right;\n",
       "    }\n",
       "</style>\n",
       "<table border=\"1\" class=\"dataframe\">\n",
       "  <thead>\n",
       "    <tr style=\"text-align: right;\">\n",
       "      <th></th>\n",
       "      <th>Wage</th>\n",
       "    </tr>\n",
       "  </thead>\n",
       "  <tbody>\n",
       "    <tr>\n",
       "      <th>min_wage</th>\n",
       "      <td>1000</td>\n",
       "    </tr>\n",
       "    <tr>\n",
       "      <th>max_wage</th>\n",
       "      <td>300000</td>\n",
       "    </tr>\n",
       "  </tbody>\n",
       "</table>\n",
       "</div>"
      ],
      "text/plain": [
       "            Wage\n",
       "min_wage    1000\n",
       "max_wage  300000"
      ]
     },
     "metadata": {},
     "output_type": "display_data"
    },
    {
     "data": {
      "text/plain": [
       "Strength    59\n",
       "Balance     95\n",
       "Name: True, dtype: int64"
      ]
     },
     "metadata": {},
     "output_type": "display_data"
    }
   ],
   "source": [
    "# Посчитайте сумму зарплат футболистов клуба \"Chelsea\"\n",
    "# football.groupby('Club')['Wage'].sum()['Chelsea']\n",
    "# football.groupby(football['Club'] == \"Chelsea\")['Wage'].sum()[1]\n",
    "display(football[football.Club == 'Chelsea'].Wage.sum())\n",
    "\n",
    "# Определите минимальную и максимальную зарплату футболиста национальности Аргентина в возрасте 20 лет\n",
    "# football.query('(Nationality == \"Argentina\") & (Age == 20)').agg(min_wage = ('Wage', 'min'), max_wage = ('Wage', 'max'))\n",
    "display(football[(football.Nationality == 'Argentina') & (football.Age == 20)].Wage.agg(['min', 'max']).to_frame())\n",
    "\n",
    "# Определите минимальную и максимальную зарплату футболиста национальности Аргентина в возрасте 30 лет\n",
    "# football.query('(Nationality == \"Argentina\") & (Age == 30)').Wage.agg(['min', 'max']).to_frame()\n",
    "display(football[(football.Nationality == 'Argentina') & (football.Age == 30)].agg(min_wage = ('Wage', 'min'), max_wage = ('Wage', 'max')))\n",
    "\n",
    "# Определите максимальную силу и баланс среди игроков клуба \"FC Barcelona\" из Аргентины\n",
    "# football.query(\"(Nationality == 'Argentina') & (Club == 'FC Barcelona')\")[['Strength', 'Balance']].max()\n",
    "# football.groupby((football['Club'] == \"FC Barcelona\") & (football['Nationality'] == \"Argentina\"))[['Strength', 'Balance']].max().loc[1]\n",
    "display(football[(football['Club'] == \"FC Barcelona\") & (football['Nationality'] == \"Argentina\")][['Strength', 'Balance']].max())"
   ]
  },
  {
   "cell_type": "code",
   "execution_count": 283,
   "id": "32c3a589",
   "metadata": {
    "ExecuteTime": {
     "end_time": "2023-11-07T15:36:53.925474Z",
     "start_time": "2023-11-07T15:36:53.688259Z"
    },
    "scrolled": false
   },
   "outputs": [
    {
     "data": {
      "text/html": [
       "<div>\n",
       "<style scoped>\n",
       "    .dataframe tbody tr th:only-of-type {\n",
       "        vertical-align: middle;\n",
       "    }\n",
       "\n",
       "    .dataframe tbody tr th {\n",
       "        vertical-align: top;\n",
       "    }\n",
       "\n",
       "    .dataframe thead tr th {\n",
       "        text-align: left;\n",
       "    }\n",
       "\n",
       "    .dataframe thead tr:last-of-type th {\n",
       "        text-align: right;\n",
       "    }\n",
       "</style>\n",
       "<table border=\"1\" class=\"dataframe\">\n",
       "  <thead>\n",
       "    <tr>\n",
       "      <th></th>\n",
       "      <th colspan=\"21\" halign=\"left\">Name</th>\n",
       "    </tr>\n",
       "    <tr>\n",
       "      <th>Position</th>\n",
       "      <th>CAM</th>\n",
       "      <th>CB</th>\n",
       "      <th>CDM</th>\n",
       "      <th>CF</th>\n",
       "      <th>CM</th>\n",
       "      <th>GK</th>\n",
       "      <th>LAM</th>\n",
       "      <th>LB</th>\n",
       "      <th>LCB</th>\n",
       "      <th>LCM</th>\n",
       "      <th>...</th>\n",
       "      <th>RB</th>\n",
       "      <th>RCB</th>\n",
       "      <th>RCM</th>\n",
       "      <th>RDM</th>\n",
       "      <th>RF</th>\n",
       "      <th>RM</th>\n",
       "      <th>RS</th>\n",
       "      <th>RW</th>\n",
       "      <th>RWB</th>\n",
       "      <th>ST</th>\n",
       "    </tr>\n",
       "    <tr>\n",
       "      <th>Club</th>\n",
       "      <th></th>\n",
       "      <th></th>\n",
       "      <th></th>\n",
       "      <th></th>\n",
       "      <th></th>\n",
       "      <th></th>\n",
       "      <th></th>\n",
       "      <th></th>\n",
       "      <th></th>\n",
       "      <th></th>\n",
       "      <th></th>\n",
       "      <th></th>\n",
       "      <th></th>\n",
       "      <th></th>\n",
       "      <th></th>\n",
       "      <th></th>\n",
       "      <th></th>\n",
       "      <th></th>\n",
       "      <th></th>\n",
       "      <th></th>\n",
       "      <th></th>\n",
       "    </tr>\n",
       "  </thead>\n",
       "  <tbody>\n",
       "    <tr>\n",
       "      <th>SSV Jahn Regensburg</th>\n",
       "      <td>0</td>\n",
       "      <td>5</td>\n",
       "      <td>1</td>\n",
       "      <td>0</td>\n",
       "      <td>2</td>\n",
       "      <td>3</td>\n",
       "      <td>0</td>\n",
       "      <td>2</td>\n",
       "      <td>0</td>\n",
       "      <td>0</td>\n",
       "      <td>...</td>\n",
       "      <td>2</td>\n",
       "      <td>1</td>\n",
       "      <td>0</td>\n",
       "      <td>1</td>\n",
       "      <td>0</td>\n",
       "      <td>0</td>\n",
       "      <td>0</td>\n",
       "      <td>0</td>\n",
       "      <td>0</td>\n",
       "      <td>3</td>\n",
       "    </tr>\n",
       "    <tr>\n",
       "      <th>1. FC Heidenheim 1846</th>\n",
       "      <td>1</td>\n",
       "      <td>3</td>\n",
       "      <td>0</td>\n",
       "      <td>0</td>\n",
       "      <td>1</td>\n",
       "      <td>2</td>\n",
       "      <td>0</td>\n",
       "      <td>2</td>\n",
       "      <td>1</td>\n",
       "      <td>0</td>\n",
       "      <td>...</td>\n",
       "      <td>2</td>\n",
       "      <td>1</td>\n",
       "      <td>0</td>\n",
       "      <td>0</td>\n",
       "      <td>0</td>\n",
       "      <td>3</td>\n",
       "      <td>0</td>\n",
       "      <td>0</td>\n",
       "      <td>0</td>\n",
       "      <td>2</td>\n",
       "    </tr>\n",
       "    <tr>\n",
       "      <th>1. FC Kaiserslautern</th>\n",
       "      <td>0</td>\n",
       "      <td>3</td>\n",
       "      <td>3</td>\n",
       "      <td>0</td>\n",
       "      <td>0</td>\n",
       "      <td>3</td>\n",
       "      <td>0</td>\n",
       "      <td>2</td>\n",
       "      <td>1</td>\n",
       "      <td>0</td>\n",
       "      <td>...</td>\n",
       "      <td>2</td>\n",
       "      <td>0</td>\n",
       "      <td>0</td>\n",
       "      <td>1</td>\n",
       "      <td>0</td>\n",
       "      <td>2</td>\n",
       "      <td>1</td>\n",
       "      <td>0</td>\n",
       "      <td>0</td>\n",
       "      <td>1</td>\n",
       "    </tr>\n",
       "  </tbody>\n",
       "</table>\n",
       "<p>3 rows × 27 columns</p>\n",
       "</div>"
      ],
      "text/plain": [
       "                      Name                                 ...                 \\\n",
       "Position               CAM CB CDM CF CM GK LAM LB LCB LCM  ... RB RCB RCM RDM   \n",
       "Club                                                       ...                  \n",
       " SSV Jahn Regensburg     0  5   1  0  2  3   0  2   0   0  ...  2   1   0   1   \n",
       "1. FC Heidenheim 1846    1  3   0  0  1  2   0  2   1   0  ...  2   1   0   0   \n",
       "1. FC Kaiserslautern     0  3   3  0  0  3   0  2   1   0  ...  2   0   0   1   \n",
       "\n",
       "                                          \n",
       "Position              RF RM RS RW RWB ST  \n",
       "Club                                      \n",
       " SSV Jahn Regensburg   0  0  0  0   0  3  \n",
       "1. FC Heidenheim 1846  0  3  0  0   0  2  \n",
       "1. FC Kaiserslautern   0  2  1  0   0  1  \n",
       "\n",
       "[3 rows x 27 columns]"
      ]
     },
     "metadata": {},
     "output_type": "display_data"
    },
    {
     "data": {
      "text/plain": [
       "Index([' SSV Jahn Regensburg', '1. FC Heidenheim 1846',\n",
       "       '1. FC Kaiserslautern'],\n",
       "      dtype='object', name='Club')"
      ]
     },
     "metadata": {},
     "output_type": "display_data"
    },
    {
     "data": {
      "text/plain": [
       "MultiIndex([('Name', 'CAM'),\n",
       "            ('Name',  'CB'),\n",
       "            ('Name', 'CDM')],\n",
       "           names=[None, 'Position'])"
      ]
     },
     "metadata": {},
     "output_type": "display_data"
    },
    {
     "name": "stdout",
     "output_type": "stream",
     "text": [
      "Среднее количество вратарей (GK) по всем клубам: 2.52\n"
     ]
    },
    {
     "data": {
      "text/html": [
       "<div>\n",
       "<style scoped>\n",
       "    .dataframe tbody tr th:only-of-type {\n",
       "        vertical-align: middle;\n",
       "    }\n",
       "\n",
       "    .dataframe tbody tr th {\n",
       "        vertical-align: top;\n",
       "    }\n",
       "\n",
       "    .dataframe thead th {\n",
       "        text-align: right;\n",
       "    }\n",
       "</style>\n",
       "<table border=\"1\" class=\"dataframe\">\n",
       "  <thead>\n",
       "    <tr style=\"text-align: right;\">\n",
       "      <th>Position</th>\n",
       "      <th>CAM</th>\n",
       "      <th>CB</th>\n",
       "      <th>CDM</th>\n",
       "      <th>CF</th>\n",
       "      <th>CM</th>\n",
       "      <th>GK</th>\n",
       "      <th>LAM</th>\n",
       "      <th>LB</th>\n",
       "      <th>LCB</th>\n",
       "      <th>LCM</th>\n",
       "      <th>...</th>\n",
       "      <th>RB</th>\n",
       "      <th>RCB</th>\n",
       "      <th>RCM</th>\n",
       "      <th>RDM</th>\n",
       "      <th>RF</th>\n",
       "      <th>RM</th>\n",
       "      <th>RS</th>\n",
       "      <th>RW</th>\n",
       "      <th>RWB</th>\n",
       "      <th>ST</th>\n",
       "    </tr>\n",
       "    <tr>\n",
       "      <th>Club</th>\n",
       "      <th></th>\n",
       "      <th></th>\n",
       "      <th></th>\n",
       "      <th></th>\n",
       "      <th></th>\n",
       "      <th></th>\n",
       "      <th></th>\n",
       "      <th></th>\n",
       "      <th></th>\n",
       "      <th></th>\n",
       "      <th></th>\n",
       "      <th></th>\n",
       "      <th></th>\n",
       "      <th></th>\n",
       "      <th></th>\n",
       "      <th></th>\n",
       "      <th></th>\n",
       "      <th></th>\n",
       "      <th></th>\n",
       "      <th></th>\n",
       "      <th></th>\n",
       "    </tr>\n",
       "  </thead>\n",
       "  <tbody>\n",
       "    <tr>\n",
       "      <th>SSV Jahn Regensburg</th>\n",
       "      <td>0</td>\n",
       "      <td>5</td>\n",
       "      <td>1</td>\n",
       "      <td>0</td>\n",
       "      <td>2</td>\n",
       "      <td>3</td>\n",
       "      <td>0</td>\n",
       "      <td>2</td>\n",
       "      <td>0</td>\n",
       "      <td>0</td>\n",
       "      <td>...</td>\n",
       "      <td>2</td>\n",
       "      <td>1</td>\n",
       "      <td>0</td>\n",
       "      <td>1</td>\n",
       "      <td>0</td>\n",
       "      <td>0</td>\n",
       "      <td>0</td>\n",
       "      <td>0</td>\n",
       "      <td>0</td>\n",
       "      <td>3</td>\n",
       "    </tr>\n",
       "    <tr>\n",
       "      <th>1. FC Heidenheim 1846</th>\n",
       "      <td>1</td>\n",
       "      <td>3</td>\n",
       "      <td>0</td>\n",
       "      <td>0</td>\n",
       "      <td>1</td>\n",
       "      <td>2</td>\n",
       "      <td>0</td>\n",
       "      <td>2</td>\n",
       "      <td>1</td>\n",
       "      <td>0</td>\n",
       "      <td>...</td>\n",
       "      <td>2</td>\n",
       "      <td>1</td>\n",
       "      <td>0</td>\n",
       "      <td>0</td>\n",
       "      <td>0</td>\n",
       "      <td>3</td>\n",
       "      <td>0</td>\n",
       "      <td>0</td>\n",
       "      <td>0</td>\n",
       "      <td>2</td>\n",
       "    </tr>\n",
       "    <tr>\n",
       "      <th>1. FC Kaiserslautern</th>\n",
       "      <td>0</td>\n",
       "      <td>3</td>\n",
       "      <td>3</td>\n",
       "      <td>0</td>\n",
       "      <td>0</td>\n",
       "      <td>3</td>\n",
       "      <td>0</td>\n",
       "      <td>2</td>\n",
       "      <td>1</td>\n",
       "      <td>0</td>\n",
       "      <td>...</td>\n",
       "      <td>2</td>\n",
       "      <td>0</td>\n",
       "      <td>0</td>\n",
       "      <td>1</td>\n",
       "      <td>0</td>\n",
       "      <td>2</td>\n",
       "      <td>1</td>\n",
       "      <td>0</td>\n",
       "      <td>0</td>\n",
       "      <td>1</td>\n",
       "    </tr>\n",
       "  </tbody>\n",
       "</table>\n",
       "<p>3 rows × 27 columns</p>\n",
       "</div>"
      ],
      "text/plain": [
       "Position               CAM  CB  CDM  CF  CM  GK  LAM  LB  LCB  LCM  ...  RB  \\\n",
       "Club                                                                ...       \n",
       " SSV Jahn Regensburg     0   5    1   0   2   3    0   2    0    0  ...   2   \n",
       "1. FC Heidenheim 1846    1   3    0   0   1   2    0   2    1    0  ...   2   \n",
       "1. FC Kaiserslautern     0   3    3   0   0   3    0   2    1    0  ...   2   \n",
       "\n",
       "Position               RCB  RCM  RDM  RF  RM  RS  RW  RWB  ST  \n",
       "Club                                                           \n",
       " SSV Jahn Regensburg     1    0    1   0   0   0   0    0   3  \n",
       "1. FC Heidenheim 1846    1    0    0   0   3   0   0    0   2  \n",
       "1. FC Kaiserslautern     0    0    1   0   2   1   0    0   1  \n",
       "\n",
       "[3 rows x 27 columns]"
      ]
     },
     "metadata": {},
     "output_type": "display_data"
    },
    {
     "data": {
      "text/plain": [
       "Index([' SSV Jahn Regensburg', '1. FC Heidenheim 1846',\n",
       "       '1. FC Kaiserslautern'],\n",
       "      dtype='object', name='Club')"
      ]
     },
     "metadata": {},
     "output_type": "display_data"
    },
    {
     "data": {
      "text/plain": [
       "Index(['CAM', 'CB', 'CDM'], dtype='object', name='Position')"
      ]
     },
     "metadata": {},
     "output_type": "display_data"
    },
    {
     "name": "stdout",
     "output_type": "stream",
     "text": [
      "Среднее количество вратарей (GK) по всем клубам: 2.52\n"
     ]
    },
    {
     "data": {
      "text/plain": [
       "136"
      ]
     },
     "metadata": {},
     "output_type": "display_data"
    },
    {
     "data": {
      "text/plain": [
       "136"
      ]
     },
     "metadata": {},
     "output_type": "display_data"
    },
    {
     "data": {
      "text/html": [
       "<div>\n",
       "<style scoped>\n",
       "    .dataframe tbody tr th:only-of-type {\n",
       "        vertical-align: middle;\n",
       "    }\n",
       "\n",
       "    .dataframe tbody tr th {\n",
       "        vertical-align: top;\n",
       "    }\n",
       "\n",
       "    .dataframe thead th {\n",
       "        text-align: right;\n",
       "    }\n",
       "</style>\n",
       "<table border=\"1\" class=\"dataframe\">\n",
       "  <thead>\n",
       "    <tr style=\"text-align: right;\">\n",
       "      <th>Nationality</th>\n",
       "      <th>Russia</th>\n",
       "    </tr>\n",
       "    <tr>\n",
       "      <th>Club</th>\n",
       "      <th></th>\n",
       "    </tr>\n",
       "  </thead>\n",
       "  <tbody>\n",
       "    <tr>\n",
       "      <th>AS Monaco</th>\n",
       "      <td>61000</td>\n",
       "    </tr>\n",
       "    <tr>\n",
       "      <th>Cracovia</th>\n",
       "      <td>1000</td>\n",
       "    </tr>\n",
       "    <tr>\n",
       "      <th>Dalkurd FF</th>\n",
       "      <td>1000</td>\n",
       "    </tr>\n",
       "  </tbody>\n",
       "</table>\n",
       "</div>"
      ],
      "text/plain": [
       "Nationality  Russia\n",
       "Club               \n",
       "AS Monaco     61000\n",
       "Cracovia       1000\n",
       "Dalkurd FF     1000"
      ]
     },
     "metadata": {},
     "output_type": "display_data"
    },
    {
     "data": {
      "text/plain": [
       "Nationality\n",
       "Russia    61000\n",
       "Name: AS Monaco, dtype: int64"
      ]
     },
     "metadata": {},
     "output_type": "display_data"
    },
    {
     "data": {
      "text/plain": [
       "122    61000\n",
       "Name: AS Monaco, dtype: int64"
      ]
     },
     "execution_count": 283,
     "metadata": {},
     "output_type": "execute_result"
    }
   ],
   "source": [
    "# Создайте сводную таблицу, содержащую сведения о количестве игроков, занимающих разные позиции в каждом клубе. \n",
    "# Отсутствующие значения замените нулями. Каково среднее количество вратарей (GK) по всем клубам?\n",
    "\n",
    "# Сводная таблица с мультииндексами:\n",
    "pivot_1 = football.pivot_table(index = ['Club'], columns = ['Position'], values = ['Name'], aggfunc = 'count', fill_value = 0)\n",
    "display(pivot_1.head(3))\n",
    "display(pivot_1.index[:3])\n",
    "display(pivot_1.columns[:3])\n",
    "print(f'Среднее количество вратарей (GK) по всем клубам: {round(pivot_1[\"Name\", \"GK\"].mean(), 2)}')\n",
    "\n",
    "\n",
    "# Сводная таблица с привычными индексами:\n",
    "pivot_2 = football.pivot_table(index = 'Club', columns = 'Position', values = 'Name', aggfunc = 'count', fill_value = 0)\n",
    "display(pivot_2.head(3))\n",
    "display(pivot_2.index[:3])\n",
    "display(pivot_2.columns[:3])\n",
    "print(f'Среднее количество вратарей (GK) по всем клубам: {round(pivot_2[\"GK\"].mean(), 2)}')\n",
    "\n",
    "# Используя таблицу, созданную на предыдущем шаге, определите, сколько клубов не содержат данных о центральных полузащитниках \n",
    "# (CM)\n",
    "# pivot_1['Name', 'CM'].value_counts().loc[0]\n",
    "# pivot_1[pivot_1['Name']['CM'] == 0].reset_index().Club.nunique()\n",
    "# pivot_1[pivot_1['Name']['CM'] == 0]['Name', 'CM'].count()\n",
    "display(len(pivot_1[pivot_1['Name', 'CM'] == 0]))\n",
    "display(len(pivot_2[pivot_2['CM'] == 0]))\n",
    "\n",
    "\n",
    "# С помощью сводной таблицы посчитайте, сколько получают русские футболисты, играющие за ФК \"AS Monaco\"\n",
    "pivot_3 = football.loc[football['Nationality'].isin(['Russia'])].pivot_table(index = 'Club', columns = 'Nationality', \n",
    "                                                                             values = 'Wage', aggfunc = 'sum') \n",
    "display(pivot_3.head(3))\n",
    "display(pivot_3.loc[\"AS Monaco\"])\n",
    "\n",
    "# ДРУГОЙ ВАРИАНТ РЕШЕНИЯ\n",
    "pivot_4 = football.pivot_table(index = 'Nationality', columns = 'Club', values = 'Wage', \n",
    "                               aggfunc = 'sum', fill_value = 0).reset_index()\n",
    "pivot_4[pivot_4.Nationality == 'Russia'][\"AS Monaco\"]"
   ]
  },
  {
   "cell_type": "code",
   "execution_count": 20,
   "id": "01aad886",
   "metadata": {
    "ExecuteTime": {
     "end_time": "2024-01-11T15:55:49.295463Z",
     "start_time": "2024-01-11T15:55:49.227646Z"
    },
    "scrolled": false
   },
   "outputs": [
    {
     "data": {
      "text/html": [
       "<div>\n",
       "<style scoped>\n",
       "    .dataframe tbody tr th:only-of-type {\n",
       "        vertical-align: middle;\n",
       "    }\n",
       "\n",
       "    .dataframe tbody tr th {\n",
       "        vertical-align: top;\n",
       "    }\n",
       "\n",
       "    .dataframe thead th {\n",
       "        text-align: right;\n",
       "    }\n",
       "</style>\n",
       "<table border=\"1\" class=\"dataframe\">\n",
       "  <thead>\n",
       "    <tr style=\"text-align: right;\">\n",
       "      <th>Position</th>\n",
       "      <th>CAM</th>\n",
       "      <th>CB</th>\n",
       "      <th>CDM</th>\n",
       "      <th>CF</th>\n",
       "      <th>CM</th>\n",
       "      <th>GK</th>\n",
       "      <th>LAM</th>\n",
       "      <th>LB</th>\n",
       "      <th>LCB</th>\n",
       "      <th>LCM</th>\n",
       "      <th>...</th>\n",
       "      <th>RB</th>\n",
       "      <th>RCB</th>\n",
       "      <th>RCM</th>\n",
       "      <th>RDM</th>\n",
       "      <th>RF</th>\n",
       "      <th>RM</th>\n",
       "      <th>RS</th>\n",
       "      <th>RW</th>\n",
       "      <th>RWB</th>\n",
       "      <th>ST</th>\n",
       "    </tr>\n",
       "    <tr>\n",
       "      <th>Club</th>\n",
       "      <th></th>\n",
       "      <th></th>\n",
       "      <th></th>\n",
       "      <th></th>\n",
       "      <th></th>\n",
       "      <th></th>\n",
       "      <th></th>\n",
       "      <th></th>\n",
       "      <th></th>\n",
       "      <th></th>\n",
       "      <th></th>\n",
       "      <th></th>\n",
       "      <th></th>\n",
       "      <th></th>\n",
       "      <th></th>\n",
       "      <th></th>\n",
       "      <th></th>\n",
       "      <th></th>\n",
       "      <th></th>\n",
       "      <th></th>\n",
       "      <th></th>\n",
       "    </tr>\n",
       "  </thead>\n",
       "  <tbody>\n",
       "    <tr>\n",
       "      <th>SSV Jahn Regensburg</th>\n",
       "      <td>0.0</td>\n",
       "      <td>46.600000</td>\n",
       "      <td>82.000000</td>\n",
       "      <td>0.0</td>\n",
       "      <td>61.0</td>\n",
       "      <td>33.000000</td>\n",
       "      <td>0</td>\n",
       "      <td>76.0</td>\n",
       "      <td>0.0</td>\n",
       "      <td>0.0</td>\n",
       "      <td>...</td>\n",
       "      <td>68.5</td>\n",
       "      <td>57.0</td>\n",
       "      <td>0</td>\n",
       "      <td>65.0</td>\n",
       "      <td>0</td>\n",
       "      <td>0.000000</td>\n",
       "      <td>0</td>\n",
       "      <td>0.0</td>\n",
       "      <td>0.0</td>\n",
       "      <td>61.666667</td>\n",
       "    </tr>\n",
       "    <tr>\n",
       "      <th>1. FC Heidenheim 1846</th>\n",
       "      <td>68.0</td>\n",
       "      <td>61.333333</td>\n",
       "      <td>0.000000</td>\n",
       "      <td>0.0</td>\n",
       "      <td>68.0</td>\n",
       "      <td>41.000000</td>\n",
       "      <td>0</td>\n",
       "      <td>60.0</td>\n",
       "      <td>55.0</td>\n",
       "      <td>0.0</td>\n",
       "      <td>...</td>\n",
       "      <td>80.5</td>\n",
       "      <td>59.0</td>\n",
       "      <td>0</td>\n",
       "      <td>0.0</td>\n",
       "      <td>0</td>\n",
       "      <td>78.333333</td>\n",
       "      <td>0</td>\n",
       "      <td>0.0</td>\n",
       "      <td>0.0</td>\n",
       "      <td>69.000000</td>\n",
       "    </tr>\n",
       "    <tr>\n",
       "      <th>1. FC Kaiserslautern</th>\n",
       "      <td>0.0</td>\n",
       "      <td>59.000000</td>\n",
       "      <td>65.666667</td>\n",
       "      <td>0.0</td>\n",
       "      <td>0.0</td>\n",
       "      <td>42.666667</td>\n",
       "      <td>0</td>\n",
       "      <td>68.0</td>\n",
       "      <td>45.0</td>\n",
       "      <td>0.0</td>\n",
       "      <td>...</td>\n",
       "      <td>71.5</td>\n",
       "      <td>0.0</td>\n",
       "      <td>0</td>\n",
       "      <td>55.0</td>\n",
       "      <td>0</td>\n",
       "      <td>82.500000</td>\n",
       "      <td>69</td>\n",
       "      <td>0.0</td>\n",
       "      <td>0.0</td>\n",
       "      <td>79.000000</td>\n",
       "    </tr>\n",
       "  </tbody>\n",
       "</table>\n",
       "<p>3 rows × 27 columns</p>\n",
       "</div>"
      ],
      "text/plain": [
       "Position                CAM         CB        CDM   CF    CM         GK  LAM  \\\n",
       "Club                                                                           \n",
       " SSV Jahn Regensburg    0.0  46.600000  82.000000  0.0  61.0  33.000000    0   \n",
       "1. FC Heidenheim 1846  68.0  61.333333   0.000000  0.0  68.0  41.000000    0   \n",
       "1. FC Kaiserslautern    0.0  59.000000  65.666667  0.0   0.0  42.666667    0   \n",
       "\n",
       "Position                 LB   LCB  LCM  ...    RB   RCB  RCM   RDM  RF  \\\n",
       "Club                                    ...                              \n",
       " SSV Jahn Regensburg   76.0   0.0  0.0  ...  68.5  57.0    0  65.0   0   \n",
       "1. FC Heidenheim 1846  60.0  55.0  0.0  ...  80.5  59.0    0   0.0   0   \n",
       "1. FC Kaiserslautern   68.0  45.0  0.0  ...  71.5   0.0    0  55.0   0   \n",
       "\n",
       "Position                      RM  RS   RW  RWB         ST  \n",
       "Club                                                       \n",
       " SSV Jahn Regensburg    0.000000   0  0.0  0.0  61.666667  \n",
       "1. FC Heidenheim 1846  78.333333   0  0.0  0.0  69.000000  \n",
       "1. FC Kaiserslautern   82.500000  69  0.0  0.0  79.000000  \n",
       "\n",
       "[3 rows x 27 columns]"
      ]
     },
     "metadata": {},
     "output_type": "display_data"
    },
    {
     "data": {
      "text/plain": [
       "Position\n",
       "LM    94.0\n",
       "RS    94.0\n",
       "RM    94.0\n",
       "dtype: float64"
      ]
     },
     "metadata": {},
     "output_type": "display_data"
    },
    {
     "data": {
      "text/html": [
       "<div>\n",
       "<style scoped>\n",
       "    .dataframe tbody tr th:only-of-type {\n",
       "        vertical-align: middle;\n",
       "    }\n",
       "\n",
       "    .dataframe tbody tr th {\n",
       "        vertical-align: top;\n",
       "    }\n",
       "\n",
       "    .dataframe thead th {\n",
       "        text-align: right;\n",
       "    }\n",
       "</style>\n",
       "<table border=\"1\" class=\"dataframe\">\n",
       "  <thead>\n",
       "    <tr style=\"text-align: right;\">\n",
       "      <th>Position</th>\n",
       "      <th>Club</th>\n",
       "      <th>ST</th>\n",
       "    </tr>\n",
       "  </thead>\n",
       "  <tbody>\n",
       "    <tr>\n",
       "      <th>621</th>\n",
       "      <td>Vitória</td>\n",
       "      <td>91.0</td>\n",
       "    </tr>\n",
       "    <tr>\n",
       "      <th>571</th>\n",
       "      <td>Sydney FC</td>\n",
       "      <td>88.0</td>\n",
       "    </tr>\n",
       "    <tr>\n",
       "      <th>111</th>\n",
       "      <td>CD Lugo</td>\n",
       "      <td>87.0</td>\n",
       "    </tr>\n",
       "  </tbody>\n",
       "</table>\n",
       "</div>"
      ],
      "text/plain": [
       "Position       Club    ST\n",
       "621         Vitória  91.0\n",
       "571       Sydney FC  88.0\n",
       "111         CD Lugo  87.0"
      ]
     },
     "metadata": {},
     "output_type": "display_data"
    }
   ],
   "source": [
    "# Создайте сводную таблицу, содержащую сведения о средней скорости футболистов, \n",
    "# занимающих разные позиции в разных футбольных клубах\n",
    "pivot_5 = football.pivot_table(index = 'Club', columns = 'Position', values = 'SprintSpeed', aggfunc = 'mean', fill_value = 0)\n",
    "display(pivot_5.head(3))\n",
    "\n",
    "# Основываясь на данных таблицы, выделите три позиции, представители которых обладают самой высокой скоростью\n",
    "# pivot_5.loc[:].max().sort_values(ascending = False).index.tolist()[:3]\n",
    "display(pivot_5.max().sort_values(ascending = False)[:3])\n",
    "\n",
    "# Используя таблицу, созданную на предыдущем шаге, выделите названия трёх клубов, в которых центральные форварды (ST) \n",
    "# обладают наибольшей средней скоростью\n",
    "# pivot_5['ST'].sort_values(ascending = False).index.tolist()[:3]\n",
    "# pivot_5.sort_values('ST').index.tolist()[-3:]\n",
    "display(pivot_5.reset_index().sort_values(by = 'ST', ascending = False)[['Club', 'ST']][:3])"
   ]
  },
  {
   "cell_type": "markdown",
   "id": "888da511",
   "metadata": {},
   "source": [
    "### ЗАДАНИЕ 2.   \n",
    "### Ответить на вопросы, применив различные способы объединения таблиц  \n",
    "В задании используется датасет с логами рекомендательной системы фильмов. Основой данных будут две таблицы. "
   ]
  },
  {
   "cell_type": "markdown",
   "id": "bbbfdd82",
   "metadata": {},
   "source": [
    "**Таблица ratings —  данные о выставленных оценках фильмов. Содержит признаки:**  \n",
    "- **userId** — идентификатор пользователя, который поставил оценку фильму\n",
    "- **movieId** — идентификатор фильма\n",
    "- **rating** — выставленная оценка\n",
    "- **timestamp** — время (в формате unix time), когда была выставлена оценка"
   ]
  },
  {
   "cell_type": "markdown",
   "id": "5d2dcf2a",
   "metadata": {},
   "source": [
    "**Таблица movies — расшифровка идентификаторов фильмов. Содержит признаки:**  \n",
    "- **movieId** — идентификатор фильма\n",
    "- **title** — название фильма\n",
    "- **genre** — список жанров, к которым относится фильм"
   ]
  },
  {
   "cell_type": "code",
   "execution_count": 7,
   "id": "c961de47",
   "metadata": {
    "ExecuteTime": {
     "end_time": "2024-02-18T06:17:01.142321Z",
     "start_time": "2024-02-18T06:17:01.034724Z"
    }
   },
   "outputs": [
    {
     "data": {
      "text/html": [
       "<div>\n",
       "<style scoped>\n",
       "    .dataframe tbody tr th:only-of-type {\n",
       "        vertical-align: middle;\n",
       "    }\n",
       "\n",
       "    .dataframe tbody tr th {\n",
       "        vertical-align: top;\n",
       "    }\n",
       "\n",
       "    .dataframe thead th {\n",
       "        text-align: right;\n",
       "    }\n",
       "</style>\n",
       "<table border=\"1\" class=\"dataframe\">\n",
       "  <thead>\n",
       "    <tr style=\"text-align: right;\">\n",
       "      <th></th>\n",
       "      <th>userId</th>\n",
       "      <th>movieId</th>\n",
       "      <th>rating</th>\n",
       "      <th>timestamp</th>\n",
       "    </tr>\n",
       "  </thead>\n",
       "  <tbody>\n",
       "    <tr>\n",
       "      <th>0</th>\n",
       "      <td>1</td>\n",
       "      <td>1</td>\n",
       "      <td>4.0</td>\n",
       "      <td>964982703</td>\n",
       "    </tr>\n",
       "    <tr>\n",
       "      <th>1</th>\n",
       "      <td>1</td>\n",
       "      <td>3</td>\n",
       "      <td>4.0</td>\n",
       "      <td>964981247</td>\n",
       "    </tr>\n",
       "    <tr>\n",
       "      <th>2</th>\n",
       "      <td>1</td>\n",
       "      <td>6</td>\n",
       "      <td>4.0</td>\n",
       "      <td>964982224</td>\n",
       "    </tr>\n",
       "  </tbody>\n",
       "</table>\n",
       "</div>"
      ],
      "text/plain": [
       "   userId  movieId  rating  timestamp\n",
       "0       1        1     4.0  964982703\n",
       "1       1        3     4.0  964981247\n",
       "2       1        6     4.0  964982224"
      ]
     },
     "metadata": {},
     "output_type": "display_data"
    },
    {
     "data": {
      "text/html": [
       "<div>\n",
       "<style scoped>\n",
       "    .dataframe tbody tr th:only-of-type {\n",
       "        vertical-align: middle;\n",
       "    }\n",
       "\n",
       "    .dataframe tbody tr th {\n",
       "        vertical-align: top;\n",
       "    }\n",
       "\n",
       "    .dataframe thead th {\n",
       "        text-align: right;\n",
       "    }\n",
       "</style>\n",
       "<table border=\"1\" class=\"dataframe\">\n",
       "  <thead>\n",
       "    <tr style=\"text-align: right;\">\n",
       "      <th></th>\n",
       "      <th>movieId</th>\n",
       "      <th>title</th>\n",
       "      <th>genres</th>\n",
       "    </tr>\n",
       "  </thead>\n",
       "  <tbody>\n",
       "    <tr>\n",
       "      <th>0</th>\n",
       "      <td>1</td>\n",
       "      <td>Toy Story (1995)</td>\n",
       "      <td>Adventure|Animation|Children|Comedy|Fantasy</td>\n",
       "    </tr>\n",
       "    <tr>\n",
       "      <th>1</th>\n",
       "      <td>2</td>\n",
       "      <td>Jumanji (1995)</td>\n",
       "      <td>Adventure|Children|Fantasy</td>\n",
       "    </tr>\n",
       "    <tr>\n",
       "      <th>2</th>\n",
       "      <td>3</td>\n",
       "      <td>Grumpier Old Men (1995)</td>\n",
       "      <td>Comedy|Romance</td>\n",
       "    </tr>\n",
       "  </tbody>\n",
       "</table>\n",
       "</div>"
      ],
      "text/plain": [
       "   movieId                    title  \\\n",
       "0        1         Toy Story (1995)   \n",
       "1        2           Jumanji (1995)   \n",
       "2        3  Grumpier Old Men (1995)   \n",
       "\n",
       "                                        genres  \n",
       "0  Adventure|Animation|Children|Comedy|Fantasy  \n",
       "1                   Adventure|Children|Fantasy  \n",
       "2                               Comedy|Romance  "
      ]
     },
     "metadata": {},
     "output_type": "display_data"
    }
   ],
   "source": [
    "# Загрузим данные и посмотрим на них детальнее\n",
    "ratings = pd.read_csv('ratings.csv')\n",
    "movies = pd.read_csv('movies.csv')\n",
    "\n",
    "display(ratings.head(3))\n",
    "display(movies.head(3))"
   ]
  },
  {
   "cell_type": "code",
   "execution_count": 8,
   "id": "6115ac36",
   "metadata": {
    "ExecuteTime": {
     "end_time": "2024-02-18T06:17:02.011344Z",
     "start_time": "2024-02-18T06:17:01.973697Z"
    },
    "scrolled": false
   },
   "outputs": [
    {
     "name": "stdout",
     "output_type": "stream",
     "text": [
      "<class 'pandas.core.frame.DataFrame'>\n",
      "RangeIndex: 100836 entries, 0 to 100835\n",
      "Data columns (total 4 columns):\n",
      " #   Column     Non-Null Count   Dtype  \n",
      "---  ------     --------------   -----  \n",
      " 0   userId     100836 non-null  int64  \n",
      " 1   movieId    100836 non-null  int64  \n",
      " 2   rating     100836 non-null  float64\n",
      " 3   timestamp  100836 non-null  int64  \n",
      "dtypes: float64(1), int64(3)\n",
      "memory usage: 3.1 MB\n"
     ]
    },
    {
     "data": {
      "text/plain": [
       "None"
      ]
     },
     "metadata": {},
     "output_type": "display_data"
    },
    {
     "name": "stdout",
     "output_type": "stream",
     "text": [
      "<class 'pandas.core.frame.DataFrame'>\n",
      "RangeIndex: 9742 entries, 0 to 9741\n",
      "Data columns (total 3 columns):\n",
      " #   Column   Non-Null Count  Dtype \n",
      "---  ------   --------------  ----- \n",
      " 0   movieId  9742 non-null   int64 \n",
      " 1   title    9742 non-null   object\n",
      " 2   genres   9742 non-null   object\n",
      "dtypes: int64(1), object(2)\n",
      "memory usage: 228.5+ KB\n"
     ]
    },
    {
     "data": {
      "text/plain": [
       "None"
      ]
     },
     "metadata": {},
     "output_type": "display_data"
    }
   ],
   "source": [
    "# Посмотрим на структуру датасетов\n",
    "display(ratings.info())\n",
    "display(movies.info())"
   ]
  },
  {
   "cell_type": "markdown",
   "id": "f74fd70b",
   "metadata": {},
   "source": [
    "### Ответим на ряд вопросов, применив различные способы объединения таблиц"
   ]
  },
  {
   "cell_type": "code",
   "execution_count": 14,
   "id": "3f422efa",
   "metadata": {
    "ExecuteTime": {
     "end_time": "2024-02-18T06:21:48.165195Z",
     "start_time": "2024-02-18T06:21:48.095342Z"
    }
   },
   "outputs": [
    {
     "data": {
      "text/html": [
       "<div>\n",
       "<style scoped>\n",
       "    .dataframe tbody tr th:only-of-type {\n",
       "        vertical-align: middle;\n",
       "    }\n",
       "\n",
       "    .dataframe tbody tr th {\n",
       "        vertical-align: top;\n",
       "    }\n",
       "\n",
       "    .dataframe thead th {\n",
       "        text-align: right;\n",
       "    }\n",
       "</style>\n",
       "<table border=\"1\" class=\"dataframe\">\n",
       "  <thead>\n",
       "    <tr style=\"text-align: right;\">\n",
       "      <th></th>\n",
       "      <th>movieId</th>\n",
       "      <th>title</th>\n",
       "      <th>genres</th>\n",
       "      <th>userId</th>\n",
       "      <th>rating</th>\n",
       "      <th>timestamp</th>\n",
       "    </tr>\n",
       "  </thead>\n",
       "  <tbody>\n",
       "    <tr>\n",
       "      <th>0</th>\n",
       "      <td>1</td>\n",
       "      <td>Toy Story (1995)</td>\n",
       "      <td>Adventure|Animation|Children|Comedy|Fantasy</td>\n",
       "      <td>1.0</td>\n",
       "      <td>4.0</td>\n",
       "      <td>9.649827e+08</td>\n",
       "    </tr>\n",
       "    <tr>\n",
       "      <th>1</th>\n",
       "      <td>1</td>\n",
       "      <td>Toy Story (1995)</td>\n",
       "      <td>Adventure|Animation|Children|Comedy|Fantasy</td>\n",
       "      <td>5.0</td>\n",
       "      <td>4.0</td>\n",
       "      <td>8.474350e+08</td>\n",
       "    </tr>\n",
       "    <tr>\n",
       "      <th>2</th>\n",
       "      <td>1</td>\n",
       "      <td>Toy Story (1995)</td>\n",
       "      <td>Adventure|Animation|Children|Comedy|Fantasy</td>\n",
       "      <td>7.0</td>\n",
       "      <td>4.5</td>\n",
       "      <td>1.106636e+09</td>\n",
       "    </tr>\n",
       "  </tbody>\n",
       "</table>\n",
       "</div>"
      ],
      "text/plain": [
       "   movieId             title                                       genres  \\\n",
       "0        1  Toy Story (1995)  Adventure|Animation|Children|Comedy|Fantasy   \n",
       "1        1  Toy Story (1995)  Adventure|Animation|Children|Comedy|Fantasy   \n",
       "2        1  Toy Story (1995)  Adventure|Animation|Children|Comedy|Fantasy   \n",
       "\n",
       "   userId  rating     timestamp  \n",
       "0     1.0     4.0  9.649827e+08  \n",
       "1     5.0     4.0  8.474350e+08  \n",
       "2     7.0     4.5  1.106636e+09  "
      ]
     },
     "metadata": {},
     "output_type": "display_data"
    },
    {
     "data": {
      "text/plain": [
       "54467    Color of Paradise, The (Rang-e khoda) (1999)\n",
       "Name: title, dtype: object"
      ]
     },
     "metadata": {},
     "output_type": "display_data"
    },
    {
     "name": "stdout",
     "output_type": "stream",
     "text": [
      "Год выпуска у фильма с movieId=3456: '1999'\n"
     ]
    },
    {
     "data": {
      "text/plain": [
       "0.5"
      ]
     },
     "metadata": {},
     "output_type": "display_data"
    },
    {
     "data": {
      "text/plain": [
       "1370"
      ]
     },
     "metadata": {},
     "output_type": "display_data"
    }
   ],
   "source": [
    "# Объедините датафреймы ratings и movies. Какой год выпуска у фильма с movieId=3456?\n",
    "merged_df = movies.merge(ratings, on = 'movieId', how = 'outer')\n",
    "display(merged_df.head(3))\n",
    "display(merged_df[merged_df['movieId'] == 3456]['title'])\n",
    "release_year = merged_df[merged_df.movieId == 3456].title.apply(lambda x: str(re.findall(r'\\d{4}', x)).strip('[]')).iloc[0]\n",
    "# merged_df[merged_df.movieId == 3456].title.apply(lambda x: x.split(') (')[1].replace(')', ''))    # .rstrip(')')\n",
    "print(f'Год выпуска у фильма с movieId=3456: {release_year}')\n",
    "\n",
    "\n",
    "# Сколько раз была выставлена самая низкая оценка 0.5 в рейтингах?\n",
    "# merged_df[merged_df.rating.isin([merged_df['rating'].min()])].movieId.count()\n",
    "# len(merged_df[merged_df.rating == 0.5])\n",
    "display(merged_df['rating'].min())\n",
    "display(merged_df[merged_df['rating'] == merged_df['rating'].min()]['movieId'].count())"
   ]
  },
  {
   "cell_type": "markdown",
   "id": "4e52e26a",
   "metadata": {},
   "source": [
    "### ЗАДАНИЕ 3.   \n",
    "### Ответить на вопросы, используя данные о  новых поступлениях интернет-магазина   \n",
    "В словаре items_dict содержится информация о наличии товара на складе. В словаре purchase_log — данные о покупках товаров."
   ]
  },
  {
   "cell_type": "code",
   "execution_count": 5,
   "id": "768593d1",
   "metadata": {
    "ExecuteTime": {
     "end_time": "2024-01-13T12:13:02.744369Z",
     "start_time": "2024-01-13T12:13:02.724633Z"
    },
    "scrolled": true
   },
   "outputs": [
    {
     "name": "stdout",
     "output_type": "stream",
     "text": [
      "{'item_id': [417283, 849734, 132223, 573943, 19475, 3294095, 382043, 302948, 100132, 312394], 'vendor': ['Samsung', 'LG', 'Apple', 'Apple', 'LG', 'Apple', 'Samsung', 'Samsung', 'LG', 'ZTE'], 'stock_count': [54, 33, 122, 18, 102, 43, 77, 143, 60, 19]}\n"
     ]
    }
   ],
   "source": [
    "items_dict = {'item_id': [417283, 849734, 132223, 573943, 19475, 3294095, 382043, 302948, 100132, 312394], \n",
    "              'vendor': ['Samsung', 'LG', 'Apple', 'Apple', 'LG', 'Apple', 'Samsung', 'Samsung', 'LG', 'ZTE'],\n",
    "              'stock_count': [54, 33, 122, 18, 102, 43, 77, 143, 60, 19]}\n",
    "purchase_log = {'purchase_id': [101, 101, 101, 112, 121, 145, 145, 145, 145, 221],\n",
    "                'item_id': [417283, 849734, 132223, 573943, 19475, 3294095, 382043, 302948, 103845, 100132], \n",
    "                'price': [13900, 5330, 38200, 49990, 9890, 33000, 67500, 34500, 89900, 11400]}\n",
    "print(items_dict)"
   ]
  },
  {
   "cell_type": "code",
   "execution_count": 6,
   "id": "961b0429",
   "metadata": {
    "ExecuteTime": {
     "end_time": "2024-01-13T12:13:15.514558Z",
     "start_time": "2024-01-13T12:13:15.509806Z"
    }
   },
   "outputs": [
    {
     "name": "stdout",
     "output_type": "stream",
     "text": [
      "{'item_id': [417283,\n",
      "             849734,\n",
      "             132223,\n",
      "             573943,\n",
      "             19475,\n",
      "             3294095,\n",
      "             382043,\n",
      "             302948,\n",
      "             103845,\n",
      "             100132],\n",
      " 'price': [13900, 5330, 38200, 49990, 9890, 33000, 67500, 34500, 89900, 11400],\n",
      " 'purchase_id': [101, 101, 101, 112, 121, 145, 145, 145, 145, 221]}\n"
     ]
    }
   ],
   "source": [
    "from pprint import pprint\n",
    "pprint(purchase_log)"
   ]
  },
  {
   "cell_type": "markdown",
   "id": "d728d450",
   "metadata": {},
   "source": [
    "Переведем словари в датафремы и посмотрим на признаки:  \n",
    "- **item_id** — идентификатор модели (по этому столбцу будем объединять датафреймы)\n",
    "- **vendor** — производитель модели\n",
    "- **stock_count** — имеющееся на складе количество данных моделей (в штуках)\n",
    "- **purchase_id** — идентификатор покупки\n",
    "- **price** — стоимость модели "
   ]
  },
  {
   "cell_type": "code",
   "execution_count": 7,
   "id": "a898d397",
   "metadata": {
    "ExecuteTime": {
     "end_time": "2024-01-13T12:14:01.178507Z",
     "start_time": "2024-01-13T12:14:01.135491Z"
    }
   },
   "outputs": [
    {
     "data": {
      "text/html": [
       "<div>\n",
       "<style scoped>\n",
       "    .dataframe tbody tr th:only-of-type {\n",
       "        vertical-align: middle;\n",
       "    }\n",
       "\n",
       "    .dataframe tbody tr th {\n",
       "        vertical-align: top;\n",
       "    }\n",
       "\n",
       "    .dataframe thead th {\n",
       "        text-align: right;\n",
       "    }\n",
       "</style>\n",
       "<table border=\"1\" class=\"dataframe\">\n",
       "  <thead>\n",
       "    <tr style=\"text-align: right;\">\n",
       "      <th></th>\n",
       "      <th>item_id</th>\n",
       "      <th>vendor</th>\n",
       "      <th>stock_count</th>\n",
       "    </tr>\n",
       "  </thead>\n",
       "  <tbody>\n",
       "    <tr>\n",
       "      <th>0</th>\n",
       "      <td>417283</td>\n",
       "      <td>Samsung</td>\n",
       "      <td>54</td>\n",
       "    </tr>\n",
       "    <tr>\n",
       "      <th>1</th>\n",
       "      <td>849734</td>\n",
       "      <td>LG</td>\n",
       "      <td>33</td>\n",
       "    </tr>\n",
       "    <tr>\n",
       "      <th>2</th>\n",
       "      <td>132223</td>\n",
       "      <td>Apple</td>\n",
       "      <td>122</td>\n",
       "    </tr>\n",
       "    <tr>\n",
       "      <th>3</th>\n",
       "      <td>573943</td>\n",
       "      <td>Apple</td>\n",
       "      <td>18</td>\n",
       "    </tr>\n",
       "    <tr>\n",
       "      <th>4</th>\n",
       "      <td>19475</td>\n",
       "      <td>LG</td>\n",
       "      <td>102</td>\n",
       "    </tr>\n",
       "    <tr>\n",
       "      <th>5</th>\n",
       "      <td>3294095</td>\n",
       "      <td>Apple</td>\n",
       "      <td>43</td>\n",
       "    </tr>\n",
       "    <tr>\n",
       "      <th>6</th>\n",
       "      <td>382043</td>\n",
       "      <td>Samsung</td>\n",
       "      <td>77</td>\n",
       "    </tr>\n",
       "    <tr>\n",
       "      <th>7</th>\n",
       "      <td>302948</td>\n",
       "      <td>Samsung</td>\n",
       "      <td>143</td>\n",
       "    </tr>\n",
       "    <tr>\n",
       "      <th>8</th>\n",
       "      <td>100132</td>\n",
       "      <td>LG</td>\n",
       "      <td>60</td>\n",
       "    </tr>\n",
       "    <tr>\n",
       "      <th>9</th>\n",
       "      <td>312394</td>\n",
       "      <td>ZTE</td>\n",
       "      <td>19</td>\n",
       "    </tr>\n",
       "  </tbody>\n",
       "</table>\n",
       "</div>"
      ],
      "text/plain": [
       "   item_id   vendor  stock_count\n",
       "0   417283  Samsung           54\n",
       "1   849734       LG           33\n",
       "2   132223    Apple          122\n",
       "3   573943    Apple           18\n",
       "4    19475       LG          102\n",
       "5  3294095    Apple           43\n",
       "6   382043  Samsung           77\n",
       "7   302948  Samsung          143\n",
       "8   100132       LG           60\n",
       "9   312394      ZTE           19"
      ]
     },
     "metadata": {},
     "output_type": "display_data"
    },
    {
     "name": "stdout",
     "output_type": "stream",
     "text": [
      "<class 'pandas.core.frame.DataFrame'>\n",
      "RangeIndex: 10 entries, 0 to 9\n",
      "Data columns (total 3 columns):\n",
      " #   Column       Non-Null Count  Dtype \n",
      "---  ------       --------------  ----- \n",
      " 0   item_id      10 non-null     int64 \n",
      " 1   vendor       10 non-null     object\n",
      " 2   stock_count  10 non-null     int64 \n",
      "dtypes: int64(2), object(1)\n",
      "memory usage: 368.0+ bytes\n"
     ]
    },
    {
     "data": {
      "text/plain": [
       "None"
      ]
     },
     "metadata": {},
     "output_type": "display_data"
    }
   ],
   "source": [
    "items = pd.DataFrame(items_dict)\n",
    "purchase = pd.DataFrame(purchase_log)\n",
    "display(items)\n",
    "display(items.info())"
   ]
  },
  {
   "cell_type": "code",
   "execution_count": 8,
   "id": "6b84b8a2",
   "metadata": {
    "ExecuteTime": {
     "end_time": "2024-01-13T12:14:01.508269Z",
     "start_time": "2024-01-13T12:14:01.478752Z"
    },
    "scrolled": false
   },
   "outputs": [
    {
     "data": {
      "text/html": [
       "<div>\n",
       "<style scoped>\n",
       "    .dataframe tbody tr th:only-of-type {\n",
       "        vertical-align: middle;\n",
       "    }\n",
       "\n",
       "    .dataframe tbody tr th {\n",
       "        vertical-align: top;\n",
       "    }\n",
       "\n",
       "    .dataframe thead th {\n",
       "        text-align: right;\n",
       "    }\n",
       "</style>\n",
       "<table border=\"1\" class=\"dataframe\">\n",
       "  <thead>\n",
       "    <tr style=\"text-align: right;\">\n",
       "      <th></th>\n",
       "      <th>purchase_id</th>\n",
       "      <th>item_id</th>\n",
       "      <th>price</th>\n",
       "    </tr>\n",
       "  </thead>\n",
       "  <tbody>\n",
       "    <tr>\n",
       "      <th>0</th>\n",
       "      <td>101</td>\n",
       "      <td>417283</td>\n",
       "      <td>13900</td>\n",
       "    </tr>\n",
       "    <tr>\n",
       "      <th>1</th>\n",
       "      <td>101</td>\n",
       "      <td>849734</td>\n",
       "      <td>5330</td>\n",
       "    </tr>\n",
       "    <tr>\n",
       "      <th>2</th>\n",
       "      <td>101</td>\n",
       "      <td>132223</td>\n",
       "      <td>38200</td>\n",
       "    </tr>\n",
       "    <tr>\n",
       "      <th>3</th>\n",
       "      <td>112</td>\n",
       "      <td>573943</td>\n",
       "      <td>49990</td>\n",
       "    </tr>\n",
       "    <tr>\n",
       "      <th>4</th>\n",
       "      <td>121</td>\n",
       "      <td>19475</td>\n",
       "      <td>9890</td>\n",
       "    </tr>\n",
       "    <tr>\n",
       "      <th>5</th>\n",
       "      <td>145</td>\n",
       "      <td>3294095</td>\n",
       "      <td>33000</td>\n",
       "    </tr>\n",
       "    <tr>\n",
       "      <th>6</th>\n",
       "      <td>145</td>\n",
       "      <td>382043</td>\n",
       "      <td>67500</td>\n",
       "    </tr>\n",
       "    <tr>\n",
       "      <th>7</th>\n",
       "      <td>145</td>\n",
       "      <td>302948</td>\n",
       "      <td>34500</td>\n",
       "    </tr>\n",
       "    <tr>\n",
       "      <th>8</th>\n",
       "      <td>145</td>\n",
       "      <td>103845</td>\n",
       "      <td>89900</td>\n",
       "    </tr>\n",
       "    <tr>\n",
       "      <th>9</th>\n",
       "      <td>221</td>\n",
       "      <td>100132</td>\n",
       "      <td>11400</td>\n",
       "    </tr>\n",
       "  </tbody>\n",
       "</table>\n",
       "</div>"
      ],
      "text/plain": [
       "   purchase_id  item_id  price\n",
       "0          101   417283  13900\n",
       "1          101   849734   5330\n",
       "2          101   132223  38200\n",
       "3          112   573943  49990\n",
       "4          121    19475   9890\n",
       "5          145  3294095  33000\n",
       "6          145   382043  67500\n",
       "7          145   302948  34500\n",
       "8          145   103845  89900\n",
       "9          221   100132  11400"
      ]
     },
     "metadata": {},
     "output_type": "display_data"
    },
    {
     "name": "stdout",
     "output_type": "stream",
     "text": [
      "<class 'pandas.core.frame.DataFrame'>\n",
      "RangeIndex: 10 entries, 0 to 9\n",
      "Data columns (total 3 columns):\n",
      " #   Column       Non-Null Count  Dtype\n",
      "---  ------       --------------  -----\n",
      " 0   purchase_id  10 non-null     int64\n",
      " 1   item_id      10 non-null     int64\n",
      " 2   price        10 non-null     int64\n",
      "dtypes: int64(3)\n",
      "memory usage: 368.0 bytes\n"
     ]
    },
    {
     "data": {
      "text/plain": [
       "None"
      ]
     },
     "metadata": {},
     "output_type": "display_data"
    }
   ],
   "source": [
    "display(purchase)\n",
    "display(purchase.info())"
   ]
  },
  {
   "cell_type": "code",
   "execution_count": 9,
   "id": "b20f6e34",
   "metadata": {
    "ExecuteTime": {
     "end_time": "2024-01-13T12:23:40.751142Z",
     "start_time": "2024-01-13T12:23:40.712804Z"
    },
    "scrolled": false
   },
   "outputs": [
    {
     "data": {
      "text/html": [
       "<div>\n",
       "<style scoped>\n",
       "    .dataframe tbody tr th:only-of-type {\n",
       "        vertical-align: middle;\n",
       "    }\n",
       "\n",
       "    .dataframe tbody tr th {\n",
       "        vertical-align: top;\n",
       "    }\n",
       "\n",
       "    .dataframe thead th {\n",
       "        text-align: right;\n",
       "    }\n",
       "</style>\n",
       "<table border=\"1\" class=\"dataframe\">\n",
       "  <thead>\n",
       "    <tr style=\"text-align: right;\">\n",
       "      <th></th>\n",
       "      <th>item_id</th>\n",
       "      <th>vendor</th>\n",
       "      <th>stock_count</th>\n",
       "      <th>purchase_id</th>\n",
       "      <th>price</th>\n",
       "    </tr>\n",
       "  </thead>\n",
       "  <tbody>\n",
       "    <tr>\n",
       "      <th>0</th>\n",
       "      <td>417283</td>\n",
       "      <td>Samsung</td>\n",
       "      <td>54.0</td>\n",
       "      <td>101.0</td>\n",
       "      <td>13900.0</td>\n",
       "    </tr>\n",
       "    <tr>\n",
       "      <th>1</th>\n",
       "      <td>849734</td>\n",
       "      <td>LG</td>\n",
       "      <td>33.0</td>\n",
       "      <td>101.0</td>\n",
       "      <td>5330.0</td>\n",
       "    </tr>\n",
       "    <tr>\n",
       "      <th>2</th>\n",
       "      <td>132223</td>\n",
       "      <td>Apple</td>\n",
       "      <td>122.0</td>\n",
       "      <td>101.0</td>\n",
       "      <td>38200.0</td>\n",
       "    </tr>\n",
       "  </tbody>\n",
       "</table>\n",
       "</div>"
      ],
      "text/plain": [
       "   item_id   vendor  stock_count  purchase_id    price\n",
       "0   417283  Samsung         54.0        101.0  13900.0\n",
       "1   849734       LG         33.0        101.0   5330.0\n",
       "2   132223    Apple        122.0        101.0  38200.0"
      ]
     },
     "metadata": {},
     "output_type": "display_data"
    },
    {
     "name": "stdout",
     "output_type": "stream",
     "text": [
      "Модель с item_id = 103845 есть в статистике продаж, но не учтена на складе.\n",
      "Кол-во моделей, которые учтены на складе и имели продажи: 9\n"
     ]
    },
    {
     "data": {
      "text/plain": [
       "0      750600.0\n",
       "1      175890.0\n",
       "2     4660400.0\n",
       "3      899820.0\n",
       "4     1008780.0\n",
       "5     1419000.0\n",
       "6     5197500.0\n",
       "7     4933500.0\n",
       "8      684000.0\n",
       "9           NaN\n",
       "10          NaN\n",
       "dtype: float64"
      ]
     },
     "metadata": {},
     "output_type": "display_data"
    },
    {
     "name": "stdout",
     "output_type": "stream",
     "text": [
      "Индекс модели с максимальным значением выручки после распродажи остатков: 6\n",
      "Идентификатор модели (item_id): 382043\n",
      "Итоговая выручка по всем моделям: 19729490.0\n"
     ]
    }
   ],
   "source": [
    "# Объедините датафреймы. Определите, модель с каким item_id есть в статистике продаж, но не учтена на складе\n",
    "new_df = items.merge(purchase, on = 'item_id', how = 'outer')\n",
    "display(new_df.head(3))\n",
    "# new_df = new_df.fillna(0)\n",
    "# new_df[(new_df['stock_count'] == 0) & (new_df['purchase_id'] != 0)]['item_id']\n",
    "\n",
    "id = new_df[(new_df.stock_count.isna()) & (~new_df.purchase_id.isna())].item_id.iloc[0]\n",
    "print(f'Модель с item_id = {id} есть в статистике продаж, но не учтена на складе.')\n",
    "\n",
    "# Сформируйте датафрейм merged, в котором в результате объединения останутся модели, которые учтены на складе и имели продажи. \n",
    "# Сколько всего таких моделей?\n",
    "merged = items.merge(purchase, on = 'item_id', how = 'inner')\n",
    "print(f'Кол-во моделей, которые учтены на складе и имели продажи: {len(merged)}')   # merged.shape[0]\n",
    "\n",
    "# Посчитайте объем выручки для каждой модели, которую можно получить, распродав все остатки на складе. \n",
    "# Модель с каким item_id имеет максимальное значение выручки после распродажи остатков?\n",
    "# new_df = pd.merge(purchase, items, on = 'item_id', how = 'outer')\n",
    "# new_df = purchase.merge(items, on = 'item_id', how = 'outer')\n",
    "total_revenue = new_df['stock_count'] * new_df['price']\n",
    "display(total_revenue)\n",
    "max_revenue_ind = total_revenue[total_revenue == total_revenue.max()].index[0]\n",
    "print(f'Индекс модели с максимальным значением выручки после распродажи остатков: {max_revenue_ind}')\n",
    "print(f'Идентификатор модели (item_id): {new_df[\"item_id\"][max_revenue_ind]}')\n",
    "\n",
    "# Посчитайте итоговую выручку из прошлого задания по всем моделям\n",
    "print(f'Итоговая выручка по всем моделям: {total_revenue.sum()}')"
   ]
  },
  {
   "cell_type": "markdown",
   "id": "36bcf1ad",
   "metadata": {},
   "source": [
    "  "
   ]
  },
  {
   "cell_type": "markdown",
   "id": "127ddc9d",
   "metadata": {},
   "source": [
    "## 2. Выгрузка из вложенных файлов. Объединение выгрузок"
   ]
  },
  {
   "cell_type": "markdown",
   "id": "2165e95d",
   "metadata": {},
   "source": [
    "### ЗАДАНИЕ 1.  \n",
    "### Напишите цикл, который собирает содержимое файлов папки data_22 в единый датафрейм data. Сколько строк в датафрейме data?\n",
    "В папке data_22 содержится набор из 10 файлов формата txt. Это файл ratings.csv, разбитый на 10 частей."
   ]
  },
  {
   "cell_type": "code",
   "execution_count": 10,
   "id": "e3e3ff55",
   "metadata": {
    "ExecuteTime": {
     "end_time": "2024-01-13T12:41:48.844915Z",
     "start_time": "2024-01-13T12:41:48.827891Z"
    }
   },
   "outputs": [
    {
     "data": {
      "text/plain": [
       "['ratings_1.txt',\n",
       " 'ratings_10.txt',\n",
       " 'ratings_2.txt',\n",
       " 'ratings_3.txt',\n",
       " 'ratings_4.txt',\n",
       " 'ratings_5.txt',\n",
       " 'ratings_6.txt',\n",
       " 'ratings_7.txt',\n",
       " 'ratings_8.txt',\n",
       " 'ratings_9.txt']"
      ]
     },
     "execution_count": 10,
     "metadata": {},
     "output_type": "execute_result"
    }
   ],
   "source": [
    "files = os.listdir('data_22')\n",
    "files"
   ]
  },
  {
   "cell_type": "code",
   "execution_count": 11,
   "id": "ec181303",
   "metadata": {
    "ExecuteTime": {
     "end_time": "2024-01-13T12:41:49.543712Z",
     "start_time": "2024-01-13T12:41:49.526254Z"
    }
   },
   "outputs": [
    {
     "name": "stdout",
     "output_type": "stream",
     "text": [
      "data_22 [] ['ratings_1.txt', 'ratings_10.txt', 'ratings_2.txt', 'ratings_3.txt', 'ratings_4.txt', 'ratings_5.txt', 'ratings_6.txt', 'ratings_7.txt', 'ratings_8.txt', 'ratings_9.txt']\n"
     ]
    }
   ],
   "source": [
    "for root, dirs, files in os.walk('data_22'):\n",
    "    print(root, dirs, files)"
   ]
  },
  {
   "cell_type": "code",
   "execution_count": 12,
   "id": "42073c17",
   "metadata": {
    "ExecuteTime": {
     "end_time": "2024-01-13T12:41:50.044088Z",
     "start_time": "2024-01-13T12:41:50.034119Z"
    }
   },
   "outputs": [
    {
     "data": {
      "text/html": [
       "<div>\n",
       "<style scoped>\n",
       "    .dataframe tbody tr th:only-of-type {\n",
       "        vertical-align: middle;\n",
       "    }\n",
       "\n",
       "    .dataframe tbody tr th {\n",
       "        vertical-align: top;\n",
       "    }\n",
       "\n",
       "    .dataframe thead th {\n",
       "        text-align: right;\n",
       "    }\n",
       "</style>\n",
       "<table border=\"1\" class=\"dataframe\">\n",
       "  <thead>\n",
       "    <tr style=\"text-align: right;\">\n",
       "      <th></th>\n",
       "      <th>userId</th>\n",
       "      <th>movieId</th>\n",
       "      <th>rating</th>\n",
       "      <th>timestamp</th>\n",
       "    </tr>\n",
       "  </thead>\n",
       "  <tbody>\n",
       "  </tbody>\n",
       "</table>\n",
       "</div>"
      ],
      "text/plain": [
       "Empty DataFrame\n",
       "Columns: [userId, movieId, rating, timestamp]\n",
       "Index: []"
      ]
     },
     "metadata": {},
     "output_type": "display_data"
    }
   ],
   "source": [
    "data = pd.DataFrame(columns = ['userId', 'movieId', 'rating', 'timestamp'])\n",
    "display(data)"
   ]
  },
  {
   "cell_type": "code",
   "execution_count": 13,
   "id": "8e66cb66",
   "metadata": {
    "ExecuteTime": {
     "end_time": "2024-01-13T12:41:51.941237Z",
     "start_time": "2024-01-13T12:41:51.801478Z"
    },
    "scrolled": false
   },
   "outputs": [
    {
     "name": "stdout",
     "output_type": "stream",
     "text": [
      "ratings_1.txt\n",
      "(9999, 4)\n",
      "ratings_10.txt\n",
      "(20004, 4)\n",
      "ratings_2.txt\n",
      "(30004, 4)\n",
      "ratings_3.txt\n",
      "(40004, 4)\n",
      "ratings_4.txt\n",
      "(50004, 4)\n",
      "ratings_5.txt\n",
      "(60004, 4)\n",
      "ratings_6.txt\n",
      "(70004, 4)\n",
      "ratings_7.txt\n",
      "(80004, 4)\n",
      "ratings_8.txt\n",
      "(90004, 4)\n",
      "ratings_9.txt\n",
      "(100004, 4)\n"
     ]
    },
    {
     "data": {
      "text/plain": [
       "True"
      ]
     },
     "execution_count": 13,
     "metadata": {},
     "output_type": "execute_result"
    }
   ],
   "source": [
    "count_temp = 0\n",
    "for filename in files:\n",
    "    print(filename)\n",
    "    temp = pd.read_csv(os.path.join('data_22', filename), names = ['userId', 'movieId', 'rating', 'timestamp'])\n",
    "    count_temp += temp.shape[0]\n",
    "    \n",
    "    data = pd.concat([data, temp])  # axis = 0\n",
    "    print(data.shape)\n",
    "    \n",
    "data.shape[0] == count_temp"
   ]
  },
  {
   "cell_type": "code",
   "execution_count": 14,
   "id": "de5bb934",
   "metadata": {
    "ExecuteTime": {
     "end_time": "2024-01-13T12:41:53.517173Z",
     "start_time": "2024-01-13T12:41:53.420425Z"
    },
    "scrolled": true
   },
   "outputs": [
    {
     "data": {
      "text/html": [
       "<div>\n",
       "<style scoped>\n",
       "    .dataframe tbody tr th:only-of-type {\n",
       "        vertical-align: middle;\n",
       "    }\n",
       "\n",
       "    .dataframe tbody tr th {\n",
       "        vertical-align: top;\n",
       "    }\n",
       "\n",
       "    .dataframe thead th {\n",
       "        text-align: right;\n",
       "    }\n",
       "</style>\n",
       "<table border=\"1\" class=\"dataframe\">\n",
       "  <thead>\n",
       "    <tr style=\"text-align: right;\">\n",
       "      <th></th>\n",
       "      <th>userId</th>\n",
       "      <th>movieId</th>\n",
       "      <th>rating</th>\n",
       "      <th>timestamp</th>\n",
       "    </tr>\n",
       "  </thead>\n",
       "  <tbody>\n",
       "    <tr>\n",
       "      <th>0</th>\n",
       "      <td>1</td>\n",
       "      <td>31</td>\n",
       "      <td>2.5</td>\n",
       "      <td>1260759144</td>\n",
       "    </tr>\n",
       "    <tr>\n",
       "      <th>1</th>\n",
       "      <td>1</td>\n",
       "      <td>1029</td>\n",
       "      <td>3.0</td>\n",
       "      <td>1260759179</td>\n",
       "    </tr>\n",
       "    <tr>\n",
       "      <th>2</th>\n",
       "      <td>1</td>\n",
       "      <td>1061</td>\n",
       "      <td>3.0</td>\n",
       "      <td>1260759182</td>\n",
       "    </tr>\n",
       "    <tr>\n",
       "      <th>3</th>\n",
       "      <td>1</td>\n",
       "      <td>1129</td>\n",
       "      <td>2.0</td>\n",
       "      <td>1260759185</td>\n",
       "    </tr>\n",
       "    <tr>\n",
       "      <th>4</th>\n",
       "      <td>1</td>\n",
       "      <td>1172</td>\n",
       "      <td>4.0</td>\n",
       "      <td>1260759205</td>\n",
       "    </tr>\n",
       "  </tbody>\n",
       "</table>\n",
       "</div>"
      ],
      "text/plain": [
       "  userId movieId  rating   timestamp\n",
       "0      1      31     2.5  1260759144\n",
       "1      1    1029     3.0  1260759179\n",
       "2      1    1061     3.0  1260759182\n",
       "3      1    1129     2.0  1260759185\n",
       "4      1    1172     4.0  1260759205"
      ]
     },
     "metadata": {},
     "output_type": "display_data"
    },
    {
     "name": "stdout",
     "output_type": "stream",
     "text": [
      "(100004, 4)\n",
      "<class 'pandas.core.frame.DataFrame'>\n",
      "Int64Index: 100004 entries, 0 to 9999\n",
      "Data columns (total 4 columns):\n",
      " #   Column     Non-Null Count   Dtype  \n",
      "---  ------     --------------   -----  \n",
      " 0   userId     100004 non-null  object \n",
      " 1   movieId    100004 non-null  object \n",
      " 2   rating     100004 non-null  float64\n",
      " 3   timestamp  100004 non-null  object \n",
      "dtypes: float64(1), object(3)\n",
      "memory usage: 3.8+ MB\n"
     ]
    },
    {
     "data": {
      "text/plain": [
       "None"
      ]
     },
     "metadata": {},
     "output_type": "display_data"
    }
   ],
   "source": [
    "display(data.head())\n",
    "print(data.shape)\n",
    "display(data.info())"
   ]
  },
  {
   "cell_type": "markdown",
   "id": "04308fe1",
   "metadata": {},
   "source": [
    "   "
   ]
  },
  {
   "cell_type": "markdown",
   "id": "37f04112",
   "metadata": {},
   "source": [
    "## 3. Фильтрация данных при помощи функции query и преобразование c apply и lambda-функциями"
   ]
  },
  {
   "cell_type": "markdown",
   "id": "86fae18b",
   "metadata": {},
   "source": [
    "### ЗАДАНИЕ 1.  \n",
    "### Ответить на вопросы, применив query, apply и lambda-функцию\n",
    "В задании используется тренировочный датасет с информацией о профессиональной принадлежности людей."
   ]
  },
  {
   "cell_type": "code",
   "execution_count": 440,
   "id": "7d71d65e",
   "metadata": {
    "ExecuteTime": {
     "end_time": "2023-11-07T17:13:05.453801Z",
     "start_time": "2023-11-07T17:13:05.411787Z"
    },
    "scrolled": true
   },
   "outputs": [
    {
     "data": {
      "text/html": [
       "<div>\n",
       "<style scoped>\n",
       "    .dataframe tbody tr th:only-of-type {\n",
       "        vertical-align: middle;\n",
       "    }\n",
       "\n",
       "    .dataframe tbody tr th {\n",
       "        vertical-align: top;\n",
       "    }\n",
       "\n",
       "    .dataframe thead th {\n",
       "        text-align: right;\n",
       "    }\n",
       "</style>\n",
       "<table border=\"1\" class=\"dataframe\">\n",
       "  <thead>\n",
       "    <tr style=\"text-align: right;\">\n",
       "      <th></th>\n",
       "      <th>Name</th>\n",
       "      <th>City</th>\n",
       "      <th>Age</th>\n",
       "      <th>Profession</th>\n",
       "    </tr>\n",
       "  </thead>\n",
       "  <tbody>\n",
       "    <tr>\n",
       "      <th>0</th>\n",
       "      <td>Иванов</td>\n",
       "      <td>Москва</td>\n",
       "      <td>25</td>\n",
       "      <td>Клинер</td>\n",
       "    </tr>\n",
       "    <tr>\n",
       "      <th>1</th>\n",
       "      <td>NaN</td>\n",
       "      <td>Волгоград</td>\n",
       "      <td>31</td>\n",
       "      <td>Менеджер</td>\n",
       "    </tr>\n",
       "    <tr>\n",
       "      <th>2</th>\n",
       "      <td>Иванов</td>\n",
       "      <td>Москва</td>\n",
       "      <td>25</td>\n",
       "      <td>Клинер</td>\n",
       "    </tr>\n",
       "  </tbody>\n",
       "</table>\n",
       "</div>"
      ],
      "text/plain": [
       "     Name       City  Age Profession\n",
       "0  Иванов     Москва   25     Клинер\n",
       "1     NaN  Волгоград   31   Менеджер\n",
       "2  Иванов     Москва   25     Клинер"
      ]
     },
     "metadata": {},
     "output_type": "display_data"
    },
    {
     "name": "stdout",
     "output_type": "stream",
     "text": [
      "<class 'pandas.core.frame.DataFrame'>\n",
      "RangeIndex: 11 entries, 0 to 10\n",
      "Data columns (total 4 columns):\n",
      " #   Column      Non-Null Count  Dtype \n",
      "---  ------      --------------  ----- \n",
      " 0   Name        10 non-null     object\n",
      " 1   City        10 non-null     object\n",
      " 2   Age         11 non-null     int64 \n",
      " 3   Profession  11 non-null     object\n",
      "dtypes: int64(1), object(3)\n",
      "memory usage: 480.0+ bytes\n"
     ]
    },
    {
     "data": {
      "text/plain": [
       "None"
      ]
     },
     "metadata": {},
     "output_type": "display_data"
    },
    {
     "data": {
      "text/html": [
       "<div>\n",
       "<style scoped>\n",
       "    .dataframe tbody tr th:only-of-type {\n",
       "        vertical-align: middle;\n",
       "    }\n",
       "\n",
       "    .dataframe tbody tr th {\n",
       "        vertical-align: top;\n",
       "    }\n",
       "\n",
       "    .dataframe thead th {\n",
       "        text-align: right;\n",
       "    }\n",
       "</style>\n",
       "<table border=\"1\" class=\"dataframe\">\n",
       "  <thead>\n",
       "    <tr style=\"text-align: right;\">\n",
       "      <th></th>\n",
       "      <th>Name</th>\n",
       "      <th>City</th>\n",
       "      <th>Profession</th>\n",
       "    </tr>\n",
       "  </thead>\n",
       "  <tbody>\n",
       "    <tr>\n",
       "      <th>count</th>\n",
       "      <td>10</td>\n",
       "      <td>10</td>\n",
       "      <td>11</td>\n",
       "    </tr>\n",
       "    <tr>\n",
       "      <th>unique</th>\n",
       "      <td>9</td>\n",
       "      <td>9</td>\n",
       "      <td>4</td>\n",
       "    </tr>\n",
       "    <tr>\n",
       "      <th>top</th>\n",
       "      <td>Иванов</td>\n",
       "      <td>Москва</td>\n",
       "      <td>Рабочий</td>\n",
       "    </tr>\n",
       "    <tr>\n",
       "      <th>freq</th>\n",
       "      <td>2</td>\n",
       "      <td>2</td>\n",
       "      <td>5</td>\n",
       "    </tr>\n",
       "  </tbody>\n",
       "</table>\n",
       "</div>"
      ],
      "text/plain": [
       "          Name    City Profession\n",
       "count       10      10         11\n",
       "unique       9       9          4\n",
       "top     Иванов  Москва    Рабочий\n",
       "freq         2       2          5"
      ]
     },
     "metadata": {},
     "output_type": "display_data"
    },
    {
     "name": "stdout",
     "output_type": "stream",
     "text": [
      "Кол-во пропущенных значений: \n",
      "Name    1\n",
      "City    1\n",
      "dtype: int64\n",
      "\n",
      "Кол-во уникальных значений: \n",
      "Name           9\n",
      "City           9\n",
      "Age           10\n",
      "Profession     4\n",
      "dtype: int64\n"
     ]
    }
   ],
   "source": [
    "# Загрузим данные и посмотрим на них детальнее\n",
    "sample = pd.read_csv('sample.csv')\n",
    "display(sample.head(3))\n",
    "display(sample.info())\n",
    "display(sample.describe(include = ['object']))\n",
    "print(f'Кол-во пропущенных значений: \\n{sample.isna().sum()[sample.isna().sum() > 0]}')\n",
    "print(f'\\nКол-во уникальных значений: \\n{sample.nunique()}')"
   ]
  },
  {
   "cell_type": "markdown",
   "id": "2c10039d",
   "metadata": {},
   "source": [
    "В датасете sample:  \n",
    "- Есть пропущенные значения  \n",
    "- Прочерк вместо фамилии  \n",
    "- Есть фамилии, написанные латиницей"
   ]
  },
  {
   "cell_type": "code",
   "execution_count": 441,
   "id": "7742d7a6",
   "metadata": {
    "ExecuteTime": {
     "end_time": "2023-11-07T17:13:06.118077Z",
     "start_time": "2023-11-07T17:13:06.070176Z"
    },
    "scrolled": false
   },
   "outputs": [
    {
     "data": {
      "text/html": [
       "<div>\n",
       "<style scoped>\n",
       "    .dataframe tbody tr th:only-of-type {\n",
       "        vertical-align: middle;\n",
       "    }\n",
       "\n",
       "    .dataframe tbody tr th {\n",
       "        vertical-align: top;\n",
       "    }\n",
       "\n",
       "    .dataframe thead th {\n",
       "        text-align: right;\n",
       "    }\n",
       "</style>\n",
       "<table border=\"1\" class=\"dataframe\">\n",
       "  <thead>\n",
       "    <tr style=\"text-align: right;\">\n",
       "      <th></th>\n",
       "      <th>name</th>\n",
       "      <th>city</th>\n",
       "      <th>age</th>\n",
       "      <th>profession</th>\n",
       "    </tr>\n",
       "  </thead>\n",
       "  <tbody>\n",
       "    <tr>\n",
       "      <th>5</th>\n",
       "      <td>Кузнецов</td>\n",
       "      <td>Сочи</td>\n",
       "      <td>19</td>\n",
       "      <td>Рабочий</td>\n",
       "    </tr>\n",
       "    <tr>\n",
       "      <th>7</th>\n",
       "      <td>Котлеревский</td>\n",
       "      <td>Йошкар-Ола</td>\n",
       "      <td>32</td>\n",
       "      <td>Рабочий</td>\n",
       "    </tr>\n",
       "  </tbody>\n",
       "</table>\n",
       "</div>"
      ],
      "text/plain": [
       "           name        city  age profession\n",
       "5      Кузнецов        Сочи   19    Рабочий\n",
       "7  Котлеревский  Йошкар-Ола   32    Рабочий"
      ]
     },
     "metadata": {},
     "output_type": "display_data"
    },
    {
     "data": {
      "text/html": [
       "<div>\n",
       "<style scoped>\n",
       "    .dataframe tbody tr th:only-of-type {\n",
       "        vertical-align: middle;\n",
       "    }\n",
       "\n",
       "    .dataframe tbody tr th {\n",
       "        vertical-align: top;\n",
       "    }\n",
       "\n",
       "    .dataframe thead th {\n",
       "        text-align: right;\n",
       "    }\n",
       "</style>\n",
       "<table border=\"1\" class=\"dataframe\">\n",
       "  <thead>\n",
       "    <tr style=\"text-align: right;\">\n",
       "      <th></th>\n",
       "      <th>name</th>\n",
       "      <th>city</th>\n",
       "      <th>age</th>\n",
       "      <th>profession</th>\n",
       "    </tr>\n",
       "  </thead>\n",
       "  <tbody>\n",
       "    <tr>\n",
       "      <th>0</th>\n",
       "      <td>Иванов</td>\n",
       "      <td>москва</td>\n",
       "      <td>25</td>\n",
       "      <td>2</td>\n",
       "    </tr>\n",
       "    <tr>\n",
       "      <th>1</th>\n",
       "      <td>NaN</td>\n",
       "      <td>волгоград</td>\n",
       "      <td>31</td>\n",
       "      <td>1</td>\n",
       "    </tr>\n",
       "    <tr>\n",
       "      <th>2</th>\n",
       "      <td>Иванов</td>\n",
       "      <td>москва</td>\n",
       "      <td>25</td>\n",
       "      <td>2</td>\n",
       "    </tr>\n",
       "  </tbody>\n",
       "</table>\n",
       "</div>"
      ],
      "text/plain": [
       "     name       city  age  profession\n",
       "0  Иванов     москва   25           2\n",
       "1     NaN  волгоград   31           1\n",
       "2  Иванов     москва   25           2"
      ]
     },
     "metadata": {},
     "output_type": "display_data"
    },
    {
     "data": {
      "text/html": [
       "<div>\n",
       "<style scoped>\n",
       "    .dataframe tbody tr th:only-of-type {\n",
       "        vertical-align: middle;\n",
       "    }\n",
       "\n",
       "    .dataframe tbody tr th {\n",
       "        vertical-align: top;\n",
       "    }\n",
       "\n",
       "    .dataframe thead th {\n",
       "        text-align: right;\n",
       "    }\n",
       "</style>\n",
       "<table border=\"1\" class=\"dataframe\">\n",
       "  <thead>\n",
       "    <tr style=\"text-align: right;\">\n",
       "      <th></th>\n",
       "      <th>name</th>\n",
       "      <th>city</th>\n",
       "      <th>age</th>\n",
       "      <th>profession</th>\n",
       "      <th>age_category</th>\n",
       "    </tr>\n",
       "  </thead>\n",
       "  <tbody>\n",
       "    <tr>\n",
       "      <th>0</th>\n",
       "      <td>Иванов</td>\n",
       "      <td>москва</td>\n",
       "      <td>25</td>\n",
       "      <td>2</td>\n",
       "      <td>средний</td>\n",
       "    </tr>\n",
       "    <tr>\n",
       "      <th>1</th>\n",
       "      <td>NaN</td>\n",
       "      <td>волгоград</td>\n",
       "      <td>31</td>\n",
       "      <td>1</td>\n",
       "      <td>средний</td>\n",
       "    </tr>\n",
       "    <tr>\n",
       "      <th>2</th>\n",
       "      <td>Иванов</td>\n",
       "      <td>москва</td>\n",
       "      <td>25</td>\n",
       "      <td>2</td>\n",
       "      <td>средний</td>\n",
       "    </tr>\n",
       "  </tbody>\n",
       "</table>\n",
       "</div>"
      ],
      "text/plain": [
       "     name       city  age  profession age_category\n",
       "0  Иванов     москва   25           2      средний\n",
       "1     NaN  волгоград   31           1      средний\n",
       "2  Иванов     москва   25           2      средний"
      ]
     },
     "metadata": {},
     "output_type": "display_data"
    }
   ],
   "source": [
    "# Приведите названия колонок к нижнему регистру для удобства обращения. Выведите информацию о людях в возрасте меньше 30 лет\n",
    "sample.columns = sample.columns.str.lower()\n",
    "sample.query('age < 30')   # sample[sample['age'] < 30]\n",
    "\n",
    "# Выведите информацию о людях, проживающих в городах: Сочи, Рига\n",
    "# sample.query('city in [\"Рига\", \"Сочи\"]')\n",
    "# sample[(sample.city == 'Сочи') | (sample.city == 'Рига')]\n",
    "sample[(sample.city.str.contains('Со', na = False)) | (sample.city.str.contains('Ри', na = False))]\n",
    "\n",
    "# Найдите всех людей, фамилии которых начинаются на букву \"К\"\n",
    "# sample.query('name.str.contains(\"К\", na = False)')\n",
    "k_surnames = sample[sample['name'].str.match('К', na = False)]\n",
    "display(k_surnames)\n",
    "\n",
    "# Найдите всех людей, фамилии которых начинаются на буквы, отличные от \"К\"\n",
    "# sample.query('~ name.str.contains(\"K\", na = False)')\n",
    "sample[~ sample['name'].str.match('К', na = False)]\n",
    "\n",
    "# Найдите записи, где в городах есть / нет буквы «о»\n",
    "# sample.query('city.str.contains(\"о\", na = False)')\n",
    "sample[sample.city.str.contains('о', na = False)]\n",
    "sample[~ sample.city.str.contains('о', na = False)]\n",
    "\n",
    "# Замените все буквы в поле City на строчные\n",
    "# sample.city.apply(lambda x: np.nan if  pd.isna(x) else x.lower())\n",
    "sample.city = sample.city.apply(lambda x: x.lower() if not pd.isna(x) else np.nan)\n",
    "\n",
    "# Напишите функцию profession_code, которая на вход получает строку, а на выход возвращает:\n",
    "# 0 — если на вход поступила строка \"Рабочий\", 1 — если на вход поступила строка \"Менеджер\", 2 — в любом другом случае\n",
    "# Замените поле profession\n",
    "def profession_code(x):\n",
    "    return 0 if x == \"Рабочий\" else 1 if x == \"Менеджер\" else 2\n",
    "\n",
    "sample['profession'] = sample['profession'].apply(profession_code)  # sample.profession.apply(lambda x : profession_code(x))\n",
    "display(sample.head(3))\n",
    "\n",
    "# Напишите функцию age_category, которая на вход получает число, а возвращает:\n",
    "# \"молодой\" — если возраст меньше 23, \"средний\" — если возраст от 23 до 35, \"зрелый\" — если возраст больше 35\n",
    "# Cоздайте новую колонку в sample под названием 'age_category'\n",
    "def age_category(x):\n",
    "    return \"молодой\" if x < 23 else \"средний\" if 23 <= x <= 35 else \"зрелый\"\n",
    "sample['age_category'] = sample.age.apply(age_category)\n",
    "display(sample.head(3))"
   ]
  },
  {
   "cell_type": "markdown",
   "id": "f0c2221a",
   "metadata": {},
   "source": [
    "   "
   ]
  },
  {
   "cell_type": "markdown",
   "id": "8fa02eda",
   "metadata": {},
   "source": [
    "## 4. Начальная обработка и извлечение полезной информации из датасета"
   ]
  },
  {
   "cell_type": "markdown",
   "id": "53fe0e80",
   "metadata": {},
   "source": [
    "### ЗАДАНИЕ 1.  \n",
    "### Ответить на вопросы, провести некоторые этапы предобработки данных\n",
    "В задании используется два датасета c информацией о посещении букмекерской конторы  "
   ]
  },
  {
   "cell_type": "markdown",
   "id": "9471f2f0",
   "metadata": {},
   "source": [
    "**1. Таблица 'log.csv' содержит столбцы:**  \n",
    "  - Идентификатор пользователя  \n",
    "  - Время посещения  \n",
    "  - Дата посещения  \n",
    "  - Размер ставки  \n",
    "  - Размер выигрыша  \n",
    "\n",
    "**2. Таблица 'users.csv' содержит столбцы:**\n",
    "  - Идентификатор пользователя\n",
    "  - Адрес электронной почты\n",
    "  - Город"
   ]
  },
  {
   "cell_type": "markdown",
   "id": "c90ee254",
   "metadata": {},
   "source": [
    "**Проведем начальную предобработку данных и ответим на ряд вопросов:**  \n",
    "- Сколько раз клиенту нужно прийти в букмекерскую контору, чтобы сделать ставку?  \n",
    "- Каков средний выигрыш в процентах?  \n",
    "- Каков баланс по каждому пользователю?  \n",
    "- Какие города самые выгодные?  \n",
    "- В каких городах самая высокая ставка?  \n",
    "- Сколько времени проходит от первого посещения клиентом сайта до первой ставки?"
   ]
  },
  {
   "cell_type": "code",
   "execution_count": 2,
   "id": "f860e598",
   "metadata": {
    "ExecuteTime": {
     "end_time": "2024-01-14T13:14:51.158410Z",
     "start_time": "2024-01-14T13:14:51.121734Z"
    }
   },
   "outputs": [
    {
     "data": {
      "text/html": [
       "<div>\n",
       "<style scoped>\n",
       "    .dataframe tbody tr th:only-of-type {\n",
       "        vertical-align: middle;\n",
       "    }\n",
       "\n",
       "    .dataframe tbody tr th {\n",
       "        vertical-align: top;\n",
       "    }\n",
       "\n",
       "    .dataframe thead th {\n",
       "        text-align: right;\n",
       "    }\n",
       "</style>\n",
       "<table border=\"1\" class=\"dataframe\">\n",
       "  <thead>\n",
       "    <tr style=\"text-align: right;\">\n",
       "      <th></th>\n",
       "      <th>0</th>\n",
       "      <th>1</th>\n",
       "      <th>2</th>\n",
       "      <th>3</th>\n",
       "    </tr>\n",
       "  </thead>\n",
       "  <tbody>\n",
       "    <tr>\n",
       "      <th>0</th>\n",
       "      <td>Запись пользователя № - user_919</td>\n",
       "      <td>[2019-01-01 14:06:51</td>\n",
       "      <td>NaN</td>\n",
       "      <td>NaN</td>\n",
       "    </tr>\n",
       "    <tr>\n",
       "      <th>1</th>\n",
       "      <td>Запись пользователя № - user_973</td>\n",
       "      <td>[2019-01-01 14:51:16</td>\n",
       "      <td>NaN</td>\n",
       "      <td>NaN</td>\n",
       "    </tr>\n",
       "    <tr>\n",
       "      <th>2</th>\n",
       "      <td>Запись пользователя № - user_903</td>\n",
       "      <td>[2019-01-01 16:31:16</td>\n",
       "      <td>NaN</td>\n",
       "      <td>NaN</td>\n",
       "    </tr>\n",
       "  </tbody>\n",
       "</table>\n",
       "</div>"
      ],
      "text/plain": [
       "                                  0                     1   2   3\n",
       "0  Запись пользователя № - user_919  [2019-01-01 14:06:51 NaN NaN\n",
       "1  Запись пользователя № - user_973  [2019-01-01 14:51:16 NaN NaN\n",
       "2  Запись пользователя № - user_903  [2019-01-01 16:31:16 NaN NaN"
      ]
     },
     "metadata": {},
     "output_type": "display_data"
    },
    {
     "data": {
      "text/html": [
       "<div>\n",
       "<style scoped>\n",
       "    .dataframe tbody tr th:only-of-type {\n",
       "        vertical-align: middle;\n",
       "    }\n",
       "\n",
       "    .dataframe tbody tr th {\n",
       "        vertical-align: top;\n",
       "    }\n",
       "\n",
       "    .dataframe thead th {\n",
       "        text-align: right;\n",
       "    }\n",
       "</style>\n",
       "<table border=\"1\" class=\"dataframe\">\n",
       "  <thead>\n",
       "    <tr style=\"text-align: right;\">\n",
       "      <th></th>\n",
       "      <th>Юзверь</th>\n",
       "      <th>мейл</th>\n",
       "      <th>Гео</th>\n",
       "    </tr>\n",
       "  </thead>\n",
       "  <tbody>\n",
       "    <tr>\n",
       "      <th>0</th>\n",
       "      <td>User_943</td>\n",
       "      <td>Accumanst@gmail.com</td>\n",
       "      <td>Ижевск</td>\n",
       "    </tr>\n",
       "    <tr>\n",
       "      <th>1</th>\n",
       "      <td>User_908</td>\n",
       "      <td>Advismowr@mail.ru</td>\n",
       "      <td>Ижевск</td>\n",
       "    </tr>\n",
       "    <tr>\n",
       "      <th>2</th>\n",
       "      <td>User_962</td>\n",
       "      <td>Anachso@ukr.net</td>\n",
       "      <td>Краснодар</td>\n",
       "    </tr>\n",
       "  </tbody>\n",
       "</table>\n",
       "</div>"
      ],
      "text/plain": [
       "     Юзверь                 мейл        Гео\n",
       "0  User_943  Accumanst@gmail.com     Ижевск\n",
       "1  User_908    Advismowr@mail.ru     Ижевск\n",
       "2  User_962      Anachso@ukr.net  Краснодар"
      ]
     },
     "metadata": {},
     "output_type": "display_data"
    }
   ],
   "source": [
    "# Загрузим данные, используя дополнительные параметры \n",
    "logs = pd.read_csv('log.csv', header = None)\n",
    "users = pd.read_csv('users.csv', encoding = 'KOI8-R', sep = '\\t')\n",
    "display(logs.head(3))\n",
    "display(users.head(3))"
   ]
  },
  {
   "cell_type": "code",
   "execution_count": 3,
   "id": "5e49c81e",
   "metadata": {
    "ExecuteTime": {
     "end_time": "2024-01-14T13:14:53.202622Z",
     "start_time": "2024-01-14T13:14:53.127822Z"
    }
   },
   "outputs": [
    {
     "data": {
      "text/html": [
       "<div>\n",
       "<style scoped>\n",
       "    .dataframe tbody tr th:only-of-type {\n",
       "        vertical-align: middle;\n",
       "    }\n",
       "\n",
       "    .dataframe tbody tr th {\n",
       "        vertical-align: top;\n",
       "    }\n",
       "\n",
       "    .dataframe thead th {\n",
       "        text-align: right;\n",
       "    }\n",
       "</style>\n",
       "<table border=\"1\" class=\"dataframe\">\n",
       "  <thead>\n",
       "    <tr style=\"text-align: right;\">\n",
       "      <th></th>\n",
       "      <th>user_id</th>\n",
       "      <th>time</th>\n",
       "      <th>bet</th>\n",
       "      <th>win</th>\n",
       "    </tr>\n",
       "  </thead>\n",
       "  <tbody>\n",
       "    <tr>\n",
       "      <th>0</th>\n",
       "      <td>Запись пользователя № - user_919</td>\n",
       "      <td>[2019-01-01 14:06:51</td>\n",
       "      <td>NaN</td>\n",
       "      <td>NaN</td>\n",
       "    </tr>\n",
       "    <tr>\n",
       "      <th>1</th>\n",
       "      <td>Запись пользователя № - user_973</td>\n",
       "      <td>[2019-01-01 14:51:16</td>\n",
       "      <td>NaN</td>\n",
       "      <td>NaN</td>\n",
       "    </tr>\n",
       "    <tr>\n",
       "      <th>2</th>\n",
       "      <td>Запись пользователя № - user_903</td>\n",
       "      <td>[2019-01-01 16:31:16</td>\n",
       "      <td>NaN</td>\n",
       "      <td>NaN</td>\n",
       "    </tr>\n",
       "    <tr>\n",
       "      <th>3</th>\n",
       "      <td>Запись пользователя № - user_954</td>\n",
       "      <td>[2019-01-01 17:17:51</td>\n",
       "      <td>NaN</td>\n",
       "      <td>NaN</td>\n",
       "    </tr>\n",
       "    <tr>\n",
       "      <th>4</th>\n",
       "      <td>Запись пользователя № - user_954</td>\n",
       "      <td>[2019-01-01 21:31:18</td>\n",
       "      <td>NaN</td>\n",
       "      <td>NaN</td>\n",
       "    </tr>\n",
       "    <tr>\n",
       "      <th>...</th>\n",
       "      <td>...</td>\n",
       "      <td>...</td>\n",
       "      <td>...</td>\n",
       "      <td>...</td>\n",
       "    </tr>\n",
       "    <tr>\n",
       "      <th>995</th>\n",
       "      <td>Запись пользователя № - user_984</td>\n",
       "      <td>[2019-04-20 9:59:58</td>\n",
       "      <td>9754.0</td>\n",
       "      <td>NaN</td>\n",
       "    </tr>\n",
       "    <tr>\n",
       "      <th>996</th>\n",
       "      <td>#error</td>\n",
       "      <td>NaN</td>\n",
       "      <td>10054.0</td>\n",
       "      <td>29265.0</td>\n",
       "    </tr>\n",
       "    <tr>\n",
       "      <th>997</th>\n",
       "      <td>#error</td>\n",
       "      <td>NaN</td>\n",
       "      <td>10454.0</td>\n",
       "      <td>NaN</td>\n",
       "    </tr>\n",
       "    <tr>\n",
       "      <th>998</th>\n",
       "      <td>#error</td>\n",
       "      <td>NaN</td>\n",
       "      <td>1000.0</td>\n",
       "      <td>NaN</td>\n",
       "    </tr>\n",
       "    <tr>\n",
       "      <th>999</th>\n",
       "      <td>#error</td>\n",
       "      <td>NaN</td>\n",
       "      <td>10754.0</td>\n",
       "      <td>NaN</td>\n",
       "    </tr>\n",
       "  </tbody>\n",
       "</table>\n",
       "<p>1000 rows × 4 columns</p>\n",
       "</div>"
      ],
      "text/plain": [
       "                              user_id                  time      bet      win\n",
       "0    Запись пользователя № - user_919  [2019-01-01 14:06:51      NaN      NaN\n",
       "1    Запись пользователя № - user_973  [2019-01-01 14:51:16      NaN      NaN\n",
       "2    Запись пользователя № - user_903  [2019-01-01 16:31:16      NaN      NaN\n",
       "3    Запись пользователя № - user_954  [2019-01-01 17:17:51      NaN      NaN\n",
       "4    Запись пользователя № - user_954  [2019-01-01 21:31:18      NaN      NaN\n",
       "..                                ...                   ...      ...      ...\n",
       "995  Запись пользователя № - user_984   [2019-04-20 9:59:58   9754.0      NaN\n",
       "996                            #error                   NaN  10054.0  29265.0\n",
       "997                            #error                   NaN  10454.0      NaN\n",
       "998                            #error                   NaN   1000.0      NaN\n",
       "999                            #error                   NaN  10754.0      NaN\n",
       "\n",
       "[1000 rows x 4 columns]"
      ]
     },
     "metadata": {},
     "output_type": "display_data"
    },
    {
     "name": "stdout",
     "output_type": "stream",
     "text": [
      "<class 'pandas.core.frame.DataFrame'>\n",
      "RangeIndex: 1000 entries, 0 to 999\n",
      "Data columns (total 4 columns):\n",
      " #   Column   Non-Null Count  Dtype  \n",
      "---  ------   --------------  -----  \n",
      " 0   user_id  1000 non-null   object \n",
      " 1   time     985 non-null    object \n",
      " 2   bet      485 non-null    float64\n",
      " 3   win      138 non-null    float64\n",
      "dtypes: float64(2), object(2)\n",
      "memory usage: 31.4+ KB\n"
     ]
    },
    {
     "data": {
      "text/plain": [
       "None"
      ]
     },
     "metadata": {},
     "output_type": "display_data"
    },
    {
     "name": "stdout",
     "output_type": "stream",
     "text": [
      "\n",
      "Размер датасета: (1000, 4)\n",
      "\n",
      "Статистическая информация:\n"
     ]
    },
    {
     "data": {
      "text/html": [
       "<div>\n",
       "<style scoped>\n",
       "    .dataframe tbody tr th:only-of-type {\n",
       "        vertical-align: middle;\n",
       "    }\n",
       "\n",
       "    .dataframe tbody tr th {\n",
       "        vertical-align: top;\n",
       "    }\n",
       "\n",
       "    .dataframe thead th {\n",
       "        text-align: right;\n",
       "    }\n",
       "</style>\n",
       "<table border=\"1\" class=\"dataframe\">\n",
       "  <thead>\n",
       "    <tr style=\"text-align: right;\">\n",
       "      <th></th>\n",
       "      <th>bet</th>\n",
       "      <th>win</th>\n",
       "    </tr>\n",
       "  </thead>\n",
       "  <tbody>\n",
       "    <tr>\n",
       "      <th>count</th>\n",
       "      <td>4.850000e+02</td>\n",
       "      <td>1.380000e+02</td>\n",
       "    </tr>\n",
       "    <tr>\n",
       "      <th>mean</th>\n",
       "      <td>6.785738e+03</td>\n",
       "      <td>9.562102e+04</td>\n",
       "    </tr>\n",
       "    <tr>\n",
       "      <th>std</th>\n",
       "      <td>7.720292e+04</td>\n",
       "      <td>8.554669e+05</td>\n",
       "    </tr>\n",
       "    <tr>\n",
       "      <th>min</th>\n",
       "      <td>1.000000e+02</td>\n",
       "      <td>3.691000e+03</td>\n",
       "    </tr>\n",
       "    <tr>\n",
       "      <th>25%</th>\n",
       "      <td>3.000000e+02</td>\n",
       "      <td>5.096250e+03</td>\n",
       "    </tr>\n",
       "    <tr>\n",
       "      <th>50%</th>\n",
       "      <td>6.000000e+02</td>\n",
       "      <td>5.935000e+03</td>\n",
       "    </tr>\n",
       "    <tr>\n",
       "      <th>75%</th>\n",
       "      <td>9.000000e+02</td>\n",
       "      <td>6.978750e+03</td>\n",
       "    </tr>\n",
       "    <tr>\n",
       "      <th>max</th>\n",
       "      <td>1.678321e+06</td>\n",
       "      <td>9.876543e+06</td>\n",
       "    </tr>\n",
       "  </tbody>\n",
       "</table>\n",
       "</div>"
      ],
      "text/plain": [
       "                bet           win\n",
       "count  4.850000e+02  1.380000e+02\n",
       "mean   6.785738e+03  9.562102e+04\n",
       "std    7.720292e+04  8.554669e+05\n",
       "min    1.000000e+02  3.691000e+03\n",
       "25%    3.000000e+02  5.096250e+03\n",
       "50%    6.000000e+02  5.935000e+03\n",
       "75%    9.000000e+02  6.978750e+03\n",
       "max    1.678321e+06  9.876543e+06"
      ]
     },
     "metadata": {},
     "output_type": "display_data"
    },
    {
     "data": {
      "text/html": [
       "<div>\n",
       "<style scoped>\n",
       "    .dataframe tbody tr th:only-of-type {\n",
       "        vertical-align: middle;\n",
       "    }\n",
       "\n",
       "    .dataframe tbody tr th {\n",
       "        vertical-align: top;\n",
       "    }\n",
       "\n",
       "    .dataframe thead th {\n",
       "        text-align: right;\n",
       "    }\n",
       "</style>\n",
       "<table border=\"1\" class=\"dataframe\">\n",
       "  <thead>\n",
       "    <tr style=\"text-align: right;\">\n",
       "      <th></th>\n",
       "      <th>user_id</th>\n",
       "      <th>time</th>\n",
       "    </tr>\n",
       "  </thead>\n",
       "  <tbody>\n",
       "    <tr>\n",
       "      <th>count</th>\n",
       "      <td>1000</td>\n",
       "      <td>985</td>\n",
       "    </tr>\n",
       "    <tr>\n",
       "      <th>unique</th>\n",
       "      <td>102</td>\n",
       "      <td>984</td>\n",
       "    </tr>\n",
       "    <tr>\n",
       "      <th>top</th>\n",
       "      <td>Запись пользователя № - user_966</td>\n",
       "      <td>[2019-03-04 21:03:54</td>\n",
       "    </tr>\n",
       "    <tr>\n",
       "      <th>freq</th>\n",
       "      <td>18</td>\n",
       "      <td>2</td>\n",
       "    </tr>\n",
       "  </tbody>\n",
       "</table>\n",
       "</div>"
      ],
      "text/plain": [
       "                                 user_id                  time\n",
       "count                               1000                   985\n",
       "unique                               102                   984\n",
       "top     Запись пользователя № - user_966  [2019-03-04 21:03:54\n",
       "freq                                  18                     2"
      ]
     },
     "metadata": {},
     "output_type": "display_data"
    },
    {
     "name": "stdout",
     "output_type": "stream",
     "text": [
      "\n",
      "Количество пропущенных значений:\n",
      "user_id      0\n",
      "time        15\n",
      "bet        515\n",
      "win        862\n",
      "dtype: int64\n",
      "\n",
      "Количество уникальных значений:\n",
      "user_id    102\n",
      "time       984\n",
      "bet         36\n",
      "win        136\n",
      "dtype: int64\n"
     ]
    }
   ],
   "source": [
    "# Переименуем колонки и посмотрим детальнее на данные\n",
    "logs.columns = ['user_id', 'time', 'bet', 'win']\n",
    "users.columns = ['user_id', 'email', 'geo']\n",
    "\n",
    "display(logs)\n",
    "display(logs.info())\n",
    "print(f'\\nРазмер датасета: {logs.shape}')\n",
    "print('\\nСтатистическая информация:')\n",
    "display(logs.describe())\n",
    "display(logs.describe(include = 'object'))\n",
    "print(f'\\nКоличество пропущенных значений:\\n{logs.isna().sum()}')\n",
    "print(f'\\nКоличество уникальных значений:\\n{logs.nunique()}')"
   ]
  },
  {
   "cell_type": "code",
   "execution_count": 4,
   "id": "dfef9fe8",
   "metadata": {
    "ExecuteTime": {
     "end_time": "2024-01-14T13:14:54.808346Z",
     "start_time": "2024-01-14T13:14:54.765375Z"
    },
    "scrolled": false
   },
   "outputs": [
    {
     "data": {
      "text/html": [
       "<div>\n",
       "<style scoped>\n",
       "    .dataframe tbody tr th:only-of-type {\n",
       "        vertical-align: middle;\n",
       "    }\n",
       "\n",
       "    .dataframe tbody tr th {\n",
       "        vertical-align: top;\n",
       "    }\n",
       "\n",
       "    .dataframe thead th {\n",
       "        text-align: right;\n",
       "    }\n",
       "</style>\n",
       "<table border=\"1\" class=\"dataframe\">\n",
       "  <thead>\n",
       "    <tr style=\"text-align: right;\">\n",
       "      <th></th>\n",
       "      <th>user_id</th>\n",
       "      <th>email</th>\n",
       "      <th>geo</th>\n",
       "    </tr>\n",
       "  </thead>\n",
       "  <tbody>\n",
       "    <tr>\n",
       "      <th>0</th>\n",
       "      <td>User_943</td>\n",
       "      <td>Accumanst@gmail.com</td>\n",
       "      <td>Ижевск</td>\n",
       "    </tr>\n",
       "    <tr>\n",
       "      <th>1</th>\n",
       "      <td>User_908</td>\n",
       "      <td>Advismowr@mail.ru</td>\n",
       "      <td>Ижевск</td>\n",
       "    </tr>\n",
       "    <tr>\n",
       "      <th>2</th>\n",
       "      <td>User_962</td>\n",
       "      <td>Anachso@ukr.net</td>\n",
       "      <td>Краснодар</td>\n",
       "    </tr>\n",
       "    <tr>\n",
       "      <th>3</th>\n",
       "      <td>User_973</td>\n",
       "      <td>Antecia@inbox.ru</td>\n",
       "      <td>Пермь</td>\n",
       "    </tr>\n",
       "    <tr>\n",
       "      <th>4</th>\n",
       "      <td>User_902</td>\n",
       "      <td>Balliaryva@ukr.net</td>\n",
       "      <td>NaN</td>\n",
       "    </tr>\n",
       "    <tr>\n",
       "      <th>...</th>\n",
       "      <td>...</td>\n",
       "      <td>...</td>\n",
       "      <td>...</td>\n",
       "    </tr>\n",
       "    <tr>\n",
       "      <th>95</th>\n",
       "      <td>User_959</td>\n",
       "      <td>UpdatesCurious@yahoo.com</td>\n",
       "      <td>Тюмень</td>\n",
       "    </tr>\n",
       "    <tr>\n",
       "      <th>96</th>\n",
       "      <td>User_901</td>\n",
       "      <td>V2artierso@mail.ru</td>\n",
       "      <td>Арзангелтск</td>\n",
       "    </tr>\n",
       "    <tr>\n",
       "      <th>97</th>\n",
       "      <td>User_970</td>\n",
       "      <td>Vashoterlo@bk.ru</td>\n",
       "      <td>Воронеж</td>\n",
       "    </tr>\n",
       "    <tr>\n",
       "      <th>98</th>\n",
       "      <td>User_965</td>\n",
       "      <td>Visuareda@yahoo.com</td>\n",
       "      <td>Воронеж</td>\n",
       "    </tr>\n",
       "    <tr>\n",
       "      <th>99</th>\n",
       "      <td>User_921</td>\n",
       "      <td>Aavast@ya.ru</td>\n",
       "      <td>Ижевск</td>\n",
       "    </tr>\n",
       "  </tbody>\n",
       "</table>\n",
       "<p>100 rows × 3 columns</p>\n",
       "</div>"
      ],
      "text/plain": [
       "     user_id                     email          geo\n",
       "0   User_943       Accumanst@gmail.com       Ижевск\n",
       "1   User_908         Advismowr@mail.ru       Ижевск\n",
       "2   User_962           Anachso@ukr.net    Краснодар\n",
       "3   User_973          Antecia@inbox.ru        Пермь\n",
       "4   User_902        Balliaryva@ukr.net          NaN\n",
       "..       ...                       ...          ...\n",
       "95  User_959  UpdatesCurious@yahoo.com       Тюмень\n",
       "96  User_901        V2artierso@mail.ru  Арзангелтск\n",
       "97  User_970          Vashoterlo@bk.ru      Воронеж\n",
       "98  User_965       Visuareda@yahoo.com      Воронеж\n",
       "99  User_921              Aavast@ya.ru       Ижевск\n",
       "\n",
       "[100 rows x 3 columns]"
      ]
     },
     "metadata": {},
     "output_type": "display_data"
    },
    {
     "name": "stdout",
     "output_type": "stream",
     "text": [
      "<class 'pandas.core.frame.DataFrame'>\n",
      "RangeIndex: 100 entries, 0 to 99\n",
      "Data columns (total 3 columns):\n",
      " #   Column   Non-Null Count  Dtype \n",
      "---  ------   --------------  ----- \n",
      " 0   user_id  100 non-null    object\n",
      " 1   email    99 non-null     object\n",
      " 2   geo      97 non-null     object\n",
      "dtypes: object(3)\n",
      "memory usage: 2.5+ KB\n"
     ]
    },
    {
     "data": {
      "text/plain": [
       "None"
      ]
     },
     "metadata": {},
     "output_type": "display_data"
    },
    {
     "name": "stdout",
     "output_type": "stream",
     "text": [
      "\n",
      "Размер датасета: (100, 3)\n",
      "\n",
      "Статистическая информация:\n"
     ]
    },
    {
     "data": {
      "text/html": [
       "<div>\n",
       "<style scoped>\n",
       "    .dataframe tbody tr th:only-of-type {\n",
       "        vertical-align: middle;\n",
       "    }\n",
       "\n",
       "    .dataframe tbody tr th {\n",
       "        vertical-align: top;\n",
       "    }\n",
       "\n",
       "    .dataframe thead th {\n",
       "        text-align: right;\n",
       "    }\n",
       "</style>\n",
       "<table border=\"1\" class=\"dataframe\">\n",
       "  <thead>\n",
       "    <tr style=\"text-align: right;\">\n",
       "      <th></th>\n",
       "      <th>user_id</th>\n",
       "      <th>email</th>\n",
       "      <th>geo</th>\n",
       "    </tr>\n",
       "  </thead>\n",
       "  <tbody>\n",
       "    <tr>\n",
       "      <th>count</th>\n",
       "      <td>100</td>\n",
       "      <td>99</td>\n",
       "      <td>97</td>\n",
       "    </tr>\n",
       "    <tr>\n",
       "      <th>unique</th>\n",
       "      <td>100</td>\n",
       "      <td>99</td>\n",
       "      <td>14</td>\n",
       "    </tr>\n",
       "    <tr>\n",
       "      <th>top</th>\n",
       "      <td>User_943</td>\n",
       "      <td>Accumanst@gmail.com</td>\n",
       "      <td>Санкт-Петербург</td>\n",
       "    </tr>\n",
       "    <tr>\n",
       "      <th>freq</th>\n",
       "      <td>1</td>\n",
       "      <td>1</td>\n",
       "      <td>10</td>\n",
       "    </tr>\n",
       "  </tbody>\n",
       "</table>\n",
       "</div>"
      ],
      "text/plain": [
       "         user_id                email              geo\n",
       "count        100                   99               97\n",
       "unique       100                   99               14\n",
       "top     User_943  Accumanst@gmail.com  Санкт-Петербург\n",
       "freq           1                    1               10"
      ]
     },
     "metadata": {},
     "output_type": "display_data"
    },
    {
     "name": "stdout",
     "output_type": "stream",
     "text": [
      "\n",
      "Количество пропущенных значений:\n",
      "user_id    0\n",
      "email      1\n",
      "geo        3\n",
      "dtype: int64\n",
      "\n",
      "Количество уникальных значений:\n",
      "user_id    100\n",
      "email       99\n",
      "geo         14\n",
      "dtype: int64\n"
     ]
    }
   ],
   "source": [
    "display(users)\n",
    "display(users.info())\n",
    "print(f'\\nРазмер датасета: {users.shape}')\n",
    "print('\\nСтатистическая информация:')\n",
    "display(users.describe())\n",
    "print(f'\\nКоличество пропущенных значений:\\n{users.isna().sum()}')\n",
    "print(f'\\nКоличество уникальных значений:\\n{users.nunique()}')"
   ]
  },
  {
   "cell_type": "code",
   "execution_count": 5,
   "id": "502a528d",
   "metadata": {
    "ExecuteTime": {
     "end_time": "2024-01-14T13:14:57.080724Z",
     "start_time": "2024-01-14T13:14:57.071749Z"
    },
    "scrolled": true
   },
   "outputs": [
    {
     "data": {
      "text/plain": [
       "array(['Ижевск', 'Краснодар', 'Пермь', nan, 'Санкт-Петербург',\n",
       "       'Ярославль', 'Екатеринбург', 'Ставрополь', 'Красноярск', 'Воронеж',\n",
       "       'Арзангелтск', 'Москва', 'Хабаровск', 'Тюмень', 'Казань'],\n",
       "      dtype=object)"
      ]
     },
     "execution_count": 5,
     "metadata": {},
     "output_type": "execute_result"
    }
   ],
   "source": [
    "users['geo'].unique()"
   ]
  },
  {
   "cell_type": "markdown",
   "id": "3969c8e8",
   "metadata": {},
   "source": [
    "Данные содержат большое количество пропусков, лишних символов \"[\" и технических ошибок \"#error\". "
   ]
  },
  {
   "cell_type": "markdown",
   "id": "d03e12ca",
   "metadata": {},
   "source": [
    "### Применим ряд преобразований и ответим на вопросы"
   ]
  },
  {
   "cell_type": "code",
   "execution_count": 6,
   "id": "5e56a339",
   "metadata": {
    "ExecuteTime": {
     "end_time": "2024-01-14T13:15:01.696078Z",
     "start_time": "2024-01-14T13:15:01.664061Z"
    },
    "scrolled": true
   },
   "outputs": [
    {
     "name": "stdout",
     "output_type": "stream",
     "text": [
      "138\n"
     ]
    },
    {
     "data": {
      "text/html": [
       "<div>\n",
       "<style scoped>\n",
       "    .dataframe tbody tr th:only-of-type {\n",
       "        vertical-align: middle;\n",
       "    }\n",
       "\n",
       "    .dataframe tbody tr th {\n",
       "        vertical-align: top;\n",
       "    }\n",
       "\n",
       "    .dataframe thead th {\n",
       "        text-align: right;\n",
       "    }\n",
       "</style>\n",
       "<table border=\"1\" class=\"dataframe\">\n",
       "  <thead>\n",
       "    <tr style=\"text-align: right;\">\n",
       "      <th></th>\n",
       "      <th>user_id</th>\n",
       "      <th>time</th>\n",
       "      <th>bet</th>\n",
       "      <th>win</th>\n",
       "    </tr>\n",
       "  </thead>\n",
       "  <tbody>\n",
       "    <tr>\n",
       "      <th>0</th>\n",
       "      <td>user_919</td>\n",
       "      <td>2019-01-01 14:06:51</td>\n",
       "      <td>NaN</td>\n",
       "      <td>NaN</td>\n",
       "    </tr>\n",
       "    <tr>\n",
       "      <th>1</th>\n",
       "      <td>user_973</td>\n",
       "      <td>2019-01-01 14:51:16</td>\n",
       "      <td>NaN</td>\n",
       "      <td>NaN</td>\n",
       "    </tr>\n",
       "    <tr>\n",
       "      <th>2</th>\n",
       "      <td>user_903</td>\n",
       "      <td>2019-01-01 16:31:16</td>\n",
       "      <td>NaN</td>\n",
       "      <td>NaN</td>\n",
       "    </tr>\n",
       "    <tr>\n",
       "      <th>3</th>\n",
       "      <td>user_954</td>\n",
       "      <td>2019-01-01 17:17:51</td>\n",
       "      <td>NaN</td>\n",
       "      <td>NaN</td>\n",
       "    </tr>\n",
       "    <tr>\n",
       "      <th>4</th>\n",
       "      <td>user_954</td>\n",
       "      <td>2019-01-01 21:31:18</td>\n",
       "      <td>NaN</td>\n",
       "      <td>NaN</td>\n",
       "    </tr>\n",
       "    <tr>\n",
       "      <th>...</th>\n",
       "      <td>...</td>\n",
       "      <td>...</td>\n",
       "      <td>...</td>\n",
       "      <td>...</td>\n",
       "    </tr>\n",
       "    <tr>\n",
       "      <th>991</th>\n",
       "      <td>user_965</td>\n",
       "      <td>2019-04-20 12:55:41</td>\n",
       "      <td>800.0</td>\n",
       "      <td>6927.0</td>\n",
       "    </tr>\n",
       "    <tr>\n",
       "      <th>992</th>\n",
       "      <td>user_967</td>\n",
       "      <td>2019-04-20 14:59:36</td>\n",
       "      <td>10154.0</td>\n",
       "      <td>NaN</td>\n",
       "    </tr>\n",
       "    <tr>\n",
       "      <th>993</th>\n",
       "      <td>user_973</td>\n",
       "      <td>2019-04-20 17:09:56</td>\n",
       "      <td>10254.0</td>\n",
       "      <td>NaN</td>\n",
       "    </tr>\n",
       "    <tr>\n",
       "      <th>994</th>\n",
       "      <td>user_977</td>\n",
       "      <td>2019-04-20 18:10:07</td>\n",
       "      <td>10354.0</td>\n",
       "      <td>NaN</td>\n",
       "    </tr>\n",
       "    <tr>\n",
       "      <th>995</th>\n",
       "      <td>user_984</td>\n",
       "      <td>2019-04-20 9:59:58</td>\n",
       "      <td>9754.0</td>\n",
       "      <td>NaN</td>\n",
       "    </tr>\n",
       "  </tbody>\n",
       "</table>\n",
       "<p>985 rows × 4 columns</p>\n",
       "</div>"
      ],
      "text/plain": [
       "      user_id                 time      bet     win\n",
       "0    user_919  2019-01-01 14:06:51      NaN     NaN\n",
       "1    user_973  2019-01-01 14:51:16      NaN     NaN\n",
       "2    user_903  2019-01-01 16:31:16      NaN     NaN\n",
       "3    user_954  2019-01-01 17:17:51      NaN     NaN\n",
       "4    user_954  2019-01-01 21:31:18      NaN     NaN\n",
       "..        ...                  ...      ...     ...\n",
       "991  user_965  2019-04-20 12:55:41    800.0  6927.0\n",
       "992  user_967  2019-04-20 14:59:36  10154.0     NaN\n",
       "993  user_973  2019-04-20 17:09:56  10254.0     NaN\n",
       "994  user_977  2019-04-20 18:10:07  10354.0     NaN\n",
       "995  user_984   2019-04-20 9:59:58   9754.0     NaN\n",
       "\n",
       "[985 rows x 4 columns]"
      ]
     },
     "metadata": {},
     "output_type": "display_data"
    }
   ],
   "source": [
    "# Создайте новый датафрейм log_win, в который будут входить только те записи, где пользователь выиграл. \n",
    "# Посчитайте, сколько таких записей, и сохраните в переменной win_count.\n",
    "log_win = logs[logs['win'] > 0]\n",
    "win_count = log_win['win'].count()   # len(log_win)\n",
    "print(win_count)\n",
    "\n",
    "# Найдите тех, у кого ставка меньше 2000, а выигрыш больше 0\n",
    "# logs[(logs.bet < 2000) & (logs.win >0)]\n",
    "logs.query('(bet < 2000) & (win > 0)').head(3)\n",
    "\n",
    "# Удалите записи, в которых есть ошибка в поле user_id\n",
    "# logs = logs[logs['user_id'] != '#error']\n",
    "# logs = logs.user_id[~logs.user_id.str.match('#err')]\n",
    "# logs = logs.query('user_id != \"#error\"')\n",
    "logs = logs[~logs.user_id.str.contains('#er', na = False)]\n",
    "\n",
    "# Преобразуйте поле user_id в датафрейме logs, оставив только идентификатор пользователя (Например, user_919)\n",
    "# logs.user_id.str.replace('Запись пользователя № - ', '')\n",
    "# logs.user_id.apply(lambda x: x.replace('Запись пользователя № - ', ''))\n",
    "# logs.user_id.apply(lambda x: x.lstrip('Запись пользователя № - '))\n",
    "logs['user_id'] = logs['user_id'].apply(lambda x: x.split(' - ')[1])\n",
    "\n",
    "# Удалите квадратную скобку из строк в столбце time, чтобы привести его к более привычному формату\n",
    "# logs.time = logs['time'].str.replace('[', '')\n",
    "# logs.time = logs.time.str.lstrip('[')\n",
    "logs['time'] = logs['time'].apply(lambda x: np.nan if pd.isna(x) else x.replace('[', ''))\n",
    "display(logs)"
   ]
  },
  {
   "cell_type": "code",
   "execution_count": 7,
   "id": "c78f1e70",
   "metadata": {
    "ExecuteTime": {
     "end_time": "2024-01-14T13:15:05.288663Z",
     "start_time": "2024-01-14T13:15:05.255748Z"
    },
    "scrolled": true
   },
   "outputs": [
    {
     "name": "stdout",
     "output_type": "stream",
     "text": [
      "2019-04-20 18:10:07\n",
      "4\n"
     ]
    },
    {
     "data": {
      "text/plain": [
       "283"
      ]
     },
     "metadata": {},
     "output_type": "display_data"
    },
    {
     "name": "stdout",
     "output_type": "stream",
     "text": [
      "513\n",
      "513\n"
     ]
    }
   ],
   "source": [
    "# Преобразуйте признак time к datetime. После этого найдите наибольшую дату\n",
    "logs.time = pd.to_datetime(logs.time)\n",
    "print(logs.time.max())\n",
    "\n",
    "# Найдите месяц, который встречался в данных реже всего\n",
    "# logs.time.apply(lambda x: x.month).value_counts().sort_values()[:1]\n",
    "less_frequent_month = logs.time.dt.month.value_counts(ascending = False).index[-1]\n",
    "print(less_frequent_month)\n",
    "\n",
    "# Посчитайте, сколько дней в данных являются выходными (т.е. сб или вск)\n",
    "# logs.time.dt.dayofweek.value_counts()[[5, 6]].sum()\n",
    "# logs.time.dt.dayofweek[logs.time.dt.dayofweek.isin([5, 6])].count()\n",
    "# logs.time[logs.time.dt.dayofweek.apply(lambda x: x in [5, 6])].count()\n",
    "display(logs.time.apply(lambda x: x.dayofweek).value_counts()[[5, 6]].sum())\n",
    "\n",
    "# Напишите функцию, которая преобразует дату во время дня\n",
    "# С 0 до 5 часов - ночь, с 6 до 11 - утро, с 12 до 17 - день, с 18 до 23 - вечер.\n",
    "# Посчитайте, какое время дня встречается в данных реже всего\n",
    "def time_of_day(x):\n",
    "    return 'Ночь' if 0 <= x <= 5 else 'Утро' if 6 <= x <= 11 else 'День' if 12 <= x <= 17 else 'Вечер'\n",
    "logs.time.dt.hour.apply(time_of_day).value_counts().sort_values()[:1]  # value_counts(ascending = True).index[0]\n",
    "\n",
    "\n",
    "# Посчитайте, сколько раз люди приходили, но не делали ставок \n",
    "print(logs.bet.isna().sum())\n",
    "\n",
    "logs.bet.fillna(0, inplace = True)  # С заполнением пропусков\n",
    "# logs.query('bet == 0').user_id.count()\n",
    "bet_null = logs[logs.bet == 0].user_id.count()\n",
    "print(bet_null) "
   ]
  },
  {
   "cell_type": "markdown",
   "id": "e3ec472a",
   "metadata": {},
   "source": [
    "#### Поработаем с признаком win, в котором также есть пропуски.  \n",
    "\n",
    "Предположим, что если в признаке win находится пропуск, то выигрыша не было. Здесь два возможных случая:  \n",
    "\n",
    "- Человек не делал ставку и ничего не выиграл. Т.е. просто пришел, посмотрел и ушел.  \n",
    "- Человек сделал ставку, но не выиграл. Значит, выигрыш на самом деле является отрицательным значением - это проигрыш.  \n",
    "\n",
    "Напишите метод, который заполнит пропуски в признаке win в соответствии с предположением выше. \n",
    "\n",
    "Для этого можно подготовить функцию, которая вычисляет размер выигрыша (или проигрыша) по следующей схеме:  \n",
    "\n",
    "- Если значение в столбце win существует (не пропуск) - вернуть это же значение. Это значит, что человек выиграл.  \n",
    "- Если вместо значения в столбце win и в столбце bet пропуски, вернуть 0.  \n",
    "- Если в столбце bet нет пропуска, а в столбце win есть пропуск, вернуть отрицательное значение столбца bet (проигрыш).  \n",
    "\n",
    "На выходе получится таблица без пропусков в столбце win."
   ]
  },
  {
   "cell_type": "code",
   "execution_count": 8,
   "id": "e736488c",
   "metadata": {
    "ExecuteTime": {
     "end_time": "2024-01-14T13:15:08.672991Z",
     "start_time": "2024-01-14T13:15:08.652483Z"
    }
   },
   "outputs": [
    {
     "data": {
      "text/html": [
       "<div>\n",
       "<style scoped>\n",
       "    .dataframe tbody tr th:only-of-type {\n",
       "        vertical-align: middle;\n",
       "    }\n",
       "\n",
       "    .dataframe tbody tr th {\n",
       "        vertical-align: top;\n",
       "    }\n",
       "\n",
       "    .dataframe thead th {\n",
       "        text-align: right;\n",
       "    }\n",
       "</style>\n",
       "<table border=\"1\" class=\"dataframe\">\n",
       "  <thead>\n",
       "    <tr style=\"text-align: right;\">\n",
       "      <th></th>\n",
       "      <th>user_id</th>\n",
       "      <th>time</th>\n",
       "      <th>bet</th>\n",
       "      <th>win</th>\n",
       "    </tr>\n",
       "  </thead>\n",
       "  <tbody>\n",
       "    <tr>\n",
       "      <th>0</th>\n",
       "      <td>user_919</td>\n",
       "      <td>2019-01-01 14:06:51</td>\n",
       "      <td>0.0</td>\n",
       "      <td>NaN</td>\n",
       "    </tr>\n",
       "    <tr>\n",
       "      <th>1</th>\n",
       "      <td>user_973</td>\n",
       "      <td>2019-01-01 14:51:16</td>\n",
       "      <td>0.0</td>\n",
       "      <td>NaN</td>\n",
       "    </tr>\n",
       "    <tr>\n",
       "      <th>2</th>\n",
       "      <td>user_903</td>\n",
       "      <td>2019-01-01 16:31:16</td>\n",
       "      <td>0.0</td>\n",
       "      <td>NaN</td>\n",
       "    </tr>\n",
       "    <tr>\n",
       "      <th>3</th>\n",
       "      <td>user_954</td>\n",
       "      <td>2019-01-01 17:17:51</td>\n",
       "      <td>0.0</td>\n",
       "      <td>NaN</td>\n",
       "    </tr>\n",
       "    <tr>\n",
       "      <th>4</th>\n",
       "      <td>user_954</td>\n",
       "      <td>2019-01-01 21:31:18</td>\n",
       "      <td>0.0</td>\n",
       "      <td>NaN</td>\n",
       "    </tr>\n",
       "    <tr>\n",
       "      <th>...</th>\n",
       "      <td>...</td>\n",
       "      <td>...</td>\n",
       "      <td>...</td>\n",
       "      <td>...</td>\n",
       "    </tr>\n",
       "    <tr>\n",
       "      <th>991</th>\n",
       "      <td>user_965</td>\n",
       "      <td>2019-04-20 12:55:41</td>\n",
       "      <td>800.0</td>\n",
       "      <td>6927.0</td>\n",
       "    </tr>\n",
       "    <tr>\n",
       "      <th>992</th>\n",
       "      <td>user_967</td>\n",
       "      <td>2019-04-20 14:59:36</td>\n",
       "      <td>10154.0</td>\n",
       "      <td>NaN</td>\n",
       "    </tr>\n",
       "    <tr>\n",
       "      <th>993</th>\n",
       "      <td>user_973</td>\n",
       "      <td>2019-04-20 17:09:56</td>\n",
       "      <td>10254.0</td>\n",
       "      <td>NaN</td>\n",
       "    </tr>\n",
       "    <tr>\n",
       "      <th>994</th>\n",
       "      <td>user_977</td>\n",
       "      <td>2019-04-20 18:10:07</td>\n",
       "      <td>10354.0</td>\n",
       "      <td>NaN</td>\n",
       "    </tr>\n",
       "    <tr>\n",
       "      <th>995</th>\n",
       "      <td>user_984</td>\n",
       "      <td>2019-04-20 09:59:58</td>\n",
       "      <td>9754.0</td>\n",
       "      <td>NaN</td>\n",
       "    </tr>\n",
       "  </tbody>\n",
       "</table>\n",
       "<p>985 rows × 4 columns</p>\n",
       "</div>"
      ],
      "text/plain": [
       "      user_id                time      bet     win\n",
       "0    user_919 2019-01-01 14:06:51      0.0     NaN\n",
       "1    user_973 2019-01-01 14:51:16      0.0     NaN\n",
       "2    user_903 2019-01-01 16:31:16      0.0     NaN\n",
       "3    user_954 2019-01-01 17:17:51      0.0     NaN\n",
       "4    user_954 2019-01-01 21:31:18      0.0     NaN\n",
       "..        ...                 ...      ...     ...\n",
       "991  user_965 2019-04-20 12:55:41    800.0  6927.0\n",
       "992  user_967 2019-04-20 14:59:36  10154.0     NaN\n",
       "993  user_973 2019-04-20 17:09:56  10254.0     NaN\n",
       "994  user_977 2019-04-20 18:10:07  10354.0     NaN\n",
       "995  user_984 2019-04-20 09:59:58   9754.0     NaN\n",
       "\n",
       "[985 rows x 4 columns]"
      ]
     },
     "execution_count": 8,
     "metadata": {},
     "output_type": "execute_result"
    }
   ],
   "source": [
    "logs"
   ]
  },
  {
   "cell_type": "code",
   "execution_count": 9,
   "id": "0badad4c",
   "metadata": {
    "ExecuteTime": {
     "end_time": "2024-01-14T13:15:12.832264Z",
     "start_time": "2024-01-14T13:15:12.769397Z"
    }
   },
   "outputs": [
    {
     "data": {
      "text/html": [
       "<div>\n",
       "<style scoped>\n",
       "    .dataframe tbody tr th:only-of-type {\n",
       "        vertical-align: middle;\n",
       "    }\n",
       "\n",
       "    .dataframe tbody tr th {\n",
       "        vertical-align: top;\n",
       "    }\n",
       "\n",
       "    .dataframe thead th {\n",
       "        text-align: right;\n",
       "    }\n",
       "</style>\n",
       "<table border=\"1\" class=\"dataframe\">\n",
       "  <thead>\n",
       "    <tr style=\"text-align: right;\">\n",
       "      <th></th>\n",
       "      <th>user_id</th>\n",
       "      <th>time</th>\n",
       "      <th>bet</th>\n",
       "      <th>win</th>\n",
       "    </tr>\n",
       "  </thead>\n",
       "  <tbody>\n",
       "    <tr>\n",
       "      <th>0</th>\n",
       "      <td>user_919</td>\n",
       "      <td>2019-01-01 14:06:51</td>\n",
       "      <td>0.0</td>\n",
       "      <td>0.0</td>\n",
       "    </tr>\n",
       "    <tr>\n",
       "      <th>1</th>\n",
       "      <td>user_973</td>\n",
       "      <td>2019-01-01 14:51:16</td>\n",
       "      <td>0.0</td>\n",
       "      <td>0.0</td>\n",
       "    </tr>\n",
       "    <tr>\n",
       "      <th>2</th>\n",
       "      <td>user_903</td>\n",
       "      <td>2019-01-01 16:31:16</td>\n",
       "      <td>0.0</td>\n",
       "      <td>0.0</td>\n",
       "    </tr>\n",
       "    <tr>\n",
       "      <th>3</th>\n",
       "      <td>user_954</td>\n",
       "      <td>2019-01-01 17:17:51</td>\n",
       "      <td>0.0</td>\n",
       "      <td>0.0</td>\n",
       "    </tr>\n",
       "    <tr>\n",
       "      <th>4</th>\n",
       "      <td>user_954</td>\n",
       "      <td>2019-01-01 21:31:18</td>\n",
       "      <td>0.0</td>\n",
       "      <td>0.0</td>\n",
       "    </tr>\n",
       "    <tr>\n",
       "      <th>...</th>\n",
       "      <td>...</td>\n",
       "      <td>...</td>\n",
       "      <td>...</td>\n",
       "      <td>...</td>\n",
       "    </tr>\n",
       "    <tr>\n",
       "      <th>991</th>\n",
       "      <td>user_965</td>\n",
       "      <td>2019-04-20 12:55:41</td>\n",
       "      <td>800.0</td>\n",
       "      <td>6927.0</td>\n",
       "    </tr>\n",
       "    <tr>\n",
       "      <th>992</th>\n",
       "      <td>user_967</td>\n",
       "      <td>2019-04-20 14:59:36</td>\n",
       "      <td>10154.0</td>\n",
       "      <td>-10154.0</td>\n",
       "    </tr>\n",
       "    <tr>\n",
       "      <th>993</th>\n",
       "      <td>user_973</td>\n",
       "      <td>2019-04-20 17:09:56</td>\n",
       "      <td>10254.0</td>\n",
       "      <td>-10254.0</td>\n",
       "    </tr>\n",
       "    <tr>\n",
       "      <th>994</th>\n",
       "      <td>user_977</td>\n",
       "      <td>2019-04-20 18:10:07</td>\n",
       "      <td>10354.0</td>\n",
       "      <td>-10354.0</td>\n",
       "    </tr>\n",
       "    <tr>\n",
       "      <th>995</th>\n",
       "      <td>user_984</td>\n",
       "      <td>2019-04-20 09:59:58</td>\n",
       "      <td>9754.0</td>\n",
       "      <td>-9754.0</td>\n",
       "    </tr>\n",
       "  </tbody>\n",
       "</table>\n",
       "<p>985 rows × 4 columns</p>\n",
       "</div>"
      ],
      "text/plain": [
       "      user_id                time      bet      win\n",
       "0    user_919 2019-01-01 14:06:51      0.0      0.0\n",
       "1    user_973 2019-01-01 14:51:16      0.0      0.0\n",
       "2    user_903 2019-01-01 16:31:16      0.0      0.0\n",
       "3    user_954 2019-01-01 17:17:51      0.0      0.0\n",
       "4    user_954 2019-01-01 21:31:18      0.0      0.0\n",
       "..        ...                 ...      ...      ...\n",
       "991  user_965 2019-04-20 12:55:41    800.0   6927.0\n",
       "992  user_967 2019-04-20 14:59:36  10154.0 -10154.0\n",
       "993  user_973 2019-04-20 17:09:56  10254.0 -10254.0\n",
       "994  user_977 2019-04-20 18:10:07  10354.0 -10354.0\n",
       "995  user_984 2019-04-20 09:59:58   9754.0  -9754.0\n",
       "\n",
       "[985 rows x 4 columns]"
      ]
     },
     "metadata": {},
     "output_type": "display_data"
    },
    {
     "name": "stdout",
     "output_type": "stream",
     "text": [
      "339\n"
     ]
    }
   ],
   "source": [
    "def fillna_win(df):\n",
    "    if not pd.isna(df['win']):\n",
    "        return df['win']\n",
    "    elif all([(pd.isna(df['win'])), (not df['bet'])]):\n",
    "        return 0\n",
    "    elif all([(pd.isna(df['win'])), (df['bet'] > 0)]):\n",
    "        return -df['bet']\n",
    "\n",
    "# def fillna_win(row): \n",
    "#     if np.isnan(row['win']) and not row['bet']:   \n",
    "#         return 0\n",
    "#     elif np.isnan(row['win']) and row['bet']:      \n",
    "#         return -row['bet']\n",
    "#     elif row['win']:\n",
    "#         return row['win']  \n",
    "\n",
    "\n",
    "# Замените старое значение столбца win на новое\n",
    "logs.win = logs.apply(lambda row: fillna_win(row), axis = 1)\n",
    "display(logs)\n",
    "\n",
    "# Посчитайте, сколько раз участники ставок проиграли деньги\n",
    "print(logs.win.loc[logs.win < 0].count())   # len(logs[logs.win < 0])    # logs.query('win < 0').user_id.count()"
   ]
  },
  {
   "cell_type": "code",
   "execution_count": 13,
   "id": "103d9a8d",
   "metadata": {
    "ExecuteTime": {
     "end_time": "2024-01-14T13:17:29.388739Z",
     "start_time": "2024-01-14T13:17:29.338847Z"
    },
    "scrolled": true
   },
   "outputs": [
    {
     "data": {
      "text/plain": [
       "133"
      ]
     },
     "metadata": {},
     "output_type": "display_data"
    },
    {
     "data": {
      "text/html": [
       "<div>\n",
       "<style scoped>\n",
       "    .dataframe tbody tr th:only-of-type {\n",
       "        vertical-align: middle;\n",
       "    }\n",
       "\n",
       "    .dataframe tbody tr th {\n",
       "        vertical-align: top;\n",
       "    }\n",
       "\n",
       "    .dataframe thead th {\n",
       "        text-align: right;\n",
       "    }\n",
       "</style>\n",
       "<table border=\"1\" class=\"dataframe\">\n",
       "  <thead>\n",
       "    <tr style=\"text-align: right;\">\n",
       "      <th></th>\n",
       "      <th>net</th>\n",
       "    </tr>\n",
       "  </thead>\n",
       "  <tbody>\n",
       "    <tr>\n",
       "      <th>mean_net</th>\n",
       "      <td>82625.962406</td>\n",
       "    </tr>\n",
       "    <tr>\n",
       "      <th>median_net</th>\n",
       "      <td>5329.000000</td>\n",
       "    </tr>\n",
       "  </tbody>\n",
       "</table>\n",
       "</div>"
      ],
      "text/plain": [
       "                     net\n",
       "mean_net    82625.962406\n",
       "median_net   5329.000000"
      ]
     },
     "metadata": {},
     "output_type": "display_data"
    },
    {
     "name": "stdout",
     "output_type": "stream",
     "text": [
      "Среднее значение выигрыша: 82626\n",
      "Медианное значение выигрыша: 5329\n"
     ]
    }
   ],
   "source": [
    "# Создайте признак net, хранящий сумму выигрыша с учетом ставки. После этого посчитайте, у скольких людей выигрыш положительный\n",
    "def fill_net(row):\n",
    "    return row['win'] if row['win'] < 0 else row['win'] - row['bet']\n",
    "\n",
    "logs['net'] = logs.apply(lambda row: fill_net(row), axis = 1)\n",
    "display(logs[logs['net'] > 0]['net'].count() )  # len(logs[logs.net > 0])\n",
    "\n",
    "\n",
    "# Посчитайте среднее и медианное значение выигрыша в тех случаях, когда выигрыш больше 0. Результат округлите до целого\n",
    "# losg[logs.net > 0].net.agg(['mean', 'median'])\n",
    "display(logs[logs.net > 0].agg(mean_net = ('net', 'mean'), median_net = ('net', 'median')))\n",
    "\n",
    "print(f'Среднее значение выигрыша: {round(logs[logs.net > 0][\"net\"].mean())}')\n",
    "print(f'Медианное значение выигрыша: {round(logs[logs.net > 0][\"net\"].median())}')"
   ]
  },
  {
   "cell_type": "code",
   "execution_count": 16,
   "id": "ebe611f4",
   "metadata": {
    "ExecuteTime": {
     "end_time": "2024-01-14T13:17:59.145302Z",
     "start_time": "2024-01-14T13:17:59.118373Z"
    },
    "scrolled": true
   },
   "outputs": [
    {
     "data": {
      "text/plain": [
       "0.48"
      ]
     },
     "metadata": {},
     "output_type": "display_data"
    },
    {
     "data": {
      "text/plain": [
       "6807"
      ]
     },
     "metadata": {},
     "output_type": "display_data"
    },
    {
     "data": {
      "text/plain": [
       "20879"
      ]
     },
     "metadata": {},
     "output_type": "display_data"
    },
    {
     "data": {
      "text/plain": [
       "-3346"
      ]
     },
     "metadata": {},
     "output_type": "display_data"
    },
    {
     "data": {
      "text/plain": [
       "0.28"
      ]
     },
     "metadata": {},
     "output_type": "display_data"
    },
    {
     "data": {
      "text/plain": [
       "0.72"
      ]
     },
     "metadata": {},
     "output_type": "display_data"
    }
   ],
   "source": [
    "# Посчитайте, какой процент посещений букмекерской конторы оборачивался ставкой\n",
    "# round(logs[logs.bet > 0].user_id.count() / logs.bet.count(), 2)\n",
    "display(round(len(logs[logs.bet > 0]) / len(logs.user_id), 2))\n",
    "\n",
    "# Посчитайте среднее значение ставки в тех случаях, когда ставка была сделана\n",
    "display(round(logs[logs.bet > 0]['bet'].mean()))\n",
    "\n",
    "# Посчитайте средний выигрыш в тех случаях, когда ставка была сделана. Результат округлите до целого\n",
    "display(round(logs[logs['bet'] > 0]['net'].mean()))\n",
    "\n",
    "# Посчитайте среднее значение потерь при проигрыше. Результат округлите до целого\n",
    "# Ответ должен быть дан в виде отрицательного числа\n",
    "display(round(logs[logs.net < 0].net.mean()))\n",
    "\n",
    "# Посчитайте, какой процент ставок заканчивается выигрышем, а какой - проигрышем \n",
    "# Сравните эти значения и ответьте, какое из них больше\n",
    "display(round(logs[logs['net'] > 0]['net'].count() / logs[logs['bet'] > 0]['bet'].count(), 2)) # процент выигрышей\n",
    "display(round(logs[logs['net'] < 0]['net'].count() / logs[logs['bet'] > 0]['bet'].count(), 2)) # процент проигрышей\n",
    "\n",
    "# print(round(logs[(logs.bet > 0) & (logs.net > 0)].user_id.count() / len(logs[logs.bet > 0]), 2))\n",
    "# print(round(logs[(logs.bet > 0) & (logs.net < 0)].user_id.count() / len(logs[logs.bet > 0]), 2))"
   ]
  },
  {
   "cell_type": "markdown",
   "id": "e58c7d97",
   "metadata": {},
   "source": [
    "Результаты показывают, что процент ставок, заканчивающихся проигрышем, гораздо выше процента ставок, заканчивающихся выигрышем."
   ]
  },
  {
   "cell_type": "code",
   "execution_count": 30,
   "id": "bce06c2f",
   "metadata": {
    "ExecuteTime": {
     "end_time": "2024-01-14T13:37:51.180777Z",
     "start_time": "2024-01-14T13:37:51.144989Z"
    }
   },
   "outputs": [
    {
     "data": {
      "text/plain": [
       "100.0"
      ]
     },
     "metadata": {},
     "output_type": "display_data"
    },
    {
     "data": {
      "text/plain": [
       "48"
      ]
     },
     "metadata": {},
     "output_type": "display_data"
    },
    {
     "data": {
      "text/plain": [
       "42"
      ]
     },
     "metadata": {},
     "output_type": "display_data"
    },
    {
     "data": {
      "text/html": [
       "<div>\n",
       "<style scoped>\n",
       "    .dataframe tbody tr th:only-of-type {\n",
       "        vertical-align: middle;\n",
       "    }\n",
       "\n",
       "    .dataframe tbody tr th {\n",
       "        vertical-align: top;\n",
       "    }\n",
       "\n",
       "    .dataframe thead th {\n",
       "        text-align: right;\n",
       "    }\n",
       "</style>\n",
       "<table border=\"1\" class=\"dataframe\">\n",
       "  <thead>\n",
       "    <tr style=\"text-align: right;\">\n",
       "      <th></th>\n",
       "      <th>user_id</th>\n",
       "      <th>email</th>\n",
       "      <th>geo</th>\n",
       "      <th>time</th>\n",
       "      <th>bet</th>\n",
       "      <th>win</th>\n",
       "      <th>net</th>\n",
       "    </tr>\n",
       "  </thead>\n",
       "  <tbody>\n",
       "    <tr>\n",
       "      <th>0</th>\n",
       "      <td>user_943</td>\n",
       "      <td>Accumanst@gmail.com</td>\n",
       "      <td>Ижевск</td>\n",
       "      <td>2019-01-06 21:06:57</td>\n",
       "      <td>0.0</td>\n",
       "      <td>0.0</td>\n",
       "      <td>0.0</td>\n",
       "    </tr>\n",
       "    <tr>\n",
       "      <th>1</th>\n",
       "      <td>user_943</td>\n",
       "      <td>Accumanst@gmail.com</td>\n",
       "      <td>Ижевск</td>\n",
       "      <td>2019-01-10 12:16:22</td>\n",
       "      <td>100.0</td>\n",
       "      <td>-100.0</td>\n",
       "      <td>-100.0</td>\n",
       "    </tr>\n",
       "    <tr>\n",
       "      <th>2</th>\n",
       "      <td>user_943</td>\n",
       "      <td>Accumanst@gmail.com</td>\n",
       "      <td>Ижевск</td>\n",
       "      <td>2019-01-27 01:18:47</td>\n",
       "      <td>100.0</td>\n",
       "      <td>-100.0</td>\n",
       "      <td>-100.0</td>\n",
       "    </tr>\n",
       "  </tbody>\n",
       "</table>\n",
       "</div>"
      ],
      "text/plain": [
       "    user_id                email     geo                time    bet    win  \\\n",
       "0  user_943  Accumanst@gmail.com  Ижевск 2019-01-06 21:06:57    0.0    0.0   \n",
       "1  user_943  Accumanst@gmail.com  Ижевск 2019-01-10 12:16:22  100.0 -100.0   \n",
       "2  user_943  Accumanst@gmail.com  Ижевск 2019-01-27 01:18:47  100.0 -100.0   \n",
       "\n",
       "     net  \n",
       "0    0.0  \n",
       "1 -100.0  \n",
       "2 -100.0  "
      ]
     },
     "metadata": {},
     "output_type": "display_data"
    }
   ],
   "source": [
    "# Чему была равна минимальная ставка и сколько раз сделали такую ставку\n",
    "min_bet = logs[logs['bet'] != 0]['bet'].min()\n",
    "display(min_bet)\n",
    "# logs[logs.bet == min_bet]['user_id'].count()\n",
    "# len(logs[logs.bet.isin([min_bet])])\n",
    "display(logs[logs.bet.isin([min_bet])].user_id.count())\n",
    "\n",
    "# Сколько уникальных игороков сделали минимальную ставку \n",
    "# logs.user_id[logs.bet == min_bet].nunique()\n",
    "display(logs[logs.bet.isin([min_bet])].user_id.nunique())\n",
    "\n",
    "# Объедините таблицы logs и users\n",
    "users.user_id = users.user_id.apply(lambda x: x.lower())   # users.user_id = users.user_id.str.lower()\n",
    "bookie = pd.merge(users, logs, on = 'user_id')\n",
    "display(bookie.head(3))"
   ]
  },
  {
   "cell_type": "code",
   "execution_count": 47,
   "id": "e20aa55f",
   "metadata": {
    "ExecuteTime": {
     "end_time": "2024-01-14T14:43:24.219202Z",
     "start_time": "2024-01-14T14:43:24.171403Z"
    }
   },
   "outputs": [
    {
     "data": {
      "text/plain": [
       "1986.0"
      ]
     },
     "metadata": {},
     "output_type": "display_data"
    },
    {
     "name": "stdout",
     "output_type": "stream",
     "text": [
      "5.05\n",
      "46 days 06:54:48\n"
     ]
    },
    {
     "data": {
      "text/plain": [
       "'Воронеж'"
      ]
     },
     "metadata": {},
     "output_type": "display_data"
    },
    {
     "data": {
      "text/plain": [
       "128"
      ]
     },
     "metadata": {},
     "output_type": "display_data"
    }
   ],
   "source": [
    "# Используйте объединенный датасет. Посчитайте медиану баланса по всем пользователям\n",
    "display(bookie.groupby(['user_id'])['net'].sum().median())\n",
    "\n",
    "# Сколько раз в среднем каждый человек приходит, не делая ставок?\n",
    "bet_0 = bookie[bookie['bet'] == 0].groupby(['user_id'])['bet'].count()   # количество нулевых ставок по группам\n",
    "bet_1 = bookie[bookie['bet'] > 0].groupby(['user_id'])['bet'].count()    # количество не нулевых ставок по группам\n",
    "print(bet_0.sum() / len(bet_1))\n",
    "\n",
    "# Сколько в среднем времени проходит между появлением человека в сервисе и первой ставкой?\n",
    "bet_0_min_time = bookie[bookie['bet'] == 0].groupby(['user_id'])['time'].min() # минимальная дата среди ставок равных нулю\n",
    "bet_over_0_min_time = bookie[bookie['bet'] > 0].groupby(['user_id'])['time'].min() # минимальная дата среди ставок больше нуля\n",
    "user_bet_all = pd.merge(bet_0_min_time, bet_over_0_min_time, on ='user_id', how = 'right') # объединим две таблицы в одну\n",
    "user_bet_all['difference'] = user_bet_all['time_y'] - user_bet_all['time_x']  # создадим столбец с разницей между датами \n",
    "# shift = user_bet_all['difference'].sum() / len(user_bet_all)\n",
    "# shift = user_bet_all['difference'].sum() / bookie[bookie.bet > 0].user_id.nunique()\n",
    "shift = user_bet_all['difference'].sum() / len(bookie[bookie['bet'] > 0].groupby(['user_id']))\n",
    "print(shift)\n",
    "# user_bet_all['difference'].sum() / user_bet_all.__len__()\n",
    "\n",
    "# Наибольший суммарный выигрыш среди всех городов имеет Москва. Посчитайте следующий за ней город\n",
    "display(bookie.groupby(['geo'])['win'].sum().sort_values(ascending = False).index[1])\n",
    "\n",
    "# Во сколько раз различаются максимальное и минимальное значение средней ставки по городам?\n",
    "# max_min = bookie[bookie['bet'] != 0].groupby('geo', as_index = False)['bet'].mean().bet.agg(['max', 'min'])\n",
    "# round(max_min[0] / max_min[1])\n",
    "display(round(bookie[bookie['bet'] != 0].groupby(['geo'])['bet'].mean().max() / bookie[bookie['bet'] != 0].groupby(['geo'])['bet'].mean().min()))"
   ]
  },
  {
   "cell_type": "markdown",
   "id": "1b10dd5d",
   "metadata": {},
   "source": [
    "**Выводы по итогам начальной предобработки и анализа:**  \n",
    "- Реже всего люди заходят в букмекерскую контору вечером.  \n",
    "- Около половины раз люди приходили, но не делали ставок.  \n",
    "- А те, кто делал ставки, проиграли больше чем в 2/3 случаев.  \n",
    "- Средняя ставка и средний проигрыш примерно равны по абсолютному значению.  \n",
    "- Может пройти довольно много времени между первым приходом человека и первой ставкой (46 дней). И за это время человек может зайти в контору еще несколько раз, не делая ставок.  \n",
    "- Интересный факт: второй по величине город России и второй по суммарному выигрышу на ставках город России - разные города (Санкт-Петербург и Воронеж)."
   ]
  },
  {
   "cell_type": "markdown",
   "id": "9dbfa096",
   "metadata": {},
   "source": [
    "   "
   ]
  },
  {
   "cell_type": "markdown",
   "id": "1f94cb26",
   "metadata": {},
   "source": [
    "## 5. Визуализация для предобработки (гистограмма и график корреляции) "
   ]
  },
  {
   "cell_type": "markdown",
   "id": "ff58b76e",
   "metadata": {},
   "source": [
    "Работа будет выполняться на датасете с информацией о нарушителях, которые должны оплатить штраф  "
   ]
  },
  {
   "cell_type": "code",
   "execution_count": 3,
   "id": "38acf8a4",
   "metadata": {
    "ExecuteTime": {
     "end_time": "2024-01-21T02:25:11.705645Z",
     "start_time": "2024-01-21T02:25:09.277583Z"
    },
    "scrolled": true
   },
   "outputs": [
    {
     "data": {
      "text/html": [
       "<div>\n",
       "<style scoped>\n",
       "    .dataframe tbody tr th:only-of-type {\n",
       "        vertical-align: middle;\n",
       "    }\n",
       "\n",
       "    .dataframe tbody tr th {\n",
       "        vertical-align: top;\n",
       "    }\n",
       "\n",
       "    .dataframe thead th {\n",
       "        text-align: right;\n",
       "    }\n",
       "</style>\n",
       "<table border=\"1\" class=\"dataframe\">\n",
       "  <thead>\n",
       "    <tr style=\"text-align: right;\">\n",
       "      <th></th>\n",
       "      <th>ticket_id</th>\n",
       "      <th>agency_name</th>\n",
       "      <th>inspector_name</th>\n",
       "      <th>violator_name</th>\n",
       "      <th>violation_street_number</th>\n",
       "      <th>violation_street_name</th>\n",
       "      <th>violation_zip_code</th>\n",
       "      <th>mailing_address_str_number</th>\n",
       "      <th>mailing_address_str_name</th>\n",
       "      <th>city</th>\n",
       "      <th>...</th>\n",
       "      <th>clean_up_cost</th>\n",
       "      <th>judgment_amount</th>\n",
       "      <th>payment_amount</th>\n",
       "      <th>balance_due</th>\n",
       "      <th>payment_date</th>\n",
       "      <th>payment_status</th>\n",
       "      <th>collection_status</th>\n",
       "      <th>grafitti_status</th>\n",
       "      <th>compliance_detail</th>\n",
       "      <th>compliance</th>\n",
       "    </tr>\n",
       "  </thead>\n",
       "  <tbody>\n",
       "    <tr>\n",
       "      <th>0</th>\n",
       "      <td>22056</td>\n",
       "      <td>Buildings, Safety Engineering &amp; Env Department</td>\n",
       "      <td>Sims, Martinzie</td>\n",
       "      <td>INVESTMENT INC., MIDWEST MORTGAGE</td>\n",
       "      <td>2900.0</td>\n",
       "      <td>TYLER</td>\n",
       "      <td>NaN</td>\n",
       "      <td>3.0</td>\n",
       "      <td>S. WICKER</td>\n",
       "      <td>CHICAGO</td>\n",
       "      <td>...</td>\n",
       "      <td>0.0</td>\n",
       "      <td>305.0</td>\n",
       "      <td>0.0</td>\n",
       "      <td>305.0</td>\n",
       "      <td>NaN</td>\n",
       "      <td>NO PAYMENT APPLIED</td>\n",
       "      <td>NaN</td>\n",
       "      <td>NaN</td>\n",
       "      <td>non-compliant by no payment</td>\n",
       "      <td>0.0</td>\n",
       "    </tr>\n",
       "    <tr>\n",
       "      <th>1</th>\n",
       "      <td>27586</td>\n",
       "      <td>Buildings, Safety Engineering &amp; Env Department</td>\n",
       "      <td>Williams, Darrin</td>\n",
       "      <td>Michigan, Covenant House</td>\n",
       "      <td>4311.0</td>\n",
       "      <td>CENTRAL</td>\n",
       "      <td>NaN</td>\n",
       "      <td>2959.0</td>\n",
       "      <td>Martin Luther King</td>\n",
       "      <td>Detroit</td>\n",
       "      <td>...</td>\n",
       "      <td>0.0</td>\n",
       "      <td>855.0</td>\n",
       "      <td>780.0</td>\n",
       "      <td>75.0</td>\n",
       "      <td>2005-06-02 00:00:00</td>\n",
       "      <td>PAID IN FULL</td>\n",
       "      <td>NaN</td>\n",
       "      <td>NaN</td>\n",
       "      <td>compliant by late payment within 1 month</td>\n",
       "      <td>1.0</td>\n",
       "    </tr>\n",
       "    <tr>\n",
       "      <th>2</th>\n",
       "      <td>22062</td>\n",
       "      <td>Buildings, Safety Engineering &amp; Env Department</td>\n",
       "      <td>Sims, Martinzie</td>\n",
       "      <td>SANDERS, DERRON</td>\n",
       "      <td>1449.0</td>\n",
       "      <td>LONGFELLOW</td>\n",
       "      <td>NaN</td>\n",
       "      <td>23658.0</td>\n",
       "      <td>P.O. BOX</td>\n",
       "      <td>DETROIT</td>\n",
       "      <td>...</td>\n",
       "      <td>0.0</td>\n",
       "      <td>0.0</td>\n",
       "      <td>0.0</td>\n",
       "      <td>0.0</td>\n",
       "      <td>NaN</td>\n",
       "      <td>NO PAYMENT APPLIED</td>\n",
       "      <td>NaN</td>\n",
       "      <td>NaN</td>\n",
       "      <td>not responsible by disposition</td>\n",
       "      <td>NaN</td>\n",
       "    </tr>\n",
       "  </tbody>\n",
       "</table>\n",
       "<p>3 rows × 34 columns</p>\n",
       "</div>"
      ],
      "text/plain": [
       "   ticket_id                                     agency_name  \\\n",
       "0      22056  Buildings, Safety Engineering & Env Department   \n",
       "1      27586  Buildings, Safety Engineering & Env Department   \n",
       "2      22062  Buildings, Safety Engineering & Env Department   \n",
       "\n",
       "     inspector_name                      violator_name  \\\n",
       "0   Sims, Martinzie  INVESTMENT INC., MIDWEST MORTGAGE   \n",
       "1  Williams, Darrin           Michigan, Covenant House   \n",
       "2   Sims, Martinzie                    SANDERS, DERRON   \n",
       "\n",
       "   violation_street_number violation_street_name  violation_zip_code  \\\n",
       "0                   2900.0                 TYLER                 NaN   \n",
       "1                   4311.0               CENTRAL                 NaN   \n",
       "2                   1449.0            LONGFELLOW                 NaN   \n",
       "\n",
       "   mailing_address_str_number mailing_address_str_name     city  ...  \\\n",
       "0                         3.0                S. WICKER  CHICAGO  ...   \n",
       "1                      2959.0       Martin Luther King  Detroit  ...   \n",
       "2                     23658.0                 P.O. BOX  DETROIT  ...   \n",
       "\n",
       "  clean_up_cost judgment_amount payment_amount balance_due  \\\n",
       "0           0.0           305.0            0.0       305.0   \n",
       "1           0.0           855.0          780.0        75.0   \n",
       "2           0.0             0.0            0.0         0.0   \n",
       "\n",
       "          payment_date      payment_status collection_status grafitti_status  \\\n",
       "0                  NaN  NO PAYMENT APPLIED               NaN             NaN   \n",
       "1  2005-06-02 00:00:00        PAID IN FULL               NaN             NaN   \n",
       "2                  NaN  NO PAYMENT APPLIED               NaN             NaN   \n",
       "\n",
       "                          compliance_detail  compliance  \n",
       "0               non-compliant by no payment         0.0  \n",
       "1  compliant by late payment within 1 month         1.0  \n",
       "2            not responsible by disposition         NaN  \n",
       "\n",
       "[3 rows x 34 columns]"
      ]
     },
     "metadata": {},
     "output_type": "display_data"
    },
    {
     "name": "stdout",
     "output_type": "stream",
     "text": [
      "<class 'pandas.core.frame.DataFrame'>\n",
      "RangeIndex: 250306 entries, 0 to 250305\n",
      "Data columns (total 34 columns):\n",
      " #   Column                      Non-Null Count   Dtype  \n",
      "---  ------                      --------------   -----  \n",
      " 0   ticket_id                   250306 non-null  int64  \n",
      " 1   agency_name                 250306 non-null  object \n",
      " 2   inspector_name              250306 non-null  object \n",
      " 3   violator_name               250272 non-null  object \n",
      " 4   violation_street_number     250306 non-null  float64\n",
      " 5   violation_street_name       250306 non-null  object \n",
      " 6   violation_zip_code          0 non-null       float64\n",
      " 7   mailing_address_str_number  246704 non-null  float64\n",
      " 8   mailing_address_str_name    250302 non-null  object \n",
      " 9   city                        250306 non-null  object \n",
      " 10  state                       250213 non-null  object \n",
      " 11  zip_code                    250305 non-null  object \n",
      " 12  non_us_str_code             3 non-null       object \n",
      " 13  country                     250306 non-null  object \n",
      " 14  ticket_issued_date          250306 non-null  object \n",
      " 15  hearing_date                237815 non-null  object \n",
      " 16  violation_code              250306 non-null  object \n",
      " 17  violation_description       250306 non-null  object \n",
      " 18  disposition                 250306 non-null  object \n",
      " 19  fine_amount                 250305 non-null  float64\n",
      " 20  admin_fee                   250306 non-null  float64\n",
      " 21  state_fee                   250306 non-null  float64\n",
      " 22  late_fee                    250306 non-null  float64\n",
      " 23  discount_amount             250306 non-null  float64\n",
      " 24  clean_up_cost               250306 non-null  float64\n",
      " 25  judgment_amount             250306 non-null  float64\n",
      " 26  payment_amount              250306 non-null  float64\n",
      " 27  balance_due                 250306 non-null  float64\n",
      " 28  payment_date                41113 non-null   object \n",
      " 29  payment_status              250306 non-null  object \n",
      " 30  collection_status           36897 non-null   object \n",
      " 31  grafitti_status             1 non-null       object \n",
      " 32  compliance_detail           250306 non-null  object \n",
      " 33  compliance                  159880 non-null  float64\n",
      "dtypes: float64(13), int64(1), object(20)\n",
      "memory usage: 64.9+ MB\n"
     ]
    },
    {
     "data": {
      "text/plain": [
       "None"
      ]
     },
     "metadata": {},
     "output_type": "display_data"
    }
   ],
   "source": [
    "# Загрузим данные\n",
    "vis_data = pd.read_csv(\"train.csv\", \n",
    "                       encoding = 'ISO-8859-1', \n",
    "                       low_memory = False)\n",
    "display(vis_data.head(3))\n",
    "display(vis_data.info())"
   ]
  },
  {
   "cell_type": "markdown",
   "id": "d581b130",
   "metadata": {},
   "source": [
    "#### Гистограмма\n",
    "Один из начальных этапов работы с данными - визуализация и поиск проблем, которые необходимо решить.  \n",
    "Многие алгоритмы работают лучше, когда на вход принимают данные, распределенные нормально.  \n",
    "Посмотрим на гистограмму одного из признаков. Для удобства оставим только значения больше 0.  "
   ]
  },
  {
   "cell_type": "code",
   "execution_count": 7,
   "id": "f90880b8",
   "metadata": {
    "ExecuteTime": {
     "end_time": "2024-01-18T11:55:55.685612Z",
     "start_time": "2024-01-18T11:55:55.311590Z"
    }
   },
   "outputs": [
    {
     "data": {
      "text/plain": [
       "<AxesSubplot:>"
      ]
     },
     "execution_count": 7,
     "metadata": {},
     "output_type": "execute_result"
    },
    {
     "data": {
      "image/png": "[encoded data removed]",
      "text/plain": [
       "<Figure size 500x300 with 1 Axes>"
      ]
     },
     "metadata": {},
     "output_type": "display_data"
    }
   ],
   "source": [
    "vis_data.balance_due[vis_data.balance_due > 0].hist(bins = 100, figsize = (5, 3))"
   ]
  },
  {
   "cell_type": "markdown",
   "id": "555f510a",
   "metadata": {},
   "source": [
    "Одним из способов сделать данные более \"нормальными\" является логарифмирование.  \n",
    "При этом не должно быть значений, равных 0, иначе метод `np.log` выдаст $-\\infty$."
   ]
  },
  {
   "cell_type": "code",
   "execution_count": 8,
   "id": "5f4cc8d8",
   "metadata": {
    "ExecuteTime": {
     "end_time": "2024-01-18T11:55:57.910506Z",
     "start_time": "2024-01-18T11:55:57.750414Z"
    }
   },
   "outputs": [
    {
     "data": {
      "text/plain": [
       "<AxesSubplot:>"
      ]
     },
     "execution_count": 8,
     "metadata": {},
     "output_type": "execute_result"
    },
    {
     "data": {
      "image/png": "[encoded data removed]",
      "text/plain": [
       "<Figure size 500x300 with 1 Axes>"
      ]
     },
     "metadata": {},
     "output_type": "display_data"
    }
   ],
   "source": [
    "np.log(vis_data.balance_due[vis_data.balance_due > 0]).hist(figsize = (5, 3))"
   ]
  },
  {
   "cell_type": "code",
   "execution_count": 9,
   "id": "6cd014db",
   "metadata": {
    "ExecuteTime": {
     "end_time": "2024-01-18T11:55:59.768739Z",
     "start_time": "2024-01-18T11:55:59.606174Z"
    }
   },
   "outputs": [
    {
     "data": {
      "image/png": "[encoded data removed]",
      "text/plain": [
       "<Figure size 500x300 with 1 Axes>"
      ]
     },
     "metadata": {},
     "output_type": "display_data"
    }
   ],
   "source": [
    "# Другим способом является возведение в квадратный корень \n",
    "np.sqrt(vis_data.balance_due[vis_data.balance_due > 0]).hist(figsize = (5, 3));"
   ]
  },
  {
   "cell_type": "markdown",
   "id": "d80d686b",
   "metadata": {},
   "source": [
    "Выше мы явно отсекли значения в данных, равные `0`. Если значения все-таки начинаются с `0`, перед логарифмированием можно прибавить `1` к данным. Логарифм от `1` превратится в `0`."
   ]
  },
  {
   "cell_type": "code",
   "execution_count": 10,
   "id": "59d05662",
   "metadata": {
    "ExecuteTime": {
     "end_time": "2024-01-18T11:56:01.736378Z",
     "start_time": "2024-01-18T11:56:01.565739Z"
    }
   },
   "outputs": [
    {
     "data": {
      "text/plain": [
       "<AxesSubplot:>"
      ]
     },
     "execution_count": 10,
     "metadata": {},
     "output_type": "execute_result"
    },
    {
     "data": {
      "image/png": "[encoded data removed]",
      "text/plain": [
       "<Figure size 500x300 with 1 Axes>"
      ]
     },
     "metadata": {},
     "output_type": "display_data"
    }
   ],
   "source": [
    "np.log(vis_data.balance_due[vis_data.balance_due >= 0] + 1).hist(figsize = (5, 3))"
   ]
  },
  {
   "cell_type": "markdown",
   "id": "b2982b9c",
   "metadata": {},
   "source": [
    "#### Correlation plot"
   ]
  },
  {
   "cell_type": "markdown",
   "id": "f453b8d3",
   "metadata": {},
   "source": [
    "Некоторые признаки сильно скоррелированы друг с другом. Это свидетельствует о линейной зависимости в данных. Если зависимость большая - часть наиболее скоррелированных признаков (не все) следует убрать из выборки, т.к. они несут избыточную информацию. При этом, отсутствие корреляции не означает отсутствие зависимости - между признаками в таком случае может быть сложная нелинейная зависимость. "
   ]
  },
  {
   "cell_type": "code",
   "execution_count": 62,
   "id": "bdb53d89",
   "metadata": {
    "ExecuteTime": {
     "end_time": "2023-11-07T20:54:56.470366Z",
     "start_time": "2023-11-07T20:54:55.641588Z"
    }
   },
   "outputs": [
    {
     "data": {
      "text/html": [
       "<div>\n",
       "<style scoped>\n",
       "    .dataframe tbody tr th:only-of-type {\n",
       "        vertical-align: middle;\n",
       "    }\n",
       "\n",
       "    .dataframe tbody tr th {\n",
       "        vertical-align: top;\n",
       "    }\n",
       "\n",
       "    .dataframe thead th {\n",
       "        text-align: right;\n",
       "    }\n",
       "</style>\n",
       "<table border=\"1\" class=\"dataframe\">\n",
       "  <thead>\n",
       "    <tr style=\"text-align: right;\">\n",
       "      <th></th>\n",
       "      <th>ticket_id</th>\n",
       "      <th>admin_fee</th>\n",
       "      <th>state_fee</th>\n",
       "      <th>late_fee</th>\n",
       "      <th>discount_amount</th>\n",
       "      <th>judgment_amount</th>\n",
       "      <th>balance_due</th>\n",
       "    </tr>\n",
       "  </thead>\n",
       "  <tbody>\n",
       "    <tr>\n",
       "      <th>ticket_id</th>\n",
       "      <td>1.000000</td>\n",
       "      <td>-0.038099</td>\n",
       "      <td>-0.038099</td>\n",
       "      <td>-0.005715</td>\n",
       "      <td>-0.019900</td>\n",
       "      <td>-0.012859</td>\n",
       "      <td>0.003718</td>\n",
       "    </tr>\n",
       "    <tr>\n",
       "      <th>admin_fee</th>\n",
       "      <td>-0.038099</td>\n",
       "      <td>1.000000</td>\n",
       "      <td>1.000000</td>\n",
       "      <td>0.286289</td>\n",
       "      <td>0.027442</td>\n",
       "      <td>0.322319</td>\n",
       "      <td>0.275884</td>\n",
       "    </tr>\n",
       "    <tr>\n",
       "      <th>state_fee</th>\n",
       "      <td>-0.038099</td>\n",
       "      <td>1.000000</td>\n",
       "      <td>1.000000</td>\n",
       "      <td>0.286289</td>\n",
       "      <td>0.027442</td>\n",
       "      <td>0.322319</td>\n",
       "      <td>0.275884</td>\n",
       "    </tr>\n",
       "    <tr>\n",
       "      <th>late_fee</th>\n",
       "      <td>-0.005715</td>\n",
       "      <td>0.286289</td>\n",
       "      <td>0.286289</td>\n",
       "      <td>1.000000</td>\n",
       "      <td>-0.013891</td>\n",
       "      <td>0.989371</td>\n",
       "      <td>0.948404</td>\n",
       "    </tr>\n",
       "    <tr>\n",
       "      <th>discount_amount</th>\n",
       "      <td>-0.019900</td>\n",
       "      <td>0.027442</td>\n",
       "      <td>0.027442</td>\n",
       "      <td>-0.013891</td>\n",
       "      <td>1.000000</td>\n",
       "      <td>0.040895</td>\n",
       "      <td>-0.018124</td>\n",
       "    </tr>\n",
       "    <tr>\n",
       "      <th>judgment_amount</th>\n",
       "      <td>-0.012859</td>\n",
       "      <td>0.322319</td>\n",
       "      <td>0.322319</td>\n",
       "      <td>0.989371</td>\n",
       "      <td>0.040895</td>\n",
       "      <td>1.000000</td>\n",
       "      <td>0.941940</td>\n",
       "    </tr>\n",
       "    <tr>\n",
       "      <th>balance_due</th>\n",
       "      <td>0.003718</td>\n",
       "      <td>0.275884</td>\n",
       "      <td>0.275884</td>\n",
       "      <td>0.948404</td>\n",
       "      <td>-0.018124</td>\n",
       "      <td>0.941940</td>\n",
       "      <td>1.000000</td>\n",
       "    </tr>\n",
       "  </tbody>\n",
       "</table>\n",
       "</div>"
      ],
      "text/plain": [
       "                 ticket_id  admin_fee  state_fee  late_fee  discount_amount  \\\n",
       "ticket_id         1.000000  -0.038099  -0.038099 -0.005715        -0.019900   \n",
       "admin_fee        -0.038099   1.000000   1.000000  0.286289         0.027442   \n",
       "state_fee        -0.038099   1.000000   1.000000  0.286289         0.027442   \n",
       "late_fee         -0.005715   0.286289   0.286289  1.000000        -0.013891   \n",
       "discount_amount  -0.019900   0.027442   0.027442 -0.013891         1.000000   \n",
       "judgment_amount  -0.012859   0.322319   0.322319  0.989371         0.040895   \n",
       "balance_due       0.003718   0.275884   0.275884  0.948404        -0.018124   \n",
       "\n",
       "                 judgment_amount  balance_due  \n",
       "ticket_id              -0.012859     0.003718  \n",
       "admin_fee               0.322319     0.275884  \n",
       "state_fee               0.322319     0.275884  \n",
       "late_fee                0.989371     0.948404  \n",
       "discount_amount         0.040895    -0.018124  \n",
       "judgment_amount         1.000000     0.941940  \n",
       "balance_due             0.941940     1.000000  "
      ]
     },
     "metadata": {},
     "output_type": "display_data"
    },
    {
     "name": "stderr",
     "output_type": "stream",
     "text": [
      "C:\\Users\\user\\AppData\\Local\\Temp\\ipykernel_15096\\2485201280.py:12: FutureWarning: this method is deprecated in favour of `Styler.format(precision=..)`\n",
      "  corr.style.background_gradient(cmap, axis = 1) \\\n"
     ]
    },
    {
     "data": {
      "text/html": [
       "<style type=\"text/css\">\n",
       "#T_df5e1 th {\n",
       "  font-size: 7pt;\n",
       "}\n",
       "#T_df5e1 td {\n",
       "  padding: 0em 0em;\n",
       "}\n",
       "#T_df5e1 th:hover {\n",
       "  font-size: 12pt;\n",
       "}\n",
       "#T_df5e1 tr:hover td:hover {\n",
       "  max-width: 200px;\n",
       "  font-size: 12pt;\n",
       "}\n",
       "#T_df5e1_row0_col0, #T_df5e1_row1_col1, #T_df5e1_row1_col2, #T_df5e1_row2_col1, #T_df5e1_row2_col2, #T_df5e1_row3_col3, #T_df5e1_row4_col4, #T_df5e1_row5_col5, #T_df5e1_row6_col6 {\n",
       "  background-color: #4479bb;\n",
       "  color: #f1f1f1;\n",
       "  max-width: 80px;\n",
       "  font-size: 10pt;\n",
       "}\n",
       "#T_df5e1_row0_col1, #T_df5e1_row0_col2, #T_df5e1_row1_col0, #T_df5e1_row2_col0, #T_df5e1_row3_col4, #T_df5e1_row4_col0, #T_df5e1_row4_col6, #T_df5e1_row5_col0, #T_df5e1_row6_col4 {\n",
       "  background-color: #d73c5b;\n",
       "  color: #f1f1f1;\n",
       "  max-width: 80px;\n",
       "  font-size: 10pt;\n",
       "}\n",
       "#T_df5e1_row0_col3 {\n",
       "  background-color: #d94663;\n",
       "  color: #f1f1f1;\n",
       "  max-width: 80px;\n",
       "  font-size: 10pt;\n",
       "}\n",
       "#T_df5e1_row0_col4 {\n",
       "  background-color: #d8415f;\n",
       "  color: #f1f1f1;\n",
       "  max-width: 80px;\n",
       "  font-size: 10pt;\n",
       "}\n",
       "#T_df5e1_row0_col5 {\n",
       "  background-color: #d84462;\n",
       "  color: #f1f1f1;\n",
       "  max-width: 80px;\n",
       "  font-size: 10pt;\n",
       "}\n",
       "#T_df5e1_row0_col6 {\n",
       "  background-color: #d94a67;\n",
       "  color: #f1f1f1;\n",
       "  max-width: 80px;\n",
       "  font-size: 10pt;\n",
       "}\n",
       "#T_df5e1_row1_col3, #T_df5e1_row2_col3 {\n",
       "  background-color: #e8adb8;\n",
       "  color: #000000;\n",
       "  max-width: 80px;\n",
       "  font-size: 10pt;\n",
       "}\n",
       "#T_df5e1_row1_col4, #T_df5e1_row2_col4 {\n",
       "  background-color: #db526e;\n",
       "  color: #f1f1f1;\n",
       "  max-width: 80px;\n",
       "  font-size: 10pt;\n",
       "}\n",
       "#T_df5e1_row1_col5, #T_df5e1_row2_col5 {\n",
       "  background-color: #eab9c3;\n",
       "  color: #000000;\n",
       "  max-width: 80px;\n",
       "  font-size: 10pt;\n",
       "}\n",
       "#T_df5e1_row1_col6, #T_df5e1_row2_col6 {\n",
       "  background-color: #e8aab6;\n",
       "  color: #000000;\n",
       "  max-width: 80px;\n",
       "  font-size: 10pt;\n",
       "}\n",
       "#T_df5e1_row3_col0 {\n",
       "  background-color: #d83e5d;\n",
       "  color: #f1f1f1;\n",
       "  max-width: 80px;\n",
       "  font-size: 10pt;\n",
       "}\n",
       "#T_df5e1_row3_col1, #T_df5e1_row3_col2 {\n",
       "  background-color: #e7a7b4;\n",
       "  color: #000000;\n",
       "  max-width: 80px;\n",
       "  font-size: 10pt;\n",
       "}\n",
       "#T_df5e1_row3_col5, #T_df5e1_row5_col3 {\n",
       "  background-color: #477bbb;\n",
       "  color: #f1f1f1;\n",
       "  max-width: 80px;\n",
       "  font-size: 10pt;\n",
       "}\n",
       "#T_df5e1_row3_col6 {\n",
       "  background-color: #5585c0;\n",
       "  color: #f1f1f1;\n",
       "  max-width: 80px;\n",
       "  font-size: 10pt;\n",
       "}\n",
       "#T_df5e1_row4_col1, #T_df5e1_row4_col2 {\n",
       "  background-color: #da4b68;\n",
       "  color: #f1f1f1;\n",
       "  max-width: 80px;\n",
       "  font-size: 10pt;\n",
       "}\n",
       "#T_df5e1_row4_col3 {\n",
       "  background-color: #d73d5c;\n",
       "  color: #f1f1f1;\n",
       "  max-width: 80px;\n",
       "  font-size: 10pt;\n",
       "}\n",
       "#T_df5e1_row4_col5 {\n",
       "  background-color: #da516c;\n",
       "  color: #f1f1f1;\n",
       "  max-width: 80px;\n",
       "  font-size: 10pt;\n",
       "}\n",
       "#T_df5e1_row5_col1, #T_df5e1_row5_col2 {\n",
       "  background-color: #e9b4be;\n",
       "  color: #000000;\n",
       "  max-width: 80px;\n",
       "  font-size: 10pt;\n",
       "}\n",
       "#T_df5e1_row5_col4 {\n",
       "  background-color: #da4e6a;\n",
       "  color: #f1f1f1;\n",
       "  max-width: 80px;\n",
       "  font-size: 10pt;\n",
       "}\n",
       "#T_df5e1_row5_col6, #T_df5e1_row6_col5 {\n",
       "  background-color: #5786c1;\n",
       "  color: #f1f1f1;\n",
       "  max-width: 80px;\n",
       "  font-size: 10pt;\n",
       "}\n",
       "#T_df5e1_row6_col0 {\n",
       "  background-color: #d84361;\n",
       "  color: #f1f1f1;\n",
       "  max-width: 80px;\n",
       "  font-size: 10pt;\n",
       "}\n",
       "#T_df5e1_row6_col1, #T_df5e1_row6_col2 {\n",
       "  background-color: #e7a4b1;\n",
       "  color: #000000;\n",
       "  max-width: 80px;\n",
       "  font-size: 10pt;\n",
       "}\n",
       "#T_df5e1_row6_col3 {\n",
       "  background-color: #5484c0;\n",
       "  color: #f1f1f1;\n",
       "  max-width: 80px;\n",
       "  font-size: 10pt;\n",
       "}\n",
       "</style>\n",
       "<table id=\"T_df5e1\">\n",
       "  <caption>Hover to magify</caption>\n",
       "  <thead>\n",
       "    <tr>\n",
       "      <th class=\"blank level0\" >&nbsp;</th>\n",
       "      <th id=\"T_df5e1_level0_col0\" class=\"col_heading level0 col0\" >ticket_id</th>\n",
       "      <th id=\"T_df5e1_level0_col1\" class=\"col_heading level0 col1\" >admin_fee</th>\n",
       "      <th id=\"T_df5e1_level0_col2\" class=\"col_heading level0 col2\" >state_fee</th>\n",
       "      <th id=\"T_df5e1_level0_col3\" class=\"col_heading level0 col3\" >late_fee</th>\n",
       "      <th id=\"T_df5e1_level0_col4\" class=\"col_heading level0 col4\" >discount_amount</th>\n",
       "      <th id=\"T_df5e1_level0_col5\" class=\"col_heading level0 col5\" >judgment_amount</th>\n",
       "      <th id=\"T_df5e1_level0_col6\" class=\"col_heading level0 col6\" >balance_due</th>\n",
       "    </tr>\n",
       "  </thead>\n",
       "  <tbody>\n",
       "    <tr>\n",
       "      <th id=\"T_df5e1_level0_row0\" class=\"row_heading level0 row0\" >ticket_id</th>\n",
       "      <td id=\"T_df5e1_row0_col0\" class=\"data row0 col0\" >1.00</td>\n",
       "      <td id=\"T_df5e1_row0_col1\" class=\"data row0 col1\" >-0.04</td>\n",
       "      <td id=\"T_df5e1_row0_col2\" class=\"data row0 col2\" >-0.04</td>\n",
       "      <td id=\"T_df5e1_row0_col3\" class=\"data row0 col3\" >-0.01</td>\n",
       "      <td id=\"T_df5e1_row0_col4\" class=\"data row0 col4\" >-0.02</td>\n",
       "      <td id=\"T_df5e1_row0_col5\" class=\"data row0 col5\" >-0.01</td>\n",
       "      <td id=\"T_df5e1_row0_col6\" class=\"data row0 col6\" >0.00</td>\n",
       "    </tr>\n",
       "    <tr>\n",
       "      <th id=\"T_df5e1_level0_row1\" class=\"row_heading level0 row1\" >admin_fee</th>\n",
       "      <td id=\"T_df5e1_row1_col0\" class=\"data row1 col0\" >-0.04</td>\n",
       "      <td id=\"T_df5e1_row1_col1\" class=\"data row1 col1\" >1.00</td>\n",
       "      <td id=\"T_df5e1_row1_col2\" class=\"data row1 col2\" >1.00</td>\n",
       "      <td id=\"T_df5e1_row1_col3\" class=\"data row1 col3\" >0.29</td>\n",
       "      <td id=\"T_df5e1_row1_col4\" class=\"data row1 col4\" >0.03</td>\n",
       "      <td id=\"T_df5e1_row1_col5\" class=\"data row1 col5\" >0.32</td>\n",
       "      <td id=\"T_df5e1_row1_col6\" class=\"data row1 col6\" >0.28</td>\n",
       "    </tr>\n",
       "    <tr>\n",
       "      <th id=\"T_df5e1_level0_row2\" class=\"row_heading level0 row2\" >state_fee</th>\n",
       "      <td id=\"T_df5e1_row2_col0\" class=\"data row2 col0\" >-0.04</td>\n",
       "      <td id=\"T_df5e1_row2_col1\" class=\"data row2 col1\" >1.00</td>\n",
       "      <td id=\"T_df5e1_row2_col2\" class=\"data row2 col2\" >1.00</td>\n",
       "      <td id=\"T_df5e1_row2_col3\" class=\"data row2 col3\" >0.29</td>\n",
       "      <td id=\"T_df5e1_row2_col4\" class=\"data row2 col4\" >0.03</td>\n",
       "      <td id=\"T_df5e1_row2_col5\" class=\"data row2 col5\" >0.32</td>\n",
       "      <td id=\"T_df5e1_row2_col6\" class=\"data row2 col6\" >0.28</td>\n",
       "    </tr>\n",
       "    <tr>\n",
       "      <th id=\"T_df5e1_level0_row3\" class=\"row_heading level0 row3\" >late_fee</th>\n",
       "      <td id=\"T_df5e1_row3_col0\" class=\"data row3 col0\" >-0.01</td>\n",
       "      <td id=\"T_df5e1_row3_col1\" class=\"data row3 col1\" >0.29</td>\n",
       "      <td id=\"T_df5e1_row3_col2\" class=\"data row3 col2\" >0.29</td>\n",
       "      <td id=\"T_df5e1_row3_col3\" class=\"data row3 col3\" >1.00</td>\n",
       "      <td id=\"T_df5e1_row3_col4\" class=\"data row3 col4\" >-0.01</td>\n",
       "      <td id=\"T_df5e1_row3_col5\" class=\"data row3 col5\" >0.99</td>\n",
       "      <td id=\"T_df5e1_row3_col6\" class=\"data row3 col6\" >0.95</td>\n",
       "    </tr>\n",
       "    <tr>\n",
       "      <th id=\"T_df5e1_level0_row4\" class=\"row_heading level0 row4\" >discount_amount</th>\n",
       "      <td id=\"T_df5e1_row4_col0\" class=\"data row4 col0\" >-0.02</td>\n",
       "      <td id=\"T_df5e1_row4_col1\" class=\"data row4 col1\" >0.03</td>\n",
       "      <td id=\"T_df5e1_row4_col2\" class=\"data row4 col2\" >0.03</td>\n",
       "      <td id=\"T_df5e1_row4_col3\" class=\"data row4 col3\" >-0.01</td>\n",
       "      <td id=\"T_df5e1_row4_col4\" class=\"data row4 col4\" >1.00</td>\n",
       "      <td id=\"T_df5e1_row4_col5\" class=\"data row4 col5\" >0.04</td>\n",
       "      <td id=\"T_df5e1_row4_col6\" class=\"data row4 col6\" >-0.02</td>\n",
       "    </tr>\n",
       "    <tr>\n",
       "      <th id=\"T_df5e1_level0_row5\" class=\"row_heading level0 row5\" >judgment_amount</th>\n",
       "      <td id=\"T_df5e1_row5_col0\" class=\"data row5 col0\" >-0.01</td>\n",
       "      <td id=\"T_df5e1_row5_col1\" class=\"data row5 col1\" >0.32</td>\n",
       "      <td id=\"T_df5e1_row5_col2\" class=\"data row5 col2\" >0.32</td>\n",
       "      <td id=\"T_df5e1_row5_col3\" class=\"data row5 col3\" >0.99</td>\n",
       "      <td id=\"T_df5e1_row5_col4\" class=\"data row5 col4\" >0.04</td>\n",
       "      <td id=\"T_df5e1_row5_col5\" class=\"data row5 col5\" >1.00</td>\n",
       "      <td id=\"T_df5e1_row5_col6\" class=\"data row5 col6\" >0.94</td>\n",
       "    </tr>\n",
       "    <tr>\n",
       "      <th id=\"T_df5e1_level0_row6\" class=\"row_heading level0 row6\" >balance_due</th>\n",
       "      <td id=\"T_df5e1_row6_col0\" class=\"data row6 col0\" >0.00</td>\n",
       "      <td id=\"T_df5e1_row6_col1\" class=\"data row6 col1\" >0.28</td>\n",
       "      <td id=\"T_df5e1_row6_col2\" class=\"data row6 col2\" >0.28</td>\n",
       "      <td id=\"T_df5e1_row6_col3\" class=\"data row6 col3\" >0.95</td>\n",
       "      <td id=\"T_df5e1_row6_col4\" class=\"data row6 col4\" >-0.02</td>\n",
       "      <td id=\"T_df5e1_row6_col5\" class=\"data row6 col5\" >0.94</td>\n",
       "      <td id=\"T_df5e1_row6_col6\" class=\"data row6 col6\" >1.00</td>\n",
       "    </tr>\n",
       "  </tbody>\n",
       "</table>\n"
      ],
      "text/plain": [
       "<pandas.io.formats.style.Styler at 0x14e343b42e0>"
      ]
     },
     "execution_count": 62,
     "metadata": {},
     "output_type": "execute_result"
    }
   ],
   "source": [
    "corr = vis_data.drop(['violation_zip_code', 'payment_amount', 'clean_up_cost', 'violation_street_number'], axis = 1). \\\n",
    "                dropna(axis = 1).corr()\n",
    "cmap = sns.diverging_palette(5, 250, as_cmap = True)\n",
    "\n",
    "def magnify():\n",
    "    return [dict(selector = \"th\", props = [(\"font-size\", \"7pt\")]),\n",
    "            dict(selector = \"td\", props = [('padding', \"0em 0em\")]),\n",
    "            dict(selector = \"th:hover\", props = [(\"font-size\", \"12pt\")]),\n",
    "            dict(selector = \"tr:hover td:hover\", props = [('max-width', '200px'), ('font-size', '12pt')])]\n",
    "\n",
    "display(corr)\n",
    "corr.style.background_gradient(cmap, axis = 1) \\\n",
    "    .set_properties(**{'max-width': '80px', 'font-size': '10pt'}) \\\n",
    "    .set_caption(\"Hover to magify\") \\\n",
    "    .set_precision(2) \\\n",
    "    .set_table_styles(magnify())"
   ]
  },
  {
   "attachments": {
    "image.png": {
     "image/png": "[encoded data removed]"
    }
   },
   "cell_type": "markdown",
   "id": "76423aac",
   "metadata": {},
   "source": [
    "![image.png](attachment:image.png)"
   ]
  },
  {
   "cell_type": "markdown",
   "id": "9d5fc070",
   "metadata": {},
   "source": [
    "   "
   ]
  },
  {
   "cell_type": "markdown",
   "id": "463141ce",
   "metadata": {},
   "source": [
    "## 6. Создание новых признаков  \n",
    "- ручное создание признаков,   \n",
    "- полиномиальные признаки,   \n",
    "- dummy-переменные,   \n",
    "- работа с датой/временем."
   ]
  },
  {
   "cell_type": "markdown",
   "id": "89eae70d",
   "metadata": {},
   "source": [
    "Создание новых признаков (Feature Engineering) - трудоемкий процесс, который позволяет значительно повысить точность алгоритма при правильном использовании методов. Значительное повышение точности обычно происходит после того, как Data Science разработчик погружается в предметную область задачи, поскольку это позволяет создавать новые признаки осмысленно. Существуют также автоматические / полуавтоматич. методы создания новых признаков. Для исследования темы создания новых признаков воспользуемся датасетом `vis_data` и дополним его новой информацией."
   ]
  },
  {
   "cell_type": "code",
   "execution_count": 4,
   "id": "e43c1594",
   "metadata": {
    "ExecuteTime": {
     "end_time": "2024-02-22T13:29:15.458867Z",
     "start_time": "2024-02-22T13:29:15.000604Z"
    }
   },
   "outputs": [
    {
     "data": {
      "text/html": [
       "<div>\n",
       "<style scoped>\n",
       "    .dataframe tbody tr th:only-of-type {\n",
       "        vertical-align: middle;\n",
       "    }\n",
       "\n",
       "    .dataframe tbody tr th {\n",
       "        vertical-align: top;\n",
       "    }\n",
       "\n",
       "    .dataframe thead th {\n",
       "        text-align: right;\n",
       "    }\n",
       "</style>\n",
       "<table border=\"1\" class=\"dataframe\">\n",
       "  <thead>\n",
       "    <tr style=\"text-align: right;\">\n",
       "      <th></th>\n",
       "      <th>ticket_id</th>\n",
       "      <th>agency_name</th>\n",
       "      <th>inspector_name</th>\n",
       "      <th>violator_name</th>\n",
       "      <th>violation_street_number</th>\n",
       "      <th>violation_street_name</th>\n",
       "      <th>mailing_address_str_number</th>\n",
       "      <th>mailing_address_str_name</th>\n",
       "      <th>city</th>\n",
       "      <th>state</th>\n",
       "      <th>...</th>\n",
       "      <th>balance_due</th>\n",
       "      <th>payment_date</th>\n",
       "      <th>payment_status</th>\n",
       "      <th>collection_status</th>\n",
       "      <th>grafitti_status</th>\n",
       "      <th>compliance_detail</th>\n",
       "      <th>compliance</th>\n",
       "      <th>address</th>\n",
       "      <th>lat</th>\n",
       "      <th>lon</th>\n",
       "    </tr>\n",
       "  </thead>\n",
       "  <tbody>\n",
       "    <tr>\n",
       "      <th>0</th>\n",
       "      <td>22056</td>\n",
       "      <td>Buildings, Safety Engineering &amp; Env Department</td>\n",
       "      <td>Sims, Martinzie</td>\n",
       "      <td>INVESTMENT INC., MIDWEST MORTGAGE</td>\n",
       "      <td>2900.0</td>\n",
       "      <td>TYLER</td>\n",
       "      <td>3.0</td>\n",
       "      <td>S. WICKER</td>\n",
       "      <td>CHICAGO</td>\n",
       "      <td>IL</td>\n",
       "      <td>...</td>\n",
       "      <td>305.0</td>\n",
       "      <td>NaN</td>\n",
       "      <td>NO PAYMENT APPLIED</td>\n",
       "      <td>NaN</td>\n",
       "      <td>NaN</td>\n",
       "      <td>non-compliant by no payment</td>\n",
       "      <td>0.0</td>\n",
       "      <td>4300 rosa parks blvd, Detroit MI 48208</td>\n",
       "      <td>42.346169</td>\n",
       "      <td>-83.079962</td>\n",
       "    </tr>\n",
       "    <tr>\n",
       "      <th>1</th>\n",
       "      <td>27586</td>\n",
       "      <td>Buildings, Safety Engineering &amp; Env Department</td>\n",
       "      <td>Williams, Darrin</td>\n",
       "      <td>Michigan, Covenant House</td>\n",
       "      <td>4311.0</td>\n",
       "      <td>CENTRAL</td>\n",
       "      <td>2959.0</td>\n",
       "      <td>Martin Luther King</td>\n",
       "      <td>Detroit</td>\n",
       "      <td>MI</td>\n",
       "      <td>...</td>\n",
       "      <td>75.0</td>\n",
       "      <td>2005-06-02 00:00:00</td>\n",
       "      <td>PAID IN FULL</td>\n",
       "      <td>NaN</td>\n",
       "      <td>NaN</td>\n",
       "      <td>compliant by late payment within 1 month</td>\n",
       "      <td>1.0</td>\n",
       "      <td>14512 sussex, Detroit MI</td>\n",
       "      <td>42.394657</td>\n",
       "      <td>-83.194265</td>\n",
       "    </tr>\n",
       "    <tr>\n",
       "      <th>2</th>\n",
       "      <td>22062</td>\n",
       "      <td>Buildings, Safety Engineering &amp; Env Department</td>\n",
       "      <td>Sims, Martinzie</td>\n",
       "      <td>SANDERS, DERRON</td>\n",
       "      <td>1449.0</td>\n",
       "      <td>LONGFELLOW</td>\n",
       "      <td>23658.0</td>\n",
       "      <td>P.O. BOX</td>\n",
       "      <td>DETROIT</td>\n",
       "      <td>MI</td>\n",
       "      <td>...</td>\n",
       "      <td>0.0</td>\n",
       "      <td>NaN</td>\n",
       "      <td>NO PAYMENT APPLIED</td>\n",
       "      <td>NaN</td>\n",
       "      <td>NaN</td>\n",
       "      <td>not responsible by disposition</td>\n",
       "      <td>NaN</td>\n",
       "      <td>3456 garland, Detroit MI</td>\n",
       "      <td>42.373779</td>\n",
       "      <td>-82.986228</td>\n",
       "    </tr>\n",
       "  </tbody>\n",
       "</table>\n",
       "<p>3 rows × 35 columns</p>\n",
       "</div>"
      ],
      "text/plain": [
       "   ticket_id                                     agency_name  \\\n",
       "0      22056  Buildings, Safety Engineering & Env Department   \n",
       "1      27586  Buildings, Safety Engineering & Env Department   \n",
       "2      22062  Buildings, Safety Engineering & Env Department   \n",
       "\n",
       "     inspector_name                      violator_name  \\\n",
       "0   Sims, Martinzie  INVESTMENT INC., MIDWEST MORTGAGE   \n",
       "1  Williams, Darrin           Michigan, Covenant House   \n",
       "2   Sims, Martinzie                    SANDERS, DERRON   \n",
       "\n",
       "   violation_street_number violation_street_name  mailing_address_str_number  \\\n",
       "0                   2900.0                 TYLER                         3.0   \n",
       "1                   4311.0               CENTRAL                      2959.0   \n",
       "2                   1449.0            LONGFELLOW                     23658.0   \n",
       "\n",
       "  mailing_address_str_name     city state  ... balance_due  \\\n",
       "0                S. WICKER  CHICAGO    IL  ...       305.0   \n",
       "1       Martin Luther King  Detroit    MI  ...        75.0   \n",
       "2                 P.O. BOX  DETROIT    MI  ...         0.0   \n",
       "\n",
       "          payment_date      payment_status collection_status grafitti_status  \\\n",
       "0                  NaN  NO PAYMENT APPLIED               NaN             NaN   \n",
       "1  2005-06-02 00:00:00        PAID IN FULL               NaN             NaN   \n",
       "2                  NaN  NO PAYMENT APPLIED               NaN             NaN   \n",
       "\n",
       "                          compliance_detail compliance  \\\n",
       "0               non-compliant by no payment        0.0   \n",
       "1  compliant by late payment within 1 month        1.0   \n",
       "2            not responsible by disposition        NaN   \n",
       "\n",
       "                                  address        lat        lon  \n",
       "0  4300 rosa parks blvd, Detroit MI 48208  42.346169 -83.079962  \n",
       "1                14512 sussex, Detroit MI  42.394657 -83.194265  \n",
       "2                3456 garland, Detroit MI  42.373779 -82.986228  \n",
       "\n",
       "[3 rows x 35 columns]"
      ]
     },
     "metadata": {},
     "output_type": "display_data"
    }
   ],
   "source": [
    "# vis_data = pd.read_csv(\"train.csv\", \n",
    "#                        encoding = 'ISO-8859-1', \n",
    "#                        low_memory = False)\n",
    "# display(vis_data.head(3))\n",
    "\n",
    "vis_data = vis_data.drop(['violation_zip_code', 'clean_up_cost'], axis = 1)\n",
    "latlons = pd.read_csv(\"latlons.csv\")\n",
    "vis_data = pd.concat([vis_data, latlons], axis = 1)\n",
    "display(vis_data.head(3))"
   ]
  },
  {
   "cell_type": "markdown",
   "id": "fdf31d9b",
   "metadata": {},
   "source": [
    "### Ручное создание признаков"
   ]
  },
  {
   "cell_type": "code",
   "execution_count": 5,
   "id": "a52b3adb",
   "metadata": {
    "ExecuteTime": {
     "end_time": "2024-02-22T13:29:18.695168Z",
     "start_time": "2024-02-22T13:29:18.676129Z"
    }
   },
   "outputs": [
    {
     "name": "stdout",
     "output_type": "stream",
     "text": [
      "Столбцы датасета: \n",
      "Index(['ticket_id', 'agency_name', 'inspector_name', 'violator_name',\n",
      "       'violation_street_number', 'violation_street_name',\n",
      "       'mailing_address_str_number', 'mailing_address_str_name', 'city',\n",
      "       'state', 'zip_code', 'non_us_str_code', 'country', 'ticket_issued_date',\n",
      "       'hearing_date', 'violation_code', 'violation_description',\n",
      "       'disposition', 'fine_amount', 'admin_fee', 'state_fee', 'late_fee',\n",
      "       'discount_amount', 'judgment_amount', 'payment_amount', 'balance_due',\n",
      "       'payment_date', 'payment_status', 'collection_status',\n",
      "       'grafitti_status', 'compliance_detail', 'compliance', 'address', 'lat',\n",
      "       'lon'],\n",
      "      dtype='object')\n",
      "\n",
      "Уникальные значения признака \"compliance\": [ 0.  1. nan]\n"
     ]
    }
   ],
   "source": [
    "print(f'Столбцы датасета: \\n{vis_data.columns}')\n",
    "print(f'\\nУникальные значения признака \"compliance\": {vis_data.compliance.unique()}')"
   ]
  },
  {
   "cell_type": "markdown",
   "id": "8c99f7da",
   "metadata": {},
   "source": [
    "Судя по названию переменных, это данные о нарушителях, которые должны оплатить штраф за какое-то правонарушение.  \n",
    "- В датасете есть переменная *compliance*, которая принимает значения `0`, `1` и `None`. Так как описания нет, мы можем предположить, что 0 - нарушитель заплатил штраф, 1 - не заплатил. Что в данном контексте означает None сказать трудно, возможно, это пропуски, которые следует просто удалить.  \n",
    "- Кроме изначальных признаков также имеется широта и долгота. Также, есть признак `city`.  \n",
    "\n",
    "Что можно сделать с таким набором признаков?  Можно, например, посмотреть расстояние от точки правонарушения до центра города, в котором произошло нарушение. Для начала посмотрим, какие города представлены в выборке:"
   ]
  },
  {
   "cell_type": "code",
   "execution_count": 6,
   "id": "25668d48",
   "metadata": {
    "ExecuteTime": {
     "end_time": "2024-02-22T13:29:21.979637Z",
     "start_time": "2024-02-22T13:29:21.854582Z"
    }
   },
   "outputs": [
    {
     "name": "stdout",
     "output_type": "stream",
     "text": [
      "Всего уникальных городов: 5184\n"
     ]
    },
    {
     "data": {
      "text/plain": [
       "DETROIT             136936\n",
       "SOUTHFIELD           13436\n",
       "Detroit              10496\n",
       "detroit               4183\n",
       "DEARBORN              3637\n",
       "FARMINGTON HILLS      2329\n",
       "OAK PARK              2216\n",
       "WARREN                2000\n",
       "DET                   1657\n",
       "W. BLOOMFIELD         1635\n",
       "Name: city, dtype: int64"
      ]
     },
     "execution_count": 6,
     "metadata": {},
     "output_type": "execute_result"
    }
   ],
   "source": [
    "print(f'Всего уникальных городов: {vis_data.city.nunique()}')\n",
    "vis_data.city.value_counts()[:10]"
   ]
  },
  {
   "cell_type": "markdown",
   "id": "16a35594",
   "metadata": {},
   "source": [
    "Видно, что подавляющую часть значений составляет `DETROIT`. Ниже также видны `Detroit` и `detroit`.  \n",
    "Название города с самым большим количеством нарушений записано по-разному. Возможно, некоторые другие города тоже записаны в разном регистре. Необходимо это исправить."
   ]
  },
  {
   "cell_type": "code",
   "execution_count": 7,
   "id": "d36d8b20",
   "metadata": {
    "ExecuteTime": {
     "end_time": "2024-02-22T13:29:24.456307Z",
     "start_time": "2024-02-22T13:29:24.182748Z"
    }
   },
   "outputs": [
    {
     "data": {
      "text/plain": [
       "detroit             151621\n",
       "southfield           14760\n",
       "dearborn              4017\n",
       "farmington hills      2508\n",
       "oak park              2432\n",
       "warren                2150\n",
       "det                   1928\n",
       "livonia               1798\n",
       "w. bloomfield         1795\n",
       "redford               1718\n",
       "Name: city, dtype: int64"
      ]
     },
     "execution_count": 7,
     "metadata": {},
     "output_type": "execute_result"
    }
   ],
   "source": [
    "# Приведем названия городов к одному регистру\n",
    "# vis_data.city = vis_data.city.str.lower()\n",
    "vis_data.city = vis_data.city.apply(lambda x: x.lower())\n",
    "vis_data.city.value_counts()[:10]"
   ]
  },
  {
   "cell_type": "markdown",
   "id": "e2552ce2",
   "metadata": {},
   "source": [
    "Теперь данные более явно демонстрируют, что большинство преступлений (из представленных в выборке) совершается в Детройте. Также в данных есть значение det, которое, скорее всего, тоже означает Детройт и это значение также можно скорректировать. \n",
    "Возможно, информативным признаком будет расстояние от места правонарушения до центра Детройта.  \n",
    "\n",
    "Найдем для каждого нарушения (для которого есть широта и долгота), его расстояние до центра Детройта со следующими координатами:\n",
    " - широта: 42.331429\n",
    " - долгота: -83.045753"
   ]
  },
  {
   "cell_type": "code",
   "execution_count": 8,
   "id": "eb2ed17e",
   "metadata": {
    "ExecuteTime": {
     "end_time": "2024-02-22T13:29:35.063555Z",
     "start_time": "2024-02-22T13:29:27.987744Z"
    }
   },
   "outputs": [],
   "source": [
    "def haversine(lon1, lat1, lon2, lat2):\n",
    "    lon1, lat1, lon2, lat2 = map(radians, [lon1, lat1, lon2, lat2])\n",
    "    dlon = lon2 - lon1\n",
    "    dlat = lat2 - lat1\n",
    "    a = sin(dlat / 2)**2 + cos(lat1) * cos(lat2) * sin(dlon/2) ** 2\n",
    "    c = 2 * asin(sqrt(a))\n",
    "    earth_radius = 6371 \n",
    "    return c * earth_radius\n",
    "\n",
    "vis_data['distance'] = vis_data.apply(lambda row: haversine(lon1 = -83.045753, \n",
    "                                                            lat1 = 42.331429,\n",
    "                                                            lon2 = row['lon'], \n",
    "                                                            lat2 = row['lat']), \n",
    "                                                            axis = 1)"
   ]
  },
  {
   "cell_type": "code",
   "execution_count": 9,
   "id": "5e6c5bfb",
   "metadata": {
    "ExecuteTime": {
     "end_time": "2024-02-22T13:29:50.982735Z",
     "start_time": "2024-02-22T13:29:50.402474Z"
    }
   },
   "outputs": [
    {
     "data": {
      "text/plain": [
       "count    121762.000000\n",
       "mean         11.553138\n",
       "std           4.892769\n",
       "min           0.035651\n",
       "25%           8.501422\n",
       "50%          11.696956\n",
       "75%          14.261028\n",
       "max         557.825576\n",
       "Name: distance, dtype: float64"
      ]
     },
     "metadata": {},
     "output_type": "display_data"
    },
    {
     "data": {
      "text/plain": [
       "<AxesSubplot:>"
      ]
     },
     "execution_count": 9,
     "metadata": {},
     "output_type": "execute_result"
    },
    {
     "data": {
      "image/png": "[encoded data removed]",
      "text/plain": [
       "<Figure size 500x300 with 1 Axes>"
      ]
     },
     "metadata": {},
     "output_type": "display_data"
    }
   ],
   "source": [
    "display(vis_data.distance.describe())\n",
    "vis_data['distance'][vis_data['distance'] < 100].hist(bins = 100, figsize = (5, 3))"
   ]
  },
  {
   "cell_type": "markdown",
   "id": "9bb2cd8a",
   "metadata": {},
   "source": [
    "### Полиномиальные признаки  \n",
    "Рассмотрим более механические и менее интеллектуальные способы создания признаков.  \n",
    "Класс `PolynomialFeatures` из библиотеки `sklearn` принимает на вход набор признаков и на выходе отдает полиномиальные признаки, сгенерированные на основе входных и со степенью меньше либо равной указанной. "
   ]
  },
  {
   "cell_type": "code",
   "execution_count": 21,
   "id": "db3887ac",
   "metadata": {
    "ExecuteTime": {
     "end_time": "2024-01-18T11:57:18.743092Z",
     "start_time": "2024-01-18T11:57:18.680260Z"
    },
    "scrolled": true
   },
   "outputs": [
    {
     "data": {
      "text/plain": [
       "array([[1.0000e+00, 3.0500e+02, 0.0000e+00, 9.3025e+04, 0.0000e+00,\n",
       "        0.0000e+00],\n",
       "       [1.0000e+00, 7.5000e+01, 7.8000e+02, 5.6250e+03, 5.8500e+04,\n",
       "        6.0840e+05],\n",
       "       [1.0000e+00, 0.0000e+00, 0.0000e+00, 0.0000e+00, 0.0000e+00,\n",
       "        0.0000e+00],\n",
       "       [1.0000e+00, 0.0000e+00, 0.0000e+00, 0.0000e+00, 0.0000e+00,\n",
       "        0.0000e+00],\n",
       "       [1.0000e+00, 0.0000e+00, 0.0000e+00, 0.0000e+00, 0.0000e+00,\n",
       "        0.0000e+00]])"
      ]
     },
     "metadata": {},
     "output_type": "display_data"
    },
    {
     "name": "stdout",
     "output_type": "stream",
     "text": [
      "(250306, 6)\n"
     ]
    }
   ],
   "source": [
    "pf = PolynomialFeatures(2)  # [1, a, b, a^2, ab, b^2]\n",
    "\n",
    "poly_features = pf.fit_transform(vis_data[['balance_due', 'payment_amount']])\n",
    "display(poly_features[:5])\n",
    "print(poly_features.shape)"
   ]
  },
  {
   "cell_type": "markdown",
   "id": "f556d9cb",
   "metadata": {},
   "source": [
    "### Dummy-переменные\n",
    "\n",
    "Преобразуем признак `state` в dummy-переменные и посмотрим его размер `shape`:"
   ]
  },
  {
   "cell_type": "code",
   "execution_count": 13,
   "id": "ff5aca04",
   "metadata": {
    "ExecuteTime": {
     "end_time": "2024-02-22T13:37:45.114256Z",
     "start_time": "2024-02-22T13:37:44.789724Z"
    }
   },
   "outputs": [
    {
     "name": "stdout",
     "output_type": "stream",
     "text": [
      "Кол-во уникальных значений: 59 \n",
      "MI    228601\n",
      "CA      5020\n",
      "TX      2420\n",
      "FL      2237\n",
      "IL      1310\n",
      "SC      1304\n",
      "OH       967\n",
      "Name: state, dtype: int64\n"
     ]
    },
    {
     "data": {
      "text/html": [
       "<div>\n",
       "<style scoped>\n",
       "    .dataframe tbody tr th:only-of-type {\n",
       "        vertical-align: middle;\n",
       "    }\n",
       "\n",
       "    .dataframe tbody tr th {\n",
       "        vertical-align: top;\n",
       "    }\n",
       "\n",
       "    .dataframe thead th {\n",
       "        text-align: right;\n",
       "    }\n",
       "</style>\n",
       "<table border=\"1\" class=\"dataframe\">\n",
       "  <thead>\n",
       "    <tr style=\"text-align: right;\">\n",
       "      <th></th>\n",
       "      <th>AK</th>\n",
       "      <th>AL</th>\n",
       "      <th>AR</th>\n",
       "      <th>AZ</th>\n",
       "      <th>BC</th>\n",
       "      <th>BL</th>\n",
       "      <th>CA</th>\n",
       "      <th>CO</th>\n",
       "      <th>CT</th>\n",
       "      <th>DC</th>\n",
       "      <th>...</th>\n",
       "      <th>TX</th>\n",
       "      <th>UK</th>\n",
       "      <th>UT</th>\n",
       "      <th>VA</th>\n",
       "      <th>VI</th>\n",
       "      <th>VT</th>\n",
       "      <th>WA</th>\n",
       "      <th>WI</th>\n",
       "      <th>WV</th>\n",
       "      <th>WY</th>\n",
       "    </tr>\n",
       "  </thead>\n",
       "  <tbody>\n",
       "    <tr>\n",
       "      <th>0</th>\n",
       "      <td>0</td>\n",
       "      <td>0</td>\n",
       "      <td>0</td>\n",
       "      <td>0</td>\n",
       "      <td>0</td>\n",
       "      <td>0</td>\n",
       "      <td>0</td>\n",
       "      <td>0</td>\n",
       "      <td>0</td>\n",
       "      <td>0</td>\n",
       "      <td>...</td>\n",
       "      <td>0</td>\n",
       "      <td>0</td>\n",
       "      <td>0</td>\n",
       "      <td>0</td>\n",
       "      <td>0</td>\n",
       "      <td>0</td>\n",
       "      <td>0</td>\n",
       "      <td>0</td>\n",
       "      <td>0</td>\n",
       "      <td>0</td>\n",
       "    </tr>\n",
       "    <tr>\n",
       "      <th>1</th>\n",
       "      <td>0</td>\n",
       "      <td>0</td>\n",
       "      <td>0</td>\n",
       "      <td>0</td>\n",
       "      <td>0</td>\n",
       "      <td>0</td>\n",
       "      <td>0</td>\n",
       "      <td>0</td>\n",
       "      <td>0</td>\n",
       "      <td>0</td>\n",
       "      <td>...</td>\n",
       "      <td>0</td>\n",
       "      <td>0</td>\n",
       "      <td>0</td>\n",
       "      <td>0</td>\n",
       "      <td>0</td>\n",
       "      <td>0</td>\n",
       "      <td>0</td>\n",
       "      <td>0</td>\n",
       "      <td>0</td>\n",
       "      <td>0</td>\n",
       "    </tr>\n",
       "    <tr>\n",
       "      <th>2</th>\n",
       "      <td>0</td>\n",
       "      <td>0</td>\n",
       "      <td>0</td>\n",
       "      <td>0</td>\n",
       "      <td>0</td>\n",
       "      <td>0</td>\n",
       "      <td>0</td>\n",
       "      <td>0</td>\n",
       "      <td>0</td>\n",
       "      <td>0</td>\n",
       "      <td>...</td>\n",
       "      <td>0</td>\n",
       "      <td>0</td>\n",
       "      <td>0</td>\n",
       "      <td>0</td>\n",
       "      <td>0</td>\n",
       "      <td>0</td>\n",
       "      <td>0</td>\n",
       "      <td>0</td>\n",
       "      <td>0</td>\n",
       "      <td>0</td>\n",
       "    </tr>\n",
       "  </tbody>\n",
       "</table>\n",
       "<p>3 rows × 59 columns</p>\n",
       "</div>"
      ],
      "text/plain": [
       "   AK  AL  AR  AZ  BC  BL  CA  CO  CT  DC  ...  TX  UK  UT  VA  VI  VT  WA  \\\n",
       "0   0   0   0   0   0   0   0   0   0   0  ...   0   0   0   0   0   0   0   \n",
       "1   0   0   0   0   0   0   0   0   0   0  ...   0   0   0   0   0   0   0   \n",
       "2   0   0   0   0   0   0   0   0   0   0  ...   0   0   0   0   0   0   0   \n",
       "\n",
       "   WI  WV  WY  \n",
       "0   0   0   0  \n",
       "1   0   0   0  \n",
       "2   0   0   0  \n",
       "\n",
       "[3 rows x 59 columns]"
      ]
     },
     "metadata": {},
     "output_type": "display_data"
    },
    {
     "name": "stdout",
     "output_type": "stream",
     "text": [
      "(250306, 59)\n"
     ]
    }
   ],
   "source": [
    "print(f'Кол-во уникальных значений: {vis_data.state.nunique()} \\n{vis_data.state.value_counts()[:7]}')\n",
    "\n",
    "display(pd.get_dummies(vis_data.state).head(3))\n",
    "print(pd.get_dummies(vis_data.state).shape)  # drop_first = False \\ True"
   ]
  },
  {
   "cell_type": "markdown",
   "id": "0b89e835",
   "metadata": {},
   "source": [
    "Теперь преобразуем признак `city` в dummy-переменные. Для этого сначала проведем небольшую предобработку, чтобы сократить количество уникальных значений в этом признаке. Найдем города, которые описывают большинство `90%` примеров:"
   ]
  },
  {
   "cell_type": "code",
   "execution_count": 9,
   "id": "0d9b7475",
   "metadata": {
    "ExecuteTime": {
     "end_time": "2024-01-21T02:26:02.916828Z",
     "start_time": "2024-01-21T02:26:02.730329Z"
    },
    "scrolled": false
   },
   "outputs": [
    {
     "name": "stdout",
     "output_type": "stream",
     "text": [
      "14\n"
     ]
    },
    {
     "data": {
      "text/plain": [
       "detroit             151621\n",
       "other                60619\n",
       "southfield           14760\n",
       "dearborn              4017\n",
       "farmington hills      2508\n",
       "oak park              2432\n",
       "warren                2150\n",
       "det                   1928\n",
       "livonia               1798\n",
       "w. bloomfield         1795\n",
       "redford               1718\n",
       "troy                  1626\n",
       "west bloomfield       1230\n",
       "canton                1133\n",
       "eastpointe             971\n",
       "Name: city, dtype: int64"
      ]
     },
     "metadata": {},
     "output_type": "display_data"
    },
    {
     "name": "stdout",
     "output_type": "stream",
     "text": [
      "15\n"
     ]
    },
    {
     "data": {
      "text/html": [
       "<div>\n",
       "<style scoped>\n",
       "    .dataframe tbody tr th:only-of-type {\n",
       "        vertical-align: middle;\n",
       "    }\n",
       "\n",
       "    .dataframe tbody tr th {\n",
       "        vertical-align: top;\n",
       "    }\n",
       "\n",
       "    .dataframe thead th {\n",
       "        text-align: right;\n",
       "    }\n",
       "</style>\n",
       "<table border=\"1\" class=\"dataframe\">\n",
       "  <thead>\n",
       "    <tr style=\"text-align: right;\">\n",
       "      <th></th>\n",
       "      <th>dearborn</th>\n",
       "      <th>det</th>\n",
       "      <th>detroit</th>\n",
       "      <th>eastpointe</th>\n",
       "      <th>farmington hills</th>\n",
       "      <th>livonia</th>\n",
       "      <th>oak park</th>\n",
       "      <th>other</th>\n",
       "      <th>redford</th>\n",
       "      <th>southfield</th>\n",
       "      <th>troy</th>\n",
       "      <th>w. bloomfield</th>\n",
       "      <th>warren</th>\n",
       "      <th>west bloomfield</th>\n",
       "    </tr>\n",
       "  </thead>\n",
       "  <tbody>\n",
       "    <tr>\n",
       "      <th>0</th>\n",
       "      <td>0</td>\n",
       "      <td>0</td>\n",
       "      <td>0</td>\n",
       "      <td>0</td>\n",
       "      <td>0</td>\n",
       "      <td>0</td>\n",
       "      <td>0</td>\n",
       "      <td>1</td>\n",
       "      <td>0</td>\n",
       "      <td>0</td>\n",
       "      <td>0</td>\n",
       "      <td>0</td>\n",
       "      <td>0</td>\n",
       "      <td>0</td>\n",
       "    </tr>\n",
       "    <tr>\n",
       "      <th>1</th>\n",
       "      <td>0</td>\n",
       "      <td>0</td>\n",
       "      <td>1</td>\n",
       "      <td>0</td>\n",
       "      <td>0</td>\n",
       "      <td>0</td>\n",
       "      <td>0</td>\n",
       "      <td>0</td>\n",
       "      <td>0</td>\n",
       "      <td>0</td>\n",
       "      <td>0</td>\n",
       "      <td>0</td>\n",
       "      <td>0</td>\n",
       "      <td>0</td>\n",
       "    </tr>\n",
       "    <tr>\n",
       "      <th>2</th>\n",
       "      <td>0</td>\n",
       "      <td>0</td>\n",
       "      <td>1</td>\n",
       "      <td>0</td>\n",
       "      <td>0</td>\n",
       "      <td>0</td>\n",
       "      <td>0</td>\n",
       "      <td>0</td>\n",
       "      <td>0</td>\n",
       "      <td>0</td>\n",
       "      <td>0</td>\n",
       "      <td>0</td>\n",
       "      <td>0</td>\n",
       "      <td>0</td>\n",
       "    </tr>\n",
       "    <tr>\n",
       "      <th>3</th>\n",
       "      <td>0</td>\n",
       "      <td>0</td>\n",
       "      <td>1</td>\n",
       "      <td>0</td>\n",
       "      <td>0</td>\n",
       "      <td>0</td>\n",
       "      <td>0</td>\n",
       "      <td>0</td>\n",
       "      <td>0</td>\n",
       "      <td>0</td>\n",
       "      <td>0</td>\n",
       "      <td>0</td>\n",
       "      <td>0</td>\n",
       "      <td>0</td>\n",
       "    </tr>\n",
       "    <tr>\n",
       "      <th>4</th>\n",
       "      <td>0</td>\n",
       "      <td>0</td>\n",
       "      <td>1</td>\n",
       "      <td>0</td>\n",
       "      <td>0</td>\n",
       "      <td>0</td>\n",
       "      <td>0</td>\n",
       "      <td>0</td>\n",
       "      <td>0</td>\n",
       "      <td>0</td>\n",
       "      <td>0</td>\n",
       "      <td>0</td>\n",
       "      <td>0</td>\n",
       "      <td>0</td>\n",
       "    </tr>\n",
       "  </tbody>\n",
       "</table>\n",
       "</div>"
      ],
      "text/plain": [
       "   dearborn  det  detroit  eastpointe  farmington hills  livonia  oak park  \\\n",
       "0         0    0        0           0                 0        0         0   \n",
       "1         0    0        1           0                 0        0         0   \n",
       "2         0    0        1           0                 0        0         0   \n",
       "3         0    0        1           0                 0        0         0   \n",
       "4         0    0        1           0                 0        0         0   \n",
       "\n",
       "   other  redford  southfield  troy  w. bloomfield  warren  west bloomfield  \n",
       "0      1        0           0     0              0       0                0  \n",
       "1      0        0           0     0              0       0                0  \n",
       "2      0        0           0     0              0       0                0  \n",
       "3      0        0           0     0              0       0                0  \n",
       "4      0        0           0     0              0       0                0  "
      ]
     },
     "execution_count": 9,
     "metadata": {},
     "output_type": "execute_result"
    }
   ],
   "source": [
    "# top_cities_cnt = int(vis_data.city.value_counts().quantile(0.9))\n",
    "top_cities_cnt = int(np.percentile(vis_data.city.value_counts(), 90))\n",
    "print(top_cities_cnt)\n",
    "\n",
    "# Оставим только те города, которые описывают 90% примеров, остальные города назовем other\n",
    "# cities_to_throw_away = vis_data.city.value_counts().index[top_cities_cnt:]\n",
    "all_cities = vis_data.city.value_counts().index\n",
    "top_cities = vis_data.city.value_counts().index[:top_cities_cnt]\n",
    "cities_to_throw_away = list(set(all_cities) - set(top_cities))\n",
    "\n",
    "vis_data.loc[vis_data['city'].isin(cities_to_throw_away), 'city'] = 'other'\n",
    "# vis_data.city = vis_data.city.apply(lambda x: x if x in top_cities else 'other')\n",
    "display(vis_data.city.value_counts())\n",
    "\n",
    "# Количество уникальных значений в признаке `city` сократилось до 15\n",
    "print(len(vis_data.city.value_counts()))\n",
    "\n",
    "# Создадим dummy-признаки для переменной city\n",
    "pd.get_dummies(vis_data.city, drop_first = True).head()"
   ]
  },
  {
   "cell_type": "markdown",
   "id": "2df6e4bf",
   "metadata": {},
   "source": [
    "### Работа с датой / временем"
   ]
  },
  {
   "cell_type": "code",
   "execution_count": 10,
   "id": "03179ade",
   "metadata": {
    "ExecuteTime": {
     "end_time": "2024-01-21T02:26:07.809446Z",
     "start_time": "2024-01-21T02:26:07.759076Z"
    }
   },
   "outputs": [
    {
     "data": {
      "text/plain": [
       "1    2005-06-02\n",
       "11   2005-03-17\n",
       "15   2005-02-11\n",
       "18   2005-03-18\n",
       "19   2005-03-18\n",
       "Name: payment_date, dtype: datetime64[ns]"
      ]
     },
     "metadata": {},
     "output_type": "display_data"
    },
    {
     "data": {
      "text/plain": [
       "'Month: 6'"
      ]
     },
     "metadata": {},
     "output_type": "display_data"
    },
    {
     "data": {
      "text/plain": [
       "'Weekday: 3'"
      ]
     },
     "metadata": {},
     "output_type": "display_data"
    }
   ],
   "source": [
    "# Уберем пропуски и преобразуем признак payment_date в специальный формат для работы со временем datetime\n",
    "datetime_vals = pd.to_datetime(vis_data.payment_date.dropna())\n",
    "display(datetime_vals.head())\n",
    "\n",
    "# Теперь к этим значениям можно обращаться для определения дня, месяца или года. Отсчет начинается с понедельника и с нуля\n",
    "display(f'Month: {datetime_vals[1].month}')\n",
    "display(f'Weekday: {datetime_vals[1].weekday()}')   # datetime_vals.iloc[0].month\n",
    "\n",
    "# datetime_vals.dt.weekday\n",
    "# datetime_vals.dt.dayofweek"
   ]
  },
  {
   "cell_type": "markdown",
   "id": "9c278c14",
   "metadata": {},
   "source": [
    "В текущем наборе данных можно использовать такой признак как будний день / выходной, чтобы определить, когда чаще совершают правонарушения"
   ]
  },
  {
   "cell_type": "code",
   "execution_count": 11,
   "id": "37e1deac",
   "metadata": {
    "ExecuteTime": {
     "end_time": "2024-01-21T02:26:10.896889Z",
     "start_time": "2024-01-21T02:26:10.702373Z"
    }
   },
   "outputs": [
    {
     "data": {
      "text/html": [
       "<div>\n",
       "<style scoped>\n",
       "    .dataframe tbody tr th:only-of-type {\n",
       "        vertical-align: middle;\n",
       "    }\n",
       "\n",
       "    .dataframe tbody tr th {\n",
       "        vertical-align: top;\n",
       "    }\n",
       "\n",
       "    .dataframe thead th {\n",
       "        text-align: right;\n",
       "    }\n",
       "</style>\n",
       "<table border=\"1\" class=\"dataframe\">\n",
       "  <thead>\n",
       "    <tr style=\"text-align: right;\">\n",
       "      <th></th>\n",
       "      <th>wd</th>\n",
       "      <th>is_weekend</th>\n",
       "    </tr>\n",
       "  </thead>\n",
       "  <tbody>\n",
       "    <tr>\n",
       "      <th>0</th>\n",
       "      <td>1</td>\n",
       "      <td>False</td>\n",
       "    </tr>\n",
       "    <tr>\n",
       "      <th>1</th>\n",
       "      <td>4</td>\n",
       "      <td>False</td>\n",
       "    </tr>\n",
       "    <tr>\n",
       "      <th>2</th>\n",
       "      <td>0</td>\n",
       "      <td>False</td>\n",
       "    </tr>\n",
       "    <tr>\n",
       "      <th>3</th>\n",
       "      <td>0</td>\n",
       "      <td>False</td>\n",
       "    </tr>\n",
       "    <tr>\n",
       "      <th>4</th>\n",
       "      <td>0</td>\n",
       "      <td>False</td>\n",
       "    </tr>\n",
       "  </tbody>\n",
       "</table>\n",
       "</div>"
      ],
      "text/plain": [
       "   wd  is_weekend\n",
       "0   1       False\n",
       "1   4       False\n",
       "2   0       False\n",
       "3   0       False\n",
       "4   0       False"
      ]
     },
     "metadata": {},
     "output_type": "display_data"
    },
    {
     "name": "stdout",
     "output_type": "stream",
     "text": [
      "Процентное соотношение происшествий в зависимости от дня недели:\n"
     ]
    },
    {
     "data": {
      "text/plain": [
       "1    0.23\n",
       "2    0.22\n",
       "3    0.20\n",
       "0    0.18\n",
       "4    0.16\n",
       "5    0.00\n",
       "6    0.00\n",
       "Name: wd, dtype: float64"
      ]
     },
     "execution_count": 11,
     "metadata": {},
     "output_type": "execute_result"
    }
   ],
   "source": [
    "# Создадим новый признак is_weekend, для этого воспользуемся селектором (аксессором) dt\n",
    "vis_data['wd'] = pd.to_datetime(vis_data.ticket_issued_date).dt.weekday\n",
    "vis_data['is_weekend'] = vis_data['wd'] > 4\n",
    "\n",
    "display(vis_data[['wd', 'is_weekend']].head(5))\n",
    "print('Процентное соотношение происшествий в зависимости от дня недели:')\n",
    "vis_data.wd.value_counts(normalize = True).apply(lambda x: round(x, 2))"
   ]
  },
  {
   "cell_type": "markdown",
   "id": "c8b70c81",
   "metadata": {},
   "source": [
    "   "
   ]
  },
  {
   "cell_type": "markdown",
   "id": "3d2207c5",
   "metadata": {},
   "source": [
    "## 7. Поиск выбросов (outliers)  \n",
    "- поиск и удаление по порогу,  \n",
    "- поиск по отклонению (z-score),   \n",
    "- IQR,   \n",
    "- поиск по распределению,   \n",
    "- DBSCAN."
   ]
  },
  {
   "cell_type": "markdown",
   "id": "093e39cd",
   "metadata": {},
   "source": [
    "### Поиск и удаление по порогу"
   ]
  },
  {
   "cell_type": "code",
   "execution_count": 152,
   "id": "c3cb040c",
   "metadata": {
    "ExecuteTime": {
     "end_time": "2023-11-07T23:02:18.162841Z",
     "start_time": "2023-11-07T23:02:18.022882Z"
    }
   },
   "outputs": [
    {
     "name": "stdout",
     "output_type": "stream",
     "text": [
      "В столбце fine_amount нет значений меньше нуля.\n",
      "Максимальный размер штрафа: 10000.0\n",
      "Сколько раз в данных встречается максимальный штраф: 357 \n",
      "Как часто в данных встречается максимальный штраф: 0.001\n"
     ]
    },
    {
     "name": "stderr",
     "output_type": "stream",
     "text": [
      "C:\\Users\\user\\AppData\\Local\\Temp\\ipykernel_15096\\2291410650.py:3: DeprecationWarning: In future, it will be an error for 'np.bool_' scalars to be interpreted as an index\n",
      "  print(f'В столбце fine_amount {[\"есть значения\", \"нет значений\"][np.sum(vis_data.fine_amount < 0) == 0]} меньше нуля.')\n"
     ]
    },
    {
     "data": {
      "image/png": "[encoded data removed]",
      "text/plain": [
       "<Figure size 500x300 with 1 Axes>"
      ]
     },
     "metadata": {},
     "output_type": "display_data"
    }
   ],
   "source": [
    "# Проверим, нет ли в выборке значений штрафов, меньше нуля\n",
    "# vis_data.loc[vis_data.fine_amount < 0]\n",
    "print(f'В столбце fine_amount {[\"есть значения\", \"нет значений\"][np.sum(vis_data.fine_amount < 0) == 0]} меньше нуля.')\n",
    "\n",
    "# Посчитаем максимальный размер штрафа\n",
    "max_fine = np.max(vis_data.fine_amount)   # vis_data.fine_amount.max()\n",
    "print(f'Максимальный размер штрафа: {max_fine}') \n",
    "\n",
    "# Посмотрим сколько раз и как часто максимальный штраф встречается в данных\n",
    "# max_fine_count = vis_data[vis_data.fine_amount.isin([max_fine])].ticket_id.count()\n",
    "# max_fine_count = (vis_data.fine_amount == max_fine).value_counts()[1]\n",
    "# max_fine_count = np.unique(vis_data.fine_amount == max_fine, return_counts = True)[1][1]\n",
    "max_fine_count = np.sum(vis_data.fine_amount == max_fine)\n",
    "print(f'Сколько раз в данных встречается максимальный штраф: {max_fine_count} \\nКак часто в данных встречается максимальный штраф: {round(max_fine_count / vis_data.shape[0], 3)}')\n",
    "\n",
    "vis_data.fine_amount.hist(figsize = (5, 3));"
   ]
  },
  {
   "cell_type": "code",
   "execution_count": 14,
   "id": "b75727dc",
   "metadata": {
    "ExecuteTime": {
     "end_time": "2024-01-21T02:27:04.933657Z",
     "start_time": "2024-01-21T02:27:04.921692Z"
    },
    "scrolled": true
   },
   "outputs": [
    {
     "data": {
      "text/plain": [
       "195"
      ]
     },
     "execution_count": 14,
     "metadata": {},
     "output_type": "execute_result"
    }
   ],
   "source": [
    "# Значительное количество данных сосредоточено около нуля. Посмотрим, сколько значений штрафов в выборке равно 0\n",
    "# vis_data[vis_data.fine_amount == 0 ].ticket_id.count()\n",
    "# (vis_data.fine_amount == 0).sum()\n",
    "vis_data.loc[vis_data.fine_amount == 0].shape[0]"
   ]
  },
  {
   "cell_type": "markdown",
   "id": "c76d8b9d",
   "metadata": {},
   "source": [
    "Возможно, те значения, где размер штрафа равен 0, являются выбросами, если инспектор забыл добавить размер штрафа или ошибся при вводе.  \n",
    "В таком случае эти значения следует убрать из выборки. В то же время, сложно однозначно сделать такое решение, не зная всей информации о данных."
   ]
  },
  {
   "cell_type": "code",
   "execution_count": 15,
   "id": "cc40460e",
   "metadata": {
    "ExecuteTime": {
     "end_time": "2024-01-21T02:27:11.947631Z",
     "start_time": "2024-01-21T02:27:11.651358Z"
    },
    "scrolled": true
   },
   "outputs": [
    {
     "data": {
      "text/plain": [
       "<AxesSubplot:>"
      ]
     },
     "execution_count": 15,
     "metadata": {},
     "output_type": "execute_result"
    },
    {
     "data": {
      "image/png": "[encoded data removed]",
      "text/plain": [
       "<Figure size 500x300 with 1 Axes>"
      ]
     },
     "metadata": {},
     "output_type": "display_data"
    }
   ],
   "source": [
    "# Посмотрим на данные поближе\n",
    "vis_data.fine_amount[vis_data.fine_amount < 2000].hist(bins = 100, figsize = (5, 3))"
   ]
  },
  {
   "cell_type": "markdown",
   "id": "336602b5",
   "metadata": {},
   "source": [
    "Можно категоризировать данные, заменив все значения больше 2000 на переменную `>2000`, сделав все остальные значения категориальными."
   ]
  },
  {
   "cell_type": "markdown",
   "id": "5c40b5a9",
   "metadata": {},
   "source": [
    "### Поиск по отклонению (z-score)\n",
    "[Источник](http://colingorrie.github.io/outlier-detection.html)\n",
    "\n",
    "Этот метод основан на поиске значения, на которое отклоняется данная точка от среднего. В таком случае используют **z-score**, то есть, расстояние (измеряемое в количестве стандартных отклонений) от среднего значения точек.  "
   ]
  },
  {
   "cell_type": "code",
   "execution_count": 164,
   "id": "b8ef12b1",
   "metadata": {
    "ExecuteTime": {
     "end_time": "2023-11-07T23:12:42.884413Z",
     "start_time": "2023-11-07T23:12:42.596613Z"
    },
    "scrolled": false
   },
   "outputs": [
    {
     "data": {
      "text/plain": [
       "<AxesSubplot:>"
      ]
     },
     "execution_count": 164,
     "metadata": {},
     "output_type": "execute_result"
    },
    {
     "data": {
      "image/png": "[encoded data removed]",
      "text/plain": [
       "<Figure size 500x300 with 1 Axes>"
      ]
     },
     "metadata": {},
     "output_type": "display_data"
    }
   ],
   "source": [
    "import warnings\n",
    "\n",
    "# Посмотрим на распределение данных для признака `distance`\n",
    "vis_data.distance.hist(bins = 100, figsize = (5, 3))"
   ]
  },
  {
   "cell_type": "code",
   "execution_count": 38,
   "id": "d46adf9e",
   "metadata": {
    "ExecuteTime": {
     "end_time": "2024-01-18T13:07:11.943931Z",
     "start_time": "2024-01-18T13:07:11.773946Z"
    }
   },
   "outputs": [
    {
     "data": {
      "text/plain": [
       "count    121762.000000\n",
       "mean         11.553138\n",
       "std           4.892769\n",
       "min           0.035651\n",
       "25%           8.501422\n",
       "50%          11.696956\n",
       "75%          14.261028\n",
       "max         557.825576\n",
       "Name: distance, dtype: float64"
      ]
     },
     "metadata": {},
     "output_type": "display_data"
    },
    {
     "data": {
      "text/plain": [
       "<AxesSubplot:>"
      ]
     },
     "execution_count": 38,
     "metadata": {},
     "output_type": "execute_result"
    },
    {
     "data": {
      "image/png": "[encoded data removed]",
      "text/plain": [
       "<Figure size 500x300 with 1 Axes>"
      ]
     },
     "metadata": {},
     "output_type": "display_data"
    }
   ],
   "source": [
    "# Попытаемся \"на глаз\" определить порог, после которого мы считаем значения выбросами \n",
    "# Применим этот порог и посмотрим на количество \"выбросов\"\n",
    "display(vis_data.distance.describe())\n",
    "vis_data.distance[vis_data.distance > 30].hist(figsize = (5, 3))"
   ]
  },
  {
   "cell_type": "code",
   "execution_count": 18,
   "id": "ec4a7935",
   "metadata": {
    "ExecuteTime": {
     "end_time": "2024-01-21T02:27:41.255487Z",
     "start_time": "2024-01-21T02:27:41.248540Z"
    }
   },
   "outputs": [],
   "source": [
    "# Функция для определения выбрасов при помощи z_score\n",
    "def outliers_z_score(ys, threshold = 3):\n",
    "    mean_y = np.mean(ys)\n",
    "    std_y = np.std(ys)\n",
    "    z_scores =  [(y - mean_y) / std_y for y in ys]\n",
    "    return np.where(np.abs(z_scores) > threshold)[0]"
   ]
  },
  {
   "cell_type": "code",
   "execution_count": 41,
   "id": "d71e39b5",
   "metadata": {
    "ExecuteTime": {
     "end_time": "2024-01-18T13:20:01.155014Z",
     "start_time": "2024-01-18T13:20:01.035317Z"
    }
   },
   "outputs": [
    {
     "name": "stdout",
     "output_type": "stream",
     "text": [
      "Количество обозначенных выбросов: 55\n",
      "[ 1007  2879  4170  6726  7861  8831 12314 16177 16820 17178 17976 20861\n",
      " 21610 22131 22516]\n"
     ]
    }
   ],
   "source": [
    "import warnings\n",
    "\n",
    "with warnings.catch_warnings():\n",
    "    warnings.simplefilter('ignore')\n",
    "    outl = outliers_z_score(vis_data.distance)\n",
    "    \n",
    "print(f'Количество обозначенных выбросов: {len(outl)}')\n",
    "print(outl[:15])"
   ]
  },
  {
   "cell_type": "markdown",
   "id": "1ace6d2b",
   "metadata": {},
   "source": [
    "Значение по умолчанию для функции поиска выбросов равно `3`. Это означает, что мы считаем выбросами все, что находится на расстоянии больше 3-x стандартных отклонений от среднего. Если мы подвинем этот параметр в большую или меньшую сторону, мы найдем меньше или больше выбросов."
   ]
  },
  {
   "cell_type": "code",
   "execution_count": 27,
   "id": "3d195c01",
   "metadata": {
    "ExecuteTime": {
     "end_time": "2024-01-21T02:31:03.568236Z",
     "start_time": "2024-01-21T02:31:03.268844Z"
    },
    "scrolled": false
   },
   "outputs": [
    {
     "data": {
      "text/plain": [
       "count     55.000000\n",
       "mean      75.111437\n",
       "std       88.958073\n",
       "min       26.306244\n",
       "25%       35.297039\n",
       "50%       51.182274\n",
       "75%       72.369366\n",
       "max      557.825576\n",
       "Name: distance, dtype: float64"
      ]
     },
     "metadata": {},
     "output_type": "display_data"
    },
    {
     "data": {
      "text/plain": [
       "<AxesSubplot:>"
      ]
     },
     "execution_count": 27,
     "metadata": {},
     "output_type": "execute_result"
    },
    {
     "data": {
      "image/png": "[encoded data removed]",
      "text/plain": [
       "<Figure size 500x300 with 1 Axes>"
      ]
     },
     "metadata": {},
     "output_type": "display_data"
    }
   ],
   "source": [
    "display(vis_data.distance.loc[outl].describe())\n",
    "vis_data.distance.loc[outl].hist(figsize = (5, 3), bins = 100)"
   ]
  },
  {
   "cell_type": "markdown",
   "id": "33919e3a",
   "metadata": {},
   "source": [
    "   "
   ]
  },
  {
   "cell_type": "markdown",
   "id": "1e64b880",
   "metadata": {},
   "source": [
    "### IQR (interquartile range) -  межквартильное расстояние\n",
    "\n",
    "Используем квартили для нахождения выбросов. Посмотрим на `boxplot` для признака `distance`."
   ]
  },
  {
   "cell_type": "code",
   "execution_count": 56,
   "id": "d9a261d4",
   "metadata": {
    "ExecuteTime": {
     "end_time": "2024-01-21T02:40:17.868107Z",
     "start_time": "2024-01-21T02:40:17.767428Z"
    },
    "scrolled": false
   },
   "outputs": [
    {
     "data": {
      "text/plain": [
       "<AxesSubplot:>"
      ]
     },
     "execution_count": 56,
     "metadata": {},
     "output_type": "execute_result"
    },
    {
     "data": {
      "image/png": "[encoded data removed]",
      "text/plain": [
       "<Figure size 400x200 with 1 Axes>"
      ]
     },
     "metadata": {},
     "output_type": "display_data"
    }
   ],
   "source": [
    "# Посмотрим на `boxplot` для признака `distance`\n",
    "# vis_data[['distance']].boxplot(figsize = (5, 3), color = 'blue')\n",
    "\n",
    "plt.figure(figsize = (4, 2))\n",
    "sns.boxplot(vis_data.distance, color = 'yellow')"
   ]
  },
  {
   "cell_type": "code",
   "execution_count": 54,
   "id": "9816c125",
   "metadata": {
    "ExecuteTime": {
     "end_time": "2024-01-21T02:39:47.832796Z",
     "start_time": "2024-01-21T02:39:47.725870Z"
    },
    "scrolled": true
   },
   "outputs": [
    {
     "data": {
      "text/plain": [
       "<AxesSubplot:xlabel='distance'>"
      ]
     },
     "execution_count": 54,
     "metadata": {},
     "output_type": "execute_result"
    },
    {
     "data": {
      "image/png": "[encoded data removed]",
      "text/plain": [
       "<Figure size 400x200 with 1 Axes>"
      ]
     },
     "metadata": {},
     "output_type": "display_data"
    }
   ],
   "source": [
    "plt.figure(figsize = (4, 2))\n",
    "sns.boxplot(vis_data, x = \"distance\", whis = [0, 100], width = .6, palette = \"vlag\")"
   ]
  },
  {
   "cell_type": "code",
   "execution_count": 55,
   "id": "db784f15",
   "metadata": {
    "ExecuteTime": {
     "end_time": "2024-01-21T02:40:01.826856Z",
     "start_time": "2024-01-21T02:40:01.429958Z"
    }
   },
   "outputs": [
    {
     "data": {
      "text/plain": [
       "<AxesSubplot:xlabel='distance'>"
      ]
     },
     "execution_count": 55,
     "metadata": {},
     "output_type": "execute_result"
    },
    {
     "data": {
      "image/png": "[encoded data removed]",
      "text/plain": [
       "<Figure size 400x200 with 1 Axes>"
      ]
     },
     "metadata": {},
     "output_type": "display_data"
    }
   ],
   "source": [
    "f, ax = plt.subplots(figsize = (4, 2))\n",
    "ax.set_xscale(\"log\")\n",
    "sns.boxplot(vis_data, x = \"distance\", whis = [0, 100], width = .6, palette = \"vlag\")"
   ]
  },
  {
   "cell_type": "markdown",
   "id": "623a98d3",
   "metadata": {},
   "source": [
    "Метод межквартильного расстояния выделяет как выбросы все значения, находящиеся за пределами \"коробки\".  \n",
    "Посмотрим, сколько выбросов он найдет. Данный метод чувствителен к пропускам, поэтому избавимся от них."
   ]
  },
  {
   "cell_type": "code",
   "execution_count": 170,
   "id": "a23e8038",
   "metadata": {
    "ExecuteTime": {
     "end_time": "2023-11-07T23:18:36.804887Z",
     "start_time": "2023-11-07T23:18:36.774951Z"
    },
    "scrolled": true
   },
   "outputs": [
    {
     "name": "stdout",
     "output_type": "stream",
     "text": [
      "Количество обозначенных выбросов: 134\n"
     ]
    },
    {
     "data": {
      "text/plain": [
       "array([ 1007,  1674,  2280,  2458,  2516,  2879,  3024,  4169,  4336,\n",
       "        5731,  6725,  7860,  8830, 10033, 11646], dtype=int64)"
      ]
     },
     "execution_count": 170,
     "metadata": {},
     "output_type": "execute_result"
    }
   ],
   "source": [
    "# vis_data.distance.describe()\n",
    "\n",
    "def outliers_iqr(ys):\n",
    "    quartile_1, quartile_3 = np.percentile(ys, [25, 75])   # vis_data.distance.quantile([0.25, 0.75])\n",
    "    iqr = quartile_3 - quartile_1\n",
    "    lower_bound = quartile_1 - (iqr * 1.5)\n",
    "    upper_bound = quartile_3 + (iqr * 1.5)\n",
    "    return np.where((ys > upper_bound) | (ys < lower_bound))[0]\n",
    "\n",
    "outliers = outliers_iqr(vis_data.distance.dropna())\n",
    "print(f'Количество обозначенных выбросов: {len(outliers)}')\n",
    "outliers[:15]"
   ]
  },
  {
   "cell_type": "code",
   "execution_count": 65,
   "id": "bab86ff0",
   "metadata": {
    "ExecuteTime": {
     "end_time": "2024-01-21T04:49:59.223630Z",
     "start_time": "2024-01-21T04:49:58.935546Z"
    }
   },
   "outputs": [
    {
     "data": {
      "text/plain": [
       "count    134.000000\n",
       "mean      44.579406\n",
       "std       62.186659\n",
       "min       22.901562\n",
       "25%       23.066997\n",
       "50%       23.576884\n",
       "75%       39.135844\n",
       "max      557.825576\n",
       "Name: distance, dtype: float64"
      ]
     },
     "metadata": {},
     "output_type": "display_data"
    },
    {
     "data": {
      "text/plain": [
       "<AxesSubplot:>"
      ]
     },
     "execution_count": 65,
     "metadata": {},
     "output_type": "execute_result"
    },
    {
     "data": {
      "image/png": "[encoded data removed]",
      "text/plain": [
       "<Figure size 500x300 with 1 Axes>"
      ]
     },
     "metadata": {},
     "output_type": "display_data"
    }
   ],
   "source": [
    "# Посмотрим, какие значения были определены как выбросы\n",
    "# outliers_list = outliers.tolist()\n",
    "display(vis_data.distance.dropna().iloc[outliers].describe())\n",
    "vis_data.distance.dropna().iloc[outliers].hist(bins = 100, figsize = (5, 3))"
   ]
  },
  {
   "cell_type": "markdown",
   "id": "fdb6a4fb",
   "metadata": {},
   "source": [
    "### Поиск по распределению\n",
    "\n",
    "Еще один способ найти выбросы - построить нормальное распределение поверх данных и посчитать вероятность нахождения в данном распределении для каждого значения. Самые невероятные значения будем считать выбросами."
   ]
  },
  {
   "cell_type": "code",
   "execution_count": 78,
   "id": "fe7fac7d",
   "metadata": {
    "ExecuteTime": {
     "end_time": "2024-01-21T06:08:20.063660Z",
     "start_time": "2024-01-21T06:08:20.040670Z"
    }
   },
   "outputs": [],
   "source": [
    "from scipy.stats import norm\n",
    "\n",
    "def estimate_gaussian(dataset):\n",
    "    mu = np.mean(dataset, axis = 0)\n",
    "    sigma = np.cov(dataset.T)\n",
    "    return mu, sigma\n",
    "    \n",
    "def get_gaussian(mu, sigma):\n",
    "    distribution = norm(mu, sigma)\n",
    "    return distribution\n",
    "\n",
    "def get_probs(distribution, dataset):\n",
    "    return distribution.pdf(dataset)"
   ]
  },
  {
   "cell_type": "code",
   "execution_count": 173,
   "id": "11f015f6",
   "metadata": {
    "ExecuteTime": {
     "end_time": "2023-11-07T23:21:40.834637Z",
     "start_time": "2023-11-07T23:21:40.817683Z"
    }
   },
   "outputs": [],
   "source": [
    "mu, sigma = estimate_gaussian(vis_data.distance.dropna())\n",
    "distribution = get_gaussian(mu, sigma)\n",
    "probabilities = get_probs(distribution, vis_data.distance.dropna())"
   ]
  },
  {
   "cell_type": "code",
   "execution_count": 174,
   "id": "f83867a8",
   "metadata": {
    "ExecuteTime": {
     "end_time": "2023-11-07T23:21:42.508324Z",
     "start_time": "2023-11-07T23:21:42.490684Z"
    },
    "scrolled": false
   },
   "outputs": [
    {
     "data": {
      "text/html": [
       "<div>\n",
       "<style scoped>\n",
       "    .dataframe tbody tr th:only-of-type {\n",
       "        vertical-align: middle;\n",
       "    }\n",
       "\n",
       "    .dataframe tbody tr th {\n",
       "        vertical-align: top;\n",
       "    }\n",
       "\n",
       "    .dataframe thead th {\n",
       "        text-align: right;\n",
       "    }\n",
       "</style>\n",
       "<table border=\"1\" class=\"dataframe\">\n",
       "  <thead>\n",
       "    <tr style=\"text-align: right;\">\n",
       "      <th></th>\n",
       "      <th>index</th>\n",
       "      <th>0</th>\n",
       "    </tr>\n",
       "  </thead>\n",
       "  <tbody>\n",
       "    <tr>\n",
       "      <th>0</th>\n",
       "      <td>0.017</td>\n",
       "      <td>0.5608</td>\n",
       "    </tr>\n",
       "    <tr>\n",
       "      <th>1</th>\n",
       "      <td>0.016</td>\n",
       "      <td>0.4051</td>\n",
       "    </tr>\n",
       "    <tr>\n",
       "      <th>2</th>\n",
       "      <td>0.015</td>\n",
       "      <td>0.0336</td>\n",
       "    </tr>\n",
       "    <tr>\n",
       "      <th>4</th>\n",
       "      <td>0.014</td>\n",
       "      <td>0.0001</td>\n",
       "    </tr>\n",
       "    <tr>\n",
       "      <th>13</th>\n",
       "      <td>0.013</td>\n",
       "      <td>0.0000</td>\n",
       "    </tr>\n",
       "    <tr>\n",
       "      <th>10</th>\n",
       "      <td>0.012</td>\n",
       "      <td>0.0000</td>\n",
       "    </tr>\n",
       "    <tr>\n",
       "      <th>7</th>\n",
       "      <td>0.011</td>\n",
       "      <td>0.0000</td>\n",
       "    </tr>\n",
       "    <tr>\n",
       "      <th>6</th>\n",
       "      <td>0.010</td>\n",
       "      <td>0.0000</td>\n",
       "    </tr>\n",
       "    <tr>\n",
       "      <th>8</th>\n",
       "      <td>0.009</td>\n",
       "      <td>0.0000</td>\n",
       "    </tr>\n",
       "    <tr>\n",
       "      <th>14</th>\n",
       "      <td>0.008</td>\n",
       "      <td>0.0000</td>\n",
       "    </tr>\n",
       "    <tr>\n",
       "      <th>15</th>\n",
       "      <td>0.007</td>\n",
       "      <td>0.0000</td>\n",
       "    </tr>\n",
       "    <tr>\n",
       "      <th>11</th>\n",
       "      <td>0.006</td>\n",
       "      <td>0.0000</td>\n",
       "    </tr>\n",
       "    <tr>\n",
       "      <th>12</th>\n",
       "      <td>0.004</td>\n",
       "      <td>0.0000</td>\n",
       "    </tr>\n",
       "    <tr>\n",
       "      <th>5</th>\n",
       "      <td>0.002</td>\n",
       "      <td>0.0001</td>\n",
       "    </tr>\n",
       "    <tr>\n",
       "      <th>9</th>\n",
       "      <td>0.001</td>\n",
       "      <td>0.0000</td>\n",
       "    </tr>\n",
       "    <tr>\n",
       "      <th>3</th>\n",
       "      <td>0.000</td>\n",
       "      <td>0.0001</td>\n",
       "    </tr>\n",
       "  </tbody>\n",
       "</table>\n",
       "</div>"
      ],
      "text/plain": [
       "    index       0\n",
       "0   0.017  0.5608\n",
       "1   0.016  0.4051\n",
       "2   0.015  0.0336\n",
       "4   0.014  0.0001\n",
       "13  0.013  0.0000\n",
       "10  0.012  0.0000\n",
       "7   0.011  0.0000\n",
       "6   0.010  0.0000\n",
       "8   0.009  0.0000\n",
       "14  0.008  0.0000\n",
       "15  0.007  0.0000\n",
       "11  0.006  0.0000\n",
       "12  0.004  0.0000\n",
       "5   0.002  0.0001\n",
       "9   0.001  0.0000\n",
       "3   0.000  0.0001"
      ]
     },
     "execution_count": 174,
     "metadata": {},
     "output_type": "execute_result"
    }
   ],
   "source": [
    "round(round(pd.Series(probabilities),3).value_counts(normalize=True),4).reset_index().sort_values(by='index', ascending=False)"
   ]
  },
  {
   "cell_type": "markdown",
   "id": "9fb8e411",
   "metadata": {},
   "source": [
    "Мы построили нормальное распределение на предоставленных данных и посчитали вероятность появления данной точки при данном распределении для каждого значения. Теперь выберем разумное значение вероятности, ниже которой будем считать точку выбросом и посмотрим количество выбросов. Например, значение `0.014`"
   ]
  },
  {
   "cell_type": "code",
   "execution_count": 175,
   "id": "3853826b",
   "metadata": {
    "ExecuteTime": {
     "end_time": "2023-11-07T23:23:01.474701Z",
     "start_time": "2023-11-07T23:23:01.182426Z"
    },
    "scrolled": false
   },
   "outputs": [
    {
     "name": "stdout",
     "output_type": "stream",
     "text": [
      "Количество выявленных выбросов: 58\n",
      "\n",
      "Статистика по данным, определенным как выбросы:\n"
     ]
    },
    {
     "data": {
      "text/plain": [
       "count     58.000000\n",
       "mean      72.566223\n",
       "std       87.280500\n",
       "min       25.888811\n",
       "25%       34.464382\n",
       "50%       44.808542\n",
       "75%       68.856396\n",
       "max      557.825576\n",
       "Name: distance, dtype: float64"
      ]
     },
     "metadata": {},
     "output_type": "display_data"
    },
    {
     "data": {
      "text/plain": [
       "<AxesSubplot:>"
      ]
     },
     "execution_count": 175,
     "metadata": {},
     "output_type": "execute_result"
    },
    {
     "data": {
      "image/png": "[encoded data removed]",
      "text/plain": [
       "<Figure size 500x300 with 1 Axes>"
      ]
     },
     "metadata": {},
     "output_type": "display_data"
    }
   ],
   "source": [
    "# Выберем значение вероятности (0.014), ниже которого будем считать точку выбросом и посчитаем количество выбросов\n",
    "o_1 = np.where(probabilities < 0.014)[0]\n",
    "print(f'Количество выявленных выбросов: {len(o_1)}')\n",
    "\n",
    "print('\\nСтатистика по данным, определенным как выбросы:')\n",
    "display(vis_data.distance.dropna().iloc[np.where(probabilities <0.014)[0]].describe())\n",
    "\n",
    "# Построим гистограмму распрделения выбросов\n",
    "vis_data.distance.dropna().iloc[np.where(probabilities <0.014)[0]].hist(bins = 100, figsize = (5, 3))"
   ]
  },
  {
   "cell_type": "markdown",
   "id": "671d878d",
   "metadata": {},
   "source": [
    "### DBSCAN\n",
    "\n",
    "Алгоритм кластеризации DBSCAN определяет группы (кластеры) объектов. Его особенностью является то, что кроме самих кластеров он хорошо находит отдельно стоящие элементы, \"шум\". Применим его для нахождения выбросов. "
   ]
  },
  {
   "cell_type": "code",
   "execution_count": 176,
   "id": "536bbc51",
   "metadata": {
    "ExecuteTime": {
     "end_time": "2023-11-07T23:24:44.826413Z",
     "start_time": "2023-11-07T23:24:41.741435Z"
    }
   },
   "outputs": [
    {
     "data": {
      "text/plain": [
       "(250306, 38)"
      ]
     },
     "metadata": {},
     "output_type": "display_data"
    },
    {
     "name": "stdout",
     "output_type": "stream",
     "text": [
      "Количество выбросов, найденных с помощью DBSCAN: 23\n"
     ]
    }
   ],
   "source": [
    "display(vis_data.shape)\n",
    "\n",
    "# DBSCAN работает очень медленно, поэтому возьмем не все данные\n",
    "normalized_distance = np.random.choice(vis_data.distance.dropna().values, 50000).reshape(-1, 1)\n",
    "dbscan_model = DBSCAN(eps = 0.5, min_samples = 10).fit(normalized_distance)\n",
    "\n",
    "# Проверим количество выбросов\n",
    "# pd.Series(dbscan_model.labels_).value_counts()[-1]\n",
    "print(f\"Количество выбросов, найденных с помощью DBSCAN: {len(np.where(dbscan_model.labels_ == -1)[0])}\")"
   ]
  },
  {
   "cell_type": "markdown",
   "id": "32d4c8b3",
   "metadata": {},
   "source": [
    "#### Сложности с выбросами\n",
    "\n",
    "Несмотря на то, что выбросы \"портят\" общую картину и заставляют стат. показатели в данных (например, среднее) выглядеть неправильно, иногда они очень важны:\n",
    "\n",
    " - В задаче поиска аномалий (**Anomaly Detection**) выбросы являются зависимыми переменными, которые необходимо выявить, а не значениями, которые нужно выбросить.\n",
    " - Нет однозначного способа понять, что перед нами выброс. Разные методы возвращают разные точки в качестве выбросов и эти точки пересекаются лишь частично. Кроме того, разные параметры дают разные результаты и эти параметры необходимо подбирать. Из-за этого найденные выбросы могут быть крайне субъективным результатом."
   ]
  },
  {
   "cell_type": "markdown",
   "id": "db7db818",
   "metadata": {},
   "source": [
    "   "
   ]
  },
  {
   "cell_type": "markdown",
   "id": "e2345981",
   "metadata": {},
   "source": [
    "## 8. Работа с датами"
   ]
  },
  {
   "cell_type": "markdown",
   "id": "526c2cb8",
   "metadata": {},
   "source": [
    "Многие выгрузки из систем и баз данных имеют свой служебный формат. Формат времени из разных систем может отличаться, например:\n",
    "\n",
    "2018-11-09 15:45:21;  \n",
    "11/09/2018 3:45:20 PM;  \n",
    "2018-11-09T15:45:21.2984.  \n",
    "\n",
    "Для всех этих случаев необходимо задавать формат распознавания дат. Для этого в Python введены обозначения, которые помогут системе правильно распознать практически любой формат даты и времени.    \n",
    "- <a href=\"https://docs.python.org/3/library/datetime.html \">официальная документация</a>  \n",
    "\n",
    "Например, код для распознавания в Python даты 2019-03-01 (1 марта 2019) будет иметь следующий вид: '%Y-%m-%d'.  \n",
    "Дата и время 2019-04-01T06:30:00 будет иметь вид: %Y-%m-%dT%H:%M:%S"
   ]
  },
  {
   "cell_type": "markdown",
   "id": "371c2b65",
   "metadata": {},
   "source": [
    "#### Формат unixtime\n",
    "Популярным форматом записи даты и времени является unixtime (также POSIX-время). Это количество секунд, прошедших с полуночи 1 января 1970 года по часовой зоне UTC (Coordinated Universal Time - Всемирное Координированное Время). Преимущество данного формата в его простоте: обычно это целое число. Также им удобно считать разницу между двумя датами: это будет разница двух чисел в секундах.\n",
    "\n",
    "Переводить дату в unixtime и обратно можно с помощью кода на Python или специальных онлайн-сервисов, например, <a href=\"http://www.onlineconversion.com/unix_time.htm\">onlineconversion</a>."
   ]
  },
  {
   "cell_type": "markdown",
   "id": "382a84f1",
   "metadata": {},
   "source": [
    "### ЗАДАНИЕ 1.  \n",
    "### Расшифровать предложенные значения даты и времени, записанные в различных форматах"
   ]
  },
  {
   "cell_type": "code",
   "execution_count": 90,
   "id": "9f875610",
   "metadata": {
    "ExecuteTime": {
     "end_time": "2024-01-21T06:51:43.274359Z",
     "start_time": "2024-01-21T06:51:43.256371Z"
    }
   },
   "outputs": [],
   "source": [
    "from datetime import datetime, timedelta"
   ]
  },
  {
   "cell_type": "markdown",
   "id": "bac052bb",
   "metadata": {},
   "source": [
    "1) 12.23.2018 (23 декабря 2018 года)  \n",
    "Ответ: %m.%d.%Y  \n",
    "\n",
    "2) 01.13.2019Z15:39:01 (13 января 2019 года, 15 часов 39 минут 1 секунда)  \n",
    "Ответ: %m.%d.%YZ%H:%M:%S \n",
    "\n",
    "3) 23:45 (23 часа 45 минут)  \n",
    "Ответ: %H:%M  \n",
    "\n",
    "4) 19.04.2019 08:00 (19 апреля 2019 года, 8 утра)  \n",
    "Ответ: %d.%m.%Y %H:%M  \n",
    "\n",
    "5) 01-04-2019, mon, 06:30 (понедельник 1 апреля 2019 года, 6 часов 30 минут)  \n",
    "Ответ: %d-%m-%Y, %a, %H:%M  \n",
    "\n",
    "6) 01-01-2019 Sunday (воскресенье 1 января 2019 года)  \n",
    "Ответ: %d-%m-%Y %A  \n",
    "\n",
    "7) 1 May 2019 23:59 (1 мая 2019 года, 23 часа 59 минут)  \n",
    "Ответ: %d %B %Y %H:%M  \n",
    "\n",
    "8) 14.06.2019 08:00 AM (14 июня 2019 года, 8 утра) будьте внимательны к формату часа  \n",
    "Ответ: %d.%m.%Y %I:%M %p  \n",
    "\n",
    "9) 10:40 AM (10 часов 40 минут утра)  \n",
    "Ответ: %I:%M %p  \n",
    "\n",
    "10) 15:23  (15 часов 23 минуты)  \n",
    "Ответ: %H:%M  \n",
    "\n",
    "11) Mar 08, 2019 (8 марта 2019 года)  \n",
    "Ответ: %b %d, %Y  \n",
    "\n",
    "12) Переведите дату 1 января 2019 года (полночь по UTC) в формат unixtime  \n",
    "Ответ: 1546300800  \n",
    "\n",
    "13) Аналогично предыдущему заданию переведите 31 января 2019 года (по UTC) в формат unixtime. И посчитайте разницу в секундах между 1 и 31 января 2019 года  \n",
    "Ответ: 2592000  \n",
    "\n",
    "14) Дана дата: dt = datetime(2019, 4, 1, 18, 59, 44). Выведите её в виде строки формата %Y-%m-%d  \n",
    "Ответ: 2019-04-01"
   ]
  },
  {
   "cell_type": "markdown",
   "id": "2002192b",
   "metadata": {},
   "source": [
    "**15. Дана строка с датой** date_string = '2019-07-07T18:59:33', **преобразуйте ее в строку с форматом** %d.%m.%Y.  \n",
    "**Результат запишите в переменную date_format.**"
   ]
  },
  {
   "cell_type": "code",
   "execution_count": 207,
   "id": "40cdc860",
   "metadata": {
    "ExecuteTime": {
     "end_time": "2023-11-08T00:26:43.882862Z",
     "start_time": "2023-11-08T00:26:43.863914Z"
    },
    "scrolled": true
   },
   "outputs": [
    {
     "name": "stdout",
     "output_type": "stream",
     "text": [
      "07.07.2019\n",
      "<class 'str'>\n"
     ]
    }
   ],
   "source": [
    "date_string = '2019-07-07T18:59:33'\n",
    "dt = datetime.strptime(date_string, '%Y-%m-%dT%H:%M:%S') \n",
    "date_format = dt.strftime('%d.%m.%Y')\n",
    "print(date_format)\n",
    "print(type(date_format))"
   ]
  },
  {
   "cell_type": "markdown",
   "id": "89b20e43",
   "metadata": {},
   "source": [
    "**16. У вас есть список запуска отчёта по расписанию:**  \n",
    "dt_list = ['2019-07-07T18:59:06', '2019-07-07T19:00:02', '2019-07-07T19:01:04']\n",
    "\n",
    "**Переведите эти значения из строк в формат datetime и запишите результат в переменную datetime_list. В переменной datetime_list должен быть список элементов вида datetime(2019, 7, 7, 18, 59, 6).**"
   ]
  },
  {
   "cell_type": "code",
   "execution_count": 191,
   "id": "70ac6366",
   "metadata": {
    "ExecuteTime": {
     "end_time": "2023-11-08T00:19:51.410634Z",
     "start_time": "2023-11-08T00:19:51.393508Z"
    },
    "scrolled": true
   },
   "outputs": [
    {
     "name": "stdout",
     "output_type": "stream",
     "text": [
      "[datetime.datetime(2019, 7, 7, 18, 59, 6), datetime.datetime(2019, 7, 7, 19, 0, 2), datetime.datetime(2019, 7, 7, 19, 1, 4)]\n",
      "[datetime.datetime(2019, 7, 7, 18, 59, 6), datetime.datetime(2019, 7, 7, 19, 0, 2), datetime.datetime(2019, 7, 7, 19, 1, 4)]\n"
     ]
    }
   ],
   "source": [
    "# List comprehension\n",
    "datetime_list = [datetime.strptime(elem, '%Y-%m-%dT%H:%M:%S') for elem in ['2019-07-07T18:59:06', '2019-07-07T19:00:02', '2019-07-07T19:01:04']]\n",
    "print(datetime_list)\n",
    "\n",
    "# Ordinary cycle \n",
    "dt_list = ['2019-07-07T18:59:06', '2019-07-07T19:00:02', '2019-07-07T19:01:04']\n",
    "datetime_list = []\n",
    "for elem in dt_list:                                          \n",
    "    new_elem = datetime.strptime(elem, '%Y-%m-%dT%H:%M:%S')   \n",
    "    datetime_list.append(new_elem)\n",
    "print(datetime_list)"
   ]
  },
  {
   "cell_type": "markdown",
   "id": "972382d5",
   "metadata": {},
   "source": [
    "**17. В прошлом задании у вас получился список datetime_list с элементами типа datetime.**\n",
    "\n",
    "**Наш отчёт запускался каждую минуту в 18:59:00, 19:00:00 и 19:01:00. Посчитайте для каждого элемента количество секунд, которое работал скрипт. Результат запишите в список report_seconds (каждый элемент, соответственно, целое число).**"
   ]
  },
  {
   "cell_type": "code",
   "execution_count": 2,
   "id": "af4fd12e",
   "metadata": {
    "ExecuteTime": {
     "end_time": "2024-01-30T06:12:00.627329Z",
     "start_time": "2024-01-30T06:12:00.606297Z"
    }
   },
   "outputs": [
    {
     "name": "stdout",
     "output_type": "stream",
     "text": [
      "[6, 2, 4]\n"
     ]
    }
   ],
   "source": [
    "datetime_list = [datetime(2019, 7, 7, 18, 59, 6),\n",
    "                 datetime(2019, 7, 7, 19, 0, 2),\n",
    "                 datetime(2019, 7, 7, 19, 1, 4)]\n",
    "\n",
    "report_seconds = [i.second for i in datetime_list]\n",
    "print(report_seconds)\n",
    "\n",
    "# report_seconds = list(map(int, [datetime.strftime(date, '%S') for date in datetime_list]))\n",
    "\n",
    "# report_seconds = []\n",
    "# for date in datetime_list:\n",
    "#     report_seconds.append(date.second)\n",
    "# report_seconds"
   ]
  },
  {
   "cell_type": "markdown",
   "id": "949499d3",
   "metadata": {},
   "source": [
    "**18. Посчитайте суммарное время выполнения скрипта в секундах из списка report_seconds прошлого задания.  \n",
    "Результат запишите в переменную total_time (целое число секунд).**"
   ]
  },
  {
   "cell_type": "code",
   "execution_count": 201,
   "id": "1ce1fbea",
   "metadata": {
    "ExecuteTime": {
     "end_time": "2023-11-08T00:24:09.778043Z",
     "start_time": "2023-11-08T00:24:09.759038Z"
    }
   },
   "outputs": [
    {
     "name": "stdout",
     "output_type": "stream",
     "text": [
      "12\n"
     ]
    }
   ],
   "source": [
    "# total_time = sum([i.second for i in datetime_list])\n",
    "total_time = np.sum(list(map(int, [datetime.strftime(date, '%S') for date in datetime_list])))\n",
    "print(total_time)"
   ]
  },
  {
   "cell_type": "markdown",
   "id": "271f6581",
   "metadata": {},
   "source": [
    "#### 19. У вас есть дата начала выгрузки start_date = '2019-01-01'. Прибавьте к этой дате день."
   ]
  },
  {
   "cell_type": "code",
   "execution_count": 204,
   "id": "0b6864ae",
   "metadata": {
    "ExecuteTime": {
     "end_time": "2023-11-08T00:25:50.577146Z",
     "start_time": "2023-11-08T00:25:50.557199Z"
    }
   },
   "outputs": [
    {
     "name": "stdout",
     "output_type": "stream",
     "text": [
      "2019-01-02 00:00:00\n",
      "<class 'datetime.datetime'>\n"
     ]
    },
    {
     "data": {
      "text/plain": [
       "datetime.datetime(2019, 1, 2, 0, 0)"
      ]
     },
     "execution_count": 204,
     "metadata": {},
     "output_type": "execute_result"
    }
   ],
   "source": [
    "# Параметры timedelta: microseconds, milliseconds, seconds, minutes, hours, days, weeks\n",
    "start_date = '2019-01-01'\n",
    "new_start_date = datetime.strptime(start_date, '%Y-%m-%d') + timedelta(days = 1)\n",
    "print(new_start_date)\n",
    "print(type(new_start_date))\n",
    "new_start_date"
   ]
  },
  {
   "cell_type": "markdown",
   "id": "0e3d3808",
   "metadata": {},
   "source": [
    "#### 20. Отнимите 7 дней от даты start_date = '2019-01-01'"
   ]
  },
  {
   "cell_type": "code",
   "execution_count": 208,
   "id": "d610ade3",
   "metadata": {
    "ExecuteTime": {
     "end_time": "2023-11-08T00:27:05.911374Z",
     "start_time": "2023-11-08T00:27:05.894619Z"
    }
   },
   "outputs": [
    {
     "name": "stdout",
     "output_type": "stream",
     "text": [
      "2018-12-25 00:00:00\n"
     ]
    },
    {
     "data": {
      "text/plain": [
       "datetime.datetime(2018, 12, 25, 0, 0)"
      ]
     },
     "execution_count": 208,
     "metadata": {},
     "output_type": "execute_result"
    }
   ],
   "source": [
    "# datetime.strptime(start_date, '%Y-%m-%d') - timedelta(days =7)\n",
    "start_date = '2019-01-01'\n",
    "new_start_date = datetime.strptime(start_date, '%Y-%m-%d') + timedelta(days = -7)\n",
    "print(new_start_date)\n",
    "new_start_date"
   ]
  },
  {
   "cell_type": "markdown",
   "id": "f3d42646",
   "metadata": {},
   "source": [
    "#### 21. Прибавьте один час к дате start_date = '2019-01-01'."
   ]
  },
  {
   "cell_type": "code",
   "execution_count": 210,
   "id": "162c200f",
   "metadata": {
    "ExecuteTime": {
     "end_time": "2023-11-08T00:27:38.617220Z",
     "start_time": "2023-11-08T00:27:38.595239Z"
    }
   },
   "outputs": [
    {
     "name": "stdout",
     "output_type": "stream",
     "text": [
      "2019-01-01 01:00:00\n"
     ]
    },
    {
     "data": {
      "text/plain": [
       "datetime.datetime(2019, 1, 1, 1, 0)"
      ]
     },
     "execution_count": 210,
     "metadata": {},
     "output_type": "execute_result"
    }
   ],
   "source": [
    "start_date = '2019-01-01'\n",
    "new_start_date = datetime.strptime(start_date, '%Y-%m-%d') + timedelta(hours = 1)\n",
    "print(new_start_date)\n",
    "new_start_date"
   ]
  },
  {
   "cell_type": "markdown",
   "id": "bdc8c2f9",
   "metadata": {},
   "source": [
    "#### 22. Представим, что нам необходимо из огромной таблицы с данными за год выбрать показатели за новогодние праздники с 1 по 7 января (start_date = '2019-01-01'; end_date = '2019-01-07'). Реализуейте алгоритм, который по дате начала и конца выгрузки будет «пробегать» все значения по дням.  \n"
   ]
  },
  {
   "cell_type": "code",
   "execution_count": 241,
   "id": "263e291d",
   "metadata": {},
   "outputs": [
    {
     "name": "stdout",
     "output_type": "stream",
     "text": [
      "2019-01-01 00:00:00\n",
      "2019-01-02 00:00:00\n",
      "2019-01-03 00:00:00\n",
      "2019-01-04 00:00:00\n",
      "2019-01-05 00:00:00\n",
      "2019-01-06 00:00:00\n",
      "2019-01-07 00:00:00\n"
     ]
    }
   ],
   "source": [
    "start_date = '2019-01-01'\n",
    "end_date = '2019-01-07'\n",
    "\n",
    "# Перевем переменные в формат datetime\n",
    "start_date_datetime = datetime.strptime(start_date, '%Y-%m-%d') \n",
    "end_date_datetime = datetime.strptime(end_date, '%Y-%m-%d')\n",
    "\n",
    "# Реализуем цикл\n",
    "current_day = start_date_datetime\n",
    "while current_day <= end_date_datetime:\n",
    "    print(current_day)\n",
    "    current_day += timedelta(days = 1) "
   ]
  },
  {
   "cell_type": "code",
   "execution_count": 242,
   "id": "4bf7dd9c",
   "metadata": {
    "scrolled": true
   },
   "outputs": [
    {
     "name": "stdout",
     "output_type": "stream",
     "text": [
      "2019-01-01\n",
      "2019-01-02\n",
      "2019-01-03\n",
      "2019-01-04\n",
      "2019-01-05\n",
      "2019-01-06\n",
      "2019-01-07\n"
     ]
    }
   ],
   "source": [
    "# Для удобства вывода заменим вывод current_day на более наглядный строковый эквивалент в формате даты\n",
    "current_day = start_date_datetime\n",
    "\n",
    "while current_day <= end_date_datetime:\n",
    "    print(current_day.strftime('%Y-%m-%d'))\n",
    "    current_day += timedelta(days = 1)"
   ]
  },
  {
   "cell_type": "markdown",
   "id": "06aeabaf",
   "metadata": {},
   "source": [
    "### ЗАДАНИЕ 2.   \n",
    "### Ответить на вопросы, применив различные способы трансформации данных\n",
    "В задании используется датасет с информацией о нарушителях, которые должны оплатить штраф  "
   ]
  },
  {
   "cell_type": "code",
   "execution_count": 3,
   "id": "2e6ea411",
   "metadata": {
    "scrolled": false
   },
   "outputs": [
    {
     "data": {
      "text/html": [
       "<div>\n",
       "<style scoped>\n",
       "    .dataframe tbody tr th:only-of-type {\n",
       "        vertical-align: middle;\n",
       "    }\n",
       "\n",
       "    .dataframe tbody tr th {\n",
       "        vertical-align: top;\n",
       "    }\n",
       "\n",
       "    .dataframe thead th {\n",
       "        text-align: right;\n",
       "    }\n",
       "</style>\n",
       "<table border=\"1\" class=\"dataframe\">\n",
       "  <thead>\n",
       "    <tr style=\"text-align: right;\">\n",
       "      <th></th>\n",
       "      <th>ticket_id</th>\n",
       "      <th>agency_name</th>\n",
       "      <th>inspector_name</th>\n",
       "      <th>violator_name</th>\n",
       "      <th>violation_street_number</th>\n",
       "      <th>violation_street_name</th>\n",
       "      <th>violation_zip_code</th>\n",
       "      <th>mailing_address_str_number</th>\n",
       "      <th>mailing_address_str_name</th>\n",
       "      <th>city</th>\n",
       "      <th>...</th>\n",
       "      <th>clean_up_cost</th>\n",
       "      <th>judgment_amount</th>\n",
       "      <th>payment_amount</th>\n",
       "      <th>balance_due</th>\n",
       "      <th>payment_date</th>\n",
       "      <th>payment_status</th>\n",
       "      <th>collection_status</th>\n",
       "      <th>grafitti_status</th>\n",
       "      <th>compliance_detail</th>\n",
       "      <th>compliance</th>\n",
       "    </tr>\n",
       "  </thead>\n",
       "  <tbody>\n",
       "    <tr>\n",
       "      <th>0</th>\n",
       "      <td>22056</td>\n",
       "      <td>Buildings, Safety Engineering &amp; Env Department</td>\n",
       "      <td>Sims, Martinzie</td>\n",
       "      <td>INVESTMENT INC., MIDWEST MORTGAGE</td>\n",
       "      <td>2900.0</td>\n",
       "      <td>TYLER</td>\n",
       "      <td>NaN</td>\n",
       "      <td>3.0</td>\n",
       "      <td>S. WICKER</td>\n",
       "      <td>CHICAGO</td>\n",
       "      <td>...</td>\n",
       "      <td>0.0</td>\n",
       "      <td>305.0</td>\n",
       "      <td>0.0</td>\n",
       "      <td>305.0</td>\n",
       "      <td>NaN</td>\n",
       "      <td>NO PAYMENT APPLIED</td>\n",
       "      <td>NaN</td>\n",
       "      <td>NaN</td>\n",
       "      <td>non-compliant by no payment</td>\n",
       "      <td>0.0</td>\n",
       "    </tr>\n",
       "    <tr>\n",
       "      <th>1</th>\n",
       "      <td>27586</td>\n",
       "      <td>Buildings, Safety Engineering &amp; Env Department</td>\n",
       "      <td>Williams, Darrin</td>\n",
       "      <td>Michigan, Covenant House</td>\n",
       "      <td>4311.0</td>\n",
       "      <td>CENTRAL</td>\n",
       "      <td>NaN</td>\n",
       "      <td>2959.0</td>\n",
       "      <td>Martin Luther King</td>\n",
       "      <td>Detroit</td>\n",
       "      <td>...</td>\n",
       "      <td>0.0</td>\n",
       "      <td>855.0</td>\n",
       "      <td>780.0</td>\n",
       "      <td>75.0</td>\n",
       "      <td>2005-06-02 00:00:00</td>\n",
       "      <td>PAID IN FULL</td>\n",
       "      <td>NaN</td>\n",
       "      <td>NaN</td>\n",
       "      <td>compliant by late payment within 1 month</td>\n",
       "      <td>1.0</td>\n",
       "    </tr>\n",
       "    <tr>\n",
       "      <th>2</th>\n",
       "      <td>22062</td>\n",
       "      <td>Buildings, Safety Engineering &amp; Env Department</td>\n",
       "      <td>Sims, Martinzie</td>\n",
       "      <td>SANDERS, DERRON</td>\n",
       "      <td>1449.0</td>\n",
       "      <td>LONGFELLOW</td>\n",
       "      <td>NaN</td>\n",
       "      <td>23658.0</td>\n",
       "      <td>P.O. BOX</td>\n",
       "      <td>DETROIT</td>\n",
       "      <td>...</td>\n",
       "      <td>0.0</td>\n",
       "      <td>0.0</td>\n",
       "      <td>0.0</td>\n",
       "      <td>0.0</td>\n",
       "      <td>NaN</td>\n",
       "      <td>NO PAYMENT APPLIED</td>\n",
       "      <td>NaN</td>\n",
       "      <td>NaN</td>\n",
       "      <td>not responsible by disposition</td>\n",
       "      <td>NaN</td>\n",
       "    </tr>\n",
       "  </tbody>\n",
       "</table>\n",
       "<p>3 rows × 34 columns</p>\n",
       "</div>"
      ],
      "text/plain": [
       "   ticket_id                                     agency_name  \\\n",
       "0      22056  Buildings, Safety Engineering & Env Department   \n",
       "1      27586  Buildings, Safety Engineering & Env Department   \n",
       "2      22062  Buildings, Safety Engineering & Env Department   \n",
       "\n",
       "     inspector_name                      violator_name  \\\n",
       "0   Sims, Martinzie  INVESTMENT INC., MIDWEST MORTGAGE   \n",
       "1  Williams, Darrin           Michigan, Covenant House   \n",
       "2   Sims, Martinzie                    SANDERS, DERRON   \n",
       "\n",
       "   violation_street_number violation_street_name  violation_zip_code  \\\n",
       "0                   2900.0                 TYLER                 NaN   \n",
       "1                   4311.0               CENTRAL                 NaN   \n",
       "2                   1449.0            LONGFELLOW                 NaN   \n",
       "\n",
       "   mailing_address_str_number mailing_address_str_name     city  ...  \\\n",
       "0                         3.0                S. WICKER  CHICAGO  ...   \n",
       "1                      2959.0       Martin Luther King  Detroit  ...   \n",
       "2                     23658.0                 P.O. BOX  DETROIT  ...   \n",
       "\n",
       "  clean_up_cost judgment_amount payment_amount balance_due  \\\n",
       "0           0.0           305.0            0.0       305.0   \n",
       "1           0.0           855.0          780.0        75.0   \n",
       "2           0.0             0.0            0.0         0.0   \n",
       "\n",
       "          payment_date      payment_status collection_status grafitti_status  \\\n",
       "0                  NaN  NO PAYMENT APPLIED               NaN             NaN   \n",
       "1  2005-06-02 00:00:00        PAID IN FULL               NaN             NaN   \n",
       "2                  NaN  NO PAYMENT APPLIED               NaN             NaN   \n",
       "\n",
       "                          compliance_detail  compliance  \n",
       "0               non-compliant by no payment         0.0  \n",
       "1  compliant by late payment within 1 month         1.0  \n",
       "2            not responsible by disposition         NaN  \n",
       "\n",
       "[3 rows x 34 columns]"
      ]
     },
     "execution_count": 3,
     "metadata": {},
     "output_type": "execute_result"
    }
   ],
   "source": [
    "# Загрузим датасет и посмотрим на данные\n",
    "vis_data = pd.read_csv(\"train.csv\", encoding = 'ISO-8859-1', low_memory = False)\n",
    "vis_data.head(3)"
   ]
  },
  {
   "cell_type": "markdown",
   "id": "56761e69",
   "metadata": {},
   "source": [
    "#### 1. Найдите признак, обозначающий штат. Замените пропуски значением, которое встречается чаще всего, и запишите получившийся признак в переменную result."
   ]
  },
  {
   "cell_type": "code",
   "execution_count": 217,
   "id": "aa6f89dc",
   "metadata": {
    "ExecuteTime": {
     "end_time": "2023-11-08T00:34:08.282498Z",
     "start_time": "2023-11-08T00:34:08.165552Z"
    }
   },
   "outputs": [
    {
     "name": "stdout",
     "output_type": "stream",
     "text": [
      "Количество пропусков до обработки: 93\n",
      "Наиболее часто встречающееся значение в столбце: MI\n"
     ]
    },
    {
     "data": {
      "text/plain": [
       "MI    228601\n",
       "CA      5020\n",
       "TX      2420\n",
       "FL      2237\n",
       "IL      1310\n",
       "Name: state, dtype: int64"
      ]
     },
     "metadata": {},
     "output_type": "display_data"
    },
    {
     "name": "stdout",
     "output_type": "stream",
     "text": [
      "\n",
      "Количество пропусков после обработки: 0\n"
     ]
    },
    {
     "data": {
      "text/plain": [
       "MI    228694\n",
       "CA      5020\n",
       "TX      2420\n",
       "FL      2237\n",
       "IL      1310\n",
       "Name: state, dtype: int64"
      ]
     },
     "metadata": {},
     "output_type": "display_data"
    }
   ],
   "source": [
    "# vis_data.state[pd.isna(vis_data.state)]\n",
    "# vis_data.state[vis_data.state.isna()]\n",
    "\n",
    "# Посмотрим количество пропусков\n",
    "sum_of_nans = vis_data['state'].isna().sum()    # len(vis_data.state[pd.isna(vis_data.state)])\n",
    "print(f'Количество пропусков до обработки: {sum_of_nans}')\n",
    "\n",
    "# Найдем наиболее часто встречающееся значение в столбце 'state'\n",
    "# most_frequent = vis_data.state.describe().loc['top']\n",
    "most_frequent = vis_data['state'].value_counts(ascending = False).index[0]\n",
    "print(f'Наиболее часто встречающееся значение в столбце: {most_frequent}')\n",
    "display(vis_data['state'].value_counts(ascending = False)[:5])\n",
    "\n",
    "# Заменим пропуски значением, которое встречается чаще всего, и запишем признак в переменную result\n",
    "result = vis_data['state'].fillna(most_frequent)\n",
    "sum_of_nans2 = result.isna().sum()\n",
    "print(f'\\nКоличество пропусков после обработки: {sum_of_nans2}')\n",
    "display(result.value_counts(ascending = False)[:5])"
   ]
  },
  {
   "cell_type": "markdown",
   "id": "054807d1",
   "metadata": {},
   "source": [
    "#### 2. Найдите признак, обозначающий баланс. Нормализуйте его с помощью std-нормализации. В качестве ответа укажите минимальное значение в получившемся нормализованном признаке. Ответ округлите до 5 знаков после запятой."
   ]
  },
  {
   "cell_type": "markdown",
   "id": "6cd5c334",
   "metadata": {},
   "source": [
    "#### 3. Возьмите корень у положительных значений признака, обозначающего баланс, найдите медианное и среднее значение. В качестве ответа укажите модуль разницы этих значений."
   ]
  },
  {
   "cell_type": "markdown",
   "id": "6fa23832",
   "metadata": {},
   "source": [
    "#### 4. Прологарифмируйте положительные значения признака, обозначающего баланс, найдите медианное и среднее значение. В качестве ответа укажите модуль разницы этих значений."
   ]
  },
  {
   "cell_type": "code",
   "execution_count": 20,
   "id": "470171a2",
   "metadata": {
    "scrolled": true
   },
   "outputs": [
    {
     "name": "stdout",
     "output_type": "stream",
     "text": [
      "Минимальное значение в нормализованном признаке \"balance_due\": -13.14733\n",
      "Модуль разницы медианного и среднего значения корня признака \"balance_due\": 0.4526\n",
      "Модуль разницы медианного и среднего значения прологарифмированного признака \"balance_due\": 0.37389\n"
     ]
    }
   ],
   "source": [
    "# Задание 2\n",
    "from sklearn.preprocessing import StandardScaler\n",
    "balance_due = vis_data['balance_due'].values.reshape(-1, 1)  # 250306, 1\n",
    "scaler = StandardScaler()\n",
    "print(f'Минимальное значение в нормализованном признаке \"balance_due\": {round(scaler.fit_transform(balance_due).min(), 5)}')\n",
    "\n",
    "# Задание 3\n",
    "dif_sqrt = np.abs(np.sqrt(vis_data[vis_data['balance_due'] > 0]['balance_due']).median() - np.sqrt(vis_data[vis_data['balance_due'] > 0]['balance_due']).mean())\n",
    "print(f'Модуль разницы медианного и среднего значения корня признака \"balance_due\": {round(dif_sqrt, 5)}')\n",
    "\n",
    "# Задание 4\n",
    "dif_log = np.abs(np.log(vis_data[vis_data['balance_due'] > 0]['balance_due']).median() - np.log(vis_data[vis_data['balance_due'] > 0]['balance_due']).mean())\n",
    "print(f'Модуль разницы медианного и среднего значения прологарифмированного признака \"balance_due\": {round(dif_log, 5)}')"
   ]
  },
  {
   "cell_type": "markdown",
   "id": "96392a14",
   "metadata": {},
   "source": [
    "#### 5. Оставьте только два признака: balance_due и payment_amount (признаки должны следовать именно в указанном порядке). Создайте из полученных признаков полиномиальные признаки степени 3. Посчитайте среднее значение для каждого получившегося признака.  \n",
    "В качестве ответа укажите индекс признака, который содержит максимальное среднее значение."
   ]
  },
  {
   "cell_type": "code",
   "execution_count": 21,
   "id": "2c392c16",
   "metadata": {
    "scrolled": false
   },
   "outputs": [
    {
     "data": {
      "text/html": [
       "<div>\n",
       "<style scoped>\n",
       "    .dataframe tbody tr th:only-of-type {\n",
       "        vertical-align: middle;\n",
       "    }\n",
       "\n",
       "    .dataframe tbody tr th {\n",
       "        vertical-align: top;\n",
       "    }\n",
       "\n",
       "    .dataframe thead th {\n",
       "        text-align: right;\n",
       "    }\n",
       "</style>\n",
       "<table border=\"1\" class=\"dataframe\">\n",
       "  <thead>\n",
       "    <tr style=\"text-align: right;\">\n",
       "      <th></th>\n",
       "      <th>balance_due</th>\n",
       "      <th>payment_amount</th>\n",
       "    </tr>\n",
       "  </thead>\n",
       "  <tbody>\n",
       "    <tr>\n",
       "      <th>0</th>\n",
       "      <td>305.0</td>\n",
       "      <td>0.0</td>\n",
       "    </tr>\n",
       "    <tr>\n",
       "      <th>1</th>\n",
       "      <td>75.0</td>\n",
       "      <td>780.0</td>\n",
       "    </tr>\n",
       "    <tr>\n",
       "      <th>2</th>\n",
       "      <td>0.0</td>\n",
       "      <td>0.0</td>\n",
       "    </tr>\n",
       "  </tbody>\n",
       "</table>\n",
       "</div>"
      ],
      "text/plain": [
       "   balance_due  payment_amount\n",
       "0        305.0             0.0\n",
       "1         75.0           780.0\n",
       "2          0.0             0.0"
      ]
     },
     "metadata": {},
     "output_type": "display_data"
    },
    {
     "name": "stdout",
     "output_type": "stream",
     "text": [
      "Размер изначального датасета: (250306, 2)\n"
     ]
    },
    {
     "data": {
      "text/html": [
       "<div>\n",
       "<style scoped>\n",
       "    .dataframe tbody tr th:only-of-type {\n",
       "        vertical-align: middle;\n",
       "    }\n",
       "\n",
       "    .dataframe tbody tr th {\n",
       "        vertical-align: top;\n",
       "    }\n",
       "\n",
       "    .dataframe thead th {\n",
       "        text-align: right;\n",
       "    }\n",
       "</style>\n",
       "<table border=\"1\" class=\"dataframe\">\n",
       "  <thead>\n",
       "    <tr style=\"text-align: right;\">\n",
       "      <th></th>\n",
       "      <th>0</th>\n",
       "      <th>1</th>\n",
       "      <th>2</th>\n",
       "      <th>3</th>\n",
       "      <th>4</th>\n",
       "      <th>5</th>\n",
       "      <th>6</th>\n",
       "      <th>7</th>\n",
       "      <th>8</th>\n",
       "      <th>9</th>\n",
       "    </tr>\n",
       "  </thead>\n",
       "  <tbody>\n",
       "    <tr>\n",
       "      <th>0</th>\n",
       "      <td>1.0</td>\n",
       "      <td>305.0</td>\n",
       "      <td>0.0</td>\n",
       "      <td>93025.0</td>\n",
       "      <td>0.0</td>\n",
       "      <td>0.0</td>\n",
       "      <td>28372625.0</td>\n",
       "      <td>0.0</td>\n",
       "      <td>0.0</td>\n",
       "      <td>0.0</td>\n",
       "    </tr>\n",
       "    <tr>\n",
       "      <th>1</th>\n",
       "      <td>1.0</td>\n",
       "      <td>75.0</td>\n",
       "      <td>780.0</td>\n",
       "      <td>5625.0</td>\n",
       "      <td>58500.0</td>\n",
       "      <td>608400.0</td>\n",
       "      <td>421875.0</td>\n",
       "      <td>4387500.0</td>\n",
       "      <td>45630000.0</td>\n",
       "      <td>474552000.0</td>\n",
       "    </tr>\n",
       "    <tr>\n",
       "      <th>2</th>\n",
       "      <td>1.0</td>\n",
       "      <td>0.0</td>\n",
       "      <td>0.0</td>\n",
       "      <td>0.0</td>\n",
       "      <td>0.0</td>\n",
       "      <td>0.0</td>\n",
       "      <td>0.0</td>\n",
       "      <td>0.0</td>\n",
       "      <td>0.0</td>\n",
       "      <td>0.0</td>\n",
       "    </tr>\n",
       "  </tbody>\n",
       "</table>\n",
       "</div>"
      ],
      "text/plain": [
       "     0      1      2        3        4         5           6          7  \\\n",
       "0  1.0  305.0    0.0  93025.0      0.0       0.0  28372625.0        0.0   \n",
       "1  1.0   75.0  780.0   5625.0  58500.0  608400.0    421875.0  4387500.0   \n",
       "2  1.0    0.0    0.0      0.0      0.0       0.0         0.0        0.0   \n",
       "\n",
       "            8            9  \n",
       "0         0.0          0.0  \n",
       "1  45630000.0  474552000.0  \n",
       "2         0.0          0.0  "
      ]
     },
     "metadata": {},
     "output_type": "display_data"
    },
    {
     "name": "stdout",
     "output_type": "stream",
     "text": [
      "Размер датасета c полиномиальными признаками: (250306, 10)\n",
      "Индекс признака, который содержит максимальное среднее значение и само значение: (6, 2042000980.3445694)\n"
     ]
    }
   ],
   "source": [
    "new_df = vis_data[['balance_due', 'payment_amount']]\n",
    "display(new_df.head(3))\n",
    "print(f'Размер изначального датасета: {new_df.shape}')\n",
    "\n",
    "# Создание полиномиальных признаков\n",
    "# pol_features = PolynomialFeatures(3).fit_transform(new_df)\n",
    "# pd.Series(pol_features.mean(axis = 0)).sort_values(ascending = False)[:1]\n",
    "\n",
    "pol_features = PolynomialFeatures(3).fit_transform(new_df)\n",
    "pol_df = pd.DataFrame(pol_features)\n",
    "display(pol_df.head(3))\n",
    "print(f'Размер датасета c полиномиальными признаками: {pol_features.shape}')\n",
    "\n",
    "max_value = pol_df.mean().sort_values(ascending = False)\n",
    "print(f'Индекс признака, который содержит максимальное среднее значение и само значение: {max_value.index[0], max_value.iloc[0]}')"
   ]
  },
  {
   "cell_type": "code",
   "execution_count": 35,
   "id": "04f54466",
   "metadata": {
    "scrolled": false
   },
   "outputs": [
    {
     "data": {
      "text/html": [
       "<div>\n",
       "<style scoped>\n",
       "    .dataframe tbody tr th:only-of-type {\n",
       "        vertical-align: middle;\n",
       "    }\n",
       "\n",
       "    .dataframe tbody tr th {\n",
       "        vertical-align: top;\n",
       "    }\n",
       "\n",
       "    .dataframe thead th {\n",
       "        text-align: right;\n",
       "    }\n",
       "</style>\n",
       "<table border=\"1\" class=\"dataframe\">\n",
       "  <thead>\n",
       "    <tr style=\"text-align: right;\">\n",
       "      <th></th>\n",
       "      <th>balance_due</th>\n",
       "      <th>payment_amount</th>\n",
       "    </tr>\n",
       "  </thead>\n",
       "  <tbody>\n",
       "    <tr>\n",
       "      <th>0</th>\n",
       "      <td>305.0</td>\n",
       "      <td>0.0</td>\n",
       "    </tr>\n",
       "    <tr>\n",
       "      <th>1</th>\n",
       "      <td>75.0</td>\n",
       "      <td>780.0</td>\n",
       "    </tr>\n",
       "    <tr>\n",
       "      <th>2</th>\n",
       "      <td>0.0</td>\n",
       "      <td>0.0</td>\n",
       "    </tr>\n",
       "  </tbody>\n",
       "</table>\n",
       "</div>"
      ],
      "text/plain": [
       "   balance_due  payment_amount\n",
       "0        305.0             0.0\n",
       "1         75.0           780.0\n",
       "2          0.0             0.0"
      ]
     },
     "metadata": {},
     "output_type": "display_data"
    },
    {
     "data": {
      "text/plain": [
       "(250306, 10)"
      ]
     },
     "metadata": {},
     "output_type": "display_data"
    },
    {
     "name": "stdout",
     "output_type": "stream",
     "text": [
      "\n",
      "Словарь средних значений признаков:\n"
     ]
    },
    {
     "data": {
      "text/plain": [
       "{0: 1,\n",
       " 1: 222,\n",
       " 2: 49,\n",
       " 3: 417196,\n",
       " 4: 667,\n",
       " 5: 51863,\n",
       " 6: 2042000980,\n",
       " 7: 8597853,\n",
       " 8: -3509170,\n",
       " 9: 177998080}"
      ]
     },
     "metadata": {},
     "output_type": "display_data"
    },
    {
     "name": "stdout",
     "output_type": "stream",
     "text": [
      "Признак c индексом 6 содержит максимальное среднее значение: 2042000980\n"
     ]
    }
   ],
   "source": [
    "# ДРУГОЙ СПОСОБ РЕШЕНИЯ\n",
    "\n",
    "new_df = vis_data[['balance_due', 'payment_amount']]\n",
    "display(new_df.head(3))\n",
    "\n",
    "pol_features = PolynomialFeatures(3).fit_transform(new_df)\n",
    "display(pol_features.shape)\n",
    "\n",
    "mean_values_dict = {}\n",
    "for i in range(pol_features.shape[1]):\n",
    "    mean_values_dict[i] = round(np.mean(pol_features[:, i]))\n",
    "\n",
    "print('\\nСловарь средних значений признаков:')\n",
    "display(mean_values_dict)\n",
    "\n",
    "max_value = sorted(mean_values_dict.items(), key = lambda x: x[1], reverse = True)[0]\n",
    "print(f'Признак c индексом {max_value[0]} содержит максимальное среднее значение: {max_value[1]}')"
   ]
  },
  {
   "cell_type": "markdown",
   "id": "449846cc",
   "metadata": {},
   "source": [
    "### Способы получения ключа с максимальным значением в словаре Python"
   ]
  },
  {
   "cell_type": "code",
   "execution_count": 229,
   "id": "766d0465",
   "metadata": {
    "ExecuteTime": {
     "end_time": "2023-11-08T00:41:24.951605Z",
     "start_time": "2023-11-08T00:41:24.938589Z"
    }
   },
   "outputs": [
    {
     "name": "stdout",
     "output_type": "stream",
     "text": [
      "{0: 1,\n",
      " 1: 222,\n",
      " 2: 49,\n",
      " 3: 417196,\n",
      " 4: 667,\n",
      " 5: 51863,\n",
      " 6: 2042000980,\n",
      " 7: 8597853,\n",
      " 8: -3509170,\n",
      " 9: 177998080}\n"
     ]
    }
   ],
   "source": [
    "pprint(mean_values_dict)"
   ]
  },
  {
   "cell_type": "code",
   "execution_count": 242,
   "id": "422668ac",
   "metadata": {
    "ExecuteTime": {
     "end_time": "2023-11-08T00:45:04.900484Z",
     "start_time": "2023-11-08T00:45:04.890510Z"
    },
    "scrolled": false
   },
   "outputs": [
    {
     "name": "stdout",
     "output_type": "stream",
     "text": [
      "(6, 2042000980)\n",
      "2042000980\n",
      "6\n",
      "8\n",
      "6\n",
      "8\n"
     ]
    }
   ],
   "source": [
    "# 1. Использование operator.itemgetter() \n",
    "import operator\n",
    "x = max(mean_values_dict.items(), key = operator.itemgetter(1))\n",
    "print(x)     # напечатать пару\n",
    "print(x[1])  # напечатать ключ \n",
    "\n",
    "# 2. Использование dict.get() \n",
    "# Функция возвращает ключ с максимальным значением\n",
    "x_max = max(mean_values_dict, key = mean_values_dict.get)\n",
    "x_min = min(mean_values_dict, key = mean_values_dict.get)\n",
    "print(x_max)\n",
    "print(x_min)\n",
    "\n",
    "#  Альтернативная версия с использованием лямбда-выражений\n",
    "x_max = max(mean_values_dict, key = lambda x: mean_values_dict[x])\n",
    "x_min = min(mean_values_dict, key = lambda x: mean_values_dict[x])\n",
    "print(x_max)\n",
    "print(x_min)"
   ]
  },
  {
   "cell_type": "code",
   "execution_count": 248,
   "id": "a55caa6a",
   "metadata": {
    "ExecuteTime": {
     "end_time": "2023-11-08T00:48:16.538248Z",
     "start_time": "2023-11-08T00:48:16.528310Z"
    },
    "scrolled": false
   },
   "outputs": [
    {
     "name": "stdout",
     "output_type": "stream",
     "text": [
      "{1: 0, 222: 1, 49: 2, 417196: 3, 667: 4, 51863: 5, 2042000980: 6, 8597853: 7, -3509170: 8, 177998080: 9}\n",
      "6\n",
      "6\n"
     ]
    }
   ],
   "source": [
    "# 3. Использование обратного словаря\n",
    "# инвертировать каждую пару ключ / значение словаря. Например, словарь { k1: v1, k2: v2, … , kn: vn} \n",
    "# должен быть преобразован в словарь { v1: k1, v2: k2, … , vn: kn}\n",
    "inv = {v: k for k, v in mean_values_dict.items()}\n",
    "print(inv)\n",
    "x = inv[max(inv)]\n",
    "print(x)\n",
    "\n",
    "# В качестве альтернативы можно написать:\n",
    "m = max(mean_values_dict.values())\n",
    "x = next(k for k, v in mean_values_dict.items() if v == m)  # print(*[k for k, v in mean_values_dict.items() if v == m])\n",
    "print(x)   "
   ]
  },
  {
   "cell_type": "markdown",
   "id": "275c2664",
   "metadata": {},
   "source": [
    "#### 6. Найдите признак, обозначающий баланс. Уберите пропуски из этого признака и найдите выбросы с помощью межквартильного расстояния. Найдите разницу между максимальным и минимальным среди значений, которые остались после удаления выбросов."
   ]
  },
  {
   "cell_type": "code",
   "execution_count": 16,
   "id": "9fca9981",
   "metadata": {
    "ExecuteTime": {
     "end_time": "2024-01-30T09:02:07.481674Z",
     "start_time": "2024-01-30T09:02:07.461766Z"
    }
   },
   "outputs": [],
   "source": [
    "def outliers_iqr(ys):\n",
    "    '''Функция для выявления выбросов при помощи IQR'''\n",
    "    quartile_1, quartile_3 = np.percentile(ys, [25, 75])\n",
    "    iqr = quartile_3 - quartile_1   \n",
    "    lower_bound = quartile_1 - (iqr * 1.5)\n",
    "    upper_bound = quartile_3 + (iqr * 1.5)\n",
    "    return np.where((ys > upper_bound) | (ys < lower_bound))[0]"
   ]
  },
  {
   "cell_type": "code",
   "execution_count": 260,
   "id": "011439a8",
   "metadata": {
    "ExecuteTime": {
     "end_time": "2023-11-08T00:52:13.034644Z",
     "start_time": "2023-11-08T00:52:12.832411Z"
    },
    "scrolled": true
   },
   "outputs": [
    {
     "data": {
      "text/plain": [
       "count    250306.000000\n",
       "mean        222.449058\n",
       "std         606.394010\n",
       "min       -7750.000000\n",
       "25%           0.000000\n",
       "50%          25.000000\n",
       "75%         305.000000\n",
       "max       11030.000000\n",
       "Name: balance_due, dtype: float64"
      ]
     },
     "execution_count": 260,
     "metadata": {},
     "output_type": "execute_result"
    },
    {
     "data": {
      "image/png": "[encoded data removed]",
      "text/plain": [
       "<Figure size 500x300 with 1 Axes>"
      ]
     },
     "metadata": {},
     "output_type": "display_data"
    }
   ],
   "source": [
    "# Посмотрим на распределение признака balance_due\n",
    "vis_data.balance_due.dropna().hist(bins = 20, figsize = (5, 3))\n",
    "vis_data.balance_due.describe()"
   ]
  },
  {
   "cell_type": "code",
   "execution_count": 261,
   "id": "6a6408d5",
   "metadata": {
    "ExecuteTime": {
     "end_time": "2023-11-08T00:55:35.462137Z",
     "start_time": "2023-11-08T00:55:35.137004Z"
    }
   },
   "outputs": [
    {
     "name": "stdout",
     "output_type": "stream",
     "text": [
      "Количество строк до удаления выбросов: 250306\n",
      "Количество строк после удаления выбросов: 240473\n",
      "Разница между максимальным и минимальным среди значений, которые остались после удаления выбросов: 1201.3\n"
     ]
    },
    {
     "data": {
      "text/plain": [
       "<AxesSubplot:>"
      ]
     },
     "execution_count": 261,
     "metadata": {},
     "output_type": "execute_result"
    },
    {
     "data": {
      "image/png": "[encoded data removed]",
      "text/plain": [
       "<Figure size 500x300 with 1 Axes>"
      ]
     },
     "metadata": {},
     "output_type": "display_data"
    }
   ],
   "source": [
    "print(f'Количество строк до удаления выбросов: {len(vis_data.balance_due)}')\n",
    "\n",
    "outliers = outliers_iqr(vis_data['balance_due'].dropna())\n",
    "vis_data_2 = vis_data.copy()\n",
    "vis_data_2 = vis_data_2.drop(outliers.tolist())\n",
    "difference = vis_data_2.balance_due.max() - vis_data_2.balance_due.min()\n",
    "\n",
    "print(f'Количество строк после удаления выбросов: {len(vis_data_2.balance_due)}')\n",
    "print(f'Разница между максимальным и минимальным среди значений, которые остались после удаления выбросов: {difference}')\n",
    "\n",
    "# Посмотрим, какие значения были определены как выбросы\n",
    "outliers_list = outliers.tolist()\n",
    "vis_data.balance_due.dropna().iloc[outliers_list].hist(bins = 50, figsize = (5, 3))"
   ]
  },
  {
   "cell_type": "code",
   "execution_count": 262,
   "id": "506eb395",
   "metadata": {
    "ExecuteTime": {
     "end_time": "2023-11-08T00:56:08.904666Z",
     "start_time": "2023-11-08T00:56:08.685478Z"
    }
   },
   "outputs": [
    {
     "data": {
      "text/plain": [
       "<AxesSubplot:>"
      ]
     },
     "execution_count": 262,
     "metadata": {},
     "output_type": "execute_result"
    },
    {
     "data": {
      "image/png": "[encoded data removed]",
      "text/plain": [
       "<Figure size 500x300 with 1 Axes>"
      ]
     },
     "metadata": {},
     "output_type": "display_data"
    }
   ],
   "source": [
    "# Посмотрим, какие значения остались после удаления выбросов\n",
    "vis_data_2.balance_due.hist(bins = 50, figsize = (5, 3))"
   ]
  },
  {
   "cell_type": "code",
   "execution_count": 263,
   "id": "4fd80254",
   "metadata": {
    "ExecuteTime": {
     "end_time": "2023-11-08T00:57:02.175139Z",
     "start_time": "2023-11-08T00:57:02.146161Z"
    }
   },
   "outputs": [
    {
     "name": "stdout",
     "output_type": "stream",
     "text": [
      "Разница между максимальным и минимальным значениями: 1201.3\n"
     ]
    }
   ],
   "source": [
    "# ДРУГОЙ ВАРИАНТ РЕШЕНИЯ\n",
    "\n",
    "def elems_within_boudaries_iqr(ys):\n",
    "    '''Функция для нахлждения индексов элементов, которые не являются выбросами'''\n",
    "    quantile_1, quantile_3 = np.percentile(ys, [25,75])  # ys.quantile([0.25, 0.75])\n",
    "    iqr = quantile_3 - quantile_1\n",
    "    lower_boundary = quantile_1 - iqr * 1.5\n",
    "    higher_boundary = quantile_3 + iqr * 1.5\n",
    "    not_outliers = np.where(~((ys < lower_boundary) | (ys > higher_boundary)))[0]\n",
    "    return not_outliers\n",
    "\n",
    "\n",
    "elems = elems_within_boudaries_iqr(vis_data.balance_due.dropna())\n",
    "max_, min_ = vis_data.balance_due.dropna().iloc[elems].agg(['max', 'min']) \n",
    "print(f'Разница между максимальным и минимальным значениями: {max_ - min_}')"
   ]
  },
  {
   "cell_type": "markdown",
   "id": "e94e5c8f",
   "metadata": {},
   "source": [
    "#### 7. Найдите признак, обозначающий дату, когда был выписан штраф. Найдите, сколько раз штраф был выписан на выходных и запишите это число в качестве ответа."
   ]
  },
  {
   "cell_type": "code",
   "execution_count": 265,
   "id": "253a75b3",
   "metadata": {
    "ExecuteTime": {
     "end_time": "2023-11-08T00:59:04.693340Z",
     "start_time": "2023-11-08T00:59:04.522087Z"
    }
   },
   "outputs": [
    {
     "name": "stdout",
     "output_type": "stream",
     "text": [
      "1620\n"
     ]
    }
   ],
   "source": [
    "day_of_week = pd.to_datetime(vis_data['ticket_issued_date'])\n",
    "print(day_of_week.dt.weekday.value_counts()[[5, 6]].sum())\n",
    "\n",
    "# len(day_of_week.dt.weekday[day_of_week.dt.weekday.isin([5, 6])])\n",
    "# day_of_week.dt.weekday[day_of_week.dt.weekday.isin([5, 6])].count()"
   ]
  },
  {
   "cell_type": "markdown",
   "id": "a20312ee",
   "metadata": {},
   "source": [
    "### ЗАДАНИЕ 3.   \n",
    "### Ответить на вопросы, применив различные способы трансформации данных\n",
    "В задании используется датасет с информацией о квартирах в Москве, выставленных на продажу."
   ]
  },
  {
   "cell_type": "markdown",
   "id": "20074e1d",
   "metadata": {},
   "source": [
    "#### 1. Загрузите датасет. Избавьтесь от пропусков.  \n",
    "Просто удалять данные с пропусками довольно грубо. Однако если имеется большое количество объектов, и лишь крайне малая их доля имеет пропущенные значения, то это возможное допущение. Поступим здесь таким образом. Нас будут интересовать только те квартиры, про которые продавцы заполнили все данные.  \n",
    "\n",
    "**Удалите все строки, где есть хотя бы один пропуск и запишите получившийся датасет в переменную data_2.  \n",
    "Сколько объектов осталось?**"
   ]
  },
  {
   "cell_type": "code",
   "execution_count": 114,
   "id": "e69098a9",
   "metadata": {
    "scrolled": false
   },
   "outputs": [
    {
     "data": {
      "text/html": [
       "<div>\n",
       "<style scoped>\n",
       "    .dataframe tbody tr th:only-of-type {\n",
       "        vertical-align: middle;\n",
       "    }\n",
       "\n",
       "    .dataframe tbody tr th {\n",
       "        vertical-align: top;\n",
       "    }\n",
       "\n",
       "    .dataframe thead th {\n",
       "        text-align: right;\n",
       "    }\n",
       "</style>\n",
       "<table border=\"1\" class=\"dataframe\">\n",
       "  <thead>\n",
       "    <tr style=\"text-align: right;\">\n",
       "      <th></th>\n",
       "      <th>id</th>\n",
       "      <th>full_sq</th>\n",
       "      <th>life_sq</th>\n",
       "      <th>floor</th>\n",
       "      <th>sub_area</th>\n",
       "      <th>preschool_quota</th>\n",
       "      <th>preschool_education_centers_raion</th>\n",
       "      <th>school_quota</th>\n",
       "      <th>school_education_centers_raion</th>\n",
       "      <th>school_education_centers_top_20_raion</th>\n",
       "      <th>...</th>\n",
       "      <th>shopping_centers_km</th>\n",
       "      <th>office_km</th>\n",
       "      <th>additional_education_km</th>\n",
       "      <th>preschool_km</th>\n",
       "      <th>big_church_km</th>\n",
       "      <th>church_synagogue_km</th>\n",
       "      <th>theater_km</th>\n",
       "      <th>museum_km</th>\n",
       "      <th>ecology</th>\n",
       "      <th>price_doc</th>\n",
       "    </tr>\n",
       "  </thead>\n",
       "  <tbody>\n",
       "    <tr>\n",
       "      <th>0</th>\n",
       "      <td>1</td>\n",
       "      <td>43</td>\n",
       "      <td>27.0</td>\n",
       "      <td>4.0</td>\n",
       "      <td>Bibirevo</td>\n",
       "      <td>5001.0</td>\n",
       "      <td>5</td>\n",
       "      <td>11065.0</td>\n",
       "      <td>5</td>\n",
       "      <td>0</td>\n",
       "      <td>...</td>\n",
       "      <td>0.648488</td>\n",
       "      <td>0.637189</td>\n",
       "      <td>0.947962</td>\n",
       "      <td>0.177975</td>\n",
       "      <td>0.625783</td>\n",
       "      <td>0.628187</td>\n",
       "      <td>14.053047</td>\n",
       "      <td>7.389498</td>\n",
       "      <td>good</td>\n",
       "      <td>5850000</td>\n",
       "    </tr>\n",
       "    <tr>\n",
       "      <th>1</th>\n",
       "      <td>2</td>\n",
       "      <td>34</td>\n",
       "      <td>19.0</td>\n",
       "      <td>3.0</td>\n",
       "      <td>Nagatinskij Zaton</td>\n",
       "      <td>3119.0</td>\n",
       "      <td>5</td>\n",
       "      <td>6237.0</td>\n",
       "      <td>8</td>\n",
       "      <td>0</td>\n",
       "      <td>...</td>\n",
       "      <td>0.519311</td>\n",
       "      <td>0.688796</td>\n",
       "      <td>1.072315</td>\n",
       "      <td>0.273345</td>\n",
       "      <td>0.967821</td>\n",
       "      <td>0.471447</td>\n",
       "      <td>6.829889</td>\n",
       "      <td>0.709260</td>\n",
       "      <td>excellent</td>\n",
       "      <td>6000000</td>\n",
       "    </tr>\n",
       "    <tr>\n",
       "      <th>2</th>\n",
       "      <td>3</td>\n",
       "      <td>43</td>\n",
       "      <td>29.0</td>\n",
       "      <td>2.0</td>\n",
       "      <td>Tekstil'shhiki</td>\n",
       "      <td>1463.0</td>\n",
       "      <td>4</td>\n",
       "      <td>5580.0</td>\n",
       "      <td>7</td>\n",
       "      <td>0</td>\n",
       "      <td>...</td>\n",
       "      <td>1.486533</td>\n",
       "      <td>1.543049</td>\n",
       "      <td>0.391957</td>\n",
       "      <td>0.158072</td>\n",
       "      <td>3.178751</td>\n",
       "      <td>0.755946</td>\n",
       "      <td>4.273200</td>\n",
       "      <td>3.156423</td>\n",
       "      <td>poor</td>\n",
       "      <td>5700000</td>\n",
       "    </tr>\n",
       "  </tbody>\n",
       "</table>\n",
       "<p>3 rows × 56 columns</p>\n",
       "</div>"
      ],
      "text/plain": [
       "   id  full_sq  life_sq  floor           sub_area  preschool_quota  \\\n",
       "0   1       43     27.0    4.0           Bibirevo           5001.0   \n",
       "1   2       34     19.0    3.0  Nagatinskij Zaton           3119.0   \n",
       "2   3       43     29.0    2.0     Tekstil'shhiki           1463.0   \n",
       "\n",
       "   preschool_education_centers_raion  school_quota  \\\n",
       "0                                  5       11065.0   \n",
       "1                                  5        6237.0   \n",
       "2                                  4        5580.0   \n",
       "\n",
       "   school_education_centers_raion  school_education_centers_top_20_raion  ...  \\\n",
       "0                               5                                      0  ...   \n",
       "1                               8                                      0  ...   \n",
       "2                               7                                      0  ...   \n",
       "\n",
       "   shopping_centers_km  office_km  additional_education_km  preschool_km  \\\n",
       "0             0.648488   0.637189                 0.947962      0.177975   \n",
       "1             0.519311   0.688796                 1.072315      0.273345   \n",
       "2             1.486533   1.543049                 0.391957      0.158072   \n",
       "\n",
       "   big_church_km  church_synagogue_km  theater_km  museum_km    ecology  \\\n",
       "0       0.625783             0.628187   14.053047   7.389498       good   \n",
       "1       0.967821             0.471447    6.829889   0.709260  excellent   \n",
       "2       3.178751             0.755946    4.273200   3.156423       poor   \n",
       "\n",
       "   price_doc  \n",
       "0    5850000  \n",
       "1    6000000  \n",
       "2    5700000  \n",
       "\n",
       "[3 rows x 56 columns]"
      ]
     },
     "metadata": {},
     "output_type": "display_data"
    },
    {
     "data": {
      "text/plain": [
       "(30469, 56)"
      ]
     },
     "metadata": {},
     "output_type": "display_data"
    },
    {
     "name": "stdout",
     "output_type": "stream",
     "text": [
      "Размер изначального датасета: (30469, 56)\n",
      "Посмотрим, в каких колонках есть пропуски и количество пропусков: \n",
      "life_sq                       6383\n",
      "floor                          167\n",
      "preschool_quota               6688\n",
      "school_quota                  6685\n",
      "hospital_beds_raion          14440\n",
      "metro_min_walk                  25\n",
      "metro_km_walk                   25\n",
      "railroad_station_walk_km        25\n",
      "railroad_station_walk_min       25\n",
      "dtype: int64\n",
      "После удаления пропусков осталось 13652 объекта.\n"
     ]
    }
   ],
   "source": [
    "# Загрузим датасет \n",
    "data = pd.read_csv('data_flats_sf.csv', sep = ';')\n",
    "display(data.head(3))\n",
    "display(data.shape)\n",
    "print(f'Размер изначального датасета: {data.shape}\\nПосмотрим, в каких колонках есть пропуски и количество пропусков: \\n{data.isna().sum()[data.isna().sum() != 0]}')\n",
    "\n",
    "# Избавимся от пропусков и посмотрим, сколько осталось объектов \n",
    "data_2 = data.dropna(axis = 0)\n",
    "print(f\"После удаления пропусков осталось {len(data_2)} объекта.\")"
   ]
  },
  {
   "cell_type": "markdown",
   "id": "971770ee",
   "metadata": {},
   "source": [
    "#### 2. Предположим, что вы хотите проанализировать состояние цен на квартиры в нескольких  районах : \"Лефортово\", \"Перово\", \"Басманное\" и \"Богородское\".   Постройте боксплоты для распределения цен по этим районами (должно получиться четыре боксплота - по одному для каждого района).  \n",
    "\n",
    "На основании полученных диаграмм ответьте на вопросы: \n",
    "- В каком районе разброс цен самый большой?  \n",
    "- В каком районе самая низкая медианная цена?"
   ]
  },
  {
   "cell_type": "code",
   "execution_count": 546,
   "id": "db2622ac",
   "metadata": {
    "scrolled": false
   },
   "outputs": [
    {
     "data": {
      "text/plain": [
       "<AxesSubplot:xlabel='sub_area', ylabel='price_doc'>"
      ]
     },
     "execution_count": 546,
     "metadata": {},
     "output_type": "execute_result"
    },
    {
     "data": {
      "image/png": "[encoded data removed]",
      "text/plain": [
       "<Figure size 640x480 with 1 Axes>"
      ]
     },
     "metadata": {},
     "output_type": "display_data"
    }
   ],
   "source": [
    "districts = data.sub_area.loc[data.sub_area.isin(['Lefortovo', 'Basmannoe', 'Perovo', 'Bogorodskoe'])]\n",
    "sns.boxplot(x = districts, y =  data.price_doc)"
   ]
  },
  {
   "cell_type": "markdown",
   "id": "09ec9c9e",
   "metadata": {},
   "source": [
    "Cамый большой разброс цен в Басманном рн.  \n",
    "Самая низкая медианная цена в рн. Перово."
   ]
  },
  {
   "cell_type": "markdown",
   "id": "136b9578",
   "metadata": {},
   "source": [
    "#### 3. В датасете есть признаки, которые содержат текстовые значения : ординальный (уровень экологии) и категориальный (район).  Необходимо перекодировать эти признаки, иначе к ним будет сложно применять математические алгоритмы.   \n",
    "**Сколько признаков в датасете после перекодировки? Найдите среднее арифметическое для признака \"Экология\". Округлите до сотых**"
   ]
  },
  {
   "cell_type": "code",
   "execution_count": 108,
   "id": "bfc4c014",
   "metadata": {
    "scrolled": true
   },
   "outputs": [
    {
     "data": {
      "text/html": [
       "<div>\n",
       "<style scoped>\n",
       "    .dataframe tbody tr th:only-of-type {\n",
       "        vertical-align: middle;\n",
       "    }\n",
       "\n",
       "    .dataframe tbody tr th {\n",
       "        vertical-align: top;\n",
       "    }\n",
       "\n",
       "    .dataframe thead th {\n",
       "        text-align: right;\n",
       "    }\n",
       "</style>\n",
       "<table border=\"1\" class=\"dataframe\">\n",
       "  <thead>\n",
       "    <tr style=\"text-align: right;\">\n",
       "      <th></th>\n",
       "      <th>id</th>\n",
       "      <th>full_sq</th>\n",
       "      <th>life_sq</th>\n",
       "      <th>floor</th>\n",
       "      <th>sub_area</th>\n",
       "      <th>preschool_quota</th>\n",
       "      <th>preschool_education_centers_raion</th>\n",
       "      <th>school_quota</th>\n",
       "      <th>school_education_centers_raion</th>\n",
       "      <th>school_education_centers_top_20_raion</th>\n",
       "      <th>...</th>\n",
       "      <th>shopping_centers_km</th>\n",
       "      <th>office_km</th>\n",
       "      <th>additional_education_km</th>\n",
       "      <th>preschool_km</th>\n",
       "      <th>big_church_km</th>\n",
       "      <th>church_synagogue_km</th>\n",
       "      <th>theater_km</th>\n",
       "      <th>museum_km</th>\n",
       "      <th>ecology</th>\n",
       "      <th>price_doc</th>\n",
       "    </tr>\n",
       "  </thead>\n",
       "  <tbody>\n",
       "    <tr>\n",
       "      <th>0</th>\n",
       "      <td>1</td>\n",
       "      <td>43</td>\n",
       "      <td>27.0</td>\n",
       "      <td>4.0</td>\n",
       "      <td>Bibirevo</td>\n",
       "      <td>5001.0</td>\n",
       "      <td>5</td>\n",
       "      <td>11065.0</td>\n",
       "      <td>5</td>\n",
       "      <td>0</td>\n",
       "      <td>...</td>\n",
       "      <td>0.648488</td>\n",
       "      <td>0.637189</td>\n",
       "      <td>0.947962</td>\n",
       "      <td>0.177975</td>\n",
       "      <td>0.625783</td>\n",
       "      <td>0.628187</td>\n",
       "      <td>14.053047</td>\n",
       "      <td>7.389498</td>\n",
       "      <td>good</td>\n",
       "      <td>5850000</td>\n",
       "    </tr>\n",
       "    <tr>\n",
       "      <th>1</th>\n",
       "      <td>2</td>\n",
       "      <td>34</td>\n",
       "      <td>19.0</td>\n",
       "      <td>3.0</td>\n",
       "      <td>Nagatinskij Zaton</td>\n",
       "      <td>3119.0</td>\n",
       "      <td>5</td>\n",
       "      <td>6237.0</td>\n",
       "      <td>8</td>\n",
       "      <td>0</td>\n",
       "      <td>...</td>\n",
       "      <td>0.519311</td>\n",
       "      <td>0.688796</td>\n",
       "      <td>1.072315</td>\n",
       "      <td>0.273345</td>\n",
       "      <td>0.967821</td>\n",
       "      <td>0.471447</td>\n",
       "      <td>6.829889</td>\n",
       "      <td>0.709260</td>\n",
       "      <td>excellent</td>\n",
       "      <td>6000000</td>\n",
       "    </tr>\n",
       "    <tr>\n",
       "      <th>2</th>\n",
       "      <td>3</td>\n",
       "      <td>43</td>\n",
       "      <td>29.0</td>\n",
       "      <td>2.0</td>\n",
       "      <td>Tekstil'shhiki</td>\n",
       "      <td>1463.0</td>\n",
       "      <td>4</td>\n",
       "      <td>5580.0</td>\n",
       "      <td>7</td>\n",
       "      <td>0</td>\n",
       "      <td>...</td>\n",
       "      <td>1.486533</td>\n",
       "      <td>1.543049</td>\n",
       "      <td>0.391957</td>\n",
       "      <td>0.158072</td>\n",
       "      <td>3.178751</td>\n",
       "      <td>0.755946</td>\n",
       "      <td>4.273200</td>\n",
       "      <td>3.156423</td>\n",
       "      <td>poor</td>\n",
       "      <td>5700000</td>\n",
       "    </tr>\n",
       "  </tbody>\n",
       "</table>\n",
       "<p>3 rows × 56 columns</p>\n",
       "</div>"
      ],
      "text/plain": [
       "   id  full_sq  life_sq  floor           sub_area  preschool_quota  \\\n",
       "0   1       43     27.0    4.0           Bibirevo           5001.0   \n",
       "1   2       34     19.0    3.0  Nagatinskij Zaton           3119.0   \n",
       "2   3       43     29.0    2.0     Tekstil'shhiki           1463.0   \n",
       "\n",
       "   preschool_education_centers_raion  school_quota  \\\n",
       "0                                  5       11065.0   \n",
       "1                                  5        6237.0   \n",
       "2                                  4        5580.0   \n",
       "\n",
       "   school_education_centers_raion  school_education_centers_top_20_raion  ...  \\\n",
       "0                               5                                      0  ...   \n",
       "1                               8                                      0  ...   \n",
       "2                               7                                      0  ...   \n",
       "\n",
       "   shopping_centers_km  office_km  additional_education_km  preschool_km  \\\n",
       "0             0.648488   0.637189                 0.947962      0.177975   \n",
       "1             0.519311   0.688796                 1.072315      0.273345   \n",
       "2             1.486533   1.543049                 0.391957      0.158072   \n",
       "\n",
       "   big_church_km  church_synagogue_km  theater_km  museum_km    ecology  \\\n",
       "0       0.625783             0.628187   14.053047   7.389498       good   \n",
       "1       0.967821             0.471447    6.829889   0.709260  excellent   \n",
       "2       3.178751             0.755946    4.273200   3.156423       poor   \n",
       "\n",
       "   price_doc  \n",
       "0    5850000  \n",
       "1    6000000  \n",
       "2    5700000  \n",
       "\n",
       "[3 rows x 56 columns]"
      ]
     },
     "metadata": {},
     "output_type": "display_data"
    },
    {
     "name": "stdout",
     "output_type": "stream",
     "text": [
      "Размер изначального датасета: (30469, 56)\n",
      "Уникальные значения признака \"ecology\": ['good' 'excellent' 'poor' 'satisfactory' 'no data']\n",
      "Количество пропусков в признаке: 0\n"
     ]
    },
    {
     "data": {
      "text/plain": [
       "poor            8017\n",
       "no data         7656\n",
       "good            7173\n",
       "excellent       3938\n",
       "satisfactory    3685\n",
       "Name: ecology, dtype: int64"
      ]
     },
     "metadata": {},
     "output_type": "display_data"
    },
    {
     "name": "stdout",
     "output_type": "stream",
     "text": [
      "Словарь для перекодировки признака 'ecology': {'no data': 0, 'poor': 1, 'satisfactory': 2, 'good': 3, 'excellent': 4}\n",
      "Уникальные значения признака 'ecology' после перекодировки: [3 4 1 2 0]\n"
     ]
    },
    {
     "data": {
      "text/html": [
       "<div>\n",
       "<style scoped>\n",
       "    .dataframe tbody tr th:only-of-type {\n",
       "        vertical-align: middle;\n",
       "    }\n",
       "\n",
       "    .dataframe tbody tr th {\n",
       "        vertical-align: top;\n",
       "    }\n",
       "\n",
       "    .dataframe thead th {\n",
       "        text-align: right;\n",
       "    }\n",
       "</style>\n",
       "<table border=\"1\" class=\"dataframe\">\n",
       "  <thead>\n",
       "    <tr style=\"text-align: right;\">\n",
       "      <th></th>\n",
       "      <th>ecology</th>\n",
       "    </tr>\n",
       "  </thead>\n",
       "  <tbody>\n",
       "    <tr>\n",
       "      <th>0</th>\n",
       "      <td>3</td>\n",
       "    </tr>\n",
       "    <tr>\n",
       "      <th>1</th>\n",
       "      <td>4</td>\n",
       "    </tr>\n",
       "    <tr>\n",
       "      <th>2</th>\n",
       "      <td>1</td>\n",
       "    </tr>\n",
       "    <tr>\n",
       "      <th>3</th>\n",
       "      <td>3</td>\n",
       "    </tr>\n",
       "    <tr>\n",
       "      <th>4</th>\n",
       "      <td>4</td>\n",
       "    </tr>\n",
       "  </tbody>\n",
       "</table>\n",
       "</div>"
      ],
      "text/plain": [
       "   ecology\n",
       "0        3\n",
       "1        4\n",
       "2        1\n",
       "3        3\n",
       "4        4"
      ]
     },
     "metadata": {},
     "output_type": "display_data"
    },
    {
     "name": "stdout",
     "output_type": "stream",
     "text": [
      "Размер датасета после добавления дамми-переменных: (30469, 201)\n",
      "\n",
      "Среднее арифметическое для признака \"Экология\": 1.73\n"
     ]
    },
    {
     "data": {
      "text/html": [
       "<div>\n",
       "<style scoped>\n",
       "    .dataframe tbody tr th:only-of-type {\n",
       "        vertical-align: middle;\n",
       "    }\n",
       "\n",
       "    .dataframe tbody tr th {\n",
       "        vertical-align: top;\n",
       "    }\n",
       "\n",
       "    .dataframe thead th {\n",
       "        text-align: right;\n",
       "    }\n",
       "</style>\n",
       "<table border=\"1\" class=\"dataframe\">\n",
       "  <thead>\n",
       "    <tr style=\"text-align: right;\">\n",
       "      <th></th>\n",
       "      <th>Ajeroport</th>\n",
       "      <th>Akademicheskoe</th>\n",
       "      <th>Alekseevskoe</th>\n",
       "      <th>Altuf'evskoe</th>\n",
       "      <th>Arbat</th>\n",
       "      <th>Babushkinskoe</th>\n",
       "      <th>Basmannoe</th>\n",
       "      <th>Begovoe</th>\n",
       "      <th>Beskudnikovskoe</th>\n",
       "      <th>Bibirevo</th>\n",
       "      <th>...</th>\n",
       "      <th>shopping_centers_km</th>\n",
       "      <th>office_km</th>\n",
       "      <th>additional_education_km</th>\n",
       "      <th>preschool_km</th>\n",
       "      <th>big_church_km</th>\n",
       "      <th>church_synagogue_km</th>\n",
       "      <th>theater_km</th>\n",
       "      <th>museum_km</th>\n",
       "      <th>ecology</th>\n",
       "      <th>price_doc</th>\n",
       "    </tr>\n",
       "  </thead>\n",
       "  <tbody>\n",
       "    <tr>\n",
       "      <th>0</th>\n",
       "      <td>0</td>\n",
       "      <td>0</td>\n",
       "      <td>0</td>\n",
       "      <td>0</td>\n",
       "      <td>0</td>\n",
       "      <td>0</td>\n",
       "      <td>0</td>\n",
       "      <td>0</td>\n",
       "      <td>0</td>\n",
       "      <td>1</td>\n",
       "      <td>...</td>\n",
       "      <td>0.648488</td>\n",
       "      <td>0.637189</td>\n",
       "      <td>0.947962</td>\n",
       "      <td>0.177975</td>\n",
       "      <td>0.625783</td>\n",
       "      <td>0.628187</td>\n",
       "      <td>14.053047</td>\n",
       "      <td>7.389498</td>\n",
       "      <td>3</td>\n",
       "      <td>5850000</td>\n",
       "    </tr>\n",
       "    <tr>\n",
       "      <th>1</th>\n",
       "      <td>0</td>\n",
       "      <td>0</td>\n",
       "      <td>0</td>\n",
       "      <td>0</td>\n",
       "      <td>0</td>\n",
       "      <td>0</td>\n",
       "      <td>0</td>\n",
       "      <td>0</td>\n",
       "      <td>0</td>\n",
       "      <td>0</td>\n",
       "      <td>...</td>\n",
       "      <td>0.519311</td>\n",
       "      <td>0.688796</td>\n",
       "      <td>1.072315</td>\n",
       "      <td>0.273345</td>\n",
       "      <td>0.967821</td>\n",
       "      <td>0.471447</td>\n",
       "      <td>6.829889</td>\n",
       "      <td>0.709260</td>\n",
       "      <td>4</td>\n",
       "      <td>6000000</td>\n",
       "    </tr>\n",
       "    <tr>\n",
       "      <th>2</th>\n",
       "      <td>0</td>\n",
       "      <td>0</td>\n",
       "      <td>0</td>\n",
       "      <td>0</td>\n",
       "      <td>0</td>\n",
       "      <td>0</td>\n",
       "      <td>0</td>\n",
       "      <td>0</td>\n",
       "      <td>0</td>\n",
       "      <td>0</td>\n",
       "      <td>...</td>\n",
       "      <td>1.486533</td>\n",
       "      <td>1.543049</td>\n",
       "      <td>0.391957</td>\n",
       "      <td>0.158072</td>\n",
       "      <td>3.178751</td>\n",
       "      <td>0.755946</td>\n",
       "      <td>4.273200</td>\n",
       "      <td>3.156423</td>\n",
       "      <td>1</td>\n",
       "      <td>5700000</td>\n",
       "    </tr>\n",
       "  </tbody>\n",
       "</table>\n",
       "<p>3 rows × 201 columns</p>\n",
       "</div>"
      ],
      "text/plain": [
       "   Ajeroport  Akademicheskoe  Alekseevskoe  Altuf'evskoe  Arbat  \\\n",
       "0          0               0             0             0      0   \n",
       "1          0               0             0             0      0   \n",
       "2          0               0             0             0      0   \n",
       "\n",
       "   Babushkinskoe  Basmannoe  Begovoe  Beskudnikovskoe  Bibirevo  ...  \\\n",
       "0              0          0        0                0         1  ...   \n",
       "1              0          0        0                0         0  ...   \n",
       "2              0          0        0                0         0  ...   \n",
       "\n",
       "   shopping_centers_km  office_km  additional_education_km  preschool_km  \\\n",
       "0             0.648488   0.637189                 0.947962      0.177975   \n",
       "1             0.519311   0.688796                 1.072315      0.273345   \n",
       "2             1.486533   1.543049                 0.391957      0.158072   \n",
       "\n",
       "   big_church_km  church_synagogue_km  theater_km  museum_km  ecology  \\\n",
       "0       0.625783             0.628187   14.053047   7.389498        3   \n",
       "1       0.967821             0.471447    6.829889   0.709260        4   \n",
       "2       3.178751             0.755946    4.273200   3.156423        1   \n",
       "\n",
       "   price_doc  \n",
       "0    5850000  \n",
       "1    6000000  \n",
       "2    5700000  \n",
       "\n",
       "[3 rows x 201 columns]"
      ]
     },
     "execution_count": 108,
     "metadata": {},
     "output_type": "execute_result"
    }
   ],
   "source": [
    "data = pd.read_csv('data_flats_sf.csv', sep = ';')\n",
    "display(data.head(3))\n",
    "print(f'Размер изначального датасета: {data.shape}\\nУникальные значения признака \"ecology\": {data.ecology.unique()}')\n",
    "print(f'Количество пропусков в признаке: {data.ecology.isna().sum()}')\n",
    "display(data.ecology.value_counts())\n",
    "\n",
    "# Создание словаря и перекодировка ординального признака ecology\n",
    "ecology_dict = {'no data': 0, 'poor' : 1, 'satisfactory': 2, 'good': 3, 'excellent': 4}\n",
    "print(f\"Словарь для перекодировки признака 'ecology': {ecology_dict}\")\n",
    "\n",
    "# data.ecology.map(ecology_dict)\n",
    "# data.ecology.apply(lambda x: ecology_dict[x])\n",
    "data.ecology = data.ecology.replace(to_replace = ecology_dict)\n",
    "print(f\"Уникальные значения признака 'ecology' после перекодировки: {data.ecology.unique()}\")\n",
    "display(data[['ecology']].head(5))\n",
    "\n",
    "# Создание дамми-переменных и преобразование датасета\n",
    "sub_area = pd.get_dummies(data.sub_area)\n",
    "data = pd.concat([sub_area, data.drop('sub_area', axis = 1)], axis = 1)\n",
    "data.head(3)\n",
    "print(f'Размер датасета после добавления дамми-переменных: {data.shape}')\n",
    "\n",
    "# Среднее арифметическое для признака \"Экология\":\n",
    "mean_ecology = round(data.ecology.mean(), 2)\n",
    "print(f'\\nСреднее арифметическое для признака \"Экология\": {mean_ecology}')\n",
    "data.head(3)"
   ]
  },
  {
   "cell_type": "markdown",
   "id": "3452da95",
   "metadata": {},
   "source": [
    "#### ДРУГОЙ СПОСОБ РЕШЕНИЯ (LabelEncoder, OneHotEncoder)"
   ]
  },
  {
   "cell_type": "code",
   "execution_count": 143,
   "id": "02407ca0",
   "metadata": {
    "scrolled": true
   },
   "outputs": [
    {
     "data": {
      "text/html": [
       "<div>\n",
       "<style scoped>\n",
       "    .dataframe tbody tr th:only-of-type {\n",
       "        vertical-align: middle;\n",
       "    }\n",
       "\n",
       "    .dataframe tbody tr th {\n",
       "        vertical-align: top;\n",
       "    }\n",
       "\n",
       "    .dataframe thead th {\n",
       "        text-align: right;\n",
       "    }\n",
       "</style>\n",
       "<table border=\"1\" class=\"dataframe\">\n",
       "  <thead>\n",
       "    <tr style=\"text-align: right;\">\n",
       "      <th></th>\n",
       "      <th>id</th>\n",
       "      <th>full_sq</th>\n",
       "      <th>life_sq</th>\n",
       "      <th>floor</th>\n",
       "      <th>sub_area</th>\n",
       "      <th>preschool_quota</th>\n",
       "      <th>preschool_education_centers_raion</th>\n",
       "      <th>school_quota</th>\n",
       "      <th>school_education_centers_raion</th>\n",
       "      <th>school_education_centers_top_20_raion</th>\n",
       "      <th>...</th>\n",
       "      <th>shopping_centers_km</th>\n",
       "      <th>office_km</th>\n",
       "      <th>additional_education_km</th>\n",
       "      <th>preschool_km</th>\n",
       "      <th>big_church_km</th>\n",
       "      <th>church_synagogue_km</th>\n",
       "      <th>theater_km</th>\n",
       "      <th>museum_km</th>\n",
       "      <th>ecology</th>\n",
       "      <th>price_doc</th>\n",
       "    </tr>\n",
       "  </thead>\n",
       "  <tbody>\n",
       "    <tr>\n",
       "      <th>0</th>\n",
       "      <td>1</td>\n",
       "      <td>43</td>\n",
       "      <td>27.0</td>\n",
       "      <td>4.0</td>\n",
       "      <td>Bibirevo</td>\n",
       "      <td>5001.0</td>\n",
       "      <td>5</td>\n",
       "      <td>11065.0</td>\n",
       "      <td>5</td>\n",
       "      <td>0</td>\n",
       "      <td>...</td>\n",
       "      <td>0.648488</td>\n",
       "      <td>0.637189</td>\n",
       "      <td>0.947962</td>\n",
       "      <td>0.177975</td>\n",
       "      <td>0.625783</td>\n",
       "      <td>0.628187</td>\n",
       "      <td>14.053047</td>\n",
       "      <td>7.389498</td>\n",
       "      <td>good</td>\n",
       "      <td>5850000</td>\n",
       "    </tr>\n",
       "    <tr>\n",
       "      <th>1</th>\n",
       "      <td>2</td>\n",
       "      <td>34</td>\n",
       "      <td>19.0</td>\n",
       "      <td>3.0</td>\n",
       "      <td>Nagatinskij Zaton</td>\n",
       "      <td>3119.0</td>\n",
       "      <td>5</td>\n",
       "      <td>6237.0</td>\n",
       "      <td>8</td>\n",
       "      <td>0</td>\n",
       "      <td>...</td>\n",
       "      <td>0.519311</td>\n",
       "      <td>0.688796</td>\n",
       "      <td>1.072315</td>\n",
       "      <td>0.273345</td>\n",
       "      <td>0.967821</td>\n",
       "      <td>0.471447</td>\n",
       "      <td>6.829889</td>\n",
       "      <td>0.709260</td>\n",
       "      <td>excellent</td>\n",
       "      <td>6000000</td>\n",
       "    </tr>\n",
       "    <tr>\n",
       "      <th>2</th>\n",
       "      <td>3</td>\n",
       "      <td>43</td>\n",
       "      <td>29.0</td>\n",
       "      <td>2.0</td>\n",
       "      <td>Tekstil'shhiki</td>\n",
       "      <td>1463.0</td>\n",
       "      <td>4</td>\n",
       "      <td>5580.0</td>\n",
       "      <td>7</td>\n",
       "      <td>0</td>\n",
       "      <td>...</td>\n",
       "      <td>1.486533</td>\n",
       "      <td>1.543049</td>\n",
       "      <td>0.391957</td>\n",
       "      <td>0.158072</td>\n",
       "      <td>3.178751</td>\n",
       "      <td>0.755946</td>\n",
       "      <td>4.273200</td>\n",
       "      <td>3.156423</td>\n",
       "      <td>poor</td>\n",
       "      <td>5700000</td>\n",
       "    </tr>\n",
       "  </tbody>\n",
       "</table>\n",
       "<p>3 rows × 56 columns</p>\n",
       "</div>"
      ],
      "text/plain": [
       "   id  full_sq  life_sq  floor           sub_area  preschool_quota  \\\n",
       "0   1       43     27.0    4.0           Bibirevo           5001.0   \n",
       "1   2       34     19.0    3.0  Nagatinskij Zaton           3119.0   \n",
       "2   3       43     29.0    2.0     Tekstil'shhiki           1463.0   \n",
       "\n",
       "   preschool_education_centers_raion  school_quota  \\\n",
       "0                                  5       11065.0   \n",
       "1                                  5        6237.0   \n",
       "2                                  4        5580.0   \n",
       "\n",
       "   school_education_centers_raion  school_education_centers_top_20_raion  ...  \\\n",
       "0                               5                                      0  ...   \n",
       "1                               8                                      0  ...   \n",
       "2                               7                                      0  ...   \n",
       "\n",
       "   shopping_centers_km  office_km  additional_education_km  preschool_km  \\\n",
       "0             0.648488   0.637189                 0.947962      0.177975   \n",
       "1             0.519311   0.688796                 1.072315      0.273345   \n",
       "2             1.486533   1.543049                 0.391957      0.158072   \n",
       "\n",
       "   big_church_km  church_synagogue_km  theater_km  museum_km    ecology  \\\n",
       "0       0.625783             0.628187   14.053047   7.389498       good   \n",
       "1       0.967821             0.471447    6.829889   0.709260  excellent   \n",
       "2       3.178751             0.755946    4.273200   3.156423       poor   \n",
       "\n",
       "   price_doc  \n",
       "0    5850000  \n",
       "1    6000000  \n",
       "2    5700000  \n",
       "\n",
       "[3 rows x 56 columns]"
      ]
     },
     "metadata": {},
     "output_type": "display_data"
    },
    {
     "name": "stdout",
     "output_type": "stream",
     "text": [
      "Размер изначального датасета: (30469, 56)\n",
      "\n",
      "Признак \"ecology\":\n",
      "- Уникальные значения признака: ['good' 'excellent' 'poor' 'satisfactory' 'no data']\n",
      "- Уникальные значения признака после перекодировки LabelEncoder: [1 0 3 4 2]\n",
      "- Словарь значений для признака: {0: 'excellent', 1: 'good', 2: 'no data', 3: 'poor', 4: 'satisfactory'}\n",
      "\n",
      "Размер датасета после OneHot Encoding: (30469, 201)\n"
     ]
    }
   ],
   "source": [
    "data = pd.read_csv('data_flats_sf.csv', sep = ';')\n",
    "display(data.head(3))\n",
    "print(f'Размер изначального датасета: {data.shape}\\n\\nПризнак \"ecology\":\\n- Уникальные значения признака: {data.ecology.unique()}')\n",
    "\n",
    "# Перекодировка признака ecology при помощи класса LabelEncoder\n",
    "from sklearn.preprocessing import LabelEncoder\n",
    "label_encoder = LabelEncoder()\n",
    "data.ecology = label_encoder.fit_transform(data['ecology'])\n",
    "print(f'- Уникальные значения признака после перекодировки LabelEncoder: {data.ecology.unique()}\\n- Словарь значений для признака: {dict(enumerate(label_encoder.classes_))}')\n",
    "\n",
    "# Перекодировка признака sub_area при помощи класса OneHotEncoder  \n",
    "from sklearn.preprocessing import OneHotEncoder\n",
    "sub_area = OneHotEncoder(sparse = False).fit_transform(data['sub_area'].values.reshape(-1, 1))\n",
    "df = np.hstack([data.drop('sub_area', axis = 1), sub_area])\n",
    "print(f'\\nРазмер датасета после OneHot Encoding: {df.shape}')"
   ]
  },
  {
   "cell_type": "code",
   "execution_count": null,
   "id": "782ae9a5",
   "metadata": {},
   "outputs": [],
   "source": []
  }
 ],
 "metadata": {
  "kernelspec": {
   "display_name": "Python 3 (ipykernel)",
   "language": "python",
   "name": "python3"
  },
  "language_info": {
   "codemirror_mode": {
    "name": "ipython",
    "version": 3
   },
   "file_extension": ".py",
   "mimetype": "text/x-python",
   "name": "python",
   "nbconvert_exporter": "python",
   "pygments_lexer": "ipython3",
   "version": "3.9.13"
  },
  "varInspector": {
   "cols": {
    "lenName": 16,
    "lenType": 16,
    "lenVar": 40
   },
   "kernels_config": {
    "python": {
     "delete_cmd_postfix": "",
     "delete_cmd_prefix": "del ",
     "library": "var_list.py",
     "varRefreshCmd": "print(var_dic_list())"
    },
    "r": {
     "delete_cmd_postfix": ") ",
     "delete_cmd_prefix": "rm(",
     "library": "var_list.r",
     "varRefreshCmd": "cat(var_dic_list()) "
    }
   },
   "types_to_exclude": [
    "module",
    "function",
    "builtin_function_or_method",
    "instance",
    "_Feature"
   ],
   "window_display": false
  }
 },
 "nbformat": 4,
 "nbformat_minor": 5
}
