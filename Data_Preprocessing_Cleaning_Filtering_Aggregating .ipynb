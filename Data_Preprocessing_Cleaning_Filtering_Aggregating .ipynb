{
 "cells": [
  {
   "cell_type": "markdown",
   "id": "6216af82",
   "metadata": {},
   "source": [
    "# Предподготовка, очистка, фильтрация данных\n",
    "# Извлечение полезной информации    \n",
    "\n",
    "\n",
    "### В этом ноутбуке содержатся тренировочные материалы, решение задач с онлайн-курсов по обработке и анализу данных в Python"
   ]
  },
  {
   "cell_type": "markdown",
   "id": "3f85901b",
   "metadata": {},
   "source": [
    "**Структура ноутбука**:  \n",
    "1. Простая фильтрация и группировка данных по условию. Объединение таблиц  \n",
    "3. Выгрузка из вложенных файлов. Объединение выгрузок\n",
    "4. Фильтрация данных с помощью функции query и преобразование с apply и lambda-функциями  \n",
    "5. Начальная обработка и извлечение полезной информации из датасета"
   ]
  },
  {
   "cell_type": "code",
   "execution_count": 616,
   "id": "0c36df47",
   "metadata": {
    "ExecuteTime": {
     "end_time": "2023-11-07T19:51:34.124575Z",
     "start_time": "2023-11-07T19:51:34.119589Z"
    }
   },
   "outputs": [],
   "source": [
    "# Загрузим необходимые библиотеки\n",
    "import pandas as pd\n",
    "import numpy as np\n",
    "import os, re\n",
    "from pprint import pprint\n",
    "from datetime import timedelta"
   ]
  },
  {
   "cell_type": "markdown",
   "id": "9a16e217",
   "metadata": {},
   "source": [
    "## 1. Простая фильтрация и группировка данных по условию. Объединение таблиц"
   ]
  },
  {
   "cell_type": "markdown",
   "id": "20c1a2a1",
   "metadata": {},
   "source": [
    "### ЗАДАНИЕ 1.  \n",
    "### Ответить на вопросы, применив различные способы фильтрации и группировки данных\n",
    "В задании используется датасет с информацией о футболистах."
   ]
  },
  {
   "cell_type": "code",
   "execution_count": 163,
   "id": "dd6c321c",
   "metadata": {
    "ExecuteTime": {
     "end_time": "2023-11-07T14:04:40.496934Z",
     "start_time": "2023-11-07T14:04:40.393286Z"
    },
    "scrolled": false
   },
   "outputs": [
    {
     "data": {
      "text/html": [
       "<div>\n",
       "<style scoped>\n",
       "    .dataframe tbody tr th:only-of-type {\n",
       "        vertical-align: middle;\n",
       "    }\n",
       "\n",
       "    .dataframe tbody tr th {\n",
       "        vertical-align: top;\n",
       "    }\n",
       "\n",
       "    .dataframe thead th {\n",
       "        text-align: right;\n",
       "    }\n",
       "</style>\n",
       "<table border=\"1\" class=\"dataframe\">\n",
       "  <thead>\n",
       "    <tr style=\"text-align: right;\">\n",
       "      <th></th>\n",
       "      <th>Unnamed: 0</th>\n",
       "      <th>Name</th>\n",
       "      <th>Age</th>\n",
       "      <th>Nationality</th>\n",
       "      <th>Club</th>\n",
       "      <th>Value</th>\n",
       "      <th>Wage</th>\n",
       "      <th>Position</th>\n",
       "      <th>Crossing</th>\n",
       "      <th>Finishing</th>\n",
       "      <th>...</th>\n",
       "      <th>Penalties</th>\n",
       "      <th>Composure</th>\n",
       "      <th>Marking</th>\n",
       "      <th>StandingTackle</th>\n",
       "      <th>SlidingTackle</th>\n",
       "      <th>GKDiving</th>\n",
       "      <th>GKHandling</th>\n",
       "      <th>GKKicking</th>\n",
       "      <th>GKPositioning</th>\n",
       "      <th>GKReflexes</th>\n",
       "    </tr>\n",
       "  </thead>\n",
       "  <tbody>\n",
       "    <tr>\n",
       "      <th>0</th>\n",
       "      <td>0</td>\n",
       "      <td>L. Messi</td>\n",
       "      <td>31</td>\n",
       "      <td>Argentina</td>\n",
       "      <td>FC Barcelona</td>\n",
       "      <td>110500000</td>\n",
       "      <td>565000</td>\n",
       "      <td>RF</td>\n",
       "      <td>84</td>\n",
       "      <td>95</td>\n",
       "      <td>...</td>\n",
       "      <td>75</td>\n",
       "      <td>96</td>\n",
       "      <td>33</td>\n",
       "      <td>28</td>\n",
       "      <td>26</td>\n",
       "      <td>6</td>\n",
       "      <td>11</td>\n",
       "      <td>15</td>\n",
       "      <td>14</td>\n",
       "      <td>8</td>\n",
       "    </tr>\n",
       "    <tr>\n",
       "      <th>1</th>\n",
       "      <td>1</td>\n",
       "      <td>Cristiano Ronaldo</td>\n",
       "      <td>33</td>\n",
       "      <td>Portugal</td>\n",
       "      <td>Juventus</td>\n",
       "      <td>77000000</td>\n",
       "      <td>405000</td>\n",
       "      <td>ST</td>\n",
       "      <td>84</td>\n",
       "      <td>94</td>\n",
       "      <td>...</td>\n",
       "      <td>85</td>\n",
       "      <td>95</td>\n",
       "      <td>28</td>\n",
       "      <td>31</td>\n",
       "      <td>23</td>\n",
       "      <td>7</td>\n",
       "      <td>11</td>\n",
       "      <td>15</td>\n",
       "      <td>14</td>\n",
       "      <td>11</td>\n",
       "    </tr>\n",
       "    <tr>\n",
       "      <th>2</th>\n",
       "      <td>2</td>\n",
       "      <td>Neymar Jr</td>\n",
       "      <td>26</td>\n",
       "      <td>Brazil</td>\n",
       "      <td>Paris Saint-Germain</td>\n",
       "      <td>118500000</td>\n",
       "      <td>290000</td>\n",
       "      <td>LW</td>\n",
       "      <td>79</td>\n",
       "      <td>87</td>\n",
       "      <td>...</td>\n",
       "      <td>81</td>\n",
       "      <td>94</td>\n",
       "      <td>27</td>\n",
       "      <td>24</td>\n",
       "      <td>33</td>\n",
       "      <td>9</td>\n",
       "      <td>9</td>\n",
       "      <td>15</td>\n",
       "      <td>15</td>\n",
       "      <td>11</td>\n",
       "    </tr>\n",
       "    <tr>\n",
       "      <th>3</th>\n",
       "      <td>3</td>\n",
       "      <td>De Gea</td>\n",
       "      <td>27</td>\n",
       "      <td>Spain</td>\n",
       "      <td>Manchester United</td>\n",
       "      <td>72000000</td>\n",
       "      <td>260000</td>\n",
       "      <td>GK</td>\n",
       "      <td>17</td>\n",
       "      <td>13</td>\n",
       "      <td>...</td>\n",
       "      <td>40</td>\n",
       "      <td>68</td>\n",
       "      <td>15</td>\n",
       "      <td>21</td>\n",
       "      <td>13</td>\n",
       "      <td>90</td>\n",
       "      <td>85</td>\n",
       "      <td>87</td>\n",
       "      <td>88</td>\n",
       "      <td>94</td>\n",
       "    </tr>\n",
       "    <tr>\n",
       "      <th>4</th>\n",
       "      <td>4</td>\n",
       "      <td>K. De Bruyne</td>\n",
       "      <td>27</td>\n",
       "      <td>Belgium</td>\n",
       "      <td>Manchester City</td>\n",
       "      <td>102000000</td>\n",
       "      <td>355000</td>\n",
       "      <td>RCM</td>\n",
       "      <td>93</td>\n",
       "      <td>82</td>\n",
       "      <td>...</td>\n",
       "      <td>79</td>\n",
       "      <td>88</td>\n",
       "      <td>68</td>\n",
       "      <td>58</td>\n",
       "      <td>51</td>\n",
       "      <td>15</td>\n",
       "      <td>13</td>\n",
       "      <td>5</td>\n",
       "      <td>10</td>\n",
       "      <td>13</td>\n",
       "    </tr>\n",
       "  </tbody>\n",
       "</table>\n",
       "<p>5 rows × 42 columns</p>\n",
       "</div>"
      ],
      "text/plain": [
       "   Unnamed: 0               Name  Age Nationality                 Club  \\\n",
       "0           0           L. Messi   31   Argentina         FC Barcelona   \n",
       "1           1  Cristiano Ronaldo   33    Portugal             Juventus   \n",
       "2           2          Neymar Jr   26      Brazil  Paris Saint-Germain   \n",
       "3           3             De Gea   27       Spain    Manchester United   \n",
       "4           4       K. De Bruyne   27     Belgium      Manchester City   \n",
       "\n",
       "       Value    Wage Position  Crossing  Finishing  ...  Penalties  Composure  \\\n",
       "0  110500000  565000       RF        84         95  ...         75         96   \n",
       "1   77000000  405000       ST        84         94  ...         85         95   \n",
       "2  118500000  290000       LW        79         87  ...         81         94   \n",
       "3   72000000  260000       GK        17         13  ...         40         68   \n",
       "4  102000000  355000      RCM        93         82  ...         79         88   \n",
       "\n",
       "   Marking  StandingTackle  SlidingTackle  GKDiving  GKHandling  GKKicking  \\\n",
       "0       33              28             26         6          11         15   \n",
       "1       28              31             23         7          11         15   \n",
       "2       27              24             33         9           9         15   \n",
       "3       15              21             13        90          85         87   \n",
       "4       68              58             51        15          13          5   \n",
       "\n",
       "   GKPositioning  GKReflexes  \n",
       "0             14           8  \n",
       "1             14          11  \n",
       "2             15          11  \n",
       "3             88          94  \n",
       "4             10          13  \n",
       "\n",
       "[5 rows x 42 columns]"
      ]
     },
     "metadata": {},
     "output_type": "display_data"
    }
   ],
   "source": [
    "# Загрузим данные и посмотрим на них детальнее\n",
    "football = pd.read_csv('data_sf.csv')\n",
    "display(football.head())"
   ]
  },
  {
   "cell_type": "code",
   "execution_count": 6,
   "id": "5def8010",
   "metadata": {
    "ExecuteTime": {
     "end_time": "2023-11-07T12:54:33.994816Z",
     "start_time": "2023-11-07T12:54:33.948852Z"
    },
    "scrolled": false
   },
   "outputs": [
    {
     "name": "stdout",
     "output_type": "stream",
     "text": [
      "<class 'pandas.core.frame.DataFrame'>\n",
      "RangeIndex: 12897 entries, 0 to 12896\n",
      "Data columns (total 42 columns):\n",
      " #   Column           Non-Null Count  Dtype \n",
      "---  ------           --------------  ----- \n",
      " 0   Unnamed: 0       12897 non-null  int64 \n",
      " 1   Name             12897 non-null  object\n",
      " 2   Age              12897 non-null  int64 \n",
      " 3   Nationality      12897 non-null  object\n",
      " 4   Club             12897 non-null  object\n",
      " 5   Value            12897 non-null  int64 \n",
      " 6   Wage             12897 non-null  int64 \n",
      " 7   Position         12897 non-null  object\n",
      " 8   Crossing         12897 non-null  int64 \n",
      " 9   Finishing        12897 non-null  int64 \n",
      " 10  HeadingAccuracy  12897 non-null  int64 \n",
      " 11  ShortPassing     12897 non-null  int64 \n",
      " 12  Volleys          12897 non-null  int64 \n",
      " 13  Dribbling        12897 non-null  int64 \n",
      " 14  Curve            12897 non-null  int64 \n",
      " 15  FKAccuracy       12897 non-null  int64 \n",
      " 16  LongPassing      12897 non-null  int64 \n",
      " 17  BallControl      12897 non-null  int64 \n",
      " 18  Acceleration     12897 non-null  int64 \n",
      " 19  SprintSpeed      12897 non-null  int64 \n",
      " 20  Agility          12897 non-null  int64 \n",
      " 21  Reactions        12897 non-null  int64 \n",
      " 22  Balance          12897 non-null  int64 \n",
      " 23  ShotPower        12897 non-null  int64 \n",
      " 24  Jumping          12897 non-null  int64 \n",
      " 25  Stamina          12897 non-null  int64 \n",
      " 26  Strength         12897 non-null  int64 \n",
      " 27  LongShots        12897 non-null  int64 \n",
      " 28  Aggression       12897 non-null  int64 \n",
      " 29  Interceptions    12897 non-null  int64 \n",
      " 30  Positioning      12897 non-null  int64 \n",
      " 31  Vision           12897 non-null  int64 \n",
      " 32  Penalties        12897 non-null  int64 \n",
      " 33  Composure        12897 non-null  int64 \n",
      " 34  Marking          12897 non-null  int64 \n",
      " 35  StandingTackle   12897 non-null  int64 \n",
      " 36  SlidingTackle    12897 non-null  int64 \n",
      " 37  GKDiving         12897 non-null  int64 \n",
      " 38  GKHandling       12897 non-null  int64 \n",
      " 39  GKKicking        12897 non-null  int64 \n",
      " 40  GKPositioning    12897 non-null  int64 \n",
      " 41  GKReflexes       12897 non-null  int64 \n",
      "dtypes: int64(38), object(4)\n",
      "memory usage: 4.1+ MB\n"
     ]
    },
    {
     "data": {
      "text/plain": [
       "None"
      ]
     },
     "metadata": {},
     "output_type": "display_data"
    }
   ],
   "source": [
    "# Посмотрим на структуру датасета\n",
    "display(football.info())"
   ]
  },
  {
   "cell_type": "code",
   "execution_count": 9,
   "id": "b2bfd095",
   "metadata": {
    "ExecuteTime": {
     "end_time": "2023-11-07T12:55:06.285135Z",
     "start_time": "2023-11-07T12:55:06.161686Z"
    }
   },
   "outputs": [
    {
     "data": {
      "text/html": [
       "<div>\n",
       "<style scoped>\n",
       "    .dataframe tbody tr th:only-of-type {\n",
       "        vertical-align: middle;\n",
       "    }\n",
       "\n",
       "    .dataframe tbody tr th {\n",
       "        vertical-align: top;\n",
       "    }\n",
       "\n",
       "    .dataframe thead th {\n",
       "        text-align: right;\n",
       "    }\n",
       "</style>\n",
       "<table border=\"1\" class=\"dataframe\">\n",
       "  <thead>\n",
       "    <tr style=\"text-align: right;\">\n",
       "      <th></th>\n",
       "      <th>Unnamed: 0</th>\n",
       "      <th>Age</th>\n",
       "      <th>Value</th>\n",
       "      <th>Wage</th>\n",
       "      <th>Crossing</th>\n",
       "      <th>Finishing</th>\n",
       "      <th>HeadingAccuracy</th>\n",
       "      <th>ShortPassing</th>\n",
       "      <th>Volleys</th>\n",
       "      <th>Dribbling</th>\n",
       "      <th>...</th>\n",
       "      <th>Penalties</th>\n",
       "      <th>Composure</th>\n",
       "      <th>Marking</th>\n",
       "      <th>StandingTackle</th>\n",
       "      <th>SlidingTackle</th>\n",
       "      <th>GKDiving</th>\n",
       "      <th>GKHandling</th>\n",
       "      <th>GKKicking</th>\n",
       "      <th>GKPositioning</th>\n",
       "      <th>GKReflexes</th>\n",
       "    </tr>\n",
       "  </thead>\n",
       "  <tbody>\n",
       "    <tr>\n",
       "      <th>count</th>\n",
       "      <td>12897.000000</td>\n",
       "      <td>12897.000000</td>\n",
       "      <td>1.289700e+04</td>\n",
       "      <td>12897.000000</td>\n",
       "      <td>12897.000000</td>\n",
       "      <td>12897.000000</td>\n",
       "      <td>12897.000000</td>\n",
       "      <td>12897.000000</td>\n",
       "      <td>12897.000000</td>\n",
       "      <td>12897.000000</td>\n",
       "      <td>...</td>\n",
       "      <td>12897.000000</td>\n",
       "      <td>12897.000000</td>\n",
       "      <td>12897.000000</td>\n",
       "      <td>12897.000000</td>\n",
       "      <td>12897.000000</td>\n",
       "      <td>12897.000000</td>\n",
       "      <td>12897.000000</td>\n",
       "      <td>12897.000000</td>\n",
       "      <td>12897.000000</td>\n",
       "      <td>12897.000000</td>\n",
       "    </tr>\n",
       "    <tr>\n",
       "      <th>mean</th>\n",
       "      <td>6605.040862</td>\n",
       "      <td>24.795379</td>\n",
       "      <td>2.112449e+06</td>\n",
       "      <td>7517.562224</td>\n",
       "      <td>47.076374</td>\n",
       "      <td>42.876328</td>\n",
       "      <td>50.202528</td>\n",
       "      <td>56.026983</td>\n",
       "      <td>40.295030</td>\n",
       "      <td>52.461735</td>\n",
       "      <td>...</td>\n",
       "      <td>46.459874</td>\n",
       "      <td>55.942932</td>\n",
       "      <td>45.655811</td>\n",
       "      <td>46.186710</td>\n",
       "      <td>44.386679</td>\n",
       "      <td>17.218345</td>\n",
       "      <td>16.962317</td>\n",
       "      <td>16.797938</td>\n",
       "      <td>16.950221</td>\n",
       "      <td>17.315965</td>\n",
       "    </tr>\n",
       "    <tr>\n",
       "      <th>std</th>\n",
       "      <td>3782.545526</td>\n",
       "      <td>4.872212</td>\n",
       "      <td>6.498424e+06</td>\n",
       "      <td>23061.985387</td>\n",
       "      <td>18.043470</td>\n",
       "      <td>19.096935</td>\n",
       "      <td>17.281593</td>\n",
       "      <td>14.740436</td>\n",
       "      <td>17.080687</td>\n",
       "      <td>18.871643</td>\n",
       "      <td>...</td>\n",
       "      <td>15.479313</td>\n",
       "      <td>11.280631</td>\n",
       "      <td>19.456346</td>\n",
       "      <td>21.172586</td>\n",
       "      <td>20.726546</td>\n",
       "      <td>18.085618</td>\n",
       "      <td>17.349624</td>\n",
       "      <td>16.971411</td>\n",
       "      <td>17.369297</td>\n",
       "      <td>18.335817</td>\n",
       "    </tr>\n",
       "    <tr>\n",
       "      <th>min</th>\n",
       "      <td>0.000000</td>\n",
       "      <td>16.000000</td>\n",
       "      <td>0.000000e+00</td>\n",
       "      <td>1000.000000</td>\n",
       "      <td>5.000000</td>\n",
       "      <td>2.000000</td>\n",
       "      <td>4.000000</td>\n",
       "      <td>7.000000</td>\n",
       "      <td>4.000000</td>\n",
       "      <td>4.000000</td>\n",
       "      <td>...</td>\n",
       "      <td>5.000000</td>\n",
       "      <td>12.000000</td>\n",
       "      <td>3.000000</td>\n",
       "      <td>2.000000</td>\n",
       "      <td>3.000000</td>\n",
       "      <td>1.000000</td>\n",
       "      <td>1.000000</td>\n",
       "      <td>1.000000</td>\n",
       "      <td>1.000000</td>\n",
       "      <td>1.000000</td>\n",
       "    </tr>\n",
       "    <tr>\n",
       "      <th>25%</th>\n",
       "      <td>3357.000000</td>\n",
       "      <td>21.000000</td>\n",
       "      <td>2.500000e+05</td>\n",
       "      <td>1000.000000</td>\n",
       "      <td>35.000000</td>\n",
       "      <td>28.000000</td>\n",
       "      <td>43.000000</td>\n",
       "      <td>50.000000</td>\n",
       "      <td>28.000000</td>\n",
       "      <td>45.000000</td>\n",
       "      <td>...</td>\n",
       "      <td>37.000000</td>\n",
       "      <td>49.000000</td>\n",
       "      <td>29.000000</td>\n",
       "      <td>25.000000</td>\n",
       "      <td>23.000000</td>\n",
       "      <td>8.000000</td>\n",
       "      <td>8.000000</td>\n",
       "      <td>8.000000</td>\n",
       "      <td>8.000000</td>\n",
       "      <td>8.000000</td>\n",
       "    </tr>\n",
       "    <tr>\n",
       "      <th>50%</th>\n",
       "      <td>6622.000000</td>\n",
       "      <td>24.000000</td>\n",
       "      <td>5.000000e+05</td>\n",
       "      <td>2000.000000</td>\n",
       "      <td>51.000000</td>\n",
       "      <td>45.000000</td>\n",
       "      <td>54.000000</td>\n",
       "      <td>60.000000</td>\n",
       "      <td>41.000000</td>\n",
       "      <td>58.000000</td>\n",
       "      <td>...</td>\n",
       "      <td>47.000000</td>\n",
       "      <td>56.000000</td>\n",
       "      <td>51.000000</td>\n",
       "      <td>54.000000</td>\n",
       "      <td>51.000000</td>\n",
       "      <td>11.000000</td>\n",
       "      <td>11.000000</td>\n",
       "      <td>11.000000</td>\n",
       "      <td>11.000000</td>\n",
       "      <td>11.000000</td>\n",
       "    </tr>\n",
       "    <tr>\n",
       "      <th>75%</th>\n",
       "      <td>9876.000000</td>\n",
       "      <td>28.000000</td>\n",
       "      <td>8.500000e+05</td>\n",
       "      <td>4000.000000</td>\n",
       "      <td>61.000000</td>\n",
       "      <td>59.000000</td>\n",
       "      <td>62.000000</td>\n",
       "      <td>65.000000</td>\n",
       "      <td>53.000000</td>\n",
       "      <td>65.000000</td>\n",
       "      <td>...</td>\n",
       "      <td>58.000000</td>\n",
       "      <td>63.000000</td>\n",
       "      <td>62.000000</td>\n",
       "      <td>64.000000</td>\n",
       "      <td>62.000000</td>\n",
       "      <td>14.000000</td>\n",
       "      <td>14.000000</td>\n",
       "      <td>14.000000</td>\n",
       "      <td>14.000000</td>\n",
       "      <td>14.000000</td>\n",
       "    </tr>\n",
       "    <tr>\n",
       "      <th>max</th>\n",
       "      <td>13125.000000</td>\n",
       "      <td>45.000000</td>\n",
       "      <td>1.185000e+08</td>\n",
       "      <td>565000.000000</td>\n",
       "      <td>93.000000</td>\n",
       "      <td>95.000000</td>\n",
       "      <td>94.000000</td>\n",
       "      <td>93.000000</td>\n",
       "      <td>90.000000</td>\n",
       "      <td>97.000000</td>\n",
       "      <td>...</td>\n",
       "      <td>91.000000</td>\n",
       "      <td>96.000000</td>\n",
       "      <td>93.000000</td>\n",
       "      <td>93.000000</td>\n",
       "      <td>91.000000</td>\n",
       "      <td>90.000000</td>\n",
       "      <td>92.000000</td>\n",
       "      <td>91.000000</td>\n",
       "      <td>90.000000</td>\n",
       "      <td>94.000000</td>\n",
       "    </tr>\n",
       "  </tbody>\n",
       "</table>\n",
       "<p>8 rows × 38 columns</p>\n",
       "</div>"
      ],
      "text/plain": [
       "         Unnamed: 0           Age         Value           Wage      Crossing  \\\n",
       "count  12897.000000  12897.000000  1.289700e+04   12897.000000  12897.000000   \n",
       "mean    6605.040862     24.795379  2.112449e+06    7517.562224     47.076374   \n",
       "std     3782.545526      4.872212  6.498424e+06   23061.985387     18.043470   \n",
       "min        0.000000     16.000000  0.000000e+00    1000.000000      5.000000   \n",
       "25%     3357.000000     21.000000  2.500000e+05    1000.000000     35.000000   \n",
       "50%     6622.000000     24.000000  5.000000e+05    2000.000000     51.000000   \n",
       "75%     9876.000000     28.000000  8.500000e+05    4000.000000     61.000000   \n",
       "max    13125.000000     45.000000  1.185000e+08  565000.000000     93.000000   \n",
       "\n",
       "          Finishing  HeadingAccuracy  ShortPassing       Volleys  \\\n",
       "count  12897.000000     12897.000000  12897.000000  12897.000000   \n",
       "mean      42.876328        50.202528     56.026983     40.295030   \n",
       "std       19.096935        17.281593     14.740436     17.080687   \n",
       "min        2.000000         4.000000      7.000000      4.000000   \n",
       "25%       28.000000        43.000000     50.000000     28.000000   \n",
       "50%       45.000000        54.000000     60.000000     41.000000   \n",
       "75%       59.000000        62.000000     65.000000     53.000000   \n",
       "max       95.000000        94.000000     93.000000     90.000000   \n",
       "\n",
       "          Dribbling  ...     Penalties     Composure       Marking  \\\n",
       "count  12897.000000  ...  12897.000000  12897.000000  12897.000000   \n",
       "mean      52.461735  ...     46.459874     55.942932     45.655811   \n",
       "std       18.871643  ...     15.479313     11.280631     19.456346   \n",
       "min        4.000000  ...      5.000000     12.000000      3.000000   \n",
       "25%       45.000000  ...     37.000000     49.000000     29.000000   \n",
       "50%       58.000000  ...     47.000000     56.000000     51.000000   \n",
       "75%       65.000000  ...     58.000000     63.000000     62.000000   \n",
       "max       97.000000  ...     91.000000     96.000000     93.000000   \n",
       "\n",
       "       StandingTackle  SlidingTackle      GKDiving    GKHandling  \\\n",
       "count    12897.000000   12897.000000  12897.000000  12897.000000   \n",
       "mean        46.186710      44.386679     17.218345     16.962317   \n",
       "std         21.172586      20.726546     18.085618     17.349624   \n",
       "min          2.000000       3.000000      1.000000      1.000000   \n",
       "25%         25.000000      23.000000      8.000000      8.000000   \n",
       "50%         54.000000      51.000000     11.000000     11.000000   \n",
       "75%         64.000000      62.000000     14.000000     14.000000   \n",
       "max         93.000000      91.000000     90.000000     92.000000   \n",
       "\n",
       "          GKKicking  GKPositioning    GKReflexes  \n",
       "count  12897.000000   12897.000000  12897.000000  \n",
       "mean      16.797938      16.950221     17.315965  \n",
       "std       16.971411      17.369297     18.335817  \n",
       "min        1.000000       1.000000      1.000000  \n",
       "25%        8.000000       8.000000      8.000000  \n",
       "50%       11.000000      11.000000     11.000000  \n",
       "75%       14.000000      14.000000     14.000000  \n",
       "max       91.000000      90.000000     94.000000  \n",
       "\n",
       "[8 rows x 38 columns]"
      ]
     },
     "metadata": {},
     "output_type": "display_data"
    },
    {
     "data": {
      "text/html": [
       "<div>\n",
       "<style scoped>\n",
       "    .dataframe tbody tr th:only-of-type {\n",
       "        vertical-align: middle;\n",
       "    }\n",
       "\n",
       "    .dataframe tbody tr th {\n",
       "        vertical-align: top;\n",
       "    }\n",
       "\n",
       "    .dataframe thead th {\n",
       "        text-align: right;\n",
       "    }\n",
       "</style>\n",
       "<table border=\"1\" class=\"dataframe\">\n",
       "  <thead>\n",
       "    <tr style=\"text-align: right;\">\n",
       "      <th></th>\n",
       "      <th>Name</th>\n",
       "      <th>Nationality</th>\n",
       "      <th>Club</th>\n",
       "      <th>Position</th>\n",
       "    </tr>\n",
       "  </thead>\n",
       "  <tbody>\n",
       "    <tr>\n",
       "      <th>count</th>\n",
       "      <td>12897</td>\n",
       "      <td>12897</td>\n",
       "      <td>12897</td>\n",
       "      <td>12897</td>\n",
       "    </tr>\n",
       "    <tr>\n",
       "      <th>unique</th>\n",
       "      <td>12326</td>\n",
       "      <td>156</td>\n",
       "      <td>650</td>\n",
       "      <td>27</td>\n",
       "    </tr>\n",
       "    <tr>\n",
       "      <th>top</th>\n",
       "      <td>J. Rodríguez</td>\n",
       "      <td>England</td>\n",
       "      <td>V-Varen Nagasaki</td>\n",
       "      <td>GK</td>\n",
       "    </tr>\n",
       "    <tr>\n",
       "      <th>freq</th>\n",
       "      <td>9</td>\n",
       "      <td>1368</td>\n",
       "      <td>30</td>\n",
       "      <td>1641</td>\n",
       "    </tr>\n",
       "  </tbody>\n",
       "</table>\n",
       "</div>"
      ],
      "text/plain": [
       "                Name Nationality              Club Position\n",
       "count          12897       12897             12897    12897\n",
       "unique         12326         156               650       27\n",
       "top     J. Rodríguez     England  V-Varen Nagasaki       GK\n",
       "freq               9        1368                30     1641"
      ]
     },
     "metadata": {},
     "output_type": "display_data"
    }
   ],
   "source": [
    "# Выведем статистическую информацию\n",
    "display(football.describe())\n",
    "display(football.describe(include = 'object'))"
   ]
  },
  {
   "cell_type": "markdown",
   "id": "39839e13",
   "metadata": {},
   "source": [
    "Итак, датафрейм football представляет собой таблицу с информацией о футболистах: имена и фамилии игроков, национальность, возраст, принадлежность к клубу, заработанная плата и различные спортивные показатели. Всего в наборе данных 42 колонки, в каждой из которых 12897 непустых значений. Пропуски в данных отсутствуют. В таблице 4 признака с типом данных object, остальные признаки имеют тип int. "
   ]
  },
  {
   "cell_type": "markdown",
   "id": "86bd1590",
   "metadata": {},
   "source": [
    "### Ответим на ряд вопросов, применив различные способы фильтрации и группировки данных"
   ]
  },
  {
   "cell_type": "code",
   "execution_count": 52,
   "id": "3e4c9aa3",
   "metadata": {
    "ExecuteTime": {
     "end_time": "2023-11-07T13:22:54.691596Z",
     "start_time": "2023-11-07T13:22:54.646581Z"
    },
    "scrolled": true
   },
   "outputs": [
    {
     "data": {
      "text/plain": [
       "67.57"
      ]
     },
     "metadata": {},
     "output_type": "display_data"
    },
    {
     "data": {
      "text/plain": [
       "'RF'"
      ]
     },
     "metadata": {},
     "output_type": "display_data"
    },
    {
     "data": {
      "text/plain": [
       "22789"
      ]
     },
     "metadata": {},
     "output_type": "display_data"
    },
    {
     "data": {
      "text/plain": [
       "25.59"
      ]
     },
     "metadata": {},
     "output_type": "display_data"
    },
    {
     "data": {
      "text/plain": [
       "24"
      ]
     },
     "metadata": {},
     "output_type": "display_data"
    },
    {
     "data": {
      "text/plain": [
       "22.64"
      ]
     },
     "metadata": {},
     "output_type": "display_data"
    }
   ],
   "source": [
    "# Какова средняя скорость футболистов, зарплата которых выше среднего? Ответ округлите до сотых\n",
    "# round(football.query('Wage > Wage.mean()').SprintSpeed.mean(),2)\n",
    "display(round(football[football['Wage'] > football['Wage'].mean()]['SprintSpeed'].mean(),2))\n",
    "\n",
    "# Какую позицию занимает футболист с самой высокой зарплатой?\n",
    "display(football[football['Wage'] == football['Wage'].max()]['Position'].iloc[0])\n",
    "\n",
    "# Сколько пенальти забили бразильские футболисты за период, данные о котором представлены в датасете?\n",
    "display(football[football['Nationality'] == 'Brazil']['Penalties'].sum())\n",
    "\n",
    "# Укажите средний возраст игроков, у которых точность удара головой > 50\n",
    "display(round(football[football['HeadingAccuracy'] > 50]['Age'].mean(), 2))\n",
    "\n",
    "# Укажите возраст самого молодого игрока, у которого хладнокровие и реакция превышают 90% от максимального значения, \n",
    "# представленного в датасете\n",
    "display(football[(football['Composure'] > football['Composure'].max() * 0.9) & (football['Reactions'] > football['Reactions'].max() * 0.9)]['Age'].min())\n",
    "\n",
    "# Определите, насколько средняя реакция самых взрослых игроков больше средней реакции самых молодых игроков\n",
    "# round(football.query('Age == Age.max()').Reactions.mean() - football.query('Age == Age.min()').Reactions.mean(),2)\n",
    "display(round((football[football['Age'] == football['Age'].max()]['Reactions'].mean()) -  (football[football['Age'] == football['Age'].min()]['Reactions'].mean()), 2))"
   ]
  },
  {
   "cell_type": "code",
   "execution_count": 72,
   "id": "cdc7870c",
   "metadata": {
    "ExecuteTime": {
     "end_time": "2023-11-07T13:30:46.636915Z",
     "start_time": "2023-11-07T13:30:46.579305Z"
    },
    "scrolled": false
   },
   "outputs": [
    {
     "data": {
      "text/plain": [
       "'Spain'"
      ]
     },
     "metadata": {},
     "output_type": "display_data"
    },
    {
     "data": {
      "text/plain": [
       "2.77"
      ]
     },
     "metadata": {},
     "output_type": "display_data"
    },
    {
     "data": {
      "text/plain": [
       "2.08"
      ]
     },
     "metadata": {},
     "output_type": "display_data"
    },
    {
     "data": {
      "text/plain": [
       "['GK', 'ST', 'CB']"
      ]
     },
     "metadata": {},
     "output_type": "display_data"
    },
    {
     "data": {
      "text/plain": [
       "['LS', 'RS', 'RWB', 'LWB', 'CF', 'LF', 'LAM', 'RF', 'RAM']"
      ]
     },
     "metadata": {},
     "output_type": "display_data"
    },
    {
     "data": {
      "text/plain": [
       "Interval(2.908, 21.2, closed='right')"
      ]
     },
     "metadata": {},
     "output_type": "display_data"
    }
   ],
   "source": [
    "# Из какой страны происходит больше всего игроков, чья стоимость превышает среднее значение?\n",
    "display(football[football['Value'] > football['Value'].mean()]['Nationality'].value_counts().index[0])\n",
    "\n",
    "# Определите, во сколько раз средняя зарплата голкипера с максимальным значением показателя \" Рефлексы\" \n",
    "# выше средней зарплаты голкипера с максимальным значением показателя \"Владение мячом\"\n",
    "# round(football.query('(Position == \"GK\") & (GKReflexes == GKReflexes.max())').Wage.mean() / football.query('(Position == \"GK\") & (GKHandling == GKHandling.max())').Wage.mean(), 2)\n",
    "display(round(football[(football['Position'] == 'GK') & (football['GKReflexes'] == football['GKReflexes'].max())]['Wage'].mean() / football[(football['Position'] == 'GK') & (football['GKHandling'] == football['GKHandling'].max())]['Wage'].mean(), 2))\n",
    "\n",
    "# Определите, во сколько раз средняя сила удара самых агрессивных игроков выше средней силы удара игроков с минимальной агрессией\n",
    "#  round(football.query('Aggression == Aggression.max()').ShotPower.mean() / football.query('Aggression == Aggression.min()').ShotPower.mean(), 2)\n",
    "display(round(football[football['Aggression'] == football['Aggression'].max()]['ShotPower'].mean() / football[football['Aggression'] == football['Aggression'].min()]['ShotPower'].mean(), 2))\n",
    "\n",
    "# Данные об игроках каких позиций занимают более 10% датасета?\n",
    "# football.groupby('Position').Name.count()[football.groupby('Position').Name.count() > len(football.Position) * 0.1].index.tolist()\n",
    "pos_2 = football['Position'].value_counts(normalize = True)\n",
    "display(pos_2[pos_2 > 0.1].index.tolist())\n",
    "\n",
    "# Данные об игроках каких позиций занимают менее 1% датасета?\n",
    "#  football.groupby('Position').Name.count()[football.groupby('Position').Name.count() < len(football.Position) * 0.01]\n",
    "display(football.Position.value_counts(normalize = True)[football.Position.value_counts(normalize = True) < 0.01].index.tolist())\n",
    "\n",
    "# В каких пределах находятся худшие 20% показателей точности ударов ногой?\n",
    "display(football['FKAccuracy'].value_counts(bins = 5).index.min())"
   ]
  },
  {
   "cell_type": "code",
   "execution_count": 97,
   "id": "434d72f0",
   "metadata": {
    "ExecuteTime": {
     "end_time": "2023-11-07T13:36:17.053228Z",
     "start_time": "2023-11-07T13:36:16.984665Z"
    }
   },
   "outputs": [
    {
     "data": {
      "text/plain": [
       "0.97"
      ]
     },
     "metadata": {},
     "output_type": "display_data"
    },
    {
     "data": {
      "text/plain": [
       "13"
      ]
     },
     "metadata": {},
     "output_type": "display_data"
    },
    {
     "data": {
      "text/html": [
       "<div>\n",
       "<style scoped>\n",
       "    .dataframe tbody tr th:only-of-type {\n",
       "        vertical-align: middle;\n",
       "    }\n",
       "\n",
       "    .dataframe tbody tr th {\n",
       "        vertical-align: top;\n",
       "    }\n",
       "\n",
       "    .dataframe thead th {\n",
       "        text-align: right;\n",
       "    }\n",
       "</style>\n",
       "<table border=\"1\" class=\"dataframe\">\n",
       "  <thead>\n",
       "    <tr style=\"text-align: right;\">\n",
       "      <th></th>\n",
       "      <th>Name</th>\n",
       "    </tr>\n",
       "  </thead>\n",
       "  <tbody>\n",
       "    <tr>\n",
       "      <th>64</th>\n",
       "      <td>Alex Sandro</td>\n",
       "    </tr>\n",
       "    <tr>\n",
       "      <th>65</th>\n",
       "      <td>Douglas Costa</td>\n",
       "    </tr>\n",
       "  </tbody>\n",
       "</table>\n",
       "</div>"
      ],
      "text/plain": [
       "             Name\n",
       "64    Alex Sandro\n",
       "65  Douglas Costa"
      ]
     },
     "metadata": {},
     "output_type": "display_data"
    },
    {
     "data": {
      "text/plain": [
       "Hokkaido Consadole Sapporo    4\n",
       "Club Atlético Huracán         4\n",
       "Name: Club, dtype: int64"
      ]
     },
     "metadata": {},
     "output_type": "display_data"
    },
    {
     "data": {
      "text/plain": [
       "['Club Atlético Huracán', 'Hokkaido Consadole Sapporo']"
      ]
     },
     "metadata": {},
     "output_type": "display_data"
    },
    {
     "data": {
      "text/plain": [
       "Hokkaido Consadole Sapporo    4\n",
       "Club Atlético Huracán         4\n",
       "Name: Club, dtype: int64"
      ]
     },
     "metadata": {},
     "output_type": "display_data"
    }
   ],
   "source": [
    "# У какого процента испанских футболистов зарплата находится в пределах 25 % минимума \n",
    "# от наблюдаемого уровня зарплат среди испанских игроков?\n",
    "wage_proportion = football[football['Nationality'] == 'Spain']['Wage'].value_counts(bins = 4, normalize = True)\n",
    "display(round(wage_proportion[sorted(wage_proportion.index)[0]], 2))\n",
    "\n",
    "# Укажите количество национальностей, к которым относятся футболисты, выступающие за клуб \"Manchester United\"\n",
    "# len(football[football.Club == 'Manchester United'].Nationality.unique())\n",
    "# len(football[football.Club == 'Manchester United'].Nationality.value_counts())\n",
    "display(football[football['Club'] == 'Manchester United']['Nationality'].nunique())\n",
    "\n",
    "# Определите двух футболистов из Бразилии, выступающих за клуб 'Juventus'\n",
    "display(football[(football['Nationality'] == 'Brazil') & (football['Club'] == 'Juventus')][['Name']])\n",
    "\n",
    "# Укажите, какие два клуба насчитывают наибольшее количество футболистов возрастом старше 35 лет\n",
    "display(football[football.Age > 35].Club.value_counts().sort_values(ascending = False)[:2])\n",
    "display(football[football.Age > 35].groupby('Club').Age.count().sort_values(ascending = False).index.tolist()[:2])\n",
    "\n",
    "# Решение с помощью isin\n",
    "small_data = football[football['Age'] > 35]['Club'].value_counts()\n",
    "display(small_data[small_data.isin([small_data.max()])])     # small_data.index[:2]"
   ]
  },
  {
   "cell_type": "code",
   "execution_count": 154,
   "id": "c4b06a0d",
   "metadata": {
    "ExecuteTime": {
     "end_time": "2023-11-07T13:57:52.845243Z",
     "start_time": "2023-11-07T13:57:52.765912Z"
    },
    "scrolled": false
   },
   "outputs": [
    {
     "data": {
      "text/plain": [
       "(34.75, 41.0]    49\n",
       "Name: Age, dtype: int64"
      ]
     },
     "metadata": {},
     "output_type": "display_data"
    },
    {
     "data": {
      "text/plain": [
       "0.12"
      ]
     },
     "metadata": {},
     "output_type": "display_data"
    },
    {
     "data": {
      "text/plain": [
       "['CAM', 'CB', 'CM', 'GK', 'LB', 'LM', 'RB', 'RM', 'ST']"
      ]
     },
     "metadata": {},
     "output_type": "display_data"
    },
    {
     "data": {
      "text/plain": [
       "Position\n",
       "CAM     5500000\n",
       "CB      7476000\n",
       "CM      6194000\n",
       "GK      8784000\n",
       "LB      6096000\n",
       "LM      5440000\n",
       "RB      5034000\n",
       "RM      5098000\n",
       "ST     11873000\n",
       "Name: Wage, dtype: int64"
      ]
     },
     "metadata": {},
     "output_type": "display_data"
    },
    {
     "data": {
      "text/html": [
       "<div>\n",
       "<style scoped>\n",
       "    .dataframe tbody tr th:only-of-type {\n",
       "        vertical-align: middle;\n",
       "    }\n",
       "\n",
       "    .dataframe tbody tr th {\n",
       "        vertical-align: top;\n",
       "    }\n",
       "\n",
       "    .dataframe thead th {\n",
       "        text-align: right;\n",
       "    }\n",
       "</style>\n",
       "<table border=\"1\" class=\"dataframe\">\n",
       "  <thead>\n",
       "    <tr style=\"text-align: right;\">\n",
       "      <th></th>\n",
       "      <th>Position</th>\n",
       "      <th>Wage</th>\n",
       "      <th>Value</th>\n",
       "    </tr>\n",
       "  </thead>\n",
       "  <tbody>\n",
       "    <tr>\n",
       "      <th>0</th>\n",
       "      <td>CAM</td>\n",
       "      <td>8688.783570</td>\n",
       "      <td>2.963199e+06</td>\n",
       "    </tr>\n",
       "    <tr>\n",
       "      <th>1</th>\n",
       "      <td>CB</td>\n",
       "      <td>5328.581611</td>\n",
       "      <td>1.321251e+06</td>\n",
       "    </tr>\n",
       "    <tr>\n",
       "      <th>2</th>\n",
       "      <td>CDM</td>\n",
       "      <td>7121.562952</td>\n",
       "      <td>1.658900e+06</td>\n",
       "    </tr>\n",
       "  </tbody>\n",
       "</table>\n",
       "</div>"
      ],
      "text/plain": [
       "  Position         Wage         Value\n",
       "0      CAM  8688.783570  2.963199e+06\n",
       "1       CB  5328.581611  1.321251e+06\n",
       "2      CDM  7121.562952  1.658900e+06"
      ]
     },
     "metadata": {},
     "output_type": "display_data"
    },
    {
     "data": {
      "text/html": [
       "<div>\n",
       "<style scoped>\n",
       "    .dataframe tbody tr th:only-of-type {\n",
       "        vertical-align: middle;\n",
       "    }\n",
       "\n",
       "    .dataframe tbody tr th {\n",
       "        vertical-align: top;\n",
       "    }\n",
       "\n",
       "    .dataframe thead th {\n",
       "        text-align: right;\n",
       "    }\n",
       "</style>\n",
       "<table border=\"1\" class=\"dataframe\">\n",
       "  <thead>\n",
       "    <tr style=\"text-align: right;\">\n",
       "      <th></th>\n",
       "      <th>Position</th>\n",
       "      <th>Wage</th>\n",
       "      <th>Value</th>\n",
       "    </tr>\n",
       "  </thead>\n",
       "  <tbody>\n",
       "    <tr>\n",
       "      <th>11</th>\n",
       "      <td>LF</td>\n",
       "      <td>75125.0</td>\n",
       "      <td>27362500.0</td>\n",
       "    </tr>\n",
       "  </tbody>\n",
       "</table>\n",
       "</div>"
      ],
      "text/plain": [
       "   Position     Wage       Value\n",
       "11       LF  75125.0  27362500.0"
      ]
     },
     "metadata": {},
     "output_type": "display_data"
    },
    {
     "data": {
      "text/plain": [
       "75125.0"
      ]
     },
     "metadata": {},
     "output_type": "display_data"
    }
   ],
   "source": [
    "# Разбейте всех футболистов родом из Аргентины на 4 равные группы по возрасту. \n",
    "# Сколько футболистов из Аргентины в возрасте от 34,75 до 41 года?\n",
    "argentina_players_age = football[football['Nationality'] == 'Argentina']['Age'].value_counts(bins = 4)\n",
    "display(argentina_players_age[argentina_players_age.index.left >= 34.75])\n",
    "\n",
    "# Сколько процентов футболистов из Испании имеют возраст 21 год? \n",
    "# Введите с точностью до 2 знаков после запятой без указания знака % (например, 12.35)\n",
    "# round(football[(football.Age == 21) & (football.Nationality == 'Spain')].Name.nunique() / len(football[football.Nationality == 'Spain']),2)\n",
    "display(round(football[football['Nationality'] == 'Spain']['Age'].value_counts(normalize = True)[21], 2))\n",
    "\n",
    "# Определите позиции, по которым общая сумма зарплат игроков превышает 5 млн евро в год\n",
    "display(football.groupby(['Position'])['Wage'].sum()[football.groupby(['Position'])['Wage'].sum() > 5000000].index.tolist())\n",
    "display(football.groupby(['Position'])['Wage'].sum()[football.groupby(['Position'])['Wage'].sum() > 5000000])\n",
    "\n",
    "# Посчитайте среднюю зарплату и цену игроков разных позиций. Представители какой позиции имеют самую высокую среднюю ценность? \n",
    "# Какова средняя зарплата футболистов на данной позиции?\n",
    "display(football.groupby('Position', as_index = False)[['Wage', 'Value']].mean().head(3))\n",
    "display(football.groupby('Position', as_index = False)[['Wage', 'Value']].mean().sort_values(by = 'Value', ascending = False).iloc[[0]])\n",
    "\n",
    "# football.groupby(['Position'])['Wage'].mean().loc['LF']\n",
    "# football.groupby(football['Position'] == 'LF')['Wage'].mean()[1]\n",
    "display(football[football.Position == 'LF'].Wage.mean())"
   ]
  },
  {
   "cell_type": "code",
   "execution_count": 159,
   "id": "9912e160",
   "metadata": {
    "ExecuteTime": {
     "end_time": "2023-11-07T14:00:36.362191Z",
     "start_time": "2023-11-07T14:00:36.291380Z"
    }
   },
   "outputs": [
    {
     "data": {
      "text/html": [
       "<div>\n",
       "<style scoped>\n",
       "    .dataframe tbody tr th:only-of-type {\n",
       "        vertical-align: middle;\n",
       "    }\n",
       "\n",
       "    .dataframe tbody tr th {\n",
       "        vertical-align: top;\n",
       "    }\n",
       "\n",
       "    .dataframe thead th {\n",
       "        text-align: right;\n",
       "    }\n",
       "</style>\n",
       "<table border=\"1\" class=\"dataframe\">\n",
       "  <thead>\n",
       "    <tr style=\"text-align: right;\">\n",
       "      <th></th>\n",
       "      <th>Club</th>\n",
       "      <th>mean_wage</th>\n",
       "      <th>median_wage</th>\n",
       "    </tr>\n",
       "  </thead>\n",
       "  <tbody>\n",
       "    <tr>\n",
       "      <th>0</th>\n",
       "      <td>SSV Jahn Regensburg</td>\n",
       "      <td>3750.000000</td>\n",
       "      <td>3500.0</td>\n",
       "    </tr>\n",
       "    <tr>\n",
       "      <th>1</th>\n",
       "      <td>1. FC Heidenheim 1846</td>\n",
       "      <td>3800.000000</td>\n",
       "      <td>3000.0</td>\n",
       "    </tr>\n",
       "    <tr>\n",
       "      <th>2</th>\n",
       "      <td>1. FC Kaiserslautern</td>\n",
       "      <td>1434.782609</td>\n",
       "      <td>1000.0</td>\n",
       "    </tr>\n",
       "  </tbody>\n",
       "</table>\n",
       "</div>"
      ],
      "text/plain": [
       "                    Club    mean_wage  median_wage\n",
       "0    SSV Jahn Regensburg  3750.000000       3500.0\n",
       "1  1. FC Heidenheim 1846  3800.000000       3000.0\n",
       "2   1. FC Kaiserslautern  1434.782609       1000.0"
      ]
     },
     "metadata": {},
     "output_type": "display_data"
    },
    {
     "data": {
      "text/plain": [
       "52"
      ]
     },
     "metadata": {},
     "output_type": "display_data"
    },
    {
     "data": {
      "text/html": [
       "<div>\n",
       "<style scoped>\n",
       "    .dataframe tbody tr th:only-of-type {\n",
       "        vertical-align: middle;\n",
       "    }\n",
       "\n",
       "    .dataframe tbody tr th {\n",
       "        vertical-align: top;\n",
       "    }\n",
       "\n",
       "    .dataframe thead th {\n",
       "        text-align: right;\n",
       "    }\n",
       "</style>\n",
       "<table border=\"1\" class=\"dataframe\">\n",
       "  <thead>\n",
       "    <tr style=\"text-align: right;\">\n",
       "      <th></th>\n",
       "      <th>Club</th>\n",
       "      <th>mean_wage</th>\n",
       "      <th>median_wage</th>\n",
       "    </tr>\n",
       "  </thead>\n",
       "  <tbody>\n",
       "    <tr>\n",
       "      <th>0</th>\n",
       "      <td>SSV Jahn Regensburg</td>\n",
       "      <td>3750.000000</td>\n",
       "      <td>3500.0</td>\n",
       "    </tr>\n",
       "    <tr>\n",
       "      <th>1</th>\n",
       "      <td>1. FC Heidenheim 1846</td>\n",
       "      <td>3800.000000</td>\n",
       "      <td>3000.0</td>\n",
       "    </tr>\n",
       "    <tr>\n",
       "      <th>2</th>\n",
       "      <td>1. FC Kaiserslautern</td>\n",
       "      <td>1434.782609</td>\n",
       "      <td>1000.0</td>\n",
       "    </tr>\n",
       "  </tbody>\n",
       "</table>\n",
       "</div>"
      ],
      "text/plain": [
       "                    Club    mean_wage  median_wage\n",
       "0    SSV Jahn Regensburg  3750.000000       3500.0\n",
       "1  1. FC Heidenheim 1846  3800.000000       3000.0\n",
       "2   1. FC Kaiserslautern  1434.782609       1000.0"
      ]
     },
     "metadata": {},
     "output_type": "display_data"
    },
    {
     "data": {
      "text/plain": [
       "52"
      ]
     },
     "metadata": {},
     "output_type": "display_data"
    },
    {
     "data": {
      "text/html": [
       "<div>\n",
       "<style scoped>\n",
       "    .dataframe tbody tr th:only-of-type {\n",
       "        vertical-align: middle;\n",
       "    }\n",
       "\n",
       "    .dataframe tbody tr th {\n",
       "        vertical-align: top;\n",
       "    }\n",
       "\n",
       "    .dataframe thead th {\n",
       "        text-align: right;\n",
       "    }\n",
       "</style>\n",
       "<table border=\"1\" class=\"dataframe\">\n",
       "  <thead>\n",
       "    <tr style=\"text-align: right;\">\n",
       "      <th></th>\n",
       "      <th>Club</th>\n",
       "      <th>mean_wage</th>\n",
       "      <th>median_wage</th>\n",
       "    </tr>\n",
       "  </thead>\n",
       "  <tbody>\n",
       "    <tr>\n",
       "      <th>4</th>\n",
       "      <td>1. FC Magdeburg</td>\n",
       "      <td>4000.0</td>\n",
       "      <td>4000.0</td>\n",
       "    </tr>\n",
       "    <tr>\n",
       "      <th>12</th>\n",
       "      <td>AEK Athens</td>\n",
       "      <td>1000.0</td>\n",
       "      <td>1000.0</td>\n",
       "    </tr>\n",
       "    <tr>\n",
       "      <th>15</th>\n",
       "      <td>AJ Auxerre</td>\n",
       "      <td>2000.0</td>\n",
       "      <td>2000.0</td>\n",
       "    </tr>\n",
       "  </tbody>\n",
       "</table>\n",
       "</div>"
      ],
      "text/plain": [
       "               Club  mean_wage  median_wage\n",
       "4   1. FC Magdeburg     4000.0       4000.0\n",
       "12       AEK Athens     1000.0       1000.0\n",
       "15       AJ Auxerre     2000.0       2000.0"
      ]
     },
     "metadata": {},
     "output_type": "display_data"
    },
    {
     "data": {
      "text/plain": [
       "13000.0"
      ]
     },
     "metadata": {},
     "output_type": "display_data"
    },
    {
     "data": {
      "text/html": [
       "<div>\n",
       "<style scoped>\n",
       "    .dataframe tbody tr th:only-of-type {\n",
       "        vertical-align: middle;\n",
       "    }\n",
       "\n",
       "    .dataframe tbody tr th {\n",
       "        vertical-align: top;\n",
       "    }\n",
       "\n",
       "    .dataframe thead th {\n",
       "        text-align: right;\n",
       "    }\n",
       "</style>\n",
       "<table border=\"1\" class=\"dataframe\">\n",
       "  <thead>\n",
       "    <tr style=\"text-align: right;\">\n",
       "      <th></th>\n",
       "      <th>Club</th>\n",
       "      <th>mean_wage</th>\n",
       "      <th>median_wage</th>\n",
       "    </tr>\n",
       "  </thead>\n",
       "  <tbody>\n",
       "    <tr>\n",
       "      <th>168</th>\n",
       "      <td>Cruzeiro</td>\n",
       "      <td>13000.0</td>\n",
       "      <td>13000.0</td>\n",
       "    </tr>\n",
       "  </tbody>\n",
       "</table>\n",
       "</div>"
      ],
      "text/plain": [
       "         Club  mean_wage  median_wage\n",
       "168  Cruzeiro    13000.0      13000.0"
      ]
     },
     "metadata": {},
     "output_type": "display_data"
    }
   ],
   "source": [
    "# Посчитайте среднюю и медианную зарплату футболистов из разных клубов. \n",
    "# В скольких клубах средняя и медианная зарплаты совпадают?\n",
    "football_2 = football.groupby('Club', as_index = False) \\\n",
    "        .agg(mean_wage = ('Wage','mean'), median_wage = ('Wage','median'))\n",
    "display(football_2.head(3))\n",
    "\n",
    "# len(football_2[football_2.mean_wage == football_2.median_wage])\n",
    "# football_2[football_2.mean_wage == football_2.median_wage].Club.nunique()\n",
    "display(football_2[football_2.mean_wage == football_2.median_wage].Club.count())\n",
    "\n",
    "# ДРУГОЙ ВАРИАНТ ГРУППИРОВКИ\n",
    "football_new = football.groupby('Club').Wage.agg(func = ['mean', 'median']).reset_index() \\\n",
    "                .rename(columns = {'mean' : 'mean_wage', 'median': 'median_wage'})\n",
    "display(football_new.head(3))\n",
    "display(len(football_new[football_new.mean_wage == football_new.median_wage]) )\n",
    "\n",
    "\n",
    "# Продолжаем работать с клубами, в которых средняя зарплата совпадает с медианной. \n",
    "# Каков максимальный размер средней зарплаты в этой группе клубов?\n",
    "equals = football_2[football_2.mean_wage == football_2.median_wage]\n",
    "display(equals.head(3))\n",
    "display(equals['mean_wage'].max())\n",
    "\n",
    "# Как называется клуб, где игроки получают такую зарплату?\n",
    "# equals.sort_values('mean_wage', ascending = False)[:1]\n",
    "# equals[equals['mean_wage'] == equals['mean_wage'].max()]\n",
    "display(equals[equals.mean_wage.isin([equals.mean_wage.max()])])"
   ]
  },
  {
   "cell_type": "code",
   "execution_count": 210,
   "id": "94c9aa7c",
   "metadata": {
    "ExecuteTime": {
     "end_time": "2023-11-07T15:14:07.975876Z",
     "start_time": "2023-11-07T15:14:07.921031Z"
    }
   },
   "outputs": [
    {
     "data": {
      "text/plain": [
       "2035000"
      ]
     },
     "metadata": {},
     "output_type": "display_data"
    },
    {
     "data": {
      "text/html": [
       "<div>\n",
       "<style scoped>\n",
       "    .dataframe tbody tr th:only-of-type {\n",
       "        vertical-align: middle;\n",
       "    }\n",
       "\n",
       "    .dataframe tbody tr th {\n",
       "        vertical-align: top;\n",
       "    }\n",
       "\n",
       "    .dataframe thead th {\n",
       "        text-align: right;\n",
       "    }\n",
       "</style>\n",
       "<table border=\"1\" class=\"dataframe\">\n",
       "  <thead>\n",
       "    <tr style=\"text-align: right;\">\n",
       "      <th></th>\n",
       "      <th>Wage</th>\n",
       "    </tr>\n",
       "  </thead>\n",
       "  <tbody>\n",
       "    <tr>\n",
       "      <th>min_wage</th>\n",
       "      <td>1000</td>\n",
       "    </tr>\n",
       "    <tr>\n",
       "      <th>max_wage</th>\n",
       "      <td>54000</td>\n",
       "    </tr>\n",
       "  </tbody>\n",
       "</table>\n",
       "</div>"
      ],
      "text/plain": [
       "           Wage\n",
       "min_wage   1000\n",
       "max_wage  54000"
      ]
     },
     "metadata": {},
     "output_type": "display_data"
    },
    {
     "data": {
      "text/html": [
       "<div>\n",
       "<style scoped>\n",
       "    .dataframe tbody tr th:only-of-type {\n",
       "        vertical-align: middle;\n",
       "    }\n",
       "\n",
       "    .dataframe tbody tr th {\n",
       "        vertical-align: top;\n",
       "    }\n",
       "\n",
       "    .dataframe thead th {\n",
       "        text-align: right;\n",
       "    }\n",
       "</style>\n",
       "<table border=\"1\" class=\"dataframe\">\n",
       "  <thead>\n",
       "    <tr style=\"text-align: right;\">\n",
       "      <th></th>\n",
       "      <th>Wage</th>\n",
       "    </tr>\n",
       "  </thead>\n",
       "  <tbody>\n",
       "    <tr>\n",
       "      <th>min_wage</th>\n",
       "      <td>1000</td>\n",
       "    </tr>\n",
       "    <tr>\n",
       "      <th>max_wage</th>\n",
       "      <td>300000</td>\n",
       "    </tr>\n",
       "  </tbody>\n",
       "</table>\n",
       "</div>"
      ],
      "text/plain": [
       "            Wage\n",
       "min_wage    1000\n",
       "max_wage  300000"
      ]
     },
     "metadata": {},
     "output_type": "display_data"
    },
    {
     "data": {
      "text/plain": [
       "Strength    59\n",
       "Balance     95\n",
       "Name: True, dtype: int64"
      ]
     },
     "metadata": {},
     "output_type": "display_data"
    }
   ],
   "source": [
    "# Посчитайте сумму зарплат футболистов клуба \"Chelsea\"\n",
    "# football.groupby('Club')['Wage'].sum()['Chelsea']\n",
    "# football.groupby(football['Club'] == \"Chelsea\")['Wage'].sum()[1]\n",
    "display(football[football.Club == 'Chelsea'].Wage.sum())\n",
    "\n",
    "# Определите минимальную и максимальную зарплату футболиста национальности Аргентина в возрасте 20 лет\n",
    "# football.query('(Nationality == \"Argentina\") & (Age == 20)').agg(min_wage = ('Wage', 'min'), max_wage = ('Wage', 'max'))\n",
    "display(football[(football.Nationality == 'Argentina') & (football.Age == 20)].agg(min_wage = ('Wage', 'min'), max_wage = ('Wage', 'max')))\n",
    "\n",
    "# Определите минимальную и максимальную зарплату футболиста национальности Аргентина в возрасте 30 лет\n",
    "# football.query('(Nationality == \"Argentina\") & (Age == 30)').agg(min_wage = ('Wage', 'min'), max_wage = ('Wage', 'max'))\n",
    "display(football[(football.Nationality == 'Argentina') & (football.Age == 30)].agg(min_wage = ('Wage', 'min'), max_wage = ('Wage', 'max')))\n",
    "\n",
    "# Определите максимальную силу и баланс среди игроков клуба \"FC Barcelona\" из Аргентины\n",
    "# football.query(\"(Nationality == 'Argentina') & (Club == 'FC Barcelona')\")[['Strength', 'Balance']].max()\n",
    "# football[(football['Club'] == \"FC Barcelona\") & (football['Nationality'] == \"Argentina\")][['Strength', 'Balance']].max()\n",
    "display(football.groupby((football['Club'] == \"FC Barcelona\") & (football['Nationality'] == \"Argentina\"))[['Strength', 'Balance']].max().loc[1])"
   ]
  },
  {
   "cell_type": "code",
   "execution_count": 283,
   "id": "32c3a589",
   "metadata": {
    "ExecuteTime": {
     "end_time": "2023-11-07T15:36:53.925474Z",
     "start_time": "2023-11-07T15:36:53.688259Z"
    },
    "scrolled": false
   },
   "outputs": [
    {
     "data": {
      "text/html": [
       "<div>\n",
       "<style scoped>\n",
       "    .dataframe tbody tr th:only-of-type {\n",
       "        vertical-align: middle;\n",
       "    }\n",
       "\n",
       "    .dataframe tbody tr th {\n",
       "        vertical-align: top;\n",
       "    }\n",
       "\n",
       "    .dataframe thead tr th {\n",
       "        text-align: left;\n",
       "    }\n",
       "\n",
       "    .dataframe thead tr:last-of-type th {\n",
       "        text-align: right;\n",
       "    }\n",
       "</style>\n",
       "<table border=\"1\" class=\"dataframe\">\n",
       "  <thead>\n",
       "    <tr>\n",
       "      <th></th>\n",
       "      <th colspan=\"21\" halign=\"left\">Name</th>\n",
       "    </tr>\n",
       "    <tr>\n",
       "      <th>Position</th>\n",
       "      <th>CAM</th>\n",
       "      <th>CB</th>\n",
       "      <th>CDM</th>\n",
       "      <th>CF</th>\n",
       "      <th>CM</th>\n",
       "      <th>GK</th>\n",
       "      <th>LAM</th>\n",
       "      <th>LB</th>\n",
       "      <th>LCB</th>\n",
       "      <th>LCM</th>\n",
       "      <th>...</th>\n",
       "      <th>RB</th>\n",
       "      <th>RCB</th>\n",
       "      <th>RCM</th>\n",
       "      <th>RDM</th>\n",
       "      <th>RF</th>\n",
       "      <th>RM</th>\n",
       "      <th>RS</th>\n",
       "      <th>RW</th>\n",
       "      <th>RWB</th>\n",
       "      <th>ST</th>\n",
       "    </tr>\n",
       "    <tr>\n",
       "      <th>Club</th>\n",
       "      <th></th>\n",
       "      <th></th>\n",
       "      <th></th>\n",
       "      <th></th>\n",
       "      <th></th>\n",
       "      <th></th>\n",
       "      <th></th>\n",
       "      <th></th>\n",
       "      <th></th>\n",
       "      <th></th>\n",
       "      <th></th>\n",
       "      <th></th>\n",
       "      <th></th>\n",
       "      <th></th>\n",
       "      <th></th>\n",
       "      <th></th>\n",
       "      <th></th>\n",
       "      <th></th>\n",
       "      <th></th>\n",
       "      <th></th>\n",
       "      <th></th>\n",
       "    </tr>\n",
       "  </thead>\n",
       "  <tbody>\n",
       "    <tr>\n",
       "      <th>SSV Jahn Regensburg</th>\n",
       "      <td>0</td>\n",
       "      <td>5</td>\n",
       "      <td>1</td>\n",
       "      <td>0</td>\n",
       "      <td>2</td>\n",
       "      <td>3</td>\n",
       "      <td>0</td>\n",
       "      <td>2</td>\n",
       "      <td>0</td>\n",
       "      <td>0</td>\n",
       "      <td>...</td>\n",
       "      <td>2</td>\n",
       "      <td>1</td>\n",
       "      <td>0</td>\n",
       "      <td>1</td>\n",
       "      <td>0</td>\n",
       "      <td>0</td>\n",
       "      <td>0</td>\n",
       "      <td>0</td>\n",
       "      <td>0</td>\n",
       "      <td>3</td>\n",
       "    </tr>\n",
       "    <tr>\n",
       "      <th>1. FC Heidenheim 1846</th>\n",
       "      <td>1</td>\n",
       "      <td>3</td>\n",
       "      <td>0</td>\n",
       "      <td>0</td>\n",
       "      <td>1</td>\n",
       "      <td>2</td>\n",
       "      <td>0</td>\n",
       "      <td>2</td>\n",
       "      <td>1</td>\n",
       "      <td>0</td>\n",
       "      <td>...</td>\n",
       "      <td>2</td>\n",
       "      <td>1</td>\n",
       "      <td>0</td>\n",
       "      <td>0</td>\n",
       "      <td>0</td>\n",
       "      <td>3</td>\n",
       "      <td>0</td>\n",
       "      <td>0</td>\n",
       "      <td>0</td>\n",
       "      <td>2</td>\n",
       "    </tr>\n",
       "    <tr>\n",
       "      <th>1. FC Kaiserslautern</th>\n",
       "      <td>0</td>\n",
       "      <td>3</td>\n",
       "      <td>3</td>\n",
       "      <td>0</td>\n",
       "      <td>0</td>\n",
       "      <td>3</td>\n",
       "      <td>0</td>\n",
       "      <td>2</td>\n",
       "      <td>1</td>\n",
       "      <td>0</td>\n",
       "      <td>...</td>\n",
       "      <td>2</td>\n",
       "      <td>0</td>\n",
       "      <td>0</td>\n",
       "      <td>1</td>\n",
       "      <td>0</td>\n",
       "      <td>2</td>\n",
       "      <td>1</td>\n",
       "      <td>0</td>\n",
       "      <td>0</td>\n",
       "      <td>1</td>\n",
       "    </tr>\n",
       "  </tbody>\n",
       "</table>\n",
       "<p>3 rows × 27 columns</p>\n",
       "</div>"
      ],
      "text/plain": [
       "                      Name                                 ...                 \\\n",
       "Position               CAM CB CDM CF CM GK LAM LB LCB LCM  ... RB RCB RCM RDM   \n",
       "Club                                                       ...                  \n",
       " SSV Jahn Regensburg     0  5   1  0  2  3   0  2   0   0  ...  2   1   0   1   \n",
       "1. FC Heidenheim 1846    1  3   0  0  1  2   0  2   1   0  ...  2   1   0   0   \n",
       "1. FC Kaiserslautern     0  3   3  0  0  3   0  2   1   0  ...  2   0   0   1   \n",
       "\n",
       "                                          \n",
       "Position              RF RM RS RW RWB ST  \n",
       "Club                                      \n",
       " SSV Jahn Regensburg   0  0  0  0   0  3  \n",
       "1. FC Heidenheim 1846  0  3  0  0   0  2  \n",
       "1. FC Kaiserslautern   0  2  1  0   0  1  \n",
       "\n",
       "[3 rows x 27 columns]"
      ]
     },
     "metadata": {},
     "output_type": "display_data"
    },
    {
     "data": {
      "text/plain": [
       "Index([' SSV Jahn Regensburg', '1. FC Heidenheim 1846',\n",
       "       '1. FC Kaiserslautern'],\n",
       "      dtype='object', name='Club')"
      ]
     },
     "metadata": {},
     "output_type": "display_data"
    },
    {
     "data": {
      "text/plain": [
       "MultiIndex([('Name', 'CAM'),\n",
       "            ('Name',  'CB'),\n",
       "            ('Name', 'CDM')],\n",
       "           names=[None, 'Position'])"
      ]
     },
     "metadata": {},
     "output_type": "display_data"
    },
    {
     "name": "stdout",
     "output_type": "stream",
     "text": [
      "Среднее количество вратарей (GK) по всем клубам: 2.52\n"
     ]
    },
    {
     "data": {
      "text/html": [
       "<div>\n",
       "<style scoped>\n",
       "    .dataframe tbody tr th:only-of-type {\n",
       "        vertical-align: middle;\n",
       "    }\n",
       "\n",
       "    .dataframe tbody tr th {\n",
       "        vertical-align: top;\n",
       "    }\n",
       "\n",
       "    .dataframe thead th {\n",
       "        text-align: right;\n",
       "    }\n",
       "</style>\n",
       "<table border=\"1\" class=\"dataframe\">\n",
       "  <thead>\n",
       "    <tr style=\"text-align: right;\">\n",
       "      <th>Position</th>\n",
       "      <th>CAM</th>\n",
       "      <th>CB</th>\n",
       "      <th>CDM</th>\n",
       "      <th>CF</th>\n",
       "      <th>CM</th>\n",
       "      <th>GK</th>\n",
       "      <th>LAM</th>\n",
       "      <th>LB</th>\n",
       "      <th>LCB</th>\n",
       "      <th>LCM</th>\n",
       "      <th>...</th>\n",
       "      <th>RB</th>\n",
       "      <th>RCB</th>\n",
       "      <th>RCM</th>\n",
       "      <th>RDM</th>\n",
       "      <th>RF</th>\n",
       "      <th>RM</th>\n",
       "      <th>RS</th>\n",
       "      <th>RW</th>\n",
       "      <th>RWB</th>\n",
       "      <th>ST</th>\n",
       "    </tr>\n",
       "    <tr>\n",
       "      <th>Club</th>\n",
       "      <th></th>\n",
       "      <th></th>\n",
       "      <th></th>\n",
       "      <th></th>\n",
       "      <th></th>\n",
       "      <th></th>\n",
       "      <th></th>\n",
       "      <th></th>\n",
       "      <th></th>\n",
       "      <th></th>\n",
       "      <th></th>\n",
       "      <th></th>\n",
       "      <th></th>\n",
       "      <th></th>\n",
       "      <th></th>\n",
       "      <th></th>\n",
       "      <th></th>\n",
       "      <th></th>\n",
       "      <th></th>\n",
       "      <th></th>\n",
       "      <th></th>\n",
       "    </tr>\n",
       "  </thead>\n",
       "  <tbody>\n",
       "    <tr>\n",
       "      <th>SSV Jahn Regensburg</th>\n",
       "      <td>0</td>\n",
       "      <td>5</td>\n",
       "      <td>1</td>\n",
       "      <td>0</td>\n",
       "      <td>2</td>\n",
       "      <td>3</td>\n",
       "      <td>0</td>\n",
       "      <td>2</td>\n",
       "      <td>0</td>\n",
       "      <td>0</td>\n",
       "      <td>...</td>\n",
       "      <td>2</td>\n",
       "      <td>1</td>\n",
       "      <td>0</td>\n",
       "      <td>1</td>\n",
       "      <td>0</td>\n",
       "      <td>0</td>\n",
       "      <td>0</td>\n",
       "      <td>0</td>\n",
       "      <td>0</td>\n",
       "      <td>3</td>\n",
       "    </tr>\n",
       "    <tr>\n",
       "      <th>1. FC Heidenheim 1846</th>\n",
       "      <td>1</td>\n",
       "      <td>3</td>\n",
       "      <td>0</td>\n",
       "      <td>0</td>\n",
       "      <td>1</td>\n",
       "      <td>2</td>\n",
       "      <td>0</td>\n",
       "      <td>2</td>\n",
       "      <td>1</td>\n",
       "      <td>0</td>\n",
       "      <td>...</td>\n",
       "      <td>2</td>\n",
       "      <td>1</td>\n",
       "      <td>0</td>\n",
       "      <td>0</td>\n",
       "      <td>0</td>\n",
       "      <td>3</td>\n",
       "      <td>0</td>\n",
       "      <td>0</td>\n",
       "      <td>0</td>\n",
       "      <td>2</td>\n",
       "    </tr>\n",
       "    <tr>\n",
       "      <th>1. FC Kaiserslautern</th>\n",
       "      <td>0</td>\n",
       "      <td>3</td>\n",
       "      <td>3</td>\n",
       "      <td>0</td>\n",
       "      <td>0</td>\n",
       "      <td>3</td>\n",
       "      <td>0</td>\n",
       "      <td>2</td>\n",
       "      <td>1</td>\n",
       "      <td>0</td>\n",
       "      <td>...</td>\n",
       "      <td>2</td>\n",
       "      <td>0</td>\n",
       "      <td>0</td>\n",
       "      <td>1</td>\n",
       "      <td>0</td>\n",
       "      <td>2</td>\n",
       "      <td>1</td>\n",
       "      <td>0</td>\n",
       "      <td>0</td>\n",
       "      <td>1</td>\n",
       "    </tr>\n",
       "  </tbody>\n",
       "</table>\n",
       "<p>3 rows × 27 columns</p>\n",
       "</div>"
      ],
      "text/plain": [
       "Position               CAM  CB  CDM  CF  CM  GK  LAM  LB  LCB  LCM  ...  RB  \\\n",
       "Club                                                                ...       \n",
       " SSV Jahn Regensburg     0   5    1   0   2   3    0   2    0    0  ...   2   \n",
       "1. FC Heidenheim 1846    1   3    0   0   1   2    0   2    1    0  ...   2   \n",
       "1. FC Kaiserslautern     0   3    3   0   0   3    0   2    1    0  ...   2   \n",
       "\n",
       "Position               RCB  RCM  RDM  RF  RM  RS  RW  RWB  ST  \n",
       "Club                                                           \n",
       " SSV Jahn Regensburg     1    0    1   0   0   0   0    0   3  \n",
       "1. FC Heidenheim 1846    1    0    0   0   3   0   0    0   2  \n",
       "1. FC Kaiserslautern     0    0    1   0   2   1   0    0   1  \n",
       "\n",
       "[3 rows x 27 columns]"
      ]
     },
     "metadata": {},
     "output_type": "display_data"
    },
    {
     "data": {
      "text/plain": [
       "Index([' SSV Jahn Regensburg', '1. FC Heidenheim 1846',\n",
       "       '1. FC Kaiserslautern'],\n",
       "      dtype='object', name='Club')"
      ]
     },
     "metadata": {},
     "output_type": "display_data"
    },
    {
     "data": {
      "text/plain": [
       "Index(['CAM', 'CB', 'CDM'], dtype='object', name='Position')"
      ]
     },
     "metadata": {},
     "output_type": "display_data"
    },
    {
     "name": "stdout",
     "output_type": "stream",
     "text": [
      "Среднее количество вратарей (GK) по всем клубам: 2.52\n"
     ]
    },
    {
     "data": {
      "text/plain": [
       "136"
      ]
     },
     "metadata": {},
     "output_type": "display_data"
    },
    {
     "data": {
      "text/plain": [
       "136"
      ]
     },
     "metadata": {},
     "output_type": "display_data"
    },
    {
     "data": {
      "text/html": [
       "<div>\n",
       "<style scoped>\n",
       "    .dataframe tbody tr th:only-of-type {\n",
       "        vertical-align: middle;\n",
       "    }\n",
       "\n",
       "    .dataframe tbody tr th {\n",
       "        vertical-align: top;\n",
       "    }\n",
       "\n",
       "    .dataframe thead th {\n",
       "        text-align: right;\n",
       "    }\n",
       "</style>\n",
       "<table border=\"1\" class=\"dataframe\">\n",
       "  <thead>\n",
       "    <tr style=\"text-align: right;\">\n",
       "      <th>Nationality</th>\n",
       "      <th>Russia</th>\n",
       "    </tr>\n",
       "    <tr>\n",
       "      <th>Club</th>\n",
       "      <th></th>\n",
       "    </tr>\n",
       "  </thead>\n",
       "  <tbody>\n",
       "    <tr>\n",
       "      <th>AS Monaco</th>\n",
       "      <td>61000</td>\n",
       "    </tr>\n",
       "    <tr>\n",
       "      <th>Cracovia</th>\n",
       "      <td>1000</td>\n",
       "    </tr>\n",
       "    <tr>\n",
       "      <th>Dalkurd FF</th>\n",
       "      <td>1000</td>\n",
       "    </tr>\n",
       "  </tbody>\n",
       "</table>\n",
       "</div>"
      ],
      "text/plain": [
       "Nationality  Russia\n",
       "Club               \n",
       "AS Monaco     61000\n",
       "Cracovia       1000\n",
       "Dalkurd FF     1000"
      ]
     },
     "metadata": {},
     "output_type": "display_data"
    },
    {
     "data": {
      "text/plain": [
       "Nationality\n",
       "Russia    61000\n",
       "Name: AS Monaco, dtype: int64"
      ]
     },
     "metadata": {},
     "output_type": "display_data"
    },
    {
     "data": {
      "text/plain": [
       "122    61000\n",
       "Name: AS Monaco, dtype: int64"
      ]
     },
     "execution_count": 283,
     "metadata": {},
     "output_type": "execute_result"
    }
   ],
   "source": [
    "# Создайте сводную таблицу, содержащую сведения о количестве игроков, занимающих разные позиции в каждом клубе. \n",
    "# Отсутствующие значения замените нулями. Каково среднее количество вратарей (GK) по всем клубам?\n",
    "\n",
    "# Сводная таблица с мультииндексами:\n",
    "pivot_1 = football.pivot_table(index = ['Club'], columns = ['Position'], values = ['Name'], aggfunc = 'count', fill_value = 0)\n",
    "display(pivot_1.head(3))\n",
    "display(pivot_1.index[:3])\n",
    "display(pivot_1.columns[:3])\n",
    "print(f'Среднее количество вратарей (GK) по всем клубам: {round(pivot_1[\"Name\", \"GK\"].mean(), 2)}')\n",
    "\n",
    "\n",
    "# Сводная таблица с привычными индексами:\n",
    "pivot_2 = football.pivot_table(index = 'Club', columns = 'Position', values = 'Name', aggfunc = 'count', fill_value = 0)\n",
    "display(pivot_2.head(3))\n",
    "display(pivot_2.index[:3])\n",
    "display(pivot_2.columns[:3])\n",
    "print(f'Среднее количество вратарей (GK) по всем клубам: {round(pivot_2[\"GK\"].mean(), 2)}')\n",
    "\n",
    "# Используя таблицу, созданную на предыдущем шаге, определите, сколько клубов не содержат данных о центральных полузащитниках \n",
    "# (CM)\n",
    "# pivot_1['Name', 'CM'].value_counts().loc[0]\n",
    "# pivot_1[pivot_1['Name']['CM'] == 0].reset_index().Club.nunique()\n",
    "# pivot_1[pivot_1['Name']['CM'] == 0]['Name']['CM'].count()\n",
    "display(len(pivot_1[pivot_1['Name', 'CM'] == 0]))\n",
    "display(len(pivot_2[pivot_2['CM'] == 0]))\n",
    "\n",
    "# С помощью сводной таблицы посчитайте, сколько получают русские футболисты, играющие за ФК \"AS Monaco\"\n",
    "pivot_3 = football.loc[football['Nationality'].isin(['Russia'])].pivot_table(index = 'Club', columns = 'Nationality', \n",
    "                                                                             values = 'Wage', aggfunc = 'sum') \n",
    "display(pivot_3.head(3))\n",
    "display(pivot_3.loc[\"AS Monaco\"])\n",
    "\n",
    "# ДРУГОЙ ВАРИАНТ РЕШЕНИЯ\n",
    "pivot_4 = football.pivot_table(index = 'Nationality', columns = 'Club', values = 'Wage', \n",
    "                               aggfunc = 'sum', fill_value = 0).reset_index()\n",
    "pivot_4[pivot_4.Nationality == 'Russia'][\"AS Monaco\"]"
   ]
  },
  {
   "cell_type": "code",
   "execution_count": 321,
   "id": "01aad886",
   "metadata": {
    "ExecuteTime": {
     "end_time": "2023-11-07T15:45:29.683090Z",
     "start_time": "2023-11-07T15:45:29.617463Z"
    },
    "scrolled": true
   },
   "outputs": [
    {
     "data": {
      "text/html": [
       "<div>\n",
       "<style scoped>\n",
       "    .dataframe tbody tr th:only-of-type {\n",
       "        vertical-align: middle;\n",
       "    }\n",
       "\n",
       "    .dataframe tbody tr th {\n",
       "        vertical-align: top;\n",
       "    }\n",
       "\n",
       "    .dataframe thead th {\n",
       "        text-align: right;\n",
       "    }\n",
       "</style>\n",
       "<table border=\"1\" class=\"dataframe\">\n",
       "  <thead>\n",
       "    <tr style=\"text-align: right;\">\n",
       "      <th>Position</th>\n",
       "      <th>CAM</th>\n",
       "      <th>CB</th>\n",
       "      <th>CDM</th>\n",
       "      <th>CF</th>\n",
       "      <th>CM</th>\n",
       "      <th>GK</th>\n",
       "      <th>LAM</th>\n",
       "      <th>LB</th>\n",
       "      <th>LCB</th>\n",
       "      <th>LCM</th>\n",
       "      <th>...</th>\n",
       "      <th>RB</th>\n",
       "      <th>RCB</th>\n",
       "      <th>RCM</th>\n",
       "      <th>RDM</th>\n",
       "      <th>RF</th>\n",
       "      <th>RM</th>\n",
       "      <th>RS</th>\n",
       "      <th>RW</th>\n",
       "      <th>RWB</th>\n",
       "      <th>ST</th>\n",
       "    </tr>\n",
       "    <tr>\n",
       "      <th>Club</th>\n",
       "      <th></th>\n",
       "      <th></th>\n",
       "      <th></th>\n",
       "      <th></th>\n",
       "      <th></th>\n",
       "      <th></th>\n",
       "      <th></th>\n",
       "      <th></th>\n",
       "      <th></th>\n",
       "      <th></th>\n",
       "      <th></th>\n",
       "      <th></th>\n",
       "      <th></th>\n",
       "      <th></th>\n",
       "      <th></th>\n",
       "      <th></th>\n",
       "      <th></th>\n",
       "      <th></th>\n",
       "      <th></th>\n",
       "      <th></th>\n",
       "      <th></th>\n",
       "    </tr>\n",
       "  </thead>\n",
       "  <tbody>\n",
       "    <tr>\n",
       "      <th>SSV Jahn Regensburg</th>\n",
       "      <td>NaN</td>\n",
       "      <td>46.600000</td>\n",
       "      <td>82.000000</td>\n",
       "      <td>NaN</td>\n",
       "      <td>61.0</td>\n",
       "      <td>33.000000</td>\n",
       "      <td>NaN</td>\n",
       "      <td>76.0</td>\n",
       "      <td>NaN</td>\n",
       "      <td>NaN</td>\n",
       "      <td>...</td>\n",
       "      <td>68.5</td>\n",
       "      <td>57.0</td>\n",
       "      <td>NaN</td>\n",
       "      <td>65.0</td>\n",
       "      <td>NaN</td>\n",
       "      <td>NaN</td>\n",
       "      <td>NaN</td>\n",
       "      <td>NaN</td>\n",
       "      <td>NaN</td>\n",
       "      <td>61.666667</td>\n",
       "    </tr>\n",
       "    <tr>\n",
       "      <th>1. FC Heidenheim 1846</th>\n",
       "      <td>68.0</td>\n",
       "      <td>61.333333</td>\n",
       "      <td>NaN</td>\n",
       "      <td>NaN</td>\n",
       "      <td>68.0</td>\n",
       "      <td>41.000000</td>\n",
       "      <td>NaN</td>\n",
       "      <td>60.0</td>\n",
       "      <td>55.0</td>\n",
       "      <td>NaN</td>\n",
       "      <td>...</td>\n",
       "      <td>80.5</td>\n",
       "      <td>59.0</td>\n",
       "      <td>NaN</td>\n",
       "      <td>NaN</td>\n",
       "      <td>NaN</td>\n",
       "      <td>78.333333</td>\n",
       "      <td>NaN</td>\n",
       "      <td>NaN</td>\n",
       "      <td>NaN</td>\n",
       "      <td>69.000000</td>\n",
       "    </tr>\n",
       "    <tr>\n",
       "      <th>1. FC Kaiserslautern</th>\n",
       "      <td>NaN</td>\n",
       "      <td>59.000000</td>\n",
       "      <td>65.666667</td>\n",
       "      <td>NaN</td>\n",
       "      <td>NaN</td>\n",
       "      <td>42.666667</td>\n",
       "      <td>NaN</td>\n",
       "      <td>68.0</td>\n",
       "      <td>45.0</td>\n",
       "      <td>NaN</td>\n",
       "      <td>...</td>\n",
       "      <td>71.5</td>\n",
       "      <td>NaN</td>\n",
       "      <td>NaN</td>\n",
       "      <td>55.0</td>\n",
       "      <td>NaN</td>\n",
       "      <td>82.500000</td>\n",
       "      <td>69.0</td>\n",
       "      <td>NaN</td>\n",
       "      <td>NaN</td>\n",
       "      <td>79.000000</td>\n",
       "    </tr>\n",
       "  </tbody>\n",
       "</table>\n",
       "<p>3 rows × 27 columns</p>\n",
       "</div>"
      ],
      "text/plain": [
       "Position                CAM         CB        CDM  CF    CM         GK  LAM  \\\n",
       "Club                                                                          \n",
       " SSV Jahn Regensburg    NaN  46.600000  82.000000 NaN  61.0  33.000000  NaN   \n",
       "1. FC Heidenheim 1846  68.0  61.333333        NaN NaN  68.0  41.000000  NaN   \n",
       "1. FC Kaiserslautern    NaN  59.000000  65.666667 NaN   NaN  42.666667  NaN   \n",
       "\n",
       "Position                 LB   LCB  LCM  ...    RB   RCB  RCM   RDM  RF  \\\n",
       "Club                                    ...                              \n",
       " SSV Jahn Regensburg   76.0   NaN  NaN  ...  68.5  57.0  NaN  65.0 NaN   \n",
       "1. FC Heidenheim 1846  60.0  55.0  NaN  ...  80.5  59.0  NaN   NaN NaN   \n",
       "1. FC Kaiserslautern   68.0  45.0  NaN  ...  71.5   NaN  NaN  55.0 NaN   \n",
       "\n",
       "Position                      RM    RS  RW  RWB         ST  \n",
       "Club                                                        \n",
       " SSV Jahn Regensburg         NaN   NaN NaN  NaN  61.666667  \n",
       "1. FC Heidenheim 1846  78.333333   NaN NaN  NaN  69.000000  \n",
       "1. FC Kaiserslautern   82.500000  69.0 NaN  NaN  79.000000  \n",
       "\n",
       "[3 rows x 27 columns]"
      ]
     },
     "metadata": {},
     "output_type": "display_data"
    },
    {
     "data": {
      "text/plain": [
       "Position\n",
       "LM    94.0\n",
       "RS    94.0\n",
       "RM    94.0\n",
       "dtype: float64"
      ]
     },
     "metadata": {},
     "output_type": "display_data"
    },
    {
     "data": {
      "text/html": [
       "<div>\n",
       "<style scoped>\n",
       "    .dataframe tbody tr th:only-of-type {\n",
       "        vertical-align: middle;\n",
       "    }\n",
       "\n",
       "    .dataframe tbody tr th {\n",
       "        vertical-align: top;\n",
       "    }\n",
       "\n",
       "    .dataframe thead th {\n",
       "        text-align: right;\n",
       "    }\n",
       "</style>\n",
       "<table border=\"1\" class=\"dataframe\">\n",
       "  <thead>\n",
       "    <tr style=\"text-align: right;\">\n",
       "      <th>Position</th>\n",
       "      <th>Club</th>\n",
       "      <th>ST</th>\n",
       "    </tr>\n",
       "  </thead>\n",
       "  <tbody>\n",
       "    <tr>\n",
       "      <th>621</th>\n",
       "      <td>Vitória</td>\n",
       "      <td>91.0</td>\n",
       "    </tr>\n",
       "    <tr>\n",
       "      <th>571</th>\n",
       "      <td>Sydney FC</td>\n",
       "      <td>88.0</td>\n",
       "    </tr>\n",
       "    <tr>\n",
       "      <th>111</th>\n",
       "      <td>CD Lugo</td>\n",
       "      <td>87.0</td>\n",
       "    </tr>\n",
       "  </tbody>\n",
       "</table>\n",
       "</div>"
      ],
      "text/plain": [
       "Position       Club    ST\n",
       "621         Vitória  91.0\n",
       "571       Sydney FC  88.0\n",
       "111         CD Lugo  87.0"
      ]
     },
     "metadata": {},
     "output_type": "display_data"
    }
   ],
   "source": [
    "# Создайте сводную таблицу, содержащую сведения о средней скорости футболистов, \n",
    "# занимающих разные позиции в разных футбольных клубах\n",
    "pivot_5 = football.pivot_table(index = 'Club', columns = 'Position', values = 'SprintSpeed', aggfunc = 'mean')\n",
    "display(pivot_5.head(3))\n",
    "\n",
    "# Основываясь на данных таблицы, выделите три позиции, представители которых обладают самой высокой скоростью\n",
    "# pivot_5.loc[:].max().sort_values(ascending = False).index.tolist()[:3]\n",
    "display(pivot_5.max().sort_values(ascending = False)[:3])\n",
    "\n",
    "# Используя таблицу, созданную на предыдущем шаге, выделите названия трёх клубов, в которых центральные форварды (ST) \n",
    "# обладают наибольшей средней скоростью\n",
    "# pivot_5['ST'].sort_values(ascending = False).index.tolist()[:3]\n",
    "display(pivot_5.reset_index().sort_values(by = 'ST', ascending = False)[['Club', 'ST']][:3])"
   ]
  },
  {
   "cell_type": "markdown",
   "id": "888da511",
   "metadata": {},
   "source": [
    "### ЗАДАНИЕ 2.   \n",
    "### Ответить на вопросы, применив различные способы объединения таблиц  \n",
    "В задании используется датасет с логами рекомендательной системы фильмов. Основой данных будут две таблицы. "
   ]
  },
  {
   "cell_type": "markdown",
   "id": "bbbfdd82",
   "metadata": {},
   "source": [
    "**Таблица ratings —  данные о выставленных оценках фильмов. Содержит признаки:**  \n",
    "- **userId** — идентификатор пользователя, который поставил оценку фильму\n",
    "- **movieId** — идентификатор фильма\n",
    "- **rating** — выставленная оценка\n",
    "- **timestamp** — время (в формате unix time), когда была выставлена оценка"
   ]
  },
  {
   "cell_type": "markdown",
   "id": "5d2dcf2a",
   "metadata": {},
   "source": [
    "**Таблица movies — расшифровка идентификаторов фильмов.Содержит признаки:**  \n",
    "- **movieId** — идентификатор фильма\n",
    "- **title** — название фильма\n",
    "- **genre** — список жанров, к которым относится фильм"
   ]
  },
  {
   "cell_type": "code",
   "execution_count": 324,
   "id": "c961de47",
   "metadata": {
    "ExecuteTime": {
     "end_time": "2023-11-07T15:50:27.786387Z",
     "start_time": "2023-11-07T15:50:27.666702Z"
    }
   },
   "outputs": [
    {
     "data": {
      "text/html": [
       "<div>\n",
       "<style scoped>\n",
       "    .dataframe tbody tr th:only-of-type {\n",
       "        vertical-align: middle;\n",
       "    }\n",
       "\n",
       "    .dataframe tbody tr th {\n",
       "        vertical-align: top;\n",
       "    }\n",
       "\n",
       "    .dataframe thead th {\n",
       "        text-align: right;\n",
       "    }\n",
       "</style>\n",
       "<table border=\"1\" class=\"dataframe\">\n",
       "  <thead>\n",
       "    <tr style=\"text-align: right;\">\n",
       "      <th></th>\n",
       "      <th>userId</th>\n",
       "      <th>movieId</th>\n",
       "      <th>rating</th>\n",
       "      <th>timestamp</th>\n",
       "    </tr>\n",
       "  </thead>\n",
       "  <tbody>\n",
       "    <tr>\n",
       "      <th>0</th>\n",
       "      <td>1</td>\n",
       "      <td>1</td>\n",
       "      <td>4.0</td>\n",
       "      <td>964982703</td>\n",
       "    </tr>\n",
       "    <tr>\n",
       "      <th>1</th>\n",
       "      <td>1</td>\n",
       "      <td>3</td>\n",
       "      <td>4.0</td>\n",
       "      <td>964981247</td>\n",
       "    </tr>\n",
       "    <tr>\n",
       "      <th>2</th>\n",
       "      <td>1</td>\n",
       "      <td>6</td>\n",
       "      <td>4.0</td>\n",
       "      <td>964982224</td>\n",
       "    </tr>\n",
       "  </tbody>\n",
       "</table>\n",
       "</div>"
      ],
      "text/plain": [
       "   userId  movieId  rating  timestamp\n",
       "0       1        1     4.0  964982703\n",
       "1       1        3     4.0  964981247\n",
       "2       1        6     4.0  964982224"
      ]
     },
     "metadata": {},
     "output_type": "display_data"
    },
    {
     "data": {
      "text/html": [
       "<div>\n",
       "<style scoped>\n",
       "    .dataframe tbody tr th:only-of-type {\n",
       "        vertical-align: middle;\n",
       "    }\n",
       "\n",
       "    .dataframe tbody tr th {\n",
       "        vertical-align: top;\n",
       "    }\n",
       "\n",
       "    .dataframe thead th {\n",
       "        text-align: right;\n",
       "    }\n",
       "</style>\n",
       "<table border=\"1\" class=\"dataframe\">\n",
       "  <thead>\n",
       "    <tr style=\"text-align: right;\">\n",
       "      <th></th>\n",
       "      <th>movieId</th>\n",
       "      <th>title</th>\n",
       "      <th>genres</th>\n",
       "    </tr>\n",
       "  </thead>\n",
       "  <tbody>\n",
       "    <tr>\n",
       "      <th>0</th>\n",
       "      <td>1</td>\n",
       "      <td>Toy Story (1995)</td>\n",
       "      <td>Adventure|Animation|Children|Comedy|Fantasy</td>\n",
       "    </tr>\n",
       "    <tr>\n",
       "      <th>1</th>\n",
       "      <td>2</td>\n",
       "      <td>Jumanji (1995)</td>\n",
       "      <td>Adventure|Children|Fantasy</td>\n",
       "    </tr>\n",
       "    <tr>\n",
       "      <th>2</th>\n",
       "      <td>3</td>\n",
       "      <td>Grumpier Old Men (1995)</td>\n",
       "      <td>Comedy|Romance</td>\n",
       "    </tr>\n",
       "  </tbody>\n",
       "</table>\n",
       "</div>"
      ],
      "text/plain": [
       "   movieId                    title  \\\n",
       "0        1         Toy Story (1995)   \n",
       "1        2           Jumanji (1995)   \n",
       "2        3  Grumpier Old Men (1995)   \n",
       "\n",
       "                                        genres  \n",
       "0  Adventure|Animation|Children|Comedy|Fantasy  \n",
       "1                   Adventure|Children|Fantasy  \n",
       "2                               Comedy|Romance  "
      ]
     },
     "metadata": {},
     "output_type": "display_data"
    }
   ],
   "source": [
    "# Загрузим данные и посмотрим на них детальнее\n",
    "ratings = pd.read_csv('ratings.csv')\n",
    "movies = pd.read_csv('movies.csv')\n",
    "\n",
    "display(ratings.head(3))\n",
    "display(movies.head(3))"
   ]
  },
  {
   "cell_type": "code",
   "execution_count": 325,
   "id": "6115ac36",
   "metadata": {
    "ExecuteTime": {
     "end_time": "2023-11-07T15:53:13.740370Z",
     "start_time": "2023-11-07T15:53:13.699456Z"
    },
    "scrolled": true
   },
   "outputs": [
    {
     "name": "stdout",
     "output_type": "stream",
     "text": [
      "<class 'pandas.core.frame.DataFrame'>\n",
      "RangeIndex: 100836 entries, 0 to 100835\n",
      "Data columns (total 4 columns):\n",
      " #   Column     Non-Null Count   Dtype  \n",
      "---  ------     --------------   -----  \n",
      " 0   userId     100836 non-null  int64  \n",
      " 1   movieId    100836 non-null  int64  \n",
      " 2   rating     100836 non-null  float64\n",
      " 3   timestamp  100836 non-null  int64  \n",
      "dtypes: float64(1), int64(3)\n",
      "memory usage: 3.1 MB\n"
     ]
    },
    {
     "data": {
      "text/plain": [
       "None"
      ]
     },
     "metadata": {},
     "output_type": "display_data"
    },
    {
     "name": "stdout",
     "output_type": "stream",
     "text": [
      "<class 'pandas.core.frame.DataFrame'>\n",
      "RangeIndex: 9742 entries, 0 to 9741\n",
      "Data columns (total 3 columns):\n",
      " #   Column   Non-Null Count  Dtype \n",
      "---  ------   --------------  ----- \n",
      " 0   movieId  9742 non-null   int64 \n",
      " 1   title    9742 non-null   object\n",
      " 2   genres   9742 non-null   object\n",
      "dtypes: int64(1), object(2)\n",
      "memory usage: 228.5+ KB\n"
     ]
    },
    {
     "data": {
      "text/plain": [
       "None"
      ]
     },
     "metadata": {},
     "output_type": "display_data"
    }
   ],
   "source": [
    "# Посмотрим на структуру датасетов\n",
    "display(ratings.info())\n",
    "display(movies.info())"
   ]
  },
  {
   "cell_type": "markdown",
   "id": "f74fd70b",
   "metadata": {},
   "source": [
    "### Ответим на ряд вопросов, применив различные способы объединения таблиц"
   ]
  },
  {
   "cell_type": "code",
   "execution_count": 341,
   "id": "160a103e",
   "metadata": {
    "ExecuteTime": {
     "end_time": "2023-11-07T16:16:00.195604Z",
     "start_time": "2023-11-07T16:16:00.130569Z"
    },
    "scrolled": false
   },
   "outputs": [
    {
     "data": {
      "text/html": [
       "<div>\n",
       "<style scoped>\n",
       "    .dataframe tbody tr th:only-of-type {\n",
       "        vertical-align: middle;\n",
       "    }\n",
       "\n",
       "    .dataframe tbody tr th {\n",
       "        vertical-align: top;\n",
       "    }\n",
       "\n",
       "    .dataframe thead th {\n",
       "        text-align: right;\n",
       "    }\n",
       "</style>\n",
       "<table border=\"1\" class=\"dataframe\">\n",
       "  <thead>\n",
       "    <tr style=\"text-align: right;\">\n",
       "      <th></th>\n",
       "      <th>movieId</th>\n",
       "      <th>title</th>\n",
       "      <th>genres</th>\n",
       "      <th>userId</th>\n",
       "      <th>rating</th>\n",
       "      <th>timestamp</th>\n",
       "    </tr>\n",
       "  </thead>\n",
       "  <tbody>\n",
       "    <tr>\n",
       "      <th>0</th>\n",
       "      <td>1</td>\n",
       "      <td>Toy Story (1995)</td>\n",
       "      <td>Adventure|Animation|Children|Comedy|Fantasy</td>\n",
       "      <td>1.0</td>\n",
       "      <td>4.0</td>\n",
       "      <td>9.649827e+08</td>\n",
       "    </tr>\n",
       "    <tr>\n",
       "      <th>1</th>\n",
       "      <td>1</td>\n",
       "      <td>Toy Story (1995)</td>\n",
       "      <td>Adventure|Animation|Children|Comedy|Fantasy</td>\n",
       "      <td>5.0</td>\n",
       "      <td>4.0</td>\n",
       "      <td>8.474350e+08</td>\n",
       "    </tr>\n",
       "    <tr>\n",
       "      <th>2</th>\n",
       "      <td>1</td>\n",
       "      <td>Toy Story (1995)</td>\n",
       "      <td>Adventure|Animation|Children|Comedy|Fantasy</td>\n",
       "      <td>7.0</td>\n",
       "      <td>4.5</td>\n",
       "      <td>1.106636e+09</td>\n",
       "    </tr>\n",
       "  </tbody>\n",
       "</table>\n",
       "</div>"
      ],
      "text/plain": [
       "   movieId             title                                       genres  \\\n",
       "0        1  Toy Story (1995)  Adventure|Animation|Children|Comedy|Fantasy   \n",
       "1        1  Toy Story (1995)  Adventure|Animation|Children|Comedy|Fantasy   \n",
       "2        1  Toy Story (1995)  Adventure|Animation|Children|Comedy|Fantasy   \n",
       "\n",
       "   userId  rating     timestamp  \n",
       "0     1.0     4.0  9.649827e+08  \n",
       "1     5.0     4.0  8.474350e+08  \n",
       "2     7.0     4.5  1.106636e+09  "
      ]
     },
     "metadata": {},
     "output_type": "display_data"
    },
    {
     "data": {
      "text/plain": [
       "54467    Color of Paradise, The (Rang-e khoda) (1999)\n",
       "Name: title, dtype: object"
      ]
     },
     "metadata": {},
     "output_type": "display_data"
    },
    {
     "data": {
      "text/plain": [
       "0.5"
      ]
     },
     "metadata": {},
     "output_type": "display_data"
    },
    {
     "data": {
      "text/plain": [
       "1370"
      ]
     },
     "metadata": {},
     "output_type": "display_data"
    }
   ],
   "source": [
    "# Объедините датафреймы ratings и movies. Какой год выпуска у фильма с movieId=3456?\n",
    "merged_df = movies.merge(ratings, on = 'movieId', how = 'outer')\n",
    "display(merged_df.head(3))\n",
    "display(merged_df[merged_df['movieId'] == 3456]['title'])\n",
    "\n",
    "# Сколько раз была выставлена самая низкая оценка 0.5 в рейтингах?\n",
    "# merged_df[merged_df.rating.isin([merged_df['rating'].min()])].movieId.count()\n",
    "display(merged_df['rating'].min())\n",
    "display(merged_df[merged_df['rating'] == merged_df['rating'].min()]['movieId'].count())"
   ]
  },
  {
   "cell_type": "markdown",
   "id": "4e52e26a",
   "metadata": {},
   "source": [
    "### ЗАДАНИЕ 3.   \n",
    "### Ответить на вопросы, используя данные о  новых поступлениях интернет-магазина.   \n",
    "В словаре items_dict содержится информация о наличии товара на складе. В словаре purchase_log — данные о покупках товаров."
   ]
  },
  {
   "cell_type": "code",
   "execution_count": 348,
   "id": "768593d1",
   "metadata": {
    "ExecuteTime": {
     "end_time": "2023-11-07T16:18:42.961532Z",
     "start_time": "2023-11-07T16:18:42.943534Z"
    },
    "scrolled": false
   },
   "outputs": [
    {
     "name": "stdout",
     "output_type": "stream",
     "text": [
      "{'item_id': [417283, 849734, 132223, 573943, 19475, 3294095, 382043, 302948, 100132, 312394], 'vendor': ['Samsung', 'LG', 'Apple', 'Apple', 'LG', 'Apple', 'Samsung', 'Samsung', 'LG', 'ZTE'], 'stock_count': [54, 33, 122, 18, 102, 43, 77, 143, 60, 19]}\n",
      "\n",
      "{'purchase_id': [101, 101, 101, 112, 121, 145, 145, 145, 145, 221], 'item_id': [417283, 849734, 132223, 573943, 19475, 3294095, 382043, 302948, 103845, 100132], 'price': [13900, 5330, 38200, 49990, 9890, 33000, 67500, 34500, 89900, 11400]}\n"
     ]
    }
   ],
   "source": [
    "items_dict = {'item_id': [417283, 849734, 132223, 573943, 19475, 3294095, 382043, 302948, 100132, 312394], \n",
    "              'vendor': ['Samsung', 'LG', 'Apple', 'Apple', 'LG', 'Apple', 'Samsung', 'Samsung', 'LG', 'ZTE'],\n",
    "              'stock_count': [54, 33, 122, 18, 102, 43, 77, 143, 60, 19]}\n",
    "purchase_log = {'purchase_id': [101, 101, 101, 112, 121, 145, 145, 145, 145, 221],\n",
    "                'item_id': [417283, 849734, 132223, 573943, 19475, 3294095, 382043, 302948, 103845, 100132], \n",
    "                'price': [13900, 5330, 38200, 49990, 9890, 33000, 67500, 34500, 89900, 11400]}\n",
    "print(items_dict)\n",
    "print()\n",
    "print(purchase_log)"
   ]
  },
  {
   "cell_type": "markdown",
   "id": "d728d450",
   "metadata": {},
   "source": [
    "Переведем словари в датафремы и посмотрим на признаки:  \n",
    "- **item_id** — идентификатор модели (по этому столбцу будем объединять датафреймы)\n",
    "- **vendor** — производитель модели\n",
    "- **stock_count** — имеющееся на складе количество данных моделей (в штуках)\n",
    "- **purchase_id** — идентификатор покупки\n",
    "- **price** — стоимость модели в покупке"
   ]
  },
  {
   "cell_type": "code",
   "execution_count": 350,
   "id": "a898d397",
   "metadata": {
    "ExecuteTime": {
     "end_time": "2023-11-07T16:19:34.713300Z",
     "start_time": "2023-11-07T16:19:34.674822Z"
    }
   },
   "outputs": [
    {
     "data": {
      "text/html": [
       "<div>\n",
       "<style scoped>\n",
       "    .dataframe tbody tr th:only-of-type {\n",
       "        vertical-align: middle;\n",
       "    }\n",
       "\n",
       "    .dataframe tbody tr th {\n",
       "        vertical-align: top;\n",
       "    }\n",
       "\n",
       "    .dataframe thead th {\n",
       "        text-align: right;\n",
       "    }\n",
       "</style>\n",
       "<table border=\"1\" class=\"dataframe\">\n",
       "  <thead>\n",
       "    <tr style=\"text-align: right;\">\n",
       "      <th></th>\n",
       "      <th>item_id</th>\n",
       "      <th>vendor</th>\n",
       "      <th>stock_count</th>\n",
       "    </tr>\n",
       "  </thead>\n",
       "  <tbody>\n",
       "    <tr>\n",
       "      <th>0</th>\n",
       "      <td>417283</td>\n",
       "      <td>Samsung</td>\n",
       "      <td>54</td>\n",
       "    </tr>\n",
       "    <tr>\n",
       "      <th>1</th>\n",
       "      <td>849734</td>\n",
       "      <td>LG</td>\n",
       "      <td>33</td>\n",
       "    </tr>\n",
       "    <tr>\n",
       "      <th>2</th>\n",
       "      <td>132223</td>\n",
       "      <td>Apple</td>\n",
       "      <td>122</td>\n",
       "    </tr>\n",
       "    <tr>\n",
       "      <th>3</th>\n",
       "      <td>573943</td>\n",
       "      <td>Apple</td>\n",
       "      <td>18</td>\n",
       "    </tr>\n",
       "    <tr>\n",
       "      <th>4</th>\n",
       "      <td>19475</td>\n",
       "      <td>LG</td>\n",
       "      <td>102</td>\n",
       "    </tr>\n",
       "    <tr>\n",
       "      <th>5</th>\n",
       "      <td>3294095</td>\n",
       "      <td>Apple</td>\n",
       "      <td>43</td>\n",
       "    </tr>\n",
       "    <tr>\n",
       "      <th>6</th>\n",
       "      <td>382043</td>\n",
       "      <td>Samsung</td>\n",
       "      <td>77</td>\n",
       "    </tr>\n",
       "    <tr>\n",
       "      <th>7</th>\n",
       "      <td>302948</td>\n",
       "      <td>Samsung</td>\n",
       "      <td>143</td>\n",
       "    </tr>\n",
       "    <tr>\n",
       "      <th>8</th>\n",
       "      <td>100132</td>\n",
       "      <td>LG</td>\n",
       "      <td>60</td>\n",
       "    </tr>\n",
       "    <tr>\n",
       "      <th>9</th>\n",
       "      <td>312394</td>\n",
       "      <td>ZTE</td>\n",
       "      <td>19</td>\n",
       "    </tr>\n",
       "  </tbody>\n",
       "</table>\n",
       "</div>"
      ],
      "text/plain": [
       "   item_id   vendor  stock_count\n",
       "0   417283  Samsung           54\n",
       "1   849734       LG           33\n",
       "2   132223    Apple          122\n",
       "3   573943    Apple           18\n",
       "4    19475       LG          102\n",
       "5  3294095    Apple           43\n",
       "6   382043  Samsung           77\n",
       "7   302948  Samsung          143\n",
       "8   100132       LG           60\n",
       "9   312394      ZTE           19"
      ]
     },
     "metadata": {},
     "output_type": "display_data"
    },
    {
     "name": "stdout",
     "output_type": "stream",
     "text": [
      "<class 'pandas.core.frame.DataFrame'>\n",
      "RangeIndex: 10 entries, 0 to 9\n",
      "Data columns (total 3 columns):\n",
      " #   Column       Non-Null Count  Dtype \n",
      "---  ------       --------------  ----- \n",
      " 0   item_id      10 non-null     int64 \n",
      " 1   vendor       10 non-null     object\n",
      " 2   stock_count  10 non-null     int64 \n",
      "dtypes: int64(2), object(1)\n",
      "memory usage: 368.0+ bytes\n"
     ]
    },
    {
     "data": {
      "text/plain": [
       "None"
      ]
     },
     "metadata": {},
     "output_type": "display_data"
    }
   ],
   "source": [
    "items = pd.DataFrame(items_dict)\n",
    "purchase = pd.DataFrame(purchase_log)\n",
    "display(items)\n",
    "display(items.info())"
   ]
  },
  {
   "cell_type": "code",
   "execution_count": 351,
   "id": "6b84b8a2",
   "metadata": {
    "ExecuteTime": {
     "end_time": "2023-11-07T16:19:57.186738Z",
     "start_time": "2023-11-07T16:19:57.162478Z"
    },
    "scrolled": true
   },
   "outputs": [
    {
     "data": {
      "text/html": [
       "<div>\n",
       "<style scoped>\n",
       "    .dataframe tbody tr th:only-of-type {\n",
       "        vertical-align: middle;\n",
       "    }\n",
       "\n",
       "    .dataframe tbody tr th {\n",
       "        vertical-align: top;\n",
       "    }\n",
       "\n",
       "    .dataframe thead th {\n",
       "        text-align: right;\n",
       "    }\n",
       "</style>\n",
       "<table border=\"1\" class=\"dataframe\">\n",
       "  <thead>\n",
       "    <tr style=\"text-align: right;\">\n",
       "      <th></th>\n",
       "      <th>purchase_id</th>\n",
       "      <th>item_id</th>\n",
       "      <th>price</th>\n",
       "    </tr>\n",
       "  </thead>\n",
       "  <tbody>\n",
       "    <tr>\n",
       "      <th>0</th>\n",
       "      <td>101</td>\n",
       "      <td>417283</td>\n",
       "      <td>13900</td>\n",
       "    </tr>\n",
       "    <tr>\n",
       "      <th>1</th>\n",
       "      <td>101</td>\n",
       "      <td>849734</td>\n",
       "      <td>5330</td>\n",
       "    </tr>\n",
       "    <tr>\n",
       "      <th>2</th>\n",
       "      <td>101</td>\n",
       "      <td>132223</td>\n",
       "      <td>38200</td>\n",
       "    </tr>\n",
       "    <tr>\n",
       "      <th>3</th>\n",
       "      <td>112</td>\n",
       "      <td>573943</td>\n",
       "      <td>49990</td>\n",
       "    </tr>\n",
       "    <tr>\n",
       "      <th>4</th>\n",
       "      <td>121</td>\n",
       "      <td>19475</td>\n",
       "      <td>9890</td>\n",
       "    </tr>\n",
       "    <tr>\n",
       "      <th>5</th>\n",
       "      <td>145</td>\n",
       "      <td>3294095</td>\n",
       "      <td>33000</td>\n",
       "    </tr>\n",
       "    <tr>\n",
       "      <th>6</th>\n",
       "      <td>145</td>\n",
       "      <td>382043</td>\n",
       "      <td>67500</td>\n",
       "    </tr>\n",
       "    <tr>\n",
       "      <th>7</th>\n",
       "      <td>145</td>\n",
       "      <td>302948</td>\n",
       "      <td>34500</td>\n",
       "    </tr>\n",
       "    <tr>\n",
       "      <th>8</th>\n",
       "      <td>145</td>\n",
       "      <td>103845</td>\n",
       "      <td>89900</td>\n",
       "    </tr>\n",
       "    <tr>\n",
       "      <th>9</th>\n",
       "      <td>221</td>\n",
       "      <td>100132</td>\n",
       "      <td>11400</td>\n",
       "    </tr>\n",
       "  </tbody>\n",
       "</table>\n",
       "</div>"
      ],
      "text/plain": [
       "   purchase_id  item_id  price\n",
       "0          101   417283  13900\n",
       "1          101   849734   5330\n",
       "2          101   132223  38200\n",
       "3          112   573943  49990\n",
       "4          121    19475   9890\n",
       "5          145  3294095  33000\n",
       "6          145   382043  67500\n",
       "7          145   302948  34500\n",
       "8          145   103845  89900\n",
       "9          221   100132  11400"
      ]
     },
     "metadata": {},
     "output_type": "display_data"
    },
    {
     "name": "stdout",
     "output_type": "stream",
     "text": [
      "<class 'pandas.core.frame.DataFrame'>\n",
      "RangeIndex: 10 entries, 0 to 9\n",
      "Data columns (total 3 columns):\n",
      " #   Column       Non-Null Count  Dtype\n",
      "---  ------       --------------  -----\n",
      " 0   purchase_id  10 non-null     int64\n",
      " 1   item_id      10 non-null     int64\n",
      " 2   price        10 non-null     int64\n",
      "dtypes: int64(3)\n",
      "memory usage: 368.0 bytes\n"
     ]
    },
    {
     "data": {
      "text/plain": [
       "None"
      ]
     },
     "metadata": {},
     "output_type": "display_data"
    }
   ],
   "source": [
    "display(purchase)\n",
    "display(purchase.info())"
   ]
  },
  {
   "cell_type": "code",
   "execution_count": 374,
   "id": "b20f6e34",
   "metadata": {
    "ExecuteTime": {
     "end_time": "2023-11-07T16:35:50.359561Z",
     "start_time": "2023-11-07T16:35:50.313928Z"
    },
    "scrolled": true
   },
   "outputs": [
    {
     "data": {
      "text/html": [
       "<div>\n",
       "<style scoped>\n",
       "    .dataframe tbody tr th:only-of-type {\n",
       "        vertical-align: middle;\n",
       "    }\n",
       "\n",
       "    .dataframe tbody tr th {\n",
       "        vertical-align: top;\n",
       "    }\n",
       "\n",
       "    .dataframe thead th {\n",
       "        text-align: right;\n",
       "    }\n",
       "</style>\n",
       "<table border=\"1\" class=\"dataframe\">\n",
       "  <thead>\n",
       "    <tr style=\"text-align: right;\">\n",
       "      <th></th>\n",
       "      <th>item_id</th>\n",
       "      <th>vendor</th>\n",
       "      <th>stock_count</th>\n",
       "      <th>purchase_id</th>\n",
       "      <th>price</th>\n",
       "    </tr>\n",
       "  </thead>\n",
       "  <tbody>\n",
       "    <tr>\n",
       "      <th>0</th>\n",
       "      <td>417283</td>\n",
       "      <td>Samsung</td>\n",
       "      <td>54.0</td>\n",
       "      <td>101.0</td>\n",
       "      <td>13900.0</td>\n",
       "    </tr>\n",
       "    <tr>\n",
       "      <th>1</th>\n",
       "      <td>849734</td>\n",
       "      <td>LG</td>\n",
       "      <td>33.0</td>\n",
       "      <td>101.0</td>\n",
       "      <td>5330.0</td>\n",
       "    </tr>\n",
       "    <tr>\n",
       "      <th>2</th>\n",
       "      <td>132223</td>\n",
       "      <td>Apple</td>\n",
       "      <td>122.0</td>\n",
       "      <td>101.0</td>\n",
       "      <td>38200.0</td>\n",
       "    </tr>\n",
       "  </tbody>\n",
       "</table>\n",
       "</div>"
      ],
      "text/plain": [
       "   item_id   vendor  stock_count  purchase_id    price\n",
       "0   417283  Samsung         54.0        101.0  13900.0\n",
       "1   849734       LG         33.0        101.0   5330.0\n",
       "2   132223    Apple        122.0        101.0  38200.0"
      ]
     },
     "metadata": {},
     "output_type": "display_data"
    },
    {
     "name": "stdout",
     "output_type": "stream",
     "text": [
      "Модель с item_id = 103845 есть в статистике продаж, но не учтена на складе.\n",
      "Кол-во моделей, которые учтены на складе и имели продажи: 9\n"
     ]
    },
    {
     "data": {
      "text/plain": [
       "0      750600.0\n",
       "1      175890.0\n",
       "2     4660400.0\n",
       "3      899820.0\n",
       "4     1008780.0\n",
       "5     1419000.0\n",
       "6     5197500.0\n",
       "7     4933500.0\n",
       "8      684000.0\n",
       "9           NaN\n",
       "10          NaN\n",
       "dtype: float64"
      ]
     },
     "metadata": {},
     "output_type": "display_data"
    },
    {
     "name": "stdout",
     "output_type": "stream",
     "text": [
      "Индекс модели с максимальным значениес выручки после распродажи остатков: 6\n",
      "Идентификатор модели (item_id): 382043\n",
      "Итоговая выручка по всем моделям: 19729490.0\n"
     ]
    }
   ],
   "source": [
    "# Объедините датафреймы. Определите, модель с каким item_id есть в статистике продаж, но не учтена на складе\n",
    "new_df = items.merge(purchase, on = 'item_id', how = 'outer')\n",
    "display(new_df.head(3))\n",
    "# new_df = new_df.fillna(0)\n",
    "# new_df[(new_df['stock_count'] == 0) & (new_df['purchase_id'] != 0)]['item_id']\n",
    "\n",
    "id = new_df[(new_df.stock_count.isna()) & (~new_df.purchase_id.isna())].item_id.iloc[0]\n",
    "print(f'Модель с item_id = {id} есть в статистике продаж, но не учтена на складе.')\n",
    "\n",
    "# Сформируйте датафрейм merged, в котором в результате объединения останутся модели, которые учтены на складе и имели продажи. \n",
    "# Сколько всего таких моделей?\n",
    "merged = items.merge(purchase, on = 'item_id', how = 'inner')\n",
    "print(f'Кол-во моделей, которые учтены на складе и имели продажи: {len(merged)}')\n",
    "\n",
    "# Посчитайте объем выручки для каждой модели, которую можно получить, распродав все остатки на складе. \n",
    "# Модель с каким item_id имеет максимальное значение выручки после распродажи остатков?\n",
    "total_revenue = new_df['stock_count'] * new_df['price']\n",
    "display(total_revenue)\n",
    "max_revenue_ind = total_revenue[total_revenue == total_revenue.max()].index[0]\n",
    "print(f'Индекс модели с максимальным значениес выручки после распродажи остатков: {max_revenue_ind}')\n",
    "print(f'Идентификатор модели (item_id): {new_df[\"item_id\"][max_revenue_ind]}')\n",
    "\n",
    "# Посчитайте итоговую выручку из прошлого задания по всем моделям\n",
    "print(f'Итоговая выручка по всем моделям: {total_revenue.sum()}')"
   ]
  },
  {
   "cell_type": "markdown",
   "id": "36bcf1ad",
   "metadata": {},
   "source": [
    "  "
   ]
  },
  {
   "cell_type": "markdown",
   "id": "127ddc9d",
   "metadata": {},
   "source": [
    "## 3. Выгрузка из вложенных файлов. Объединение выгрузок"
   ]
  },
  {
   "cell_type": "markdown",
   "id": "2165e95d",
   "metadata": {},
   "source": [
    "### ЗАДАНИЕ 1.  \n",
    "### Напишите цикл, который собирает содержимое файлов папки data_22 в единый датафрейм data. Сколько строк в датафрейме data?\n",
    "В папке data_22 содержится набор из 10 файлов формата txt. Это файл ratings.csv, разбитый на 10 частей."
   ]
  },
  {
   "cell_type": "code",
   "execution_count": 386,
   "id": "e3e3ff55",
   "metadata": {
    "ExecuteTime": {
     "end_time": "2023-11-07T16:47:20.392182Z",
     "start_time": "2023-11-07T16:47:20.377263Z"
    }
   },
   "outputs": [
    {
     "data": {
      "text/plain": [
       "['ratings_1.txt',\n",
       " 'ratings_10.txt',\n",
       " 'ratings_2.txt',\n",
       " 'ratings_3.txt',\n",
       " 'ratings_4.txt',\n",
       " 'ratings_5.txt',\n",
       " 'ratings_6.txt',\n",
       " 'ratings_7.txt',\n",
       " 'ratings_8.txt',\n",
       " 'ratings_9.txt']"
      ]
     },
     "execution_count": 386,
     "metadata": {},
     "output_type": "execute_result"
    }
   ],
   "source": [
    "files = os.listdir('data_22')\n",
    "files"
   ]
  },
  {
   "cell_type": "code",
   "execution_count": 377,
   "id": "ec181303",
   "metadata": {
    "ExecuteTime": {
     "end_time": "2023-11-07T16:43:59.597047Z",
     "start_time": "2023-11-07T16:43:59.584382Z"
    }
   },
   "outputs": [
    {
     "name": "stdout",
     "output_type": "stream",
     "text": [
      "data_22 [] ['ratings_1.txt', 'ratings_10.txt', 'ratings_2.txt', 'ratings_3.txt', 'ratings_4.txt', 'ratings_5.txt', 'ratings_6.txt', 'ratings_7.txt', 'ratings_8.txt', 'ratings_9.txt']\n"
     ]
    }
   ],
   "source": [
    "for root, dirs, files in os.walk('data_22'):\n",
    "    print(root, dirs, files)"
   ]
  },
  {
   "cell_type": "code",
   "execution_count": 384,
   "id": "42073c17",
   "metadata": {
    "ExecuteTime": {
     "end_time": "2023-11-07T16:47:08.814258Z",
     "start_time": "2023-11-07T16:47:08.802289Z"
    }
   },
   "outputs": [
    {
     "data": {
      "text/html": [
       "<div>\n",
       "<style scoped>\n",
       "    .dataframe tbody tr th:only-of-type {\n",
       "        vertical-align: middle;\n",
       "    }\n",
       "\n",
       "    .dataframe tbody tr th {\n",
       "        vertical-align: top;\n",
       "    }\n",
       "\n",
       "    .dataframe thead th {\n",
       "        text-align: right;\n",
       "    }\n",
       "</style>\n",
       "<table border=\"1\" class=\"dataframe\">\n",
       "  <thead>\n",
       "    <tr style=\"text-align: right;\">\n",
       "      <th></th>\n",
       "      <th>userId</th>\n",
       "      <th>movieId</th>\n",
       "      <th>rating</th>\n",
       "      <th>timestamp</th>\n",
       "    </tr>\n",
       "  </thead>\n",
       "  <tbody>\n",
       "  </tbody>\n",
       "</table>\n",
       "</div>"
      ],
      "text/plain": [
       "Empty DataFrame\n",
       "Columns: [userId, movieId, rating, timestamp]\n",
       "Index: []"
      ]
     },
     "metadata": {},
     "output_type": "display_data"
    }
   ],
   "source": [
    "data = pd.DataFrame(columns = ['userId','movieId','rating','timestamp'])\n",
    "display(data)"
   ]
  },
  {
   "cell_type": "code",
   "execution_count": 385,
   "id": "8e66cb66",
   "metadata": {
    "ExecuteTime": {
     "end_time": "2023-11-07T16:47:09.376981Z",
     "start_time": "2023-11-07T16:47:09.235203Z"
    },
    "scrolled": true
   },
   "outputs": [
    {
     "name": "stdout",
     "output_type": "stream",
     "text": [
      "ratings_1.txt\n",
      "(9999, 4)\n",
      "ratings_10.txt\n",
      "(20004, 4)\n",
      "ratings_2.txt\n",
      "(30004, 4)\n",
      "ratings_3.txt\n",
      "(40004, 4)\n",
      "ratings_4.txt\n",
      "(50004, 4)\n",
      "ratings_5.txt\n",
      "(60004, 4)\n",
      "ratings_6.txt\n",
      "(70004, 4)\n",
      "ratings_7.txt\n",
      "(80004, 4)\n",
      "ratings_8.txt\n",
      "(90004, 4)\n",
      "ratings_9.txt\n",
      "(100004, 4)\n"
     ]
    },
    {
     "data": {
      "text/plain": [
       "True"
      ]
     },
     "execution_count": 385,
     "metadata": {},
     "output_type": "execute_result"
    }
   ],
   "source": [
    "count_temp = 0\n",
    "for filename in files:\n",
    "    print(filename)\n",
    "    temp = pd.read_csv(os.path.join('data_22', filename), names = ['userId','movieId','rating','timestamp'])\n",
    "    count_temp += temp.shape[0]\n",
    "    \n",
    "    data = pd.concat([data, temp])\n",
    "    print(data.shape)\n",
    "    \n",
    "data.shape[0] == count_temp"
   ]
  },
  {
   "cell_type": "code",
   "execution_count": 388,
   "id": "de5bb934",
   "metadata": {
    "ExecuteTime": {
     "end_time": "2023-11-07T16:48:01.879679Z",
     "start_time": "2023-11-07T16:48:01.792814Z"
    },
    "scrolled": true
   },
   "outputs": [
    {
     "data": {
      "text/html": [
       "<div>\n",
       "<style scoped>\n",
       "    .dataframe tbody tr th:only-of-type {\n",
       "        vertical-align: middle;\n",
       "    }\n",
       "\n",
       "    .dataframe tbody tr th {\n",
       "        vertical-align: top;\n",
       "    }\n",
       "\n",
       "    .dataframe thead th {\n",
       "        text-align: right;\n",
       "    }\n",
       "</style>\n",
       "<table border=\"1\" class=\"dataframe\">\n",
       "  <thead>\n",
       "    <tr style=\"text-align: right;\">\n",
       "      <th></th>\n",
       "      <th>userId</th>\n",
       "      <th>movieId</th>\n",
       "      <th>rating</th>\n",
       "      <th>timestamp</th>\n",
       "    </tr>\n",
       "  </thead>\n",
       "  <tbody>\n",
       "    <tr>\n",
       "      <th>0</th>\n",
       "      <td>1</td>\n",
       "      <td>31</td>\n",
       "      <td>2.5</td>\n",
       "      <td>1260759144</td>\n",
       "    </tr>\n",
       "    <tr>\n",
       "      <th>1</th>\n",
       "      <td>1</td>\n",
       "      <td>1029</td>\n",
       "      <td>3.0</td>\n",
       "      <td>1260759179</td>\n",
       "    </tr>\n",
       "    <tr>\n",
       "      <th>2</th>\n",
       "      <td>1</td>\n",
       "      <td>1061</td>\n",
       "      <td>3.0</td>\n",
       "      <td>1260759182</td>\n",
       "    </tr>\n",
       "    <tr>\n",
       "      <th>3</th>\n",
       "      <td>1</td>\n",
       "      <td>1129</td>\n",
       "      <td>2.0</td>\n",
       "      <td>1260759185</td>\n",
       "    </tr>\n",
       "    <tr>\n",
       "      <th>4</th>\n",
       "      <td>1</td>\n",
       "      <td>1172</td>\n",
       "      <td>4.0</td>\n",
       "      <td>1260759205</td>\n",
       "    </tr>\n",
       "  </tbody>\n",
       "</table>\n",
       "</div>"
      ],
      "text/plain": [
       "  userId movieId  rating   timestamp\n",
       "0      1      31     2.5  1260759144\n",
       "1      1    1029     3.0  1260759179\n",
       "2      1    1061     3.0  1260759182\n",
       "3      1    1129     2.0  1260759185\n",
       "4      1    1172     4.0  1260759205"
      ]
     },
     "metadata": {},
     "output_type": "display_data"
    },
    {
     "name": "stdout",
     "output_type": "stream",
     "text": [
      "(100004, 4)\n",
      "<class 'pandas.core.frame.DataFrame'>\n",
      "Int64Index: 100004 entries, 0 to 9999\n",
      "Data columns (total 4 columns):\n",
      " #   Column     Non-Null Count   Dtype  \n",
      "---  ------     --------------   -----  \n",
      " 0   userId     100004 non-null  object \n",
      " 1   movieId    100004 non-null  object \n",
      " 2   rating     100004 non-null  float64\n",
      " 3   timestamp  100004 non-null  object \n",
      "dtypes: float64(1), object(3)\n",
      "memory usage: 3.8+ MB\n"
     ]
    },
    {
     "data": {
      "text/plain": [
       "None"
      ]
     },
     "metadata": {},
     "output_type": "display_data"
    }
   ],
   "source": [
    "display(data.head())\n",
    "print(data.shape)\n",
    "display(data.info())"
   ]
  },
  {
   "cell_type": "markdown",
   "id": "04308fe1",
   "metadata": {},
   "source": [
    "   "
   ]
  },
  {
   "cell_type": "markdown",
   "id": "37f04112",
   "metadata": {},
   "source": [
    "## 4. Фильтрация данных с помощью функции query и преобразование c apply и lambda-функциями"
   ]
  },
  {
   "cell_type": "markdown",
   "id": "86fae18b",
   "metadata": {},
   "source": [
    "### ЗАДАНИЕ 1.  \n",
    "### Ответить на вопросы, применив query, apply и lambda-функцию\n",
    "В задании используется тренировочный датасет с информацией о профессиональной принадлежности людей."
   ]
  },
  {
   "cell_type": "code",
   "execution_count": 440,
   "id": "7d71d65e",
   "metadata": {
    "ExecuteTime": {
     "end_time": "2023-11-07T17:13:05.453801Z",
     "start_time": "2023-11-07T17:13:05.411787Z"
    },
    "scrolled": true
   },
   "outputs": [
    {
     "data": {
      "text/html": [
       "<div>\n",
       "<style scoped>\n",
       "    .dataframe tbody tr th:only-of-type {\n",
       "        vertical-align: middle;\n",
       "    }\n",
       "\n",
       "    .dataframe tbody tr th {\n",
       "        vertical-align: top;\n",
       "    }\n",
       "\n",
       "    .dataframe thead th {\n",
       "        text-align: right;\n",
       "    }\n",
       "</style>\n",
       "<table border=\"1\" class=\"dataframe\">\n",
       "  <thead>\n",
       "    <tr style=\"text-align: right;\">\n",
       "      <th></th>\n",
       "      <th>Name</th>\n",
       "      <th>City</th>\n",
       "      <th>Age</th>\n",
       "      <th>Profession</th>\n",
       "    </tr>\n",
       "  </thead>\n",
       "  <tbody>\n",
       "    <tr>\n",
       "      <th>0</th>\n",
       "      <td>Иванов</td>\n",
       "      <td>Москва</td>\n",
       "      <td>25</td>\n",
       "      <td>Клинер</td>\n",
       "    </tr>\n",
       "    <tr>\n",
       "      <th>1</th>\n",
       "      <td>NaN</td>\n",
       "      <td>Волгоград</td>\n",
       "      <td>31</td>\n",
       "      <td>Менеджер</td>\n",
       "    </tr>\n",
       "    <tr>\n",
       "      <th>2</th>\n",
       "      <td>Иванов</td>\n",
       "      <td>Москва</td>\n",
       "      <td>25</td>\n",
       "      <td>Клинер</td>\n",
       "    </tr>\n",
       "  </tbody>\n",
       "</table>\n",
       "</div>"
      ],
      "text/plain": [
       "     Name       City  Age Profession\n",
       "0  Иванов     Москва   25     Клинер\n",
       "1     NaN  Волгоград   31   Менеджер\n",
       "2  Иванов     Москва   25     Клинер"
      ]
     },
     "metadata": {},
     "output_type": "display_data"
    },
    {
     "name": "stdout",
     "output_type": "stream",
     "text": [
      "<class 'pandas.core.frame.DataFrame'>\n",
      "RangeIndex: 11 entries, 0 to 10\n",
      "Data columns (total 4 columns):\n",
      " #   Column      Non-Null Count  Dtype \n",
      "---  ------      --------------  ----- \n",
      " 0   Name        10 non-null     object\n",
      " 1   City        10 non-null     object\n",
      " 2   Age         11 non-null     int64 \n",
      " 3   Profession  11 non-null     object\n",
      "dtypes: int64(1), object(3)\n",
      "memory usage: 480.0+ bytes\n"
     ]
    },
    {
     "data": {
      "text/plain": [
       "None"
      ]
     },
     "metadata": {},
     "output_type": "display_data"
    },
    {
     "data": {
      "text/html": [
       "<div>\n",
       "<style scoped>\n",
       "    .dataframe tbody tr th:only-of-type {\n",
       "        vertical-align: middle;\n",
       "    }\n",
       "\n",
       "    .dataframe tbody tr th {\n",
       "        vertical-align: top;\n",
       "    }\n",
       "\n",
       "    .dataframe thead th {\n",
       "        text-align: right;\n",
       "    }\n",
       "</style>\n",
       "<table border=\"1\" class=\"dataframe\">\n",
       "  <thead>\n",
       "    <tr style=\"text-align: right;\">\n",
       "      <th></th>\n",
       "      <th>Name</th>\n",
       "      <th>City</th>\n",
       "      <th>Profession</th>\n",
       "    </tr>\n",
       "  </thead>\n",
       "  <tbody>\n",
       "    <tr>\n",
       "      <th>count</th>\n",
       "      <td>10</td>\n",
       "      <td>10</td>\n",
       "      <td>11</td>\n",
       "    </tr>\n",
       "    <tr>\n",
       "      <th>unique</th>\n",
       "      <td>9</td>\n",
       "      <td>9</td>\n",
       "      <td>4</td>\n",
       "    </tr>\n",
       "    <tr>\n",
       "      <th>top</th>\n",
       "      <td>Иванов</td>\n",
       "      <td>Москва</td>\n",
       "      <td>Рабочий</td>\n",
       "    </tr>\n",
       "    <tr>\n",
       "      <th>freq</th>\n",
       "      <td>2</td>\n",
       "      <td>2</td>\n",
       "      <td>5</td>\n",
       "    </tr>\n",
       "  </tbody>\n",
       "</table>\n",
       "</div>"
      ],
      "text/plain": [
       "          Name    City Profession\n",
       "count       10      10         11\n",
       "unique       9       9          4\n",
       "top     Иванов  Москва    Рабочий\n",
       "freq         2       2          5"
      ]
     },
     "metadata": {},
     "output_type": "display_data"
    },
    {
     "name": "stdout",
     "output_type": "stream",
     "text": [
      "Кол-во пропущенных значений: \n",
      "Name    1\n",
      "City    1\n",
      "dtype: int64\n",
      "\n",
      "Кол-во уникальных значений: \n",
      "Name           9\n",
      "City           9\n",
      "Age           10\n",
      "Profession     4\n",
      "dtype: int64\n"
     ]
    }
   ],
   "source": [
    "# Загрузим данные и посмотрим на них детальнее\n",
    "sample = pd.read_csv('sample.csv')\n",
    "display(sample.head(3))\n",
    "display(sample.info())\n",
    "display(sample.describe(include = ['object']))\n",
    "print(f'Кол-во пропущенных значений: \\n{sample.isna().sum()[sample.isna().sum() > 0]}')\n",
    "print(f'\\nКол-во уникальных значений: \\n{sample.nunique()}')"
   ]
  },
  {
   "cell_type": "markdown",
   "id": "2c10039d",
   "metadata": {},
   "source": [
    "В датасете sample:  \n",
    "- Есть пропущенные значения  \n",
    "- Прочерк вместо фамилии  \n",
    "- Есть фамилии, написанные латиницей"
   ]
  },
  {
   "cell_type": "code",
   "execution_count": 441,
   "id": "7742d7a6",
   "metadata": {
    "ExecuteTime": {
     "end_time": "2023-11-07T17:13:06.118077Z",
     "start_time": "2023-11-07T17:13:06.070176Z"
    },
    "scrolled": true
   },
   "outputs": [
    {
     "data": {
      "text/html": [
       "<div>\n",
       "<style scoped>\n",
       "    .dataframe tbody tr th:only-of-type {\n",
       "        vertical-align: middle;\n",
       "    }\n",
       "\n",
       "    .dataframe tbody tr th {\n",
       "        vertical-align: top;\n",
       "    }\n",
       "\n",
       "    .dataframe thead th {\n",
       "        text-align: right;\n",
       "    }\n",
       "</style>\n",
       "<table border=\"1\" class=\"dataframe\">\n",
       "  <thead>\n",
       "    <tr style=\"text-align: right;\">\n",
       "      <th></th>\n",
       "      <th>name</th>\n",
       "      <th>city</th>\n",
       "      <th>age</th>\n",
       "      <th>profession</th>\n",
       "    </tr>\n",
       "  </thead>\n",
       "  <tbody>\n",
       "    <tr>\n",
       "      <th>5</th>\n",
       "      <td>Кузнецов</td>\n",
       "      <td>Сочи</td>\n",
       "      <td>19</td>\n",
       "      <td>Рабочий</td>\n",
       "    </tr>\n",
       "    <tr>\n",
       "      <th>7</th>\n",
       "      <td>Котлеревский</td>\n",
       "      <td>Йошкар-Ола</td>\n",
       "      <td>32</td>\n",
       "      <td>Рабочий</td>\n",
       "    </tr>\n",
       "  </tbody>\n",
       "</table>\n",
       "</div>"
      ],
      "text/plain": [
       "           name        city  age profession\n",
       "5      Кузнецов        Сочи   19    Рабочий\n",
       "7  Котлеревский  Йошкар-Ола   32    Рабочий"
      ]
     },
     "metadata": {},
     "output_type": "display_data"
    },
    {
     "data": {
      "text/html": [
       "<div>\n",
       "<style scoped>\n",
       "    .dataframe tbody tr th:only-of-type {\n",
       "        vertical-align: middle;\n",
       "    }\n",
       "\n",
       "    .dataframe tbody tr th {\n",
       "        vertical-align: top;\n",
       "    }\n",
       "\n",
       "    .dataframe thead th {\n",
       "        text-align: right;\n",
       "    }\n",
       "</style>\n",
       "<table border=\"1\" class=\"dataframe\">\n",
       "  <thead>\n",
       "    <tr style=\"text-align: right;\">\n",
       "      <th></th>\n",
       "      <th>name</th>\n",
       "      <th>city</th>\n",
       "      <th>age</th>\n",
       "      <th>profession</th>\n",
       "    </tr>\n",
       "  </thead>\n",
       "  <tbody>\n",
       "    <tr>\n",
       "      <th>0</th>\n",
       "      <td>Иванов</td>\n",
       "      <td>москва</td>\n",
       "      <td>25</td>\n",
       "      <td>2</td>\n",
       "    </tr>\n",
       "    <tr>\n",
       "      <th>1</th>\n",
       "      <td>NaN</td>\n",
       "      <td>волгоград</td>\n",
       "      <td>31</td>\n",
       "      <td>1</td>\n",
       "    </tr>\n",
       "    <tr>\n",
       "      <th>2</th>\n",
       "      <td>Иванов</td>\n",
       "      <td>москва</td>\n",
       "      <td>25</td>\n",
       "      <td>2</td>\n",
       "    </tr>\n",
       "  </tbody>\n",
       "</table>\n",
       "</div>"
      ],
      "text/plain": [
       "     name       city  age  profession\n",
       "0  Иванов     москва   25           2\n",
       "1     NaN  волгоград   31           1\n",
       "2  Иванов     москва   25           2"
      ]
     },
     "metadata": {},
     "output_type": "display_data"
    },
    {
     "data": {
      "text/html": [
       "<div>\n",
       "<style scoped>\n",
       "    .dataframe tbody tr th:only-of-type {\n",
       "        vertical-align: middle;\n",
       "    }\n",
       "\n",
       "    .dataframe tbody tr th {\n",
       "        vertical-align: top;\n",
       "    }\n",
       "\n",
       "    .dataframe thead th {\n",
       "        text-align: right;\n",
       "    }\n",
       "</style>\n",
       "<table border=\"1\" class=\"dataframe\">\n",
       "  <thead>\n",
       "    <tr style=\"text-align: right;\">\n",
       "      <th></th>\n",
       "      <th>name</th>\n",
       "      <th>city</th>\n",
       "      <th>age</th>\n",
       "      <th>profession</th>\n",
       "      <th>age_category</th>\n",
       "    </tr>\n",
       "  </thead>\n",
       "  <tbody>\n",
       "    <tr>\n",
       "      <th>0</th>\n",
       "      <td>Иванов</td>\n",
       "      <td>москва</td>\n",
       "      <td>25</td>\n",
       "      <td>2</td>\n",
       "      <td>средний</td>\n",
       "    </tr>\n",
       "    <tr>\n",
       "      <th>1</th>\n",
       "      <td>NaN</td>\n",
       "      <td>волгоград</td>\n",
       "      <td>31</td>\n",
       "      <td>1</td>\n",
       "      <td>средний</td>\n",
       "    </tr>\n",
       "    <tr>\n",
       "      <th>2</th>\n",
       "      <td>Иванов</td>\n",
       "      <td>москва</td>\n",
       "      <td>25</td>\n",
       "      <td>2</td>\n",
       "      <td>средний</td>\n",
       "    </tr>\n",
       "  </tbody>\n",
       "</table>\n",
       "</div>"
      ],
      "text/plain": [
       "     name       city  age  profession age_category\n",
       "0  Иванов     москва   25           2      средний\n",
       "1     NaN  волгоград   31           1      средний\n",
       "2  Иванов     москва   25           2      средний"
      ]
     },
     "metadata": {},
     "output_type": "display_data"
    }
   ],
   "source": [
    "# Приведите названия колонок к нижнему регистру для удобства обращения\n",
    "sample.columns = sample.columns.str.lower()\n",
    "\n",
    "# Выведите информацию о людях в возрасте меньше 30 лет\n",
    "# sample[sample['age'] < 30]\n",
    "sample.query('age < 30')\n",
    "\n",
    "# Выведите информацию о людях, проживающих в городах: Сочи, Рига\n",
    "# sample.query('city in [\"Рига\", \"Сочи\"]')\n",
    "sample[(sample.city.str.contains('Со', na = False)) | (sample.city.str.contains('Ри', na = False))]\n",
    "\n",
    "# Найдите всех людей, фамилии которых начинаются на букву \"К\"\n",
    "# sample.query('name.str.contains(\"К\", na = False)')\n",
    "k_surnames = sample[sample['name'].str.match('К', na = False)]\n",
    "display(k_surnames)\n",
    "\n",
    "# Найдите всех людей, фамилии которых начинаются на буквы, отличные от \"К\"\n",
    "# sample.query('~ name.str.contains(\"K\", na = False)')\n",
    "sample[~ sample['name'].str.match('К', na = False)]\n",
    "\n",
    "# Найдите записи, где в городах есть / нет буквы «о»\n",
    "# sample.query('city.str.contains(\"о\", na = False)')\n",
    "sample[sample.city.str.contains('о', na = False)]\n",
    "sample[~ sample.city.str.contains('о', na = False)]\n",
    "\n",
    "# Замените все буквы в поле City на маленькие\n",
    "sample.city = sample.city.apply(lambda x: x.lower() if not pd.isna(x) else np.nan)\n",
    "\n",
    "# Напишите функцию profession_code, которая на вход получает строку, а на выход возвращает:\n",
    "# 0 — если на вход поступила строка \"Рабочий\", 1 — если на вход поступила строка \"Менеджер\", 2 — в любом другом случае\n",
    "# Замените поле profession\n",
    "def profession_code(x):\n",
    "    return 0 if x == \"Рабочий\" else 1 if x == \"Менеджер\" else 2\n",
    "\n",
    "sample['profession'] = sample['profession'].apply(profession_code)\n",
    "display(sample.head(3))\n",
    "\n",
    "# Напишите функцию age_category, которая на вход получает число, а возвращает:\n",
    "# \"молодой\" — если возраст меньше 23, \"средний\" — если возраст от 23 до 35, \"зрелый\" — если возраст больше 35\n",
    "# Cоздайте новую колонку в sample под названием 'age_category'\n",
    "def age_category(x):\n",
    "    return \"молодой\" if x < 23 else \"средний\" if 23 <= x <= 35 else \"зрелый\"\n",
    "sample['age_category'] = sample.age.apply(age_category)\n",
    "display(sample.head(3))"
   ]
  },
  {
   "cell_type": "markdown",
   "id": "f0c2221a",
   "metadata": {},
   "source": [
    "   "
   ]
  },
  {
   "cell_type": "markdown",
   "id": "8fa02eda",
   "metadata": {},
   "source": [
    "## 5. Начальная обработка и извлечение полезной информации из датасета"
   ]
  },
  {
   "cell_type": "markdown",
   "id": "53fe0e80",
   "metadata": {},
   "source": [
    "### ЗАДАНИЕ 1.  \n",
    "### Ответить на вопросы, провести некоторые этапы предобработки данных\n",
    "В задании используется два датасета c информацией о посещении букмекерской конторы  "
   ]
  },
  {
   "cell_type": "markdown",
   "id": "9471f2f0",
   "metadata": {},
   "source": [
    "**1. Таблица 'log.csv' содержит следующие столбцы:**  \n",
    "  - Идентификатор пользователя  \n",
    "  - Время посещения  \n",
    "  - Дата посещения  \n",
    "  - Размер ставки  \n",
    "  - Размер выигрыша  \n",
    "\n",
    "**2. Таблица 'users.csv' содердит следующие столбцы:**\n",
    "  - Идентификатор пользователя\n",
    "  - Адрес электронной почты\n",
    "  - Город"
   ]
  },
  {
   "cell_type": "markdown",
   "id": "c90ee254",
   "metadata": {},
   "source": [
    "**Проведем начальную предобработку данных и ответим на ряд вопросов:**  \n",
    "- Сколько раз клиенту нужно прийти в букмекерскую контору, чтобы сделать ставку?  \n",
    "- Каков средний выигрыш в процентах?  \n",
    "- Каков баланс по каждому пользователю?  \n",
    "- Какие города самые выгодные?  \n",
    "- В каких городах самая высокая ставка?  \n",
    "- Сколько времени проходит от первого посещения клиентом сайта до первой ставки?"
   ]
  },
  {
   "cell_type": "code",
   "execution_count": 567,
   "id": "f860e598",
   "metadata": {
    "ExecuteTime": {
     "end_time": "2023-11-07T19:24:34.170612Z",
     "start_time": "2023-11-07T19:24:34.134683Z"
    }
   },
   "outputs": [
    {
     "data": {
      "text/html": [
       "<div>\n",
       "<style scoped>\n",
       "    .dataframe tbody tr th:only-of-type {\n",
       "        vertical-align: middle;\n",
       "    }\n",
       "\n",
       "    .dataframe tbody tr th {\n",
       "        vertical-align: top;\n",
       "    }\n",
       "\n",
       "    .dataframe thead th {\n",
       "        text-align: right;\n",
       "    }\n",
       "</style>\n",
       "<table border=\"1\" class=\"dataframe\">\n",
       "  <thead>\n",
       "    <tr style=\"text-align: right;\">\n",
       "      <th></th>\n",
       "      <th>0</th>\n",
       "      <th>1</th>\n",
       "      <th>2</th>\n",
       "      <th>3</th>\n",
       "    </tr>\n",
       "  </thead>\n",
       "  <tbody>\n",
       "    <tr>\n",
       "      <th>0</th>\n",
       "      <td>Запись пользователя № - user_919</td>\n",
       "      <td>[2019-01-01 14:06:51</td>\n",
       "      <td>NaN</td>\n",
       "      <td>NaN</td>\n",
       "    </tr>\n",
       "    <tr>\n",
       "      <th>1</th>\n",
       "      <td>Запись пользователя № - user_973</td>\n",
       "      <td>[2019-01-01 14:51:16</td>\n",
       "      <td>NaN</td>\n",
       "      <td>NaN</td>\n",
       "    </tr>\n",
       "    <tr>\n",
       "      <th>2</th>\n",
       "      <td>Запись пользователя № - user_903</td>\n",
       "      <td>[2019-01-01 16:31:16</td>\n",
       "      <td>NaN</td>\n",
       "      <td>NaN</td>\n",
       "    </tr>\n",
       "  </tbody>\n",
       "</table>\n",
       "</div>"
      ],
      "text/plain": [
       "                                  0                     1   2   3\n",
       "0  Запись пользователя № - user_919  [2019-01-01 14:06:51 NaN NaN\n",
       "1  Запись пользователя № - user_973  [2019-01-01 14:51:16 NaN NaN\n",
       "2  Запись пользователя № - user_903  [2019-01-01 16:31:16 NaN NaN"
      ]
     },
     "metadata": {},
     "output_type": "display_data"
    },
    {
     "data": {
      "text/html": [
       "<div>\n",
       "<style scoped>\n",
       "    .dataframe tbody tr th:only-of-type {\n",
       "        vertical-align: middle;\n",
       "    }\n",
       "\n",
       "    .dataframe tbody tr th {\n",
       "        vertical-align: top;\n",
       "    }\n",
       "\n",
       "    .dataframe thead th {\n",
       "        text-align: right;\n",
       "    }\n",
       "</style>\n",
       "<table border=\"1\" class=\"dataframe\">\n",
       "  <thead>\n",
       "    <tr style=\"text-align: right;\">\n",
       "      <th></th>\n",
       "      <th>Юзверь</th>\n",
       "      <th>мейл</th>\n",
       "      <th>Гео</th>\n",
       "    </tr>\n",
       "  </thead>\n",
       "  <tbody>\n",
       "    <tr>\n",
       "      <th>0</th>\n",
       "      <td>User_943</td>\n",
       "      <td>Accumanst@gmail.com</td>\n",
       "      <td>Ижевск</td>\n",
       "    </tr>\n",
       "    <tr>\n",
       "      <th>1</th>\n",
       "      <td>User_908</td>\n",
       "      <td>Advismowr@mail.ru</td>\n",
       "      <td>Ижевск</td>\n",
       "    </tr>\n",
       "    <tr>\n",
       "      <th>2</th>\n",
       "      <td>User_962</td>\n",
       "      <td>Anachso@ukr.net</td>\n",
       "      <td>Краснодар</td>\n",
       "    </tr>\n",
       "  </tbody>\n",
       "</table>\n",
       "</div>"
      ],
      "text/plain": [
       "     Юзверь                 мейл        Гео\n",
       "0  User_943  Accumanst@gmail.com     Ижевск\n",
       "1  User_908    Advismowr@mail.ru     Ижевск\n",
       "2  User_962      Anachso@ukr.net  Краснодар"
      ]
     },
     "metadata": {},
     "output_type": "display_data"
    }
   ],
   "source": [
    "# Загрузить данные, используя дополнительные параметры \n",
    "logs = pd.read_csv('log.csv', header = None)\n",
    "users = pd.read_csv('users.csv', encoding = 'KOI8-R', sep = '\\t')\n",
    "display(logs.head(3))\n",
    "display(users.head(3))"
   ]
  },
  {
   "cell_type": "code",
   "execution_count": 568,
   "id": "5e49c81e",
   "metadata": {
    "ExecuteTime": {
     "end_time": "2023-11-07T19:24:34.724359Z",
     "start_time": "2023-11-07T19:24:34.652617Z"
    }
   },
   "outputs": [
    {
     "data": {
      "text/html": [
       "<div>\n",
       "<style scoped>\n",
       "    .dataframe tbody tr th:only-of-type {\n",
       "        vertical-align: middle;\n",
       "    }\n",
       "\n",
       "    .dataframe tbody tr th {\n",
       "        vertical-align: top;\n",
       "    }\n",
       "\n",
       "    .dataframe thead th {\n",
       "        text-align: right;\n",
       "    }\n",
       "</style>\n",
       "<table border=\"1\" class=\"dataframe\">\n",
       "  <thead>\n",
       "    <tr style=\"text-align: right;\">\n",
       "      <th></th>\n",
       "      <th>user_id</th>\n",
       "      <th>time</th>\n",
       "      <th>bet</th>\n",
       "      <th>win</th>\n",
       "    </tr>\n",
       "  </thead>\n",
       "  <tbody>\n",
       "    <tr>\n",
       "      <th>0</th>\n",
       "      <td>Запись пользователя № - user_919</td>\n",
       "      <td>[2019-01-01 14:06:51</td>\n",
       "      <td>NaN</td>\n",
       "      <td>NaN</td>\n",
       "    </tr>\n",
       "    <tr>\n",
       "      <th>1</th>\n",
       "      <td>Запись пользователя № - user_973</td>\n",
       "      <td>[2019-01-01 14:51:16</td>\n",
       "      <td>NaN</td>\n",
       "      <td>NaN</td>\n",
       "    </tr>\n",
       "    <tr>\n",
       "      <th>2</th>\n",
       "      <td>Запись пользователя № - user_903</td>\n",
       "      <td>[2019-01-01 16:31:16</td>\n",
       "      <td>NaN</td>\n",
       "      <td>NaN</td>\n",
       "    </tr>\n",
       "    <tr>\n",
       "      <th>3</th>\n",
       "      <td>Запись пользователя № - user_954</td>\n",
       "      <td>[2019-01-01 17:17:51</td>\n",
       "      <td>NaN</td>\n",
       "      <td>NaN</td>\n",
       "    </tr>\n",
       "    <tr>\n",
       "      <th>4</th>\n",
       "      <td>Запись пользователя № - user_954</td>\n",
       "      <td>[2019-01-01 21:31:18</td>\n",
       "      <td>NaN</td>\n",
       "      <td>NaN</td>\n",
       "    </tr>\n",
       "    <tr>\n",
       "      <th>...</th>\n",
       "      <td>...</td>\n",
       "      <td>...</td>\n",
       "      <td>...</td>\n",
       "      <td>...</td>\n",
       "    </tr>\n",
       "    <tr>\n",
       "      <th>995</th>\n",
       "      <td>Запись пользователя № - user_984</td>\n",
       "      <td>[2019-04-20 9:59:58</td>\n",
       "      <td>9754.0</td>\n",
       "      <td>NaN</td>\n",
       "    </tr>\n",
       "    <tr>\n",
       "      <th>996</th>\n",
       "      <td>#error</td>\n",
       "      <td>NaN</td>\n",
       "      <td>10054.0</td>\n",
       "      <td>29265.0</td>\n",
       "    </tr>\n",
       "    <tr>\n",
       "      <th>997</th>\n",
       "      <td>#error</td>\n",
       "      <td>NaN</td>\n",
       "      <td>10454.0</td>\n",
       "      <td>NaN</td>\n",
       "    </tr>\n",
       "    <tr>\n",
       "      <th>998</th>\n",
       "      <td>#error</td>\n",
       "      <td>NaN</td>\n",
       "      <td>1000.0</td>\n",
       "      <td>NaN</td>\n",
       "    </tr>\n",
       "    <tr>\n",
       "      <th>999</th>\n",
       "      <td>#error</td>\n",
       "      <td>NaN</td>\n",
       "      <td>10754.0</td>\n",
       "      <td>NaN</td>\n",
       "    </tr>\n",
       "  </tbody>\n",
       "</table>\n",
       "<p>1000 rows × 4 columns</p>\n",
       "</div>"
      ],
      "text/plain": [
       "                              user_id                  time      bet      win\n",
       "0    Запись пользователя № - user_919  [2019-01-01 14:06:51      NaN      NaN\n",
       "1    Запись пользователя № - user_973  [2019-01-01 14:51:16      NaN      NaN\n",
       "2    Запись пользователя № - user_903  [2019-01-01 16:31:16      NaN      NaN\n",
       "3    Запись пользователя № - user_954  [2019-01-01 17:17:51      NaN      NaN\n",
       "4    Запись пользователя № - user_954  [2019-01-01 21:31:18      NaN      NaN\n",
       "..                                ...                   ...      ...      ...\n",
       "995  Запись пользователя № - user_984   [2019-04-20 9:59:58   9754.0      NaN\n",
       "996                            #error                   NaN  10054.0  29265.0\n",
       "997                            #error                   NaN  10454.0      NaN\n",
       "998                            #error                   NaN   1000.0      NaN\n",
       "999                            #error                   NaN  10754.0      NaN\n",
       "\n",
       "[1000 rows x 4 columns]"
      ]
     },
     "metadata": {},
     "output_type": "display_data"
    },
    {
     "name": "stdout",
     "output_type": "stream",
     "text": [
      "<class 'pandas.core.frame.DataFrame'>\n",
      "RangeIndex: 1000 entries, 0 to 999\n",
      "Data columns (total 4 columns):\n",
      " #   Column   Non-Null Count  Dtype  \n",
      "---  ------   --------------  -----  \n",
      " 0   user_id  1000 non-null   object \n",
      " 1   time     985 non-null    object \n",
      " 2   bet      485 non-null    float64\n",
      " 3   win      138 non-null    float64\n",
      "dtypes: float64(2), object(2)\n",
      "memory usage: 31.4+ KB\n"
     ]
    },
    {
     "data": {
      "text/plain": [
       "None"
      ]
     },
     "metadata": {},
     "output_type": "display_data"
    },
    {
     "name": "stdout",
     "output_type": "stream",
     "text": [
      "\n",
      "Размер датасета: (1000, 4)\n",
      "\n",
      "Статистическая информация:\n"
     ]
    },
    {
     "data": {
      "text/html": [
       "<div>\n",
       "<style scoped>\n",
       "    .dataframe tbody tr th:only-of-type {\n",
       "        vertical-align: middle;\n",
       "    }\n",
       "\n",
       "    .dataframe tbody tr th {\n",
       "        vertical-align: top;\n",
       "    }\n",
       "\n",
       "    .dataframe thead th {\n",
       "        text-align: right;\n",
       "    }\n",
       "</style>\n",
       "<table border=\"1\" class=\"dataframe\">\n",
       "  <thead>\n",
       "    <tr style=\"text-align: right;\">\n",
       "      <th></th>\n",
       "      <th>bet</th>\n",
       "      <th>win</th>\n",
       "    </tr>\n",
       "  </thead>\n",
       "  <tbody>\n",
       "    <tr>\n",
       "      <th>count</th>\n",
       "      <td>4.850000e+02</td>\n",
       "      <td>1.380000e+02</td>\n",
       "    </tr>\n",
       "    <tr>\n",
       "      <th>mean</th>\n",
       "      <td>6.785738e+03</td>\n",
       "      <td>9.562102e+04</td>\n",
       "    </tr>\n",
       "    <tr>\n",
       "      <th>std</th>\n",
       "      <td>7.720292e+04</td>\n",
       "      <td>8.554669e+05</td>\n",
       "    </tr>\n",
       "    <tr>\n",
       "      <th>min</th>\n",
       "      <td>1.000000e+02</td>\n",
       "      <td>3.691000e+03</td>\n",
       "    </tr>\n",
       "    <tr>\n",
       "      <th>25%</th>\n",
       "      <td>3.000000e+02</td>\n",
       "      <td>5.096250e+03</td>\n",
       "    </tr>\n",
       "    <tr>\n",
       "      <th>50%</th>\n",
       "      <td>6.000000e+02</td>\n",
       "      <td>5.935000e+03</td>\n",
       "    </tr>\n",
       "    <tr>\n",
       "      <th>75%</th>\n",
       "      <td>9.000000e+02</td>\n",
       "      <td>6.978750e+03</td>\n",
       "    </tr>\n",
       "    <tr>\n",
       "      <th>max</th>\n",
       "      <td>1.678321e+06</td>\n",
       "      <td>9.876543e+06</td>\n",
       "    </tr>\n",
       "  </tbody>\n",
       "</table>\n",
       "</div>"
      ],
      "text/plain": [
       "                bet           win\n",
       "count  4.850000e+02  1.380000e+02\n",
       "mean   6.785738e+03  9.562102e+04\n",
       "std    7.720292e+04  8.554669e+05\n",
       "min    1.000000e+02  3.691000e+03\n",
       "25%    3.000000e+02  5.096250e+03\n",
       "50%    6.000000e+02  5.935000e+03\n",
       "75%    9.000000e+02  6.978750e+03\n",
       "max    1.678321e+06  9.876543e+06"
      ]
     },
     "metadata": {},
     "output_type": "display_data"
    },
    {
     "data": {
      "text/html": [
       "<div>\n",
       "<style scoped>\n",
       "    .dataframe tbody tr th:only-of-type {\n",
       "        vertical-align: middle;\n",
       "    }\n",
       "\n",
       "    .dataframe tbody tr th {\n",
       "        vertical-align: top;\n",
       "    }\n",
       "\n",
       "    .dataframe thead th {\n",
       "        text-align: right;\n",
       "    }\n",
       "</style>\n",
       "<table border=\"1\" class=\"dataframe\">\n",
       "  <thead>\n",
       "    <tr style=\"text-align: right;\">\n",
       "      <th></th>\n",
       "      <th>user_id</th>\n",
       "      <th>time</th>\n",
       "    </tr>\n",
       "  </thead>\n",
       "  <tbody>\n",
       "    <tr>\n",
       "      <th>count</th>\n",
       "      <td>1000</td>\n",
       "      <td>985</td>\n",
       "    </tr>\n",
       "    <tr>\n",
       "      <th>unique</th>\n",
       "      <td>102</td>\n",
       "      <td>984</td>\n",
       "    </tr>\n",
       "    <tr>\n",
       "      <th>top</th>\n",
       "      <td>Запись пользователя № - user_966</td>\n",
       "      <td>[2019-03-04 21:03:54</td>\n",
       "    </tr>\n",
       "    <tr>\n",
       "      <th>freq</th>\n",
       "      <td>18</td>\n",
       "      <td>2</td>\n",
       "    </tr>\n",
       "  </tbody>\n",
       "</table>\n",
       "</div>"
      ],
      "text/plain": [
       "                                 user_id                  time\n",
       "count                               1000                   985\n",
       "unique                               102                   984\n",
       "top     Запись пользователя № - user_966  [2019-03-04 21:03:54\n",
       "freq                                  18                     2"
      ]
     },
     "metadata": {},
     "output_type": "display_data"
    },
    {
     "name": "stdout",
     "output_type": "stream",
     "text": [
      "\n",
      "Количество пропущенных значений:\n",
      "user_id      0\n",
      "time        15\n",
      "bet        515\n",
      "win        862\n",
      "dtype: int64\n",
      "\n",
      "Количество уникальных значений:\n",
      "user_id    102\n",
      "time       984\n",
      "bet         36\n",
      "win        136\n",
      "dtype: int64\n"
     ]
    }
   ],
   "source": [
    "# Переименуем колонки и посмотрим детальнее на данные\n",
    "logs.columns = ['user_id', 'time', 'bet', 'win']\n",
    "users.columns = ['user_id', 'email', 'geo']\n",
    "\n",
    "display(logs)\n",
    "display(logs.info())\n",
    "print(f'\\nРазмер датасета: {logs.shape}')\n",
    "print('\\nСтатистическая информация:')\n",
    "display(logs.describe())\n",
    "display(logs.describe(include = 'object'))\n",
    "print(f'\\nКоличество пропущенных значений:\\n{logs.isna().sum()}')\n",
    "print(f'\\nКоличество уникальных значений:\\n{logs.nunique()}')"
   ]
  },
  {
   "cell_type": "code",
   "execution_count": 569,
   "id": "dfef9fe8",
   "metadata": {
    "ExecuteTime": {
     "end_time": "2023-11-07T19:24:35.513705Z",
     "start_time": "2023-11-07T19:24:35.465883Z"
    },
    "scrolled": true
   },
   "outputs": [
    {
     "data": {
      "text/html": [
       "<div>\n",
       "<style scoped>\n",
       "    .dataframe tbody tr th:only-of-type {\n",
       "        vertical-align: middle;\n",
       "    }\n",
       "\n",
       "    .dataframe tbody tr th {\n",
       "        vertical-align: top;\n",
       "    }\n",
       "\n",
       "    .dataframe thead th {\n",
       "        text-align: right;\n",
       "    }\n",
       "</style>\n",
       "<table border=\"1\" class=\"dataframe\">\n",
       "  <thead>\n",
       "    <tr style=\"text-align: right;\">\n",
       "      <th></th>\n",
       "      <th>user_id</th>\n",
       "      <th>email</th>\n",
       "      <th>geo</th>\n",
       "    </tr>\n",
       "  </thead>\n",
       "  <tbody>\n",
       "    <tr>\n",
       "      <th>0</th>\n",
       "      <td>User_943</td>\n",
       "      <td>Accumanst@gmail.com</td>\n",
       "      <td>Ижевск</td>\n",
       "    </tr>\n",
       "    <tr>\n",
       "      <th>1</th>\n",
       "      <td>User_908</td>\n",
       "      <td>Advismowr@mail.ru</td>\n",
       "      <td>Ижевск</td>\n",
       "    </tr>\n",
       "    <tr>\n",
       "      <th>2</th>\n",
       "      <td>User_962</td>\n",
       "      <td>Anachso@ukr.net</td>\n",
       "      <td>Краснодар</td>\n",
       "    </tr>\n",
       "    <tr>\n",
       "      <th>3</th>\n",
       "      <td>User_973</td>\n",
       "      <td>Antecia@inbox.ru</td>\n",
       "      <td>Пермь</td>\n",
       "    </tr>\n",
       "    <tr>\n",
       "      <th>4</th>\n",
       "      <td>User_902</td>\n",
       "      <td>Balliaryva@ukr.net</td>\n",
       "      <td>NaN</td>\n",
       "    </tr>\n",
       "    <tr>\n",
       "      <th>...</th>\n",
       "      <td>...</td>\n",
       "      <td>...</td>\n",
       "      <td>...</td>\n",
       "    </tr>\n",
       "    <tr>\n",
       "      <th>95</th>\n",
       "      <td>User_959</td>\n",
       "      <td>UpdatesCurious@yahoo.com</td>\n",
       "      <td>Тюмень</td>\n",
       "    </tr>\n",
       "    <tr>\n",
       "      <th>96</th>\n",
       "      <td>User_901</td>\n",
       "      <td>V2artierso@mail.ru</td>\n",
       "      <td>Арзангелтск</td>\n",
       "    </tr>\n",
       "    <tr>\n",
       "      <th>97</th>\n",
       "      <td>User_970</td>\n",
       "      <td>Vashoterlo@bk.ru</td>\n",
       "      <td>Воронеж</td>\n",
       "    </tr>\n",
       "    <tr>\n",
       "      <th>98</th>\n",
       "      <td>User_965</td>\n",
       "      <td>Visuareda@yahoo.com</td>\n",
       "      <td>Воронеж</td>\n",
       "    </tr>\n",
       "    <tr>\n",
       "      <th>99</th>\n",
       "      <td>User_921</td>\n",
       "      <td>Aavast@ya.ru</td>\n",
       "      <td>Ижевск</td>\n",
       "    </tr>\n",
       "  </tbody>\n",
       "</table>\n",
       "<p>100 rows × 3 columns</p>\n",
       "</div>"
      ],
      "text/plain": [
       "     user_id                     email          geo\n",
       "0   User_943       Accumanst@gmail.com       Ижевск\n",
       "1   User_908         Advismowr@mail.ru       Ижевск\n",
       "2   User_962           Anachso@ukr.net    Краснодар\n",
       "3   User_973          Antecia@inbox.ru        Пермь\n",
       "4   User_902        Balliaryva@ukr.net          NaN\n",
       "..       ...                       ...          ...\n",
       "95  User_959  UpdatesCurious@yahoo.com       Тюмень\n",
       "96  User_901        V2artierso@mail.ru  Арзангелтск\n",
       "97  User_970          Vashoterlo@bk.ru      Воронеж\n",
       "98  User_965       Visuareda@yahoo.com      Воронеж\n",
       "99  User_921              Aavast@ya.ru       Ижевск\n",
       "\n",
       "[100 rows x 3 columns]"
      ]
     },
     "metadata": {},
     "output_type": "display_data"
    },
    {
     "name": "stdout",
     "output_type": "stream",
     "text": [
      "<class 'pandas.core.frame.DataFrame'>\n",
      "RangeIndex: 100 entries, 0 to 99\n",
      "Data columns (total 3 columns):\n",
      " #   Column   Non-Null Count  Dtype \n",
      "---  ------   --------------  ----- \n",
      " 0   user_id  100 non-null    object\n",
      " 1   email    99 non-null     object\n",
      " 2   geo      97 non-null     object\n",
      "dtypes: object(3)\n",
      "memory usage: 2.5+ KB\n"
     ]
    },
    {
     "data": {
      "text/plain": [
       "None"
      ]
     },
     "metadata": {},
     "output_type": "display_data"
    },
    {
     "name": "stdout",
     "output_type": "stream",
     "text": [
      "\n",
      "Размер датасета: (100, 3)\n",
      "\n",
      "Статистическая информация:\n"
     ]
    },
    {
     "data": {
      "text/html": [
       "<div>\n",
       "<style scoped>\n",
       "    .dataframe tbody tr th:only-of-type {\n",
       "        vertical-align: middle;\n",
       "    }\n",
       "\n",
       "    .dataframe tbody tr th {\n",
       "        vertical-align: top;\n",
       "    }\n",
       "\n",
       "    .dataframe thead th {\n",
       "        text-align: right;\n",
       "    }\n",
       "</style>\n",
       "<table border=\"1\" class=\"dataframe\">\n",
       "  <thead>\n",
       "    <tr style=\"text-align: right;\">\n",
       "      <th></th>\n",
       "      <th>user_id</th>\n",
       "      <th>email</th>\n",
       "      <th>geo</th>\n",
       "    </tr>\n",
       "  </thead>\n",
       "  <tbody>\n",
       "    <tr>\n",
       "      <th>count</th>\n",
       "      <td>100</td>\n",
       "      <td>99</td>\n",
       "      <td>97</td>\n",
       "    </tr>\n",
       "    <tr>\n",
       "      <th>unique</th>\n",
       "      <td>100</td>\n",
       "      <td>99</td>\n",
       "      <td>14</td>\n",
       "    </tr>\n",
       "    <tr>\n",
       "      <th>top</th>\n",
       "      <td>User_943</td>\n",
       "      <td>Accumanst@gmail.com</td>\n",
       "      <td>Санкт-Петербург</td>\n",
       "    </tr>\n",
       "    <tr>\n",
       "      <th>freq</th>\n",
       "      <td>1</td>\n",
       "      <td>1</td>\n",
       "      <td>10</td>\n",
       "    </tr>\n",
       "  </tbody>\n",
       "</table>\n",
       "</div>"
      ],
      "text/plain": [
       "         user_id                email              geo\n",
       "count        100                   99               97\n",
       "unique       100                   99               14\n",
       "top     User_943  Accumanst@gmail.com  Санкт-Петербург\n",
       "freq           1                    1               10"
      ]
     },
     "metadata": {},
     "output_type": "display_data"
    },
    {
     "name": "stdout",
     "output_type": "stream",
     "text": [
      "\n",
      "Количество пропущенных значений:\n",
      "user_id    0\n",
      "email      1\n",
      "geo        3\n",
      "dtype: int64\n",
      "\n",
      "Количество уникальных значений:\n",
      "user_id    100\n",
      "email       99\n",
      "geo         14\n",
      "dtype: int64\n"
     ]
    }
   ],
   "source": [
    "display(users)\n",
    "display(users.info())\n",
    "print(f'\\nРазмер датасета: {users.shape}')\n",
    "print('\\nСтатистическая информация:')\n",
    "display(users.describe())\n",
    "print(f'\\nКоличество пропущенных значений:\\n{users.isna().sum()}')\n",
    "print(f'\\nКоличество уникальных значений:\\n{users.nunique()}')"
   ]
  },
  {
   "cell_type": "code",
   "execution_count": 570,
   "id": "502a528d",
   "metadata": {
    "ExecuteTime": {
     "end_time": "2023-11-07T19:24:35.972770Z",
     "start_time": "2023-11-07T19:24:35.953068Z"
    },
    "scrolled": true
   },
   "outputs": [
    {
     "data": {
      "text/plain": [
       "array(['Ижевск', 'Краснодар', 'Пермь', nan, 'Санкт-Петербург',\n",
       "       'Ярославль', 'Екатеринбург', 'Ставрополь', 'Красноярск', 'Воронеж',\n",
       "       'Арзангелтск', 'Москва', 'Хабаровск', 'Тюмень', 'Казань'],\n",
       "      dtype=object)"
      ]
     },
     "execution_count": 570,
     "metadata": {},
     "output_type": "execute_result"
    }
   ],
   "source": [
    "users['geo'].unique()"
   ]
  },
  {
   "cell_type": "markdown",
   "id": "3969c8e8",
   "metadata": {},
   "source": [
    "Данные содержат большое количество пропусков, лишних символов \"[\" и технических ошибок \"#error\". "
   ]
  },
  {
   "cell_type": "markdown",
   "id": "d03e12ca",
   "metadata": {},
   "source": [
    "### Применим ряд преобразований и ответим на вопросы"
   ]
  },
  {
   "cell_type": "code",
   "execution_count": 571,
   "id": "5e56a339",
   "metadata": {
    "ExecuteTime": {
     "end_time": "2023-11-07T19:24:37.079980Z",
     "start_time": "2023-11-07T19:24:37.038394Z"
    },
    "scrolled": false
   },
   "outputs": [
    {
     "name": "stdout",
     "output_type": "stream",
     "text": [
      "138\n"
     ]
    },
    {
     "data": {
      "text/html": [
       "<div>\n",
       "<style scoped>\n",
       "    .dataframe tbody tr th:only-of-type {\n",
       "        vertical-align: middle;\n",
       "    }\n",
       "\n",
       "    .dataframe tbody tr th {\n",
       "        vertical-align: top;\n",
       "    }\n",
       "\n",
       "    .dataframe thead th {\n",
       "        text-align: right;\n",
       "    }\n",
       "</style>\n",
       "<table border=\"1\" class=\"dataframe\">\n",
       "  <thead>\n",
       "    <tr style=\"text-align: right;\">\n",
       "      <th></th>\n",
       "      <th>user_id</th>\n",
       "      <th>time</th>\n",
       "      <th>bet</th>\n",
       "      <th>win</th>\n",
       "    </tr>\n",
       "  </thead>\n",
       "  <tbody>\n",
       "    <tr>\n",
       "      <th>0</th>\n",
       "      <td>user_919</td>\n",
       "      <td>2019-01-01 14:06:51</td>\n",
       "      <td>NaN</td>\n",
       "      <td>NaN</td>\n",
       "    </tr>\n",
       "    <tr>\n",
       "      <th>1</th>\n",
       "      <td>user_973</td>\n",
       "      <td>2019-01-01 14:51:16</td>\n",
       "      <td>NaN</td>\n",
       "      <td>NaN</td>\n",
       "    </tr>\n",
       "    <tr>\n",
       "      <th>2</th>\n",
       "      <td>user_903</td>\n",
       "      <td>2019-01-01 16:31:16</td>\n",
       "      <td>NaN</td>\n",
       "      <td>NaN</td>\n",
       "    </tr>\n",
       "    <tr>\n",
       "      <th>3</th>\n",
       "      <td>user_954</td>\n",
       "      <td>2019-01-01 17:17:51</td>\n",
       "      <td>NaN</td>\n",
       "      <td>NaN</td>\n",
       "    </tr>\n",
       "    <tr>\n",
       "      <th>4</th>\n",
       "      <td>user_954</td>\n",
       "      <td>2019-01-01 21:31:18</td>\n",
       "      <td>NaN</td>\n",
       "      <td>NaN</td>\n",
       "    </tr>\n",
       "    <tr>\n",
       "      <th>...</th>\n",
       "      <td>...</td>\n",
       "      <td>...</td>\n",
       "      <td>...</td>\n",
       "      <td>...</td>\n",
       "    </tr>\n",
       "    <tr>\n",
       "      <th>991</th>\n",
       "      <td>user_965</td>\n",
       "      <td>2019-04-20 12:55:41</td>\n",
       "      <td>800.0</td>\n",
       "      <td>6927.0</td>\n",
       "    </tr>\n",
       "    <tr>\n",
       "      <th>992</th>\n",
       "      <td>user_967</td>\n",
       "      <td>2019-04-20 14:59:36</td>\n",
       "      <td>10154.0</td>\n",
       "      <td>NaN</td>\n",
       "    </tr>\n",
       "    <tr>\n",
       "      <th>993</th>\n",
       "      <td>user_973</td>\n",
       "      <td>2019-04-20 17:09:56</td>\n",
       "      <td>10254.0</td>\n",
       "      <td>NaN</td>\n",
       "    </tr>\n",
       "    <tr>\n",
       "      <th>994</th>\n",
       "      <td>user_977</td>\n",
       "      <td>2019-04-20 18:10:07</td>\n",
       "      <td>10354.0</td>\n",
       "      <td>NaN</td>\n",
       "    </tr>\n",
       "    <tr>\n",
       "      <th>995</th>\n",
       "      <td>user_984</td>\n",
       "      <td>2019-04-20 9:59:58</td>\n",
       "      <td>9754.0</td>\n",
       "      <td>NaN</td>\n",
       "    </tr>\n",
       "  </tbody>\n",
       "</table>\n",
       "<p>985 rows × 4 columns</p>\n",
       "</div>"
      ],
      "text/plain": [
       "      user_id                 time      bet     win\n",
       "0    user_919  2019-01-01 14:06:51      NaN     NaN\n",
       "1    user_973  2019-01-01 14:51:16      NaN     NaN\n",
       "2    user_903  2019-01-01 16:31:16      NaN     NaN\n",
       "3    user_954  2019-01-01 17:17:51      NaN     NaN\n",
       "4    user_954  2019-01-01 21:31:18      NaN     NaN\n",
       "..        ...                  ...      ...     ...\n",
       "991  user_965  2019-04-20 12:55:41    800.0  6927.0\n",
       "992  user_967  2019-04-20 14:59:36  10154.0     NaN\n",
       "993  user_973  2019-04-20 17:09:56  10254.0     NaN\n",
       "994  user_977  2019-04-20 18:10:07  10354.0     NaN\n",
       "995  user_984   2019-04-20 9:59:58   9754.0     NaN\n",
       "\n",
       "[985 rows x 4 columns]"
      ]
     },
     "metadata": {},
     "output_type": "display_data"
    }
   ],
   "source": [
    "# Создайте новый датафрейм log_win, в который будут входить только записи, где пользователь выиграл. \n",
    "# Посчитайте, сколько таких записей, и сохраните в переменной win_count.\n",
    "log_win = logs[logs['win'] > 0]\n",
    "win_count = log_win['win'].count()   # len(log_win)\n",
    "print(win_count)\n",
    "\n",
    "# Найдите тех, у кого ставка меньше 2000, а выигрыш больше 0\n",
    "# logs[(logs.bet < 2000) & (logs.win >0)]\n",
    "logs.query('(bet < 2000) & (win > 0)').head(3)\n",
    "\n",
    "# Удалите записи, в которых есть ошибка в поле user_id\n",
    "# logs = logs[logs['user_id'] != '#error']\n",
    "# logs = logs.user_id[~logs.user_id.str.match('#error')]\n",
    "logs = logs[~logs.user_id.str.contains('#er', na = False)]\n",
    "\n",
    "# Преобразуйте поле user_id в датафрейме logs, оставив только идентификатор пользователя\n",
    "# logs.user_id.str.replace('Запись пользователя № - ', '')\n",
    "# logs.user_id.apply(lambda x: x.replace('Запись пользователя № - ', ''))\n",
    "logs['user_id'] = logs['user_id'].str.split(' - ').apply(lambda x: x[1])\n",
    "\n",
    "# Удалите квадратную скобку из строк в столбце time, чтобы привести его к более привычному формату\n",
    "# logs.time = logs['time'].str.replace('[', '')\n",
    "# logs.time.apply(lambda x: x.replace('[', \"\"))\n",
    "logs['time'] = logs['time'].apply(lambda x: np.nan if pd.isna(x) else x.replace('[', ''))\n",
    "display(logs)"
   ]
  },
  {
   "cell_type": "code",
   "execution_count": 572,
   "id": "c78f1e70",
   "metadata": {
    "ExecuteTime": {
     "end_time": "2023-11-07T19:24:38.533938Z",
     "start_time": "2023-11-07T19:24:38.496002Z"
    },
    "scrolled": true
   },
   "outputs": [
    {
     "name": "stdout",
     "output_type": "stream",
     "text": [
      "2019-04-20 18:10:07\n",
      "4\n"
     ]
    },
    {
     "data": {
      "text/plain": [
       "283"
      ]
     },
     "metadata": {},
     "output_type": "display_data"
    },
    {
     "name": "stdout",
     "output_type": "stream",
     "text": [
      "513\n"
     ]
    }
   ],
   "source": [
    "# Преобразуйте признак time к datetime. После этого найдите наибольшую дату\n",
    "logs.time = pd.to_datetime(logs.time)\n",
    "print(logs.time.max())\n",
    "\n",
    "# Найдите месяц, который встречался в данных реже всего\n",
    "# logs.time.apply(lambda x: x.month).value_counts().sort_values()[:1]\n",
    "less_frequent_month = logs.time.dt.month.value_counts(ascending = False).index[-1]\n",
    "print(less_frequent_month)\n",
    "\n",
    "# Посчитайте, сколько дней в данных являются выходными (т.е. сб или вск)\n",
    "# logs.time.dt.dayofweek.value_counts()[[5,6]].sum()\n",
    "# logs.time.dt.dayofweek[logs.time.dt.dayofweek.isin([5,6])].count()\n",
    "# logs.time[logs.time.dt.dayofweek.apply(lambda x: x in [5,6])].count()\n",
    "display(logs.time.apply(lambda x: x.dayofweek).value_counts()[[5,6]].sum())\n",
    "\n",
    "# Напишите функцию, которая преобразует дату во время дня\n",
    "# С 0 до 5 часов - ночь, с 6 до 11 - утро, с 12 до 17 - день, с 18 до 23 - вечер.\n",
    "# Посчитайте, какое время дня встречается в данных реже всего\n",
    "def time_of_day(x):\n",
    "    return 'Ночь' if 0 <= x <= 5 else 'Утро' if 6 <= x <= 11 else 'День' if 12 <= x <= 17 else 'Вечер'\n",
    "logs.time.dt.hour.apply(time_of_day).value_counts().sort_values()[:1]\n",
    "\n",
    "# Посчитайте, сколько раз люди приходили, но не делали ставок \n",
    "logs.bet = logs.bet.fillna(0)\n",
    "bet_null = logs.bet[logs.bet == 0].value_counts().iloc[0]  # logs[logs.bet == 0].user_id.count()\n",
    "print(bet_null) "
   ]
  },
  {
   "cell_type": "markdown",
   "id": "e3ec472a",
   "metadata": {},
   "source": [
    "#### Поработаем с признаком win, в котором также есть пропуски.  \n",
    "\n",
    "Предположим, что если в признаке win находится пропуск, то выигрыша не было. Здесь два возможных случая:  \n",
    "\n",
    "- Человек не делал ставки и ничего не выиграл. Т.е. просто пришел, посмотрел и ушел.  \n",
    "- Человек сделал ставку, но не выиграл. Значит, выигрыш на самом деле является отрицательным значением - это проигрыш.  \n",
    "\n",
    "Напишите метод, который заполнит пропуски в признаке win в соответствии с предположением выше. \n",
    "\n",
    "Для этого можно подготовить функцию, которая вычисляет размер выигрыша (или проигрыша) по следующей схеме:  \n",
    "\n",
    "- Если значение в столбце win существует (не пропуск) - вернуть это же значение. Это значит, что человек выиграл.  \n",
    "- Если вместо значения в столбце win и в столбце bet пропуски, вернуть 0.  \n",
    "- Если в столбце bet нет пропуска, а в столбце win есть пропуск, вернуть отрицательное значение столбца bet (проигрыш).  \n",
    "\n",
    "На выходе получится таблица без пропусков в столбце win."
   ]
  },
  {
   "cell_type": "code",
   "execution_count": 573,
   "id": "e736488c",
   "metadata": {
    "ExecuteTime": {
     "end_time": "2023-11-07T19:26:41.354232Z",
     "start_time": "2023-11-07T19:26:41.330983Z"
    }
   },
   "outputs": [
    {
     "data": {
      "text/html": [
       "<div>\n",
       "<style scoped>\n",
       "    .dataframe tbody tr th:only-of-type {\n",
       "        vertical-align: middle;\n",
       "    }\n",
       "\n",
       "    .dataframe tbody tr th {\n",
       "        vertical-align: top;\n",
       "    }\n",
       "\n",
       "    .dataframe thead th {\n",
       "        text-align: right;\n",
       "    }\n",
       "</style>\n",
       "<table border=\"1\" class=\"dataframe\">\n",
       "  <thead>\n",
       "    <tr style=\"text-align: right;\">\n",
       "      <th></th>\n",
       "      <th>user_id</th>\n",
       "      <th>time</th>\n",
       "      <th>bet</th>\n",
       "      <th>win</th>\n",
       "    </tr>\n",
       "  </thead>\n",
       "  <tbody>\n",
       "    <tr>\n",
       "      <th>0</th>\n",
       "      <td>user_919</td>\n",
       "      <td>2019-01-01 14:06:51</td>\n",
       "      <td>0.0</td>\n",
       "      <td>NaN</td>\n",
       "    </tr>\n",
       "    <tr>\n",
       "      <th>1</th>\n",
       "      <td>user_973</td>\n",
       "      <td>2019-01-01 14:51:16</td>\n",
       "      <td>0.0</td>\n",
       "      <td>NaN</td>\n",
       "    </tr>\n",
       "    <tr>\n",
       "      <th>2</th>\n",
       "      <td>user_903</td>\n",
       "      <td>2019-01-01 16:31:16</td>\n",
       "      <td>0.0</td>\n",
       "      <td>NaN</td>\n",
       "    </tr>\n",
       "    <tr>\n",
       "      <th>3</th>\n",
       "      <td>user_954</td>\n",
       "      <td>2019-01-01 17:17:51</td>\n",
       "      <td>0.0</td>\n",
       "      <td>NaN</td>\n",
       "    </tr>\n",
       "    <tr>\n",
       "      <th>4</th>\n",
       "      <td>user_954</td>\n",
       "      <td>2019-01-01 21:31:18</td>\n",
       "      <td>0.0</td>\n",
       "      <td>NaN</td>\n",
       "    </tr>\n",
       "    <tr>\n",
       "      <th>...</th>\n",
       "      <td>...</td>\n",
       "      <td>...</td>\n",
       "      <td>...</td>\n",
       "      <td>...</td>\n",
       "    </tr>\n",
       "    <tr>\n",
       "      <th>991</th>\n",
       "      <td>user_965</td>\n",
       "      <td>2019-04-20 12:55:41</td>\n",
       "      <td>800.0</td>\n",
       "      <td>6927.0</td>\n",
       "    </tr>\n",
       "    <tr>\n",
       "      <th>992</th>\n",
       "      <td>user_967</td>\n",
       "      <td>2019-04-20 14:59:36</td>\n",
       "      <td>10154.0</td>\n",
       "      <td>NaN</td>\n",
       "    </tr>\n",
       "    <tr>\n",
       "      <th>993</th>\n",
       "      <td>user_973</td>\n",
       "      <td>2019-04-20 17:09:56</td>\n",
       "      <td>10254.0</td>\n",
       "      <td>NaN</td>\n",
       "    </tr>\n",
       "    <tr>\n",
       "      <th>994</th>\n",
       "      <td>user_977</td>\n",
       "      <td>2019-04-20 18:10:07</td>\n",
       "      <td>10354.0</td>\n",
       "      <td>NaN</td>\n",
       "    </tr>\n",
       "    <tr>\n",
       "      <th>995</th>\n",
       "      <td>user_984</td>\n",
       "      <td>2019-04-20 09:59:58</td>\n",
       "      <td>9754.0</td>\n",
       "      <td>NaN</td>\n",
       "    </tr>\n",
       "  </tbody>\n",
       "</table>\n",
       "<p>985 rows × 4 columns</p>\n",
       "</div>"
      ],
      "text/plain": [
       "      user_id                time      bet     win\n",
       "0    user_919 2019-01-01 14:06:51      0.0     NaN\n",
       "1    user_973 2019-01-01 14:51:16      0.0     NaN\n",
       "2    user_903 2019-01-01 16:31:16      0.0     NaN\n",
       "3    user_954 2019-01-01 17:17:51      0.0     NaN\n",
       "4    user_954 2019-01-01 21:31:18      0.0     NaN\n",
       "..        ...                 ...      ...     ...\n",
       "991  user_965 2019-04-20 12:55:41    800.0  6927.0\n",
       "992  user_967 2019-04-20 14:59:36  10154.0     NaN\n",
       "993  user_973 2019-04-20 17:09:56  10254.0     NaN\n",
       "994  user_977 2019-04-20 18:10:07  10354.0     NaN\n",
       "995  user_984 2019-04-20 09:59:58   9754.0     NaN\n",
       "\n",
       "[985 rows x 4 columns]"
      ]
     },
     "execution_count": 573,
     "metadata": {},
     "output_type": "execute_result"
    }
   ],
   "source": [
    "logs"
   ]
  },
  {
   "cell_type": "code",
   "execution_count": 575,
   "id": "0badad4c",
   "metadata": {
    "ExecuteTime": {
     "end_time": "2023-11-07T19:29:39.139173Z",
     "start_time": "2023-11-07T19:29:39.130114Z"
    }
   },
   "outputs": [],
   "source": [
    "def fillna_win(df):\n",
    "    if not pd.isna(df['win']):\n",
    "        return df['win']\n",
    "    elif all([(pd.isna(df['win'])), (not df['bet'])]):\n",
    "        return 0\n",
    "    elif all([(pd.isna(df['win'])), (df['bet'] > 0)]):\n",
    "        return -df['bet']\n",
    "\n",
    "# def fillna_win(row): \n",
    "#     if np.isnan(row['win']) and not row['bet']:   \n",
    "#         return 0\n",
    "#     elif np.isnan(row['win']) and row['bet']:      \n",
    "#         return -row['bet']\n",
    "#     elif row['win']:\n",
    "#         return row['win']  \n",
    "\n",
    "\n",
    "# Замените старое значение столбца win на новый\n",
    "logs.win = logs.apply(lambda row: fillna_win(row), axis = 1)\n",
    "display(logs)\n",
    "\n",
    "# Посчитайте, сколько раз участники ставок проиграли деньги\n",
    "print(logs.win.loc[logs.win < 0].count())  # len(logs[logs.win < 0])"
   ]
  },
  {
   "cell_type": "markdown",
   "id": "d3cf9794",
   "metadata": {},
   "source": [
    "#### 14. Создайте признак net, хранящий сумму выигрыша с учетом ставки.  \n",
    "Для этого используйте следующий алгоритм:  \n",
    "- если значение признака win меньше 0 - присвоить значение признака win признаку net;  \n",
    "- во всех остальных случаях - из значения признака win вычтите значение признака bet и полученное значение присвойте признаку net.  \n",
    "\n",
    "После этого посчитайте, у скольких людей выигрыш положительный."
   ]
  },
  {
   "cell_type": "code",
   "execution_count": 583,
   "id": "103d9a8d",
   "metadata": {
    "ExecuteTime": {
     "end_time": "2023-11-07T19:34:51.148312Z",
     "start_time": "2023-11-07T19:34:51.095322Z"
    }
   },
   "outputs": [
    {
     "data": {
      "text/plain": [
       "133"
      ]
     },
     "metadata": {},
     "output_type": "display_data"
    },
    {
     "data": {
      "text/plain": [
       "82626"
      ]
     },
     "metadata": {},
     "output_type": "display_data"
    },
    {
     "data": {
      "text/plain": [
       "5329"
      ]
     },
     "metadata": {},
     "output_type": "display_data"
    }
   ],
   "source": [
    "# Создайте признак net, хранящий сумму выигрыша с учетом ставки. После этого посчитайте, у скольких людей выигрыш положительный\n",
    "def fill_net(row):\n",
    "    return row['win'] if row['win'] < 0 else row['win'] - row['bet']\n",
    "\n",
    "logs['net'] = logs.apply(lambda row: fill_net(row), axis = 1)\n",
    "display(logs[logs['net'] > 0]['net'].count() )  # len(logs[logs.net > 0])\n",
    "\n",
    "# Посчитайте среднее и медианное значение выигрыша в тех случаях, когда выигрыш больше 0. Результат округлите до целого\n",
    "display(round(logs[logs.net > 0]['net'].mean()))\n",
    "display(round(logs[logs.net > 0]['net'].median()))"
   ]
  },
  {
   "cell_type": "code",
   "execution_count": 585,
   "id": "ebe611f4",
   "metadata": {
    "ExecuteTime": {
     "end_time": "2023-11-07T19:39:50.990143Z",
     "start_time": "2023-11-07T19:39:50.950288Z"
    }
   },
   "outputs": [
    {
     "data": {
      "text/plain": [
       "0.48"
      ]
     },
     "metadata": {},
     "output_type": "display_data"
    },
    {
     "data": {
      "text/plain": [
       "6807"
      ]
     },
     "metadata": {},
     "output_type": "display_data"
    },
    {
     "data": {
      "text/plain": [
       "20879"
      ]
     },
     "metadata": {},
     "output_type": "display_data"
    },
    {
     "data": {
      "text/plain": [
       "-3346"
      ]
     },
     "metadata": {},
     "output_type": "display_data"
    },
    {
     "data": {
      "text/plain": [
       "0.28"
      ]
     },
     "metadata": {},
     "output_type": "display_data"
    },
    {
     "data": {
      "text/plain": [
       "0.72"
      ]
     },
     "metadata": {},
     "output_type": "display_data"
    }
   ],
   "source": [
    "# Посчитайте, какой процент посещений букмекерской конторы оборачивался ставкой\n",
    "# round(logs[logs.bet > 0].user_id.count() / logs.bet.count(), 2)\n",
    "display(round(len(logs[logs.bet > 0]) / len(logs.user_id), 2))\n",
    "\n",
    "# Посчитайте среднее значение ставки в тех случаях, когда ставка была сделана\n",
    "display(round(logs[logs.bet > 0]['bet'].mean()))\n",
    "\n",
    "# Посчитайте средний выигрыш в тех случаях, когда ставка была сделана. Результат округлите до целого\n",
    "display(round(logs[logs['bet'] > 0]['net'].mean()))\n",
    "\n",
    "# Посчитайте среднее значение потерь при проигрыше. Результат округлите до целого\n",
    "# Ответ должен быть дан в виде отрицательного числа\n",
    "display(round(logs[logs.net < 0].net.mean()))\n",
    "\n",
    "# Посчитайте, какой процент ставок заканчивается выигрышем, а какой - проигрышем \n",
    "# Сравните эти значения и ответьте, какое из них больше\n",
    "display(round(logs[logs['net'] > 0]['net'].count() / logs[logs['bet'] > 0]['bet'].count(), 2)) # процент выигрышей\n",
    "display(round(logs[logs['net'] < 0]['net'].count() / logs[logs['bet'] > 0]['bet'].count(), 2)) # процент проигрышей"
   ]
  },
  {
   "cell_type": "markdown",
   "id": "e58c7d97",
   "metadata": {},
   "source": [
    "Результаты показывают, что процент ставок, заканчивающихся проигрышем, гораздо выше процента ставок, заканчивающихся выигрышем."
   ]
  },
  {
   "cell_type": "code",
   "execution_count": 607,
   "id": "bb64818f",
   "metadata": {
    "ExecuteTime": {
     "end_time": "2023-11-07T19:47:06.142431Z",
     "start_time": "2023-11-07T19:47:06.103752Z"
    },
    "scrolled": false
   },
   "outputs": [
    {
     "data": {
      "text/plain": [
       "100.0"
      ]
     },
     "metadata": {},
     "output_type": "display_data"
    },
    {
     "data": {
      "text/plain": [
       "48"
      ]
     },
     "metadata": {},
     "output_type": "display_data"
    },
    {
     "data": {
      "text/html": [
       "<div>\n",
       "<style scoped>\n",
       "    .dataframe tbody tr th:only-of-type {\n",
       "        vertical-align: middle;\n",
       "    }\n",
       "\n",
       "    .dataframe tbody tr th {\n",
       "        vertical-align: top;\n",
       "    }\n",
       "\n",
       "    .dataframe thead th {\n",
       "        text-align: right;\n",
       "    }\n",
       "</style>\n",
       "<table border=\"1\" class=\"dataframe\">\n",
       "  <thead>\n",
       "    <tr style=\"text-align: right;\">\n",
       "      <th></th>\n",
       "      <th>user_id</th>\n",
       "      <th>email</th>\n",
       "      <th>geo</th>\n",
       "      <th>time</th>\n",
       "      <th>bet</th>\n",
       "      <th>win</th>\n",
       "      <th>net</th>\n",
       "    </tr>\n",
       "  </thead>\n",
       "  <tbody>\n",
       "    <tr>\n",
       "      <th>0</th>\n",
       "      <td>user_943</td>\n",
       "      <td>Accumanst@gmail.com</td>\n",
       "      <td>Ижевск</td>\n",
       "      <td>2019-01-06 21:06:57</td>\n",
       "      <td>0.0</td>\n",
       "      <td>0.0</td>\n",
       "      <td>0.0</td>\n",
       "    </tr>\n",
       "    <tr>\n",
       "      <th>1</th>\n",
       "      <td>user_943</td>\n",
       "      <td>Accumanst@gmail.com</td>\n",
       "      <td>Ижевск</td>\n",
       "      <td>2019-01-10 12:16:22</td>\n",
       "      <td>100.0</td>\n",
       "      <td>-100.0</td>\n",
       "      <td>-100.0</td>\n",
       "    </tr>\n",
       "    <tr>\n",
       "      <th>2</th>\n",
       "      <td>user_943</td>\n",
       "      <td>Accumanst@gmail.com</td>\n",
       "      <td>Ижевск</td>\n",
       "      <td>2019-01-27 01:18:47</td>\n",
       "      <td>100.0</td>\n",
       "      <td>-100.0</td>\n",
       "      <td>-100.0</td>\n",
       "    </tr>\n",
       "    <tr>\n",
       "      <th>3</th>\n",
       "      <td>user_943</td>\n",
       "      <td>Accumanst@gmail.com</td>\n",
       "      <td>Ижевск</td>\n",
       "      <td>2019-02-10 11:09:24</td>\n",
       "      <td>100.0</td>\n",
       "      <td>5456.0</td>\n",
       "      <td>5356.0</td>\n",
       "    </tr>\n",
       "    <tr>\n",
       "      <th>4</th>\n",
       "      <td>user_943</td>\n",
       "      <td>Accumanst@gmail.com</td>\n",
       "      <td>Ижевск</td>\n",
       "      <td>2019-02-12 15:09:38</td>\n",
       "      <td>300.0</td>\n",
       "      <td>5245.0</td>\n",
       "      <td>4945.0</td>\n",
       "    </tr>\n",
       "    <tr>\n",
       "      <th>...</th>\n",
       "      <td>...</td>\n",
       "      <td>...</td>\n",
       "      <td>...</td>\n",
       "      <td>...</td>\n",
       "      <td>...</td>\n",
       "      <td>...</td>\n",
       "      <td>...</td>\n",
       "    </tr>\n",
       "    <tr>\n",
       "      <th>970</th>\n",
       "      <td>user_965</td>\n",
       "      <td>Visuareda@yahoo.com</td>\n",
       "      <td>Воронеж</td>\n",
       "      <td>2019-04-20 12:55:41</td>\n",
       "      <td>800.0</td>\n",
       "      <td>6927.0</td>\n",
       "      <td>6127.0</td>\n",
       "    </tr>\n",
       "    <tr>\n",
       "      <th>971</th>\n",
       "      <td>user_921</td>\n",
       "      <td>Aavast@ya.ru</td>\n",
       "      <td>Ижевск</td>\n",
       "      <td>2019-01-07 01:05:59</td>\n",
       "      <td>0.0</td>\n",
       "      <td>0.0</td>\n",
       "      <td>0.0</td>\n",
       "    </tr>\n",
       "    <tr>\n",
       "      <th>972</th>\n",
       "      <td>user_921</td>\n",
       "      <td>Aavast@ya.ru</td>\n",
       "      <td>Ижевск</td>\n",
       "      <td>2019-02-05 14:08:57</td>\n",
       "      <td>0.0</td>\n",
       "      <td>0.0</td>\n",
       "      <td>0.0</td>\n",
       "    </tr>\n",
       "    <tr>\n",
       "      <th>973</th>\n",
       "      <td>user_921</td>\n",
       "      <td>Aavast@ya.ru</td>\n",
       "      <td>Ижевск</td>\n",
       "      <td>2019-02-09 23:20:21</td>\n",
       "      <td>400.0</td>\n",
       "      <td>6067.0</td>\n",
       "      <td>5667.0</td>\n",
       "    </tr>\n",
       "    <tr>\n",
       "      <th>974</th>\n",
       "      <td>user_921</td>\n",
       "      <td>Aavast@ya.ru</td>\n",
       "      <td>Ижевск</td>\n",
       "      <td>2019-02-10 17:53:37</td>\n",
       "      <td>900.0</td>\n",
       "      <td>-900.0</td>\n",
       "      <td>-900.0</td>\n",
       "    </tr>\n",
       "  </tbody>\n",
       "</table>\n",
       "<p>975 rows × 7 columns</p>\n",
       "</div>"
      ],
      "text/plain": [
       "      user_id                email      geo                time    bet  \\\n",
       "0    user_943  Accumanst@gmail.com   Ижевск 2019-01-06 21:06:57    0.0   \n",
       "1    user_943  Accumanst@gmail.com   Ижевск 2019-01-10 12:16:22  100.0   \n",
       "2    user_943  Accumanst@gmail.com   Ижевск 2019-01-27 01:18:47  100.0   \n",
       "3    user_943  Accumanst@gmail.com   Ижевск 2019-02-10 11:09:24  100.0   \n",
       "4    user_943  Accumanst@gmail.com   Ижевск 2019-02-12 15:09:38  300.0   \n",
       "..        ...                  ...      ...                 ...    ...   \n",
       "970  user_965  Visuareda@yahoo.com  Воронеж 2019-04-20 12:55:41  800.0   \n",
       "971  user_921         Aavast@ya.ru   Ижевск 2019-01-07 01:05:59    0.0   \n",
       "972  user_921         Aavast@ya.ru   Ижевск 2019-02-05 14:08:57    0.0   \n",
       "973  user_921         Aavast@ya.ru   Ижевск 2019-02-09 23:20:21  400.0   \n",
       "974  user_921         Aavast@ya.ru   Ижевск 2019-02-10 17:53:37  900.0   \n",
       "\n",
       "        win     net  \n",
       "0       0.0     0.0  \n",
       "1    -100.0  -100.0  \n",
       "2    -100.0  -100.0  \n",
       "3    5456.0  5356.0  \n",
       "4    5245.0  4945.0  \n",
       "..      ...     ...  \n",
       "970  6927.0  6127.0  \n",
       "971     0.0     0.0  \n",
       "972     0.0     0.0  \n",
       "973  6067.0  5667.0  \n",
       "974  -900.0  -900.0  \n",
       "\n",
       "[975 rows x 7 columns]"
      ]
     },
     "metadata": {},
     "output_type": "display_data"
    }
   ],
   "source": [
    "# Чему была равна минимальная ставка и сколько раз сделали такую ставку\n",
    "min_bet = logs[logs['bet'] != 0]['bet'].min()\n",
    "display(min_bet)\n",
    "# logs[logs.bet == min_bet]['user_id'].count()\n",
    "display(logs[logs.bet.isin([min_bet])].user_id.count())\n",
    "\n",
    "# Сколько уникальных игороков сделали минимальную ставку \n",
    "# logs.user_id[logs.bet == min_bet].nunique()\n",
    "logs[logs.bet.isin([min_bet])].user_id.nunique()\n",
    "\n",
    "# Объедините таблицы logs и users\n",
    "users.user_id = users.user_id.apply(lambda x: x.lower())\n",
    "bookie = pd.merge(users, logs, on = 'user_id')\n",
    "display(bookie.head(3))"
   ]
  },
  {
   "cell_type": "code",
   "execution_count": 622,
   "id": "69240042",
   "metadata": {
    "ExecuteTime": {
     "end_time": "2023-11-07T19:54:19.054674Z",
     "start_time": "2023-11-07T19:54:19.009870Z"
    }
   },
   "outputs": [
    {
     "data": {
      "text/plain": [
       "1986.0"
      ]
     },
     "metadata": {},
     "output_type": "display_data"
    },
    {
     "name": "stdout",
     "output_type": "stream",
     "text": [
      "5.05\n",
      "46 days 06:54:48\n"
     ]
    },
    {
     "data": {
      "text/plain": [
       "'Воронеж'"
      ]
     },
     "metadata": {},
     "output_type": "display_data"
    },
    {
     "data": {
      "text/plain": [
       "128"
      ]
     },
     "metadata": {},
     "output_type": "display_data"
    }
   ],
   "source": [
    "# Используйте объединенный датасет. Посчитайте медиану баланса по всем пользователям\n",
    "display(bookie.groupby(['user_id'])['net'].sum().median())\n",
    "\n",
    "# Сколько раз в среднем каждый человек приходит, не делая ставок, при условии, \n",
    "# что у этого человека все-таки есть хотя бы одна ставка?\n",
    "bet_0 = bookie[bookie['bet'] == 0].groupby(['user_id'])['bet'].count()   # количество нулевых ставок по гурппам\n",
    "bet_1 = bookie[bookie['bet'] > 0].groupby(['user_id'])['bet'].count()    # количество не нулевых ставок по гурппам\n",
    "print(bet_0.sum() / len(bet_1))\n",
    "\n",
    "# Сколько в среднем времени проходит между появлением человека в сервисе и первой ставкой?\n",
    "bet_0_min_time = bookie[bookie['bet'] == 0].groupby(['user_id'])['time'].min() # минимальная дата среди ставок равных нулю\n",
    "bet_over_0_min_time = bookie[bookie['bet'] > 0].groupby(['user_id'])['time'].min() # минимальная дата среди ставок больше нуля\n",
    "user_bet_all = pd.merge(bet_0_min_time, bet_over_0_min_time, on ='user_id', how = 'right') # объединим две таблицы в одну\n",
    "user_bet_all['difference'] = user_bet_all['time_y'] - user_bet_all['time_x']  # создадим столбец с разницей между датами \n",
    "shift = user_bet_all['difference'].sum() / len(bookie[bookie['bet'] > 0].groupby(['user_id']).count())\n",
    "print(shift)\n",
    "# user_bet_all['difference'].sum() / user_bet_all.__len__()\n",
    "\n",
    "# Наибольший суммарный выигрыш среди всех городов имеет Москва. Посчитайте следующий за ней город\n",
    "display(bookie.groupby(['geo'])['win'].sum().sort_values(ascending = False).index[1])\n",
    "\n",
    "# Во сколько раз различаются максимальное и минимальное значение средней ставки по городам?\n",
    "display(round(bookie[bookie['bet'] != 0].groupby(['geo'])['bet'].mean().max() / bookie[bookie['bet'] != 0].groupby(['geo'])['bet'].mean().min()))"
   ]
  },
  {
   "cell_type": "markdown",
   "id": "1b10dd5d",
   "metadata": {},
   "source": [
    "**Итак, на этапе начальной предобработки удалось выявить несколько интересных моментов, которые в перспективе могут принести пользу бизнесу:**  \n",
    "- Реже всего люди заходят в букмекерскую контору вечером.  \n",
    "- Около половины раз люди приходили, но не делали ставок.  \n",
    "- А те, кто делал ставки, проиграли больше чем в 2/3 случаев.  \n",
    "- Средняя ставка и средний проигрыш примерно равны по абсолютному значению.  \n",
    "- Может пройти довольно много времени между первым приходом человека и первой ставкой (46 дней). И за это время человек может зайти в контору еще несколько раз, не делая ставок.  \n",
    "- Интересный факт: второй по величине город России и второй по суммарному выигрышу на ставках город России - разные города (Санкт-Петербург и Воронеж)."
   ]
  },
  {
   "cell_type": "code",
   "execution_count": null,
   "id": "ac6b8980",
   "metadata": {},
   "outputs": [],
   "source": []
  }
 ],
 "metadata": {
  "kernelspec": {
   "display_name": "Python 3 (ipykernel)",
   "language": "python",
   "name": "python3"
  },
  "language_info": {
   "codemirror_mode": {
    "name": "ipython",
    "version": 3
   },
   "file_extension": ".py",
   "mimetype": "text/x-python",
   "name": "python",
   "nbconvert_exporter": "python",
   "pygments_lexer": "ipython3",
   "version": "3.9.13"
  },
  "varInspector": {
   "cols": {
    "lenName": 16,
    "lenType": 16,
    "lenVar": 40
   },
   "kernels_config": {
    "python": {
     "delete_cmd_postfix": "",
     "delete_cmd_prefix": "del ",
     "library": "var_list.py",
     "varRefreshCmd": "print(var_dic_list())"
    },
    "r": {
     "delete_cmd_postfix": ") ",
     "delete_cmd_prefix": "rm(",
     "library": "var_list.r",
     "varRefreshCmd": "cat(var_dic_list()) "
    }
   },
   "types_to_exclude": [
    "module",
    "function",
    "builtin_function_or_method",
    "instance",
    "_Feature"
   ],
   "window_display": false
  }
 },
 "nbformat": 4,
 "nbformat_minor": 5
}
